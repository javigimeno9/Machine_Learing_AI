{
  "cells": [
    {
      "cell_type": "markdown",
      "metadata": {
        "id": "R53FGLN8jo1L"
      },
      "source": [
        "# 01 INTRO: Árboles de Decisión\n",
        "Explicación de cómo preparar los datos para un modelo de árboles de decisión.\n",
        "\n",
        "Notebook original por [Javier Blanco Cordero](https://www.linkedin.com/in/javier-blanco-cordero-71373656/)."
      ]
    },
    {
      "cell_type": "markdown",
      "metadata": {
        "id": "LSuEDXhPLi8u"
      },
      "source": [
        "## 0101 Qué es un árbol de decisión?\n",
        "Un tipo de algoritmo de aprendizaje supervisado que se basa en realizar particiones a partir de distintos niveles de las variables disponibles.\n",
        "\n",
        "Los árboles de decisión de scikit learn requiren:\n",
        "\n",
        "\n",
        "*   Que no haya nulos entre las variables\n",
        "*   Que todas las variables sean numéricas (hay que dumificar las categóricas)\n",
        "\n"
      ]
    },
    {
      "cell_type": "markdown",
      "metadata": {
        "id": "cnHRaho3rsXS"
      },
      "source": [
        "## 0102 Import\n",
        "Importamos todas las librerías necesarias para este análisis ([¿No sabes lo que es una librería de Python?](https://www.quora.com/What-is-a-Python-library-and-what-can-I-use-it-for)): pandas, numpy, seaborn, matplotlib."
      ]
    },
    {
      "cell_type": "code",
      "execution_count": null,
      "metadata": {
        "id": "4be6xiUqjPHI"
      },
      "outputs": [],
      "source": [
        "import pandas as pd\n",
        "import numpy as np\n",
        "import matplotlib.pyplot as plt\n",
        "import seaborn as sns\n",
        "import graphviz\n",
        "from sklearn import tree\n",
        "from sklearn.metrics import accuracy_score\n",
        "from sklearn.metrics import mean_squared_error"
      ]
    },
    {
      "cell_type": "markdown",
      "metadata": {
        "id": "AblkT14d4Gvt"
      },
      "source": [
        "## 0103 Carga el dataset: notas alumnos portugueses\n",
        "Para probar a transformar datos para entrenar árboles de decisión el dataset sobre las notas finales de ciertos estudiantes portugueses de dos instituos en función de ciertas características socio-demográficas. El dataset original se puede encontrr en Kaggle ([aquí](https://www.kaggle.com/dipam7/student-grade-prediction)).\n",
        "\n",
        "Esta vez no accederemos a la versión que yo había limpiado previamente, sino al dataset en su formato original, que podéis encontrar listo para importar en mi github: 'https://raw.githubusercontent.com/astrojuanlu/the-valley-mds-arboles/main/data/Notas_Estudiantes.csv'.\n",
        "\n",
        "Importa este dataset en un dataframe llamado **df**."
      ]
    },
    {
      "cell_type": "code",
      "execution_count": null,
      "metadata": {
        "id": "GMZACcIXOclu"
      },
      "outputs": [],
      "source": [
        "# Url archivo raw\n",
        "url = \"https://raw.githubusercontent.com/astrojuanlu/the-valley-mds-arboles/main/data/Notas_Estudiantes.csv\"\n",
        "\n",
        "# Importa csv\n",
        "df = pd.read_csv(url)\n",
        "\n",
        "# Visualización primeras filas\n",
        "df.head()"
      ]
    },
    {
      "cell_type": "markdown",
      "metadata": {
        "id": "KBOQJ0AjdYrM"
      },
      "source": [
        "# 02 EDA\n",
        "Realizaremos un pequeño análisis exploratorio visual para familiarizarnos con el dataset."
      ]
    },
    {
      "cell_type": "code",
      "execution_count": null,
      "metadata": {
        "id": "qGrwhGyaj0-a"
      },
      "outputs": [],
      "source": [
        "df.info()"
      ]
    },
    {
      "cell_type": "markdown",
      "metadata": {
        "id": "aw4NKEGOePiM"
      },
      "source": [
        "## 0201 Ensuciamos con nulos\n",
        "Para probar cómo arreglar los nulos, vamos a meter primero ciertos nulos en nuestro dataframe."
      ]
    },
    {
      "cell_type": "code",
      "execution_count": null,
      "metadata": {
        "id": "4HMrUT2Kekhe"
      },
      "outputs": [],
      "source": [
        "df.columns[:-3]"
      ]
    },
    {
      "cell_type": "code",
      "execution_count": null,
      "metadata": {
        "id": "sXkPtfTNecxg"
      },
      "outputs": [],
      "source": [
        "df_2 = df.copy(deep=True)\n",
        "\n",
        "prop_nulos = 0.05\n",
        "for col in df.columns[:-3]:\n",
        "    indice_para_nulos = df_2.sample(frac=prop_nulos, replace=False).index\n",
        "    df_2.loc[indice_para_nulos, col] = np.NaN\n",
        "\n",
        "df_2.head(10)"
      ]
    },
    {
      "cell_type": "code",
      "execution_count": null,
      "metadata": {
        "id": "8LoZpl8rjWEX"
      },
      "outputs": [],
      "source": [
        "df_2.info()"
      ]
    },
    {
      "cell_type": "markdown",
      "metadata": {
        "id": "4errfzSQfy81"
      },
      "source": [
        "## 0202 Continuamos con el EDA"
      ]
    },
    {
      "cell_type": "code",
      "execution_count": null,
      "metadata": {
        "id": "bhkosbpygCzB"
      },
      "outputs": [],
      "source": [
        "df_2.describe()"
      ]
    },
    {
      "cell_type": "code",
      "execution_count": null,
      "metadata": {
        "id": "YUz-qSwBjaEW"
      },
      "outputs": [],
      "source": [
        "# Visualización coeficientes Pearson\n",
        "plt.figure(figsize=(12, 9))\n",
        "sns.heatmap(np.round(df_2.corr(), 2), vmin=-1, vmax=1, annot=True, cmap=\"coolwarm\")\n",
        "plt.show()"
      ]
    },
    {
      "cell_type": "markdown",
      "metadata": {
        "id": "lcnJKyElO8FU"
      },
      "source": [
        "# 03 Preparación de datos para árbol de decisión\n",
        "Los árboles de decisión de scikit learn requiren:\n",
        "\n",
        "*   Que no haya nulos entre las variables\n",
        "*   Que todas las variables sean numéricas (hay que dumificar las categóricas)\n"
      ]
    },
    {
      "cell_type": "markdown",
      "metadata": {
        "id": "bu-dRbavgWus"
      },
      "source": [
        "## 0301 Inicialización de árbol\n",
        "Recordemos cómo entrenar un árbol cuando las variables son numéricas (G2 y G3)."
      ]
    },
    {
      "cell_type": "code",
      "execution_count": null,
      "metadata": {
        "id": "ZsyQLVEzhEDs"
      },
      "outputs": [],
      "source": [
        "X = df_2[[\"G1\", \"G2\"]]\n",
        "y = df_2[\"G3\"]\n",
        "\n",
        "display(len(X))\n",
        "display(X.isna().sum())"
      ]
    },
    {
      "cell_type": "code",
      "execution_count": null,
      "metadata": {
        "id": "BHJes7PhgoPM"
      },
      "outputs": [],
      "source": [
        "# Inicializo un árbol\n",
        "arbolito = tree.DecisionTreeRegressor(max_depth=3)\n",
        "# Entreno el árbol\n",
        "arbolito = arbolito.fit(X=X, y=y)\n",
        "# Uso el árbol para predecir y\n",
        "pred_arbolito = arbolito.predict(X)\n",
        "# Cómo de buena es la predicción?\n",
        "mean_squared_error(y, pred_arbolito, squared=False)"
      ]
    },
    {
      "cell_type": "code",
      "execution_count": null,
      "metadata": {
        "id": "2iv_lqrXl766"
      },
      "outputs": [],
      "source": [
        "# Con el método export_text en un print()\n",
        "esquema_print = tree.export_text(arbolito, feature_names=list(X.columns))\n",
        "print(esquema_print)"
      ]
    },
    {
      "cell_type": "markdown",
      "metadata": {
        "id": "p0y__k4SiMS7"
      },
      "source": [
        "## 0301 Limpieza de nulos"
      ]
    },
    {
      "cell_type": "markdown",
      "metadata": {
        "id": "AF5pO7R2klFx"
      },
      "source": [
        "### 030101 Qué pasa cuando hay nulos en los datos"
      ]
    },
    {
      "cell_type": "code",
      "execution_count": null,
      "metadata": {
        "id": "56V51DTZiDoh"
      },
      "outputs": [],
      "source": [
        "df_2[[\"absences\", \"G1\", \"G2\", \"G3\"]].head()"
      ]
    },
    {
      "cell_type": "code",
      "execution_count": null,
      "metadata": {
        "id": "KahbXvIXgoYR"
      },
      "outputs": [],
      "source": [
        "X = df_2[[\"absences\", \"G1\", \"G2\"]]\n",
        "y = df_2[\"G3\"]\n",
        "\n",
        "display(len(X))\n",
        "display(X.isna().sum())"
      ]
    },
    {
      "cell_type": "code",
      "execution_count": null,
      "metadata": {
        "id": "y0Fylsb1kwZL"
      },
      "outputs": [],
      "source": [
        "# Inicializo un árbol\n",
        "arbolito = tree.DecisionTreeRegressor(max_depth=3)\n",
        "# Entreno el árbol\n",
        "arbolito = arbolito.fit(X=X, y=y)\n",
        "# Uso el árbol para predecir y\n",
        "pred_arbolito = arbolito.predict(X)\n",
        "# Cómo de buena es la predicción?\n",
        "mean_squared_error(y, pred_arbolito, squared=False)"
      ]
    },
    {
      "cell_type": "markdown",
      "metadata": {
        "id": "V-klD66dlkHl"
      },
      "source": [
        "### 030202 Eliminando nulos\n",
        "Con el método .[dropna()](https://pandas.pydata.org/pandas-docs/stable/reference/api/pandas.DataFrame.dropna.html)."
      ]
    },
    {
      "cell_type": "code",
      "execution_count": null,
      "metadata": {
        "id": "Y0lN_CPylyAb"
      },
      "outputs": [],
      "source": [
        "X = df_2.dropna(subset=[\"absences\"])[[\"absences\", \"G1\", \"G2\"]]\n",
        "y = df_2.dropna(subset=[\"absences\"])[\"G3\"]\n",
        "\n",
        "display(len(X))\n",
        "display(X.isna().sum())"
      ]
    },
    {
      "cell_type": "code",
      "execution_count": null,
      "metadata": {
        "id": "W_SiS48vm57D"
      },
      "outputs": [],
      "source": [
        "# Inicializo un árbol\n",
        "arbolito = tree.DecisionTreeRegressor(max_depth=3)\n",
        "# Entreno el árbol\n",
        "arbolito = arbolito.fit(X=X, y=y)\n",
        "# Uso el árbol para predecir y\n",
        "pred_arbolito = arbolito.predict(X)\n",
        "# Cómo de buena es la predicción?\n",
        "mean_squared_error(y, pred_arbolito, squared=False)"
      ]
    },
    {
      "cell_type": "code",
      "execution_count": null,
      "metadata": {
        "id": "HliRVIu-m5-l"
      },
      "outputs": [],
      "source": [
        "# Con el método export_text en un print()\n",
        "esquema_print = tree.export_text(arbolito, feature_names=list(X.columns))\n",
        "print(esquema_print)"
      ]
    },
    {
      "cell_type": "markdown",
      "metadata": {
        "id": "QyF4CEk-nfIk"
      },
      "source": [
        "**Problemas de este enfoque**\n",
        "\n",
        "Eliminando filas tenemos varios problemas:\n",
        "*   Perdemos información al perder filas\n",
        "\n",
        "Sí, nuestra variable estaba a nulo en la filas que hemos eliminado, pero quizás había información útil en el resto de variables que también nos estamos perdiendo.\n",
        "*   No hemos resuelto el problema de los nulos\n",
        "\n",
        "\n",
        "Cuando queramos hacer predicciones sobre datos nuevos que contengan nulos tendremos igualmente que desarrollar un método para tratarlos si queremos producir una predicción.\n",
        "\n"
      ]
    },
    {
      "cell_type": "markdown",
      "metadata": {
        "id": "tRGsnOH1lI9s"
      },
      "source": [
        "### 030103 Rellenando nulos\n",
        "Usando el método .[fillna()](https://pandas.pydata.org/pandas-docs/stable/reference/api/pandas.DataFrame.fillna.html)."
      ]
    },
    {
      "cell_type": "markdown",
      "metadata": {
        "id": "hIAwE7W5qGhy"
      },
      "source": [
        "#### Rellenando con 0s"
      ]
    },
    {
      "cell_type": "code",
      "execution_count": null,
      "metadata": {
        "id": "sXLw4ruqleKN"
      },
      "outputs": [],
      "source": [
        "X = df_2.loc[:, [\"absences\", \"G1\", \"G2\"]]\n",
        "X[\"absences\"] = X[\"absences\"].fillna(0)\n",
        "y = df_2[\"G3\"]\n",
        "\n",
        "display(len(X))\n",
        "display(X.isna().sum())"
      ]
    },
    {
      "cell_type": "code",
      "execution_count": null,
      "metadata": {
        "id": "BQ8EongZpVYU"
      },
      "outputs": [],
      "source": [
        "# Inicializo un árbol\n",
        "arbolito = tree.DecisionTreeRegressor(max_depth=3)\n",
        "# Entreno el árbol\n",
        "arbolito = arbolito.fit(X=X, y=y)\n",
        "# Uso el árbol para predecir y\n",
        "pred_arbolito = arbolito.predict(X)\n",
        "# Cómo de buena es la predicción?\n",
        "mean_squared_error(y, pred_arbolito, squared=False)"
      ]
    },
    {
      "cell_type": "code",
      "execution_count": null,
      "metadata": {
        "id": "yEjAq2bcpW2a"
      },
      "outputs": [],
      "source": [
        "# Con el método export_text en un print()\n",
        "esquema_print = tree.export_text(arbolito, feature_names=list(X.columns))\n",
        "print(esquema_print)"
      ]
    },
    {
      "cell_type": "markdown",
      "metadata": {
        "id": "vvOmcaHjqN8r"
      },
      "source": [
        "#### Rellenando con mediana"
      ]
    },
    {
      "cell_type": "code",
      "execution_count": null,
      "metadata": {
        "id": "sY5acK5KqUML"
      },
      "outputs": [],
      "source": [
        "X = df_2.loc[:, [\"absences\", \"G1\", \"G2\"]]\n",
        "X[\"absences\"] = X[\"absences\"].fillna(X[\"absences\"].median())\n",
        "y = df_2[\"G3\"]\n",
        "\n",
        "display(len(X))\n",
        "display(X.isna().sum())"
      ]
    },
    {
      "cell_type": "code",
      "execution_count": null,
      "metadata": {
        "id": "Qgzcmb11qUPU"
      },
      "outputs": [],
      "source": [
        "# Inicializo un árbol\n",
        "arbolito = tree.DecisionTreeRegressor(max_depth=3)\n",
        "# Entreno el árbol\n",
        "arbolito = arbolito.fit(X=X, y=y)\n",
        "# Uso el árbol para predecir y\n",
        "pred_arbolito = arbolito.predict(X)\n",
        "# Cómo de buena es la predicción?\n",
        "mean_squared_error(y, pred_arbolito, squared=False)"
      ]
    },
    {
      "cell_type": "code",
      "execution_count": null,
      "metadata": {
        "id": "NYVBro4-qUSm"
      },
      "outputs": [],
      "source": [
        "# Con el método export_text en un print()\n",
        "esquema_print = tree.export_text(arbolito, feature_names=list(X.columns))\n",
        "print(esquema_print)"
      ]
    },
    {
      "cell_type": "markdown",
      "metadata": {
        "id": "sW3n4ad6r77q"
      },
      "source": [
        "#### Reflexión sobre estos dos últimos árboles\n",
        "Los dos son iguales!\n",
        "\n",
        "Pero el método de relleno de nulos para \"absences\" provocaba que esos 20 alumnos acabaran a un lado o a otro de la segunda partición en la rama G2<=10.5.\n",
        "\n",
        "El método de relleno va a influír en dónde caen las filas con nulos cuando hay una partición, por eso es importante y deberá seguir una lógica lo más realista posible."
      ]
    },
    {
      "cell_type": "markdown",
      "metadata": {
        "id": "VI-afAaGsmsp"
      },
      "source": [
        "### 030104 EJERCICIO\n",
        "Queremos hacer un árbol que prediga la nota 'G3' con las variables ['age', 'Medu', 'Fedu', 'traveltime', 'studytime', 'failures', 'famrel', 'freetime', 'goout', 'Dalc', 'Walc', 'health', 'absences'].\n",
        "\n",
        "Estas variables tienen nulos. Haz 3 modelos:\n",
        "\n",
        "\n",
        "1.   Un modelo eliminando los nulos\n",
        "2.   Un modelo rellenando los nulos con 0s\n",
        "3.   Un modelo rellenando los nulos con un método un poco más avanzado, de tu elección.\n",
        "\n"
      ]
    },
    {
      "cell_type": "code",
      "execution_count": null,
      "metadata": {
        "id": "NgG5FjRK2NTp"
      },
      "outputs": [],
      "source": [
        "df_2[\n",
        "    [\n",
        "        \"age\",\n",
        "        \"Medu\",\n",
        "        \"Fedu\",\n",
        "        \"traveltime\",\n",
        "        \"studytime\",\n",
        "        \"failures\",\n",
        "        \"famrel\",\n",
        "        \"freetime\",\n",
        "        \"goout\",\n",
        "        \"Dalc\",\n",
        "        \"Walc\",\n",
        "        \"health\",\n",
        "        \"absences\",\n",
        "    ]\n",
        "].head()"
      ]
    },
    {
      "cell_type": "markdown",
      "metadata": {
        "id": "LFPk76RTtt9T"
      },
      "source": [
        "#### Modelo 1\n",
        "Eliminando los nulos"
      ]
    },
    {
      "cell_type": "code",
      "execution_count": null,
      "metadata": {
        "id": "aBaMBRvrst-d"
      },
      "outputs": [],
      "source": [
        "# Genera las variables X e Y\n",
        "cols = [\n",
        "    \"age\",\n",
        "    \"Medu\",\n",
        "    \"Fedu\",\n",
        "    \"traveltime\",\n",
        "    \"studytime\",\n",
        "    \"failures\",\n",
        "    \"famrel\",\n",
        "    \"freetime\",\n",
        "    \"goout\",\n",
        "    \"Dalc\",\n",
        "    \"Walc\",\n",
        "    \"health\",\n",
        "    \"absences\",\n",
        "]\n",
        "\n",
        "X = df_2.dropna(subset=cols)[cols]\n",
        "y = df_2.dropna(subset=cols)[\"G3\"]\n",
        "\n",
        "# Visualiza la longitud y el número de nulos\n",
        "display(len(X))\n",
        "display(X.isna().sum())"
      ]
    },
    {
      "cell_type": "code",
      "execution_count": null,
      "metadata": {
        "id": "klxxlvUtqUVt"
      },
      "outputs": [],
      "source": [
        "# Inicializo un árbol\n",
        "arbolito = tree.DecisionTreeRegressor(max_depth=3)\n",
        "# Entreno el árbol\n",
        "arbolito = arbolito.fit(X=X, y=y)\n",
        "# Uso el árbol para predecir y\n",
        "pred_arbolito = arbolito.predict(X)\n",
        "# Cómo de buena es la predicción?\n",
        "mean_squared_error(y, pred_arbolito, squared=False)"
      ]
    },
    {
      "cell_type": "code",
      "execution_count": null,
      "metadata": {
        "id": "vUnkQlkoulkz"
      },
      "outputs": [],
      "source": [
        "# Con el método export_text en un print()\n",
        "esquema_print = tree.export_text(arbolito, feature_names=list(X.columns))\n",
        "print(esquema_print)"
      ]
    },
    {
      "cell_type": "markdown",
      "metadata": {
        "id": "5ol6Dvnfur73"
      },
      "source": [
        "#### Modelo 2\n",
        "Rellenamos los nulos con 0s."
      ]
    },
    {
      "cell_type": "code",
      "execution_count": null,
      "metadata": {
        "id": "XQzQ0Htmur73"
      },
      "outputs": [],
      "source": [
        "# Genera las variables X e Y\n",
        "cols = [\n",
        "    \"age\",\n",
        "    \"Medu\",\n",
        "    \"Fedu\",\n",
        "    \"traveltime\",\n",
        "    \"studytime\",\n",
        "    \"failures\",\n",
        "    \"famrel\",\n",
        "    \"freetime\",\n",
        "    \"goout\",\n",
        "    \"Dalc\",\n",
        "    \"Walc\",\n",
        "    \"health\",\n",
        "    \"absences\",\n",
        "]\n",
        "X = df_2.loc[:, cols]\n",
        "X[cols] = X[cols].fillna(0)\n",
        "y = df_2[\"G3\"]\n",
        "\n",
        "# Visualiza la longitud y el número de nulos\n",
        "display(len(X))\n",
        "display(X.isna().sum())"
      ]
    },
    {
      "cell_type": "code",
      "execution_count": null,
      "metadata": {
        "id": "DZ3WlWudur74"
      },
      "outputs": [],
      "source": [
        "# Inicializo un árbol\n",
        "arbolito = tree.DecisionTreeRegressor(max_depth=4)\n",
        "# Entreno el árbol\n",
        "arbolito = arbolito.fit(X=X, y=y)\n",
        "# Uso el árbol para predecir y\n",
        "pred_arbolito = arbolito.predict(X)\n",
        "# Cómo de buena es la predicción?\n",
        "mean_squared_error(y, pred_arbolito, squared=False)"
      ]
    },
    {
      "cell_type": "code",
      "execution_count": null,
      "metadata": {
        "id": "2JOf2IL3ur74"
      },
      "outputs": [],
      "source": [
        "# Con el método export_text en un print()\n",
        "esquema_print = tree.export_text(arbolito, feature_names=list(X.columns))\n",
        "print(esquema_print)"
      ]
    },
    {
      "cell_type": "markdown",
      "metadata": {
        "id": "YUoakiXUvJzp"
      },
      "source": [
        "#### Modelo 3\n",
        "Rellenamos los nulos."
      ]
    },
    {
      "cell_type": "code",
      "execution_count": null,
      "metadata": {
        "id": "Y81YrOwHvl8b"
      },
      "outputs": [],
      "source": [
        "# Genera las variables X e Y\n",
        "cols = [\n",
        "    \"age\",\n",
        "    \"Medu\",\n",
        "    \"Fedu\",\n",
        "    \"traveltime\",\n",
        "    \"studytime\",\n",
        "    \"failures\",\n",
        "    \"famrel\",\n",
        "    \"freetime\",\n",
        "    \"goout\",\n",
        "    \"Dalc\",\n",
        "    \"Walc\",\n",
        "    \"health\",\n",
        "    \"absences\",\n",
        "]\n",
        "X = df_2.loc[:, cols]\n",
        "for col in cols:\n",
        "    X[col] = X[col].fillna(X[col].mean())\n",
        "y = df_2[\"G3\"]"
      ]
    },
    {
      "cell_type": "code",
      "execution_count": null,
      "metadata": {
        "id": "I39B40npvJzu"
      },
      "outputs": [],
      "source": [
        "# Inicializo un árbol\n",
        "arbolito = tree.DecisionTreeRegressor(max_depth=4)\n",
        "# Entreno el árbol\n",
        "arbolito = arbolito.fit(X=X, y=y)\n",
        "# Uso el árbol para predecir y\n",
        "pred_arbolito = arbolito.predict(X)\n",
        "# Cómo de buena es la predicción?\n",
        "mean_squared_error(y, pred_arbolito, squared=False)"
      ]
    },
    {
      "cell_type": "code",
      "execution_count": null,
      "metadata": {
        "id": "zLBf8AdGvJzv"
      },
      "outputs": [],
      "source": [
        "# Con el método export_text en un print()\n",
        "esquema_print = tree.export_text(arbolito, feature_names=list(X.columns))\n",
        "print(esquema_print)"
      ]
    },
    {
      "cell_type": "markdown",
      "metadata": {
        "id": "FBiApGMl3eHN"
      },
      "source": [
        "## 0302 Dumificación vars categóricas"
      ]
    },
    {
      "cell_type": "markdown",
      "metadata": {
        "id": "_XJZv6FU3nTT"
      },
      "source": [
        "### 030201 Qué pasa cuando hay vars categóricas"
      ]
    },
    {
      "cell_type": "code",
      "execution_count": null,
      "metadata": {
        "id": "iOV5aUIZ3cNg"
      },
      "outputs": [],
      "source": [
        "df_2[[\"school\", \"sex\", \"Mjob\", \"G3\"]].head()"
      ]
    },
    {
      "cell_type": "code",
      "execution_count": null,
      "metadata": {
        "id": "m8GD170U39NF"
      },
      "outputs": [],
      "source": [
        "X = df_2[[\"school\", \"sex\", \"Mjob\"]]\n",
        "y = df_2[\"G3\"]\n",
        "\n",
        "display(len(X))\n",
        "display(X.isna().sum())"
      ]
    },
    {
      "cell_type": "code",
      "execution_count": null,
      "metadata": {
        "id": "FPsu4YLZ6G57"
      },
      "outputs": [],
      "source": [
        "# Inicializo un árbol\n",
        "arbolito = tree.DecisionTreeRegressor(max_depth=3)\n",
        "# Entreno el árbol\n",
        "arbolito = arbolito.fit(X=X, y=y)\n",
        "# Uso el árbol para predecir y\n",
        "pred_arbolito = arbolito.predict(X)\n",
        "# Cómo de buena es la predicción?\n",
        "mean_squared_error(y, pred_arbolito, squared=False)"
      ]
    },
    {
      "cell_type": "markdown",
      "metadata": {
        "id": "5_Gc2bPg6OJR"
      },
      "source": [
        "### 030202 Dumificación\n",
        "Utilizando la función [.get_dummies()](https://pandas.pydata.org/pandas-docs/stable/reference/api/pandas.get_dummies.html)."
      ]
    },
    {
      "cell_type": "code",
      "execution_count": null,
      "metadata": {
        "id": "mCL9x_fg6bHw"
      },
      "outputs": [],
      "source": [
        "X.head()"
      ]
    },
    {
      "cell_type": "code",
      "execution_count": null,
      "metadata": {
        "id": "tW36P8sD4C5e"
      },
      "outputs": [],
      "source": [
        "pd.get_dummies(X, prefix_sep=\"_\").head()"
      ]
    },
    {
      "cell_type": "code",
      "execution_count": null,
      "metadata": {
        "id": "-kSDr8go4c9x"
      },
      "outputs": [],
      "source": [
        "pd.get_dummies(X, prefix_sep=\"__\", dummy_na=True).head()"
      ]
    },
    {
      "cell_type": "code",
      "execution_count": null,
      "metadata": {
        "id": "qO__ze7q4z2P"
      },
      "outputs": [],
      "source": [
        "pd.get_dummies(X, prefix_sep=\"_\", drop_first=True).head()"
      ]
    },
    {
      "cell_type": "code",
      "execution_count": null,
      "metadata": {
        "id": "Lxk4AqrW5tPK"
      },
      "outputs": [],
      "source": [
        "pd.get_dummies(X, prefix_sep=\"_\", drop_first=True, columns=[\"school\"]).head()"
      ]
    },
    {
      "cell_type": "code",
      "execution_count": null,
      "metadata": {
        "id": "fAUKAlYr54nQ"
      },
      "outputs": [],
      "source": [
        "X = pd.get_dummies(df_2[[\"school\", \"sex\", \"Mjob\"]], prefix_sep=\"_\", drop_first=True)\n",
        "y = df_2[\"G3\"]\n",
        "\n",
        "display(len(X))\n",
        "display(X.isna().sum())"
      ]
    },
    {
      "cell_type": "code",
      "execution_count": null,
      "metadata": {
        "id": "PI1Zf1iX7UeL"
      },
      "outputs": [],
      "source": [
        "# Inicializo un árbol\n",
        "arbolito = tree.DecisionTreeRegressor(max_depth=4)\n",
        "# Entreno el árbol\n",
        "arbolito = arbolito.fit(X=X, y=y)\n",
        "# Uso el árbol para predecir y\n",
        "pred_arbolito = arbolito.predict(X)\n",
        "# Cómo de buena es la predicción?\n",
        "mean_squared_error(y, pred_arbolito, squared=False)"
      ]
    },
    {
      "cell_type": "code",
      "execution_count": null,
      "metadata": {
        "id": "Xo3X-2ou7jvV"
      },
      "outputs": [],
      "source": [
        "# Con el método export_text en un print()\n",
        "esquema_print = tree.export_text(arbolito, feature_names=list(X.columns))\n",
        "print(esquema_print)"
      ]
    },
    {
      "cell_type": "markdown",
      "metadata": {
        "id": "Veq9drco735k"
      },
      "source": [
        "# 04 Ejercicio\n",
        "Utilizando df_2 (la versión del dataset con nulos), crea un modelo que prediga 'G3' utilizando las variables predictivas:\n",
        "\n",
        "['school', 'sex', 'age', 'famsize', 'Pstatus', 'Medu', 'Fedu', 'Mjob', 'Fjob', 'studytime', 'failures', 'schoolsup', 'health', 'absences']\n",
        "\n",
        "Deberás tratar las variables categóricas y los nulos. Obtén la predicción, su calidad, y visualiza el árbol.\n",
        "\n"
      ]
    },
    {
      "cell_type": "code",
      "execution_count": null,
      "metadata": {
        "id": "6KIx7TJY9OS7"
      },
      "outputs": [],
      "source": [
        "df_2[[\"school\", \"Mjob\", \"age\"]].head()"
      ]
    },
    {
      "cell_type": "code",
      "execution_count": null,
      "metadata": {
        "id": "4DQGU2m_7rMp"
      },
      "outputs": [],
      "source": [
        "# Fíjate en lo que hace esto:\n",
        "pd.get_dummies(\n",
        "    df_2[[\"school\", \"Mjob\", \"age\"]],\n",
        "    prefix_sep=\"_\",\n",
        "    drop_first=True,\n",
        "    columns=[\"school\", \"Mjob\"],\n",
        ")"
      ]
    },
    {
      "cell_type": "code",
      "execution_count": null,
      "metadata": {
        "id": "3ZlCFF8b9dT8"
      },
      "outputs": [],
      "source": [
        "# cols\n",
        "cols = [\n",
        "    \"school\",\n",
        "    \"sex\",\n",
        "    \"age\",\n",
        "    \"famsize\",\n",
        "    \"Pstatus\",\n",
        "    \"Medu\",\n",
        "    \"Fedu\",\n",
        "    \"Mjob\",\n",
        "    \"Fjob\",\n",
        "    \"studytime\",\n",
        "    \"failures\",\n",
        "    \"schoolsup\",\n",
        "    \"health\",\n",
        "    \"absences\",\n",
        "]\n",
        "df_2[cols].head()"
      ]
    },
    {
      "cell_type": "code",
      "execution_count": null,
      "metadata": {
        "id": "dYHznxWJ8Wyt"
      },
      "outputs": [],
      "source": [
        "# Dumifica las variables categóricas\n",
        "X = pd.get_dummies(\n",
        "    df_2[cols],\n",
        "    prefix_sep=\"_\",\n",
        "    drop_first=True,\n",
        "    columns=[\"school\", \"sex\", \"famsize\", \"Pstatus\", \"Mjob\", \"Fjob\", \"schoolsup\"],\n",
        ")\n",
        "y = df_2[\"G3\"]\n",
        "\n",
        "display(len(X))\n",
        "display(X.isna().sum())"
      ]
    },
    {
      "cell_type": "code",
      "execution_count": null,
      "metadata": {
        "id": "8rGwou9_-OkE"
      },
      "outputs": [],
      "source": [
        "# Limpiamos los nulos\n",
        "for col in X.columns:\n",
        "    X[col] = X[col].fillna(X[col].mean())\n",
        "\n",
        "display(len(X))\n",
        "display(X.isna().sum())"
      ]
    },
    {
      "cell_type": "code",
      "execution_count": null,
      "metadata": {
        "id": "Xghb0BSU-kd4"
      },
      "outputs": [],
      "source": [
        "# Inicializo un árbol\n",
        "arbolito = tree.DecisionTreeRegressor(max_depth=4)\n",
        "# Entreno el árbol\n",
        "arbolito = arbolito.fit(X=X, y=y)\n",
        "# Uso el árbol para predecir y\n",
        "pred_arbolito = arbolito.predict(X)\n",
        "# Cómo de buena es la predicción?\n",
        "mean_squared_error(y, pred_arbolito, squared=False)"
      ]
    },
    {
      "cell_type": "code",
      "execution_count": null,
      "metadata": {
        "id": "34udHBlC--I2"
      },
      "outputs": [],
      "source": [
        "# Con el método export_text en un print()\n",
        "esquema_print = tree.export_text(arbolito, feature_names=list(X.columns))\n",
        "print(esquema_print)"
      ]
    },
    {
      "cell_type": "code",
      "execution_count": null,
      "metadata": {
        "id": "8SZFkA-j_CGv"
      },
      "outputs": [],
      "source": []
    }
  ],
  "metadata": {
    "kernelspec": {
      "display_name": "Python 3 (ipykernel)",
      "language": "python",
      "name": "python3"
    },
    "language_info": {
      "codemirror_mode": {
        "name": "ipython",
        "version": 3
      },
      "file_extension": ".py",
      "mimetype": "text/x-python",
      "name": "python",
      "nbconvert_exporter": "python",
      "pygments_lexer": "ipython3",
      "version": "3.10.11"
    },
    "colab": {
      "provenance": []
    }
  },
  "nbformat": 4,
  "nbformat_minor": 0
}
