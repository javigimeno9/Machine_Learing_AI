{
  "nbformat": 4,
  "nbformat_minor": 0,
  "metadata": {
    "language_info": {
      "codemirror_mode": {
        "version": 3,
        "name": "ipython"
      },
      "name": "python",
      "file_extension": ".py",
      "nbconvert_exporter": "python",
      "version": "3.6.12-final",
      "mimetype": "text/x-python",
      "pygments_lexer": "ipython3"
    },
    "hide_input": false,
    "kernelspec": {
      "language": "python",
      "name": "python361264bitmlfeatureengineeringconda3ca81f03486543f8b46848b6b9adbe15",
      "display_name": "Python 3.6.12 64-bit ('ml-feature-engineering': conda)"
    },
    "hide_code_all_hidden": false,
    "colab": {
      "provenance": [],
      "collapsed_sections": [
        "vV0uqUSNMFbs"
      ]
    },
    "widgets": {
      "application/vnd.jupyter.widget-state+json": {
        "f84e4296dd8242b3bcfaa66e38d89912": {
          "model_module": "@jupyter-widgets/controls",
          "model_name": "HBoxModel",
          "model_module_version": "1.5.0",
          "state": {
            "_dom_classes": [],
            "_model_module": "@jupyter-widgets/controls",
            "_model_module_version": "1.5.0",
            "_model_name": "HBoxModel",
            "_view_count": null,
            "_view_module": "@jupyter-widgets/controls",
            "_view_module_version": "1.5.0",
            "_view_name": "HBoxView",
            "box_style": "",
            "children": [
              "IPY_MODEL_8f22ea010fdf4e62a1b10f70552fe2e7",
              "IPY_MODEL_29ca7919ffb74948920e45f23a982e62",
              "IPY_MODEL_1ca7779610ba40448f9d19305b2454fc"
            ],
            "layout": "IPY_MODEL_43150f8ff82f43f7bb93ef079eb1e88d"
          }
        },
        "8f22ea010fdf4e62a1b10f70552fe2e7": {
          "model_module": "@jupyter-widgets/controls",
          "model_name": "HTMLModel",
          "model_module_version": "1.5.0",
          "state": {
            "_dom_classes": [],
            "_model_module": "@jupyter-widgets/controls",
            "_model_module_version": "1.5.0",
            "_model_name": "HTMLModel",
            "_view_count": null,
            "_view_module": "@jupyter-widgets/controls",
            "_view_module_version": "1.5.0",
            "_view_name": "HTMLView",
            "description": "",
            "description_tooltip": null,
            "layout": "IPY_MODEL_13ec63f3949b43139911cf85b53d4d28",
            "placeholder": "​",
            "style": "IPY_MODEL_22179cec9e8e410581b41dce584e9519",
            "value": "Summarize dataset: 100%"
          }
        },
        "29ca7919ffb74948920e45f23a982e62": {
          "model_module": "@jupyter-widgets/controls",
          "model_name": "FloatProgressModel",
          "model_module_version": "1.5.0",
          "state": {
            "_dom_classes": [],
            "_model_module": "@jupyter-widgets/controls",
            "_model_module_version": "1.5.0",
            "_model_name": "FloatProgressModel",
            "_view_count": null,
            "_view_module": "@jupyter-widgets/controls",
            "_view_module_version": "1.5.0",
            "_view_name": "ProgressView",
            "bar_style": "success",
            "description": "",
            "description_tooltip": null,
            "layout": "IPY_MODEL_27e774e6e8a94fcb952bb2c9eef2ef00",
            "max": 5,
            "min": 0,
            "orientation": "horizontal",
            "style": "IPY_MODEL_7e31d92203734541bece2f55429ec2c1",
            "value": 5
          }
        },
        "1ca7779610ba40448f9d19305b2454fc": {
          "model_module": "@jupyter-widgets/controls",
          "model_name": "HTMLModel",
          "model_module_version": "1.5.0",
          "state": {
            "_dom_classes": [],
            "_model_module": "@jupyter-widgets/controls",
            "_model_module_version": "1.5.0",
            "_model_name": "HTMLModel",
            "_view_count": null,
            "_view_module": "@jupyter-widgets/controls",
            "_view_module_version": "1.5.0",
            "_view_name": "HTMLView",
            "description": "",
            "description_tooltip": null,
            "layout": "IPY_MODEL_cbd3c974be2c47929447592b2046dc8f",
            "placeholder": "​",
            "style": "IPY_MODEL_257238761dc24fd1bd52da111dd878de",
            "value": " 819/819 [03:53&lt;00:00,  1.27it/s, Completed]"
          }
        },
        "43150f8ff82f43f7bb93ef079eb1e88d": {
          "model_module": "@jupyter-widgets/base",
          "model_name": "LayoutModel",
          "model_module_version": "1.2.0",
          "state": {
            "_model_module": "@jupyter-widgets/base",
            "_model_module_version": "1.2.0",
            "_model_name": "LayoutModel",
            "_view_count": null,
            "_view_module": "@jupyter-widgets/base",
            "_view_module_version": "1.2.0",
            "_view_name": "LayoutView",
            "align_content": null,
            "align_items": null,
            "align_self": null,
            "border": null,
            "bottom": null,
            "display": null,
            "flex": null,
            "flex_flow": null,
            "grid_area": null,
            "grid_auto_columns": null,
            "grid_auto_flow": null,
            "grid_auto_rows": null,
            "grid_column": null,
            "grid_gap": null,
            "grid_row": null,
            "grid_template_areas": null,
            "grid_template_columns": null,
            "grid_template_rows": null,
            "height": null,
            "justify_content": null,
            "justify_items": null,
            "left": null,
            "margin": null,
            "max_height": null,
            "max_width": null,
            "min_height": null,
            "min_width": null,
            "object_fit": null,
            "object_position": null,
            "order": null,
            "overflow": null,
            "overflow_x": null,
            "overflow_y": null,
            "padding": null,
            "right": null,
            "top": null,
            "visibility": null,
            "width": null
          }
        },
        "13ec63f3949b43139911cf85b53d4d28": {
          "model_module": "@jupyter-widgets/base",
          "model_name": "LayoutModel",
          "model_module_version": "1.2.0",
          "state": {
            "_model_module": "@jupyter-widgets/base",
            "_model_module_version": "1.2.0",
            "_model_name": "LayoutModel",
            "_view_count": null,
            "_view_module": "@jupyter-widgets/base",
            "_view_module_version": "1.2.0",
            "_view_name": "LayoutView",
            "align_content": null,
            "align_items": null,
            "align_self": null,
            "border": null,
            "bottom": null,
            "display": null,
            "flex": null,
            "flex_flow": null,
            "grid_area": null,
            "grid_auto_columns": null,
            "grid_auto_flow": null,
            "grid_auto_rows": null,
            "grid_column": null,
            "grid_gap": null,
            "grid_row": null,
            "grid_template_areas": null,
            "grid_template_columns": null,
            "grid_template_rows": null,
            "height": null,
            "justify_content": null,
            "justify_items": null,
            "left": null,
            "margin": null,
            "max_height": null,
            "max_width": null,
            "min_height": null,
            "min_width": null,
            "object_fit": null,
            "object_position": null,
            "order": null,
            "overflow": null,
            "overflow_x": null,
            "overflow_y": null,
            "padding": null,
            "right": null,
            "top": null,
            "visibility": null,
            "width": null
          }
        },
        "22179cec9e8e410581b41dce584e9519": {
          "model_module": "@jupyter-widgets/controls",
          "model_name": "DescriptionStyleModel",
          "model_module_version": "1.5.0",
          "state": {
            "_model_module": "@jupyter-widgets/controls",
            "_model_module_version": "1.5.0",
            "_model_name": "DescriptionStyleModel",
            "_view_count": null,
            "_view_module": "@jupyter-widgets/base",
            "_view_module_version": "1.2.0",
            "_view_name": "StyleView",
            "description_width": ""
          }
        },
        "27e774e6e8a94fcb952bb2c9eef2ef00": {
          "model_module": "@jupyter-widgets/base",
          "model_name": "LayoutModel",
          "model_module_version": "1.2.0",
          "state": {
            "_model_module": "@jupyter-widgets/base",
            "_model_module_version": "1.2.0",
            "_model_name": "LayoutModel",
            "_view_count": null,
            "_view_module": "@jupyter-widgets/base",
            "_view_module_version": "1.2.0",
            "_view_name": "LayoutView",
            "align_content": null,
            "align_items": null,
            "align_self": null,
            "border": null,
            "bottom": null,
            "display": null,
            "flex": null,
            "flex_flow": null,
            "grid_area": null,
            "grid_auto_columns": null,
            "grid_auto_flow": null,
            "grid_auto_rows": null,
            "grid_column": null,
            "grid_gap": null,
            "grid_row": null,
            "grid_template_areas": null,
            "grid_template_columns": null,
            "grid_template_rows": null,
            "height": null,
            "justify_content": null,
            "justify_items": null,
            "left": null,
            "margin": null,
            "max_height": null,
            "max_width": null,
            "min_height": null,
            "min_width": null,
            "object_fit": null,
            "object_position": null,
            "order": null,
            "overflow": null,
            "overflow_x": null,
            "overflow_y": null,
            "padding": null,
            "right": null,
            "top": null,
            "visibility": null,
            "width": null
          }
        },
        "7e31d92203734541bece2f55429ec2c1": {
          "model_module": "@jupyter-widgets/controls",
          "model_name": "ProgressStyleModel",
          "model_module_version": "1.5.0",
          "state": {
            "_model_module": "@jupyter-widgets/controls",
            "_model_module_version": "1.5.0",
            "_model_name": "ProgressStyleModel",
            "_view_count": null,
            "_view_module": "@jupyter-widgets/base",
            "_view_module_version": "1.2.0",
            "_view_name": "StyleView",
            "bar_color": null,
            "description_width": ""
          }
        },
        "cbd3c974be2c47929447592b2046dc8f": {
          "model_module": "@jupyter-widgets/base",
          "model_name": "LayoutModel",
          "model_module_version": "1.2.0",
          "state": {
            "_model_module": "@jupyter-widgets/base",
            "_model_module_version": "1.2.0",
            "_model_name": "LayoutModel",
            "_view_count": null,
            "_view_module": "@jupyter-widgets/base",
            "_view_module_version": "1.2.0",
            "_view_name": "LayoutView",
            "align_content": null,
            "align_items": null,
            "align_self": null,
            "border": null,
            "bottom": null,
            "display": null,
            "flex": null,
            "flex_flow": null,
            "grid_area": null,
            "grid_auto_columns": null,
            "grid_auto_flow": null,
            "grid_auto_rows": null,
            "grid_column": null,
            "grid_gap": null,
            "grid_row": null,
            "grid_template_areas": null,
            "grid_template_columns": null,
            "grid_template_rows": null,
            "height": null,
            "justify_content": null,
            "justify_items": null,
            "left": null,
            "margin": null,
            "max_height": null,
            "max_width": null,
            "min_height": null,
            "min_width": null,
            "object_fit": null,
            "object_position": null,
            "order": null,
            "overflow": null,
            "overflow_x": null,
            "overflow_y": null,
            "padding": null,
            "right": null,
            "top": null,
            "visibility": null,
            "width": null
          }
        },
        "257238761dc24fd1bd52da111dd878de": {
          "model_module": "@jupyter-widgets/controls",
          "model_name": "DescriptionStyleModel",
          "model_module_version": "1.5.0",
          "state": {
            "_model_module": "@jupyter-widgets/controls",
            "_model_module_version": "1.5.0",
            "_model_name": "DescriptionStyleModel",
            "_view_count": null,
            "_view_module": "@jupyter-widgets/base",
            "_view_module_version": "1.2.0",
            "_view_name": "StyleView",
            "description_width": ""
          }
        },
        "10f7f323163d44238bc9ba49c657ea3f": {
          "model_module": "@jupyter-widgets/controls",
          "model_name": "HBoxModel",
          "model_module_version": "1.5.0",
          "state": {
            "_dom_classes": [],
            "_model_module": "@jupyter-widgets/controls",
            "_model_module_version": "1.5.0",
            "_model_name": "HBoxModel",
            "_view_count": null,
            "_view_module": "@jupyter-widgets/controls",
            "_view_module_version": "1.5.0",
            "_view_name": "HBoxView",
            "box_style": "",
            "children": [
              "IPY_MODEL_98742b26dbe143958594480744c55b01",
              "IPY_MODEL_22976b433b184fb8b7475b8b98049207",
              "IPY_MODEL_83e8cd354d7749e58fe4892d7163ca5c"
            ],
            "layout": "IPY_MODEL_6a1b66e65f924bd79fa18f1771867d90"
          }
        },
        "98742b26dbe143958594480744c55b01": {
          "model_module": "@jupyter-widgets/controls",
          "model_name": "HTMLModel",
          "model_module_version": "1.5.0",
          "state": {
            "_dom_classes": [],
            "_model_module": "@jupyter-widgets/controls",
            "_model_module_version": "1.5.0",
            "_model_name": "HTMLModel",
            "_view_count": null,
            "_view_module": "@jupyter-widgets/controls",
            "_view_module_version": "1.5.0",
            "_view_name": "HTMLView",
            "description": "",
            "description_tooltip": null,
            "layout": "IPY_MODEL_446a1fae54d34a859e946d09f795c886",
            "placeholder": "​",
            "style": "IPY_MODEL_33525686078940cb8b37db7aa3730720",
            "value": "Generate report structure: 100%"
          }
        },
        "22976b433b184fb8b7475b8b98049207": {
          "model_module": "@jupyter-widgets/controls",
          "model_name": "FloatProgressModel",
          "model_module_version": "1.5.0",
          "state": {
            "_dom_classes": [],
            "_model_module": "@jupyter-widgets/controls",
            "_model_module_version": "1.5.0",
            "_model_name": "FloatProgressModel",
            "_view_count": null,
            "_view_module": "@jupyter-widgets/controls",
            "_view_module_version": "1.5.0",
            "_view_name": "ProgressView",
            "bar_style": "success",
            "description": "",
            "description_tooltip": null,
            "layout": "IPY_MODEL_79132e6617704832b9fbc1d29962e27a",
            "max": 1,
            "min": 0,
            "orientation": "horizontal",
            "style": "IPY_MODEL_14866778715b48acb8925d80d9aa9cf9",
            "value": 1
          }
        },
        "83e8cd354d7749e58fe4892d7163ca5c": {
          "model_module": "@jupyter-widgets/controls",
          "model_name": "HTMLModel",
          "model_module_version": "1.5.0",
          "state": {
            "_dom_classes": [],
            "_model_module": "@jupyter-widgets/controls",
            "_model_module_version": "1.5.0",
            "_model_name": "HTMLModel",
            "_view_count": null,
            "_view_module": "@jupyter-widgets/controls",
            "_view_module_version": "1.5.0",
            "_view_name": "HTMLView",
            "description": "",
            "description_tooltip": null,
            "layout": "IPY_MODEL_613b1828647b4d1a978ade7261a903e7",
            "placeholder": "​",
            "style": "IPY_MODEL_b52661629e7144f18f73ca158906849b",
            "value": " 1/1 [00:52&lt;00:00, 52.89s/it]"
          }
        },
        "6a1b66e65f924bd79fa18f1771867d90": {
          "model_module": "@jupyter-widgets/base",
          "model_name": "LayoutModel",
          "model_module_version": "1.2.0",
          "state": {
            "_model_module": "@jupyter-widgets/base",
            "_model_module_version": "1.2.0",
            "_model_name": "LayoutModel",
            "_view_count": null,
            "_view_module": "@jupyter-widgets/base",
            "_view_module_version": "1.2.0",
            "_view_name": "LayoutView",
            "align_content": null,
            "align_items": null,
            "align_self": null,
            "border": null,
            "bottom": null,
            "display": null,
            "flex": null,
            "flex_flow": null,
            "grid_area": null,
            "grid_auto_columns": null,
            "grid_auto_flow": null,
            "grid_auto_rows": null,
            "grid_column": null,
            "grid_gap": null,
            "grid_row": null,
            "grid_template_areas": null,
            "grid_template_columns": null,
            "grid_template_rows": null,
            "height": null,
            "justify_content": null,
            "justify_items": null,
            "left": null,
            "margin": null,
            "max_height": null,
            "max_width": null,
            "min_height": null,
            "min_width": null,
            "object_fit": null,
            "object_position": null,
            "order": null,
            "overflow": null,
            "overflow_x": null,
            "overflow_y": null,
            "padding": null,
            "right": null,
            "top": null,
            "visibility": null,
            "width": null
          }
        },
        "446a1fae54d34a859e946d09f795c886": {
          "model_module": "@jupyter-widgets/base",
          "model_name": "LayoutModel",
          "model_module_version": "1.2.0",
          "state": {
            "_model_module": "@jupyter-widgets/base",
            "_model_module_version": "1.2.0",
            "_model_name": "LayoutModel",
            "_view_count": null,
            "_view_module": "@jupyter-widgets/base",
            "_view_module_version": "1.2.0",
            "_view_name": "LayoutView",
            "align_content": null,
            "align_items": null,
            "align_self": null,
            "border": null,
            "bottom": null,
            "display": null,
            "flex": null,
            "flex_flow": null,
            "grid_area": null,
            "grid_auto_columns": null,
            "grid_auto_flow": null,
            "grid_auto_rows": null,
            "grid_column": null,
            "grid_gap": null,
            "grid_row": null,
            "grid_template_areas": null,
            "grid_template_columns": null,
            "grid_template_rows": null,
            "height": null,
            "justify_content": null,
            "justify_items": null,
            "left": null,
            "margin": null,
            "max_height": null,
            "max_width": null,
            "min_height": null,
            "min_width": null,
            "object_fit": null,
            "object_position": null,
            "order": null,
            "overflow": null,
            "overflow_x": null,
            "overflow_y": null,
            "padding": null,
            "right": null,
            "top": null,
            "visibility": null,
            "width": null
          }
        },
        "33525686078940cb8b37db7aa3730720": {
          "model_module": "@jupyter-widgets/controls",
          "model_name": "DescriptionStyleModel",
          "model_module_version": "1.5.0",
          "state": {
            "_model_module": "@jupyter-widgets/controls",
            "_model_module_version": "1.5.0",
            "_model_name": "DescriptionStyleModel",
            "_view_count": null,
            "_view_module": "@jupyter-widgets/base",
            "_view_module_version": "1.2.0",
            "_view_name": "StyleView",
            "description_width": ""
          }
        },
        "79132e6617704832b9fbc1d29962e27a": {
          "model_module": "@jupyter-widgets/base",
          "model_name": "LayoutModel",
          "model_module_version": "1.2.0",
          "state": {
            "_model_module": "@jupyter-widgets/base",
            "_model_module_version": "1.2.0",
            "_model_name": "LayoutModel",
            "_view_count": null,
            "_view_module": "@jupyter-widgets/base",
            "_view_module_version": "1.2.0",
            "_view_name": "LayoutView",
            "align_content": null,
            "align_items": null,
            "align_self": null,
            "border": null,
            "bottom": null,
            "display": null,
            "flex": null,
            "flex_flow": null,
            "grid_area": null,
            "grid_auto_columns": null,
            "grid_auto_flow": null,
            "grid_auto_rows": null,
            "grid_column": null,
            "grid_gap": null,
            "grid_row": null,
            "grid_template_areas": null,
            "grid_template_columns": null,
            "grid_template_rows": null,
            "height": null,
            "justify_content": null,
            "justify_items": null,
            "left": null,
            "margin": null,
            "max_height": null,
            "max_width": null,
            "min_height": null,
            "min_width": null,
            "object_fit": null,
            "object_position": null,
            "order": null,
            "overflow": null,
            "overflow_x": null,
            "overflow_y": null,
            "padding": null,
            "right": null,
            "top": null,
            "visibility": null,
            "width": null
          }
        },
        "14866778715b48acb8925d80d9aa9cf9": {
          "model_module": "@jupyter-widgets/controls",
          "model_name": "ProgressStyleModel",
          "model_module_version": "1.5.0",
          "state": {
            "_model_module": "@jupyter-widgets/controls",
            "_model_module_version": "1.5.0",
            "_model_name": "ProgressStyleModel",
            "_view_count": null,
            "_view_module": "@jupyter-widgets/base",
            "_view_module_version": "1.2.0",
            "_view_name": "StyleView",
            "bar_color": null,
            "description_width": ""
          }
        },
        "613b1828647b4d1a978ade7261a903e7": {
          "model_module": "@jupyter-widgets/base",
          "model_name": "LayoutModel",
          "model_module_version": "1.2.0",
          "state": {
            "_model_module": "@jupyter-widgets/base",
            "_model_module_version": "1.2.0",
            "_model_name": "LayoutModel",
            "_view_count": null,
            "_view_module": "@jupyter-widgets/base",
            "_view_module_version": "1.2.0",
            "_view_name": "LayoutView",
            "align_content": null,
            "align_items": null,
            "align_self": null,
            "border": null,
            "bottom": null,
            "display": null,
            "flex": null,
            "flex_flow": null,
            "grid_area": null,
            "grid_auto_columns": null,
            "grid_auto_flow": null,
            "grid_auto_rows": null,
            "grid_column": null,
            "grid_gap": null,
            "grid_row": null,
            "grid_template_areas": null,
            "grid_template_columns": null,
            "grid_template_rows": null,
            "height": null,
            "justify_content": null,
            "justify_items": null,
            "left": null,
            "margin": null,
            "max_height": null,
            "max_width": null,
            "min_height": null,
            "min_width": null,
            "object_fit": null,
            "object_position": null,
            "order": null,
            "overflow": null,
            "overflow_x": null,
            "overflow_y": null,
            "padding": null,
            "right": null,
            "top": null,
            "visibility": null,
            "width": null
          }
        },
        "b52661629e7144f18f73ca158906849b": {
          "model_module": "@jupyter-widgets/controls",
          "model_name": "DescriptionStyleModel",
          "model_module_version": "1.5.0",
          "state": {
            "_model_module": "@jupyter-widgets/controls",
            "_model_module_version": "1.5.0",
            "_model_name": "DescriptionStyleModel",
            "_view_count": null,
            "_view_module": "@jupyter-widgets/base",
            "_view_module_version": "1.2.0",
            "_view_name": "StyleView",
            "description_width": ""
          }
        },
        "6cb604cf93b0473e987a205191899c25": {
          "model_module": "@jupyter-widgets/controls",
          "model_name": "HBoxModel",
          "model_module_version": "1.5.0",
          "state": {
            "_dom_classes": [],
            "_model_module": "@jupyter-widgets/controls",
            "_model_module_version": "1.5.0",
            "_model_name": "HBoxModel",
            "_view_count": null,
            "_view_module": "@jupyter-widgets/controls",
            "_view_module_version": "1.5.0",
            "_view_name": "HBoxView",
            "box_style": "",
            "children": [
              "IPY_MODEL_503f198749dc470f851184471aef27dd",
              "IPY_MODEL_d1a79ff0438c4675bf28e71ecb50f97c",
              "IPY_MODEL_8b99a2e9dc704224b9de0431ad63aa25"
            ],
            "layout": "IPY_MODEL_e36aff6ac14a4bbb9cb49e1735c23513"
          }
        },
        "503f198749dc470f851184471aef27dd": {
          "model_module": "@jupyter-widgets/controls",
          "model_name": "HTMLModel",
          "model_module_version": "1.5.0",
          "state": {
            "_dom_classes": [],
            "_model_module": "@jupyter-widgets/controls",
            "_model_module_version": "1.5.0",
            "_model_name": "HTMLModel",
            "_view_count": null,
            "_view_module": "@jupyter-widgets/controls",
            "_view_module_version": "1.5.0",
            "_view_name": "HTMLView",
            "description": "",
            "description_tooltip": null,
            "layout": "IPY_MODEL_0bb02ec3db68475384af356d3b079c45",
            "placeholder": "​",
            "style": "IPY_MODEL_4b87535cdcb6468fbc37a4b3c091ada6",
            "value": "Render HTML: 100%"
          }
        },
        "d1a79ff0438c4675bf28e71ecb50f97c": {
          "model_module": "@jupyter-widgets/controls",
          "model_name": "FloatProgressModel",
          "model_module_version": "1.5.0",
          "state": {
            "_dom_classes": [],
            "_model_module": "@jupyter-widgets/controls",
            "_model_module_version": "1.5.0",
            "_model_name": "FloatProgressModel",
            "_view_count": null,
            "_view_module": "@jupyter-widgets/controls",
            "_view_module_version": "1.5.0",
            "_view_name": "ProgressView",
            "bar_style": "success",
            "description": "",
            "description_tooltip": null,
            "layout": "IPY_MODEL_9d0ba414acbc405c8f2f7b17642e3767",
            "max": 1,
            "min": 0,
            "orientation": "horizontal",
            "style": "IPY_MODEL_ce4f6d75eb834a348a1fedc051b7fc36",
            "value": 1
          }
        },
        "8b99a2e9dc704224b9de0431ad63aa25": {
          "model_module": "@jupyter-widgets/controls",
          "model_name": "HTMLModel",
          "model_module_version": "1.5.0",
          "state": {
            "_dom_classes": [],
            "_model_module": "@jupyter-widgets/controls",
            "_model_module_version": "1.5.0",
            "_model_name": "HTMLModel",
            "_view_count": null,
            "_view_module": "@jupyter-widgets/controls",
            "_view_module_version": "1.5.0",
            "_view_name": "HTMLView",
            "description": "",
            "description_tooltip": null,
            "layout": "IPY_MODEL_d893d894a12e407f9c0a9d71f055e507",
            "placeholder": "​",
            "style": "IPY_MODEL_4f99f58199154818b65d7bdc07455d8f",
            "value": " 1/1 [00:26&lt;00:00, 26.18s/it]"
          }
        },
        "e36aff6ac14a4bbb9cb49e1735c23513": {
          "model_module": "@jupyter-widgets/base",
          "model_name": "LayoutModel",
          "model_module_version": "1.2.0",
          "state": {
            "_model_module": "@jupyter-widgets/base",
            "_model_module_version": "1.2.0",
            "_model_name": "LayoutModel",
            "_view_count": null,
            "_view_module": "@jupyter-widgets/base",
            "_view_module_version": "1.2.0",
            "_view_name": "LayoutView",
            "align_content": null,
            "align_items": null,
            "align_self": null,
            "border": null,
            "bottom": null,
            "display": null,
            "flex": null,
            "flex_flow": null,
            "grid_area": null,
            "grid_auto_columns": null,
            "grid_auto_flow": null,
            "grid_auto_rows": null,
            "grid_column": null,
            "grid_gap": null,
            "grid_row": null,
            "grid_template_areas": null,
            "grid_template_columns": null,
            "grid_template_rows": null,
            "height": null,
            "justify_content": null,
            "justify_items": null,
            "left": null,
            "margin": null,
            "max_height": null,
            "max_width": null,
            "min_height": null,
            "min_width": null,
            "object_fit": null,
            "object_position": null,
            "order": null,
            "overflow": null,
            "overflow_x": null,
            "overflow_y": null,
            "padding": null,
            "right": null,
            "top": null,
            "visibility": null,
            "width": null
          }
        },
        "0bb02ec3db68475384af356d3b079c45": {
          "model_module": "@jupyter-widgets/base",
          "model_name": "LayoutModel",
          "model_module_version": "1.2.0",
          "state": {
            "_model_module": "@jupyter-widgets/base",
            "_model_module_version": "1.2.0",
            "_model_name": "LayoutModel",
            "_view_count": null,
            "_view_module": "@jupyter-widgets/base",
            "_view_module_version": "1.2.0",
            "_view_name": "LayoutView",
            "align_content": null,
            "align_items": null,
            "align_self": null,
            "border": null,
            "bottom": null,
            "display": null,
            "flex": null,
            "flex_flow": null,
            "grid_area": null,
            "grid_auto_columns": null,
            "grid_auto_flow": null,
            "grid_auto_rows": null,
            "grid_column": null,
            "grid_gap": null,
            "grid_row": null,
            "grid_template_areas": null,
            "grid_template_columns": null,
            "grid_template_rows": null,
            "height": null,
            "justify_content": null,
            "justify_items": null,
            "left": null,
            "margin": null,
            "max_height": null,
            "max_width": null,
            "min_height": null,
            "min_width": null,
            "object_fit": null,
            "object_position": null,
            "order": null,
            "overflow": null,
            "overflow_x": null,
            "overflow_y": null,
            "padding": null,
            "right": null,
            "top": null,
            "visibility": null,
            "width": null
          }
        },
        "4b87535cdcb6468fbc37a4b3c091ada6": {
          "model_module": "@jupyter-widgets/controls",
          "model_name": "DescriptionStyleModel",
          "model_module_version": "1.5.0",
          "state": {
            "_model_module": "@jupyter-widgets/controls",
            "_model_module_version": "1.5.0",
            "_model_name": "DescriptionStyleModel",
            "_view_count": null,
            "_view_module": "@jupyter-widgets/base",
            "_view_module_version": "1.2.0",
            "_view_name": "StyleView",
            "description_width": ""
          }
        },
        "9d0ba414acbc405c8f2f7b17642e3767": {
          "model_module": "@jupyter-widgets/base",
          "model_name": "LayoutModel",
          "model_module_version": "1.2.0",
          "state": {
            "_model_module": "@jupyter-widgets/base",
            "_model_module_version": "1.2.0",
            "_model_name": "LayoutModel",
            "_view_count": null,
            "_view_module": "@jupyter-widgets/base",
            "_view_module_version": "1.2.0",
            "_view_name": "LayoutView",
            "align_content": null,
            "align_items": null,
            "align_self": null,
            "border": null,
            "bottom": null,
            "display": null,
            "flex": null,
            "flex_flow": null,
            "grid_area": null,
            "grid_auto_columns": null,
            "grid_auto_flow": null,
            "grid_auto_rows": null,
            "grid_column": null,
            "grid_gap": null,
            "grid_row": null,
            "grid_template_areas": null,
            "grid_template_columns": null,
            "grid_template_rows": null,
            "height": null,
            "justify_content": null,
            "justify_items": null,
            "left": null,
            "margin": null,
            "max_height": null,
            "max_width": null,
            "min_height": null,
            "min_width": null,
            "object_fit": null,
            "object_position": null,
            "order": null,
            "overflow": null,
            "overflow_x": null,
            "overflow_y": null,
            "padding": null,
            "right": null,
            "top": null,
            "visibility": null,
            "width": null
          }
        },
        "ce4f6d75eb834a348a1fedc051b7fc36": {
          "model_module": "@jupyter-widgets/controls",
          "model_name": "ProgressStyleModel",
          "model_module_version": "1.5.0",
          "state": {
            "_model_module": "@jupyter-widgets/controls",
            "_model_module_version": "1.5.0",
            "_model_name": "ProgressStyleModel",
            "_view_count": null,
            "_view_module": "@jupyter-widgets/base",
            "_view_module_version": "1.2.0",
            "_view_name": "StyleView",
            "bar_color": null,
            "description_width": ""
          }
        },
        "d893d894a12e407f9c0a9d71f055e507": {
          "model_module": "@jupyter-widgets/base",
          "model_name": "LayoutModel",
          "model_module_version": "1.2.0",
          "state": {
            "_model_module": "@jupyter-widgets/base",
            "_model_module_version": "1.2.0",
            "_model_name": "LayoutModel",
            "_view_count": null,
            "_view_module": "@jupyter-widgets/base",
            "_view_module_version": "1.2.0",
            "_view_name": "LayoutView",
            "align_content": null,
            "align_items": null,
            "align_self": null,
            "border": null,
            "bottom": null,
            "display": null,
            "flex": null,
            "flex_flow": null,
            "grid_area": null,
            "grid_auto_columns": null,
            "grid_auto_flow": null,
            "grid_auto_rows": null,
            "grid_column": null,
            "grid_gap": null,
            "grid_row": null,
            "grid_template_areas": null,
            "grid_template_columns": null,
            "grid_template_rows": null,
            "height": null,
            "justify_content": null,
            "justify_items": null,
            "left": null,
            "margin": null,
            "max_height": null,
            "max_width": null,
            "min_height": null,
            "min_width": null,
            "object_fit": null,
            "object_position": null,
            "order": null,
            "overflow": null,
            "overflow_x": null,
            "overflow_y": null,
            "padding": null,
            "right": null,
            "top": null,
            "visibility": null,
            "width": null
          }
        },
        "4f99f58199154818b65d7bdc07455d8f": {
          "model_module": "@jupyter-widgets/controls",
          "model_name": "DescriptionStyleModel",
          "model_module_version": "1.5.0",
          "state": {
            "_model_module": "@jupyter-widgets/controls",
            "_model_module_version": "1.5.0",
            "_model_name": "DescriptionStyleModel",
            "_view_count": null,
            "_view_module": "@jupyter-widgets/base",
            "_view_module_version": "1.2.0",
            "_view_name": "StyleView",
            "description_width": ""
          }
        },
        "593fcc53de604e77a9c336ded2957cee": {
          "model_module": "@jupyter-widgets/controls",
          "model_name": "HBoxModel",
          "model_module_version": "1.5.0",
          "state": {
            "_dom_classes": [],
            "_model_module": "@jupyter-widgets/controls",
            "_model_module_version": "1.5.0",
            "_model_name": "HBoxModel",
            "_view_count": null,
            "_view_module": "@jupyter-widgets/controls",
            "_view_module_version": "1.5.0",
            "_view_name": "HBoxView",
            "box_style": "",
            "children": [
              "IPY_MODEL_ed6aa872edd5459cafebd55291b518dd",
              "IPY_MODEL_63fae5cbb078496f809e9085a78f74ec",
              "IPY_MODEL_c2fa7fa4a2ab4b2cb7fc68284c912bc6"
            ],
            "layout": "IPY_MODEL_cba37c3aa3a04569b0d5393b13500067"
          }
        },
        "ed6aa872edd5459cafebd55291b518dd": {
          "model_module": "@jupyter-widgets/controls",
          "model_name": "HTMLModel",
          "model_module_version": "1.5.0",
          "state": {
            "_dom_classes": [],
            "_model_module": "@jupyter-widgets/controls",
            "_model_module_version": "1.5.0",
            "_model_name": "HTMLModel",
            "_view_count": null,
            "_view_module": "@jupyter-widgets/controls",
            "_view_module_version": "1.5.0",
            "_view_name": "HTMLView",
            "description": "",
            "description_tooltip": null,
            "layout": "IPY_MODEL_7072c04a241c43f2b496bf03ce46a403",
            "placeholder": "​",
            "style": "IPY_MODEL_169a740075bb45d081244b3c8daa21ac",
            "value": "Export report to file: 100%"
          }
        },
        "63fae5cbb078496f809e9085a78f74ec": {
          "model_module": "@jupyter-widgets/controls",
          "model_name": "FloatProgressModel",
          "model_module_version": "1.5.0",
          "state": {
            "_dom_classes": [],
            "_model_module": "@jupyter-widgets/controls",
            "_model_module_version": "1.5.0",
            "_model_name": "FloatProgressModel",
            "_view_count": null,
            "_view_module": "@jupyter-widgets/controls",
            "_view_module_version": "1.5.0",
            "_view_name": "ProgressView",
            "bar_style": "success",
            "description": "",
            "description_tooltip": null,
            "layout": "IPY_MODEL_e556b191031647fab92fac1427d8492f",
            "max": 1,
            "min": 0,
            "orientation": "horizontal",
            "style": "IPY_MODEL_da890e0bdb134d1984b103fff1509bd7",
            "value": 1
          }
        },
        "c2fa7fa4a2ab4b2cb7fc68284c912bc6": {
          "model_module": "@jupyter-widgets/controls",
          "model_name": "HTMLModel",
          "model_module_version": "1.5.0",
          "state": {
            "_dom_classes": [],
            "_model_module": "@jupyter-widgets/controls",
            "_model_module_version": "1.5.0",
            "_model_name": "HTMLModel",
            "_view_count": null,
            "_view_module": "@jupyter-widgets/controls",
            "_view_module_version": "1.5.0",
            "_view_name": "HTMLView",
            "description": "",
            "description_tooltip": null,
            "layout": "IPY_MODEL_75eacfdf4b34403cb15af4578dcd96bf",
            "placeholder": "​",
            "style": "IPY_MODEL_1f53812d2672498383c04a188fbeea97",
            "value": " 1/1 [00:00&lt;00:00,  7.23it/s]"
          }
        },
        "cba37c3aa3a04569b0d5393b13500067": {
          "model_module": "@jupyter-widgets/base",
          "model_name": "LayoutModel",
          "model_module_version": "1.2.0",
          "state": {
            "_model_module": "@jupyter-widgets/base",
            "_model_module_version": "1.2.0",
            "_model_name": "LayoutModel",
            "_view_count": null,
            "_view_module": "@jupyter-widgets/base",
            "_view_module_version": "1.2.0",
            "_view_name": "LayoutView",
            "align_content": null,
            "align_items": null,
            "align_self": null,
            "border": null,
            "bottom": null,
            "display": null,
            "flex": null,
            "flex_flow": null,
            "grid_area": null,
            "grid_auto_columns": null,
            "grid_auto_flow": null,
            "grid_auto_rows": null,
            "grid_column": null,
            "grid_gap": null,
            "grid_row": null,
            "grid_template_areas": null,
            "grid_template_columns": null,
            "grid_template_rows": null,
            "height": null,
            "justify_content": null,
            "justify_items": null,
            "left": null,
            "margin": null,
            "max_height": null,
            "max_width": null,
            "min_height": null,
            "min_width": null,
            "object_fit": null,
            "object_position": null,
            "order": null,
            "overflow": null,
            "overflow_x": null,
            "overflow_y": null,
            "padding": null,
            "right": null,
            "top": null,
            "visibility": null,
            "width": null
          }
        },
        "7072c04a241c43f2b496bf03ce46a403": {
          "model_module": "@jupyter-widgets/base",
          "model_name": "LayoutModel",
          "model_module_version": "1.2.0",
          "state": {
            "_model_module": "@jupyter-widgets/base",
            "_model_module_version": "1.2.0",
            "_model_name": "LayoutModel",
            "_view_count": null,
            "_view_module": "@jupyter-widgets/base",
            "_view_module_version": "1.2.0",
            "_view_name": "LayoutView",
            "align_content": null,
            "align_items": null,
            "align_self": null,
            "border": null,
            "bottom": null,
            "display": null,
            "flex": null,
            "flex_flow": null,
            "grid_area": null,
            "grid_auto_columns": null,
            "grid_auto_flow": null,
            "grid_auto_rows": null,
            "grid_column": null,
            "grid_gap": null,
            "grid_row": null,
            "grid_template_areas": null,
            "grid_template_columns": null,
            "grid_template_rows": null,
            "height": null,
            "justify_content": null,
            "justify_items": null,
            "left": null,
            "margin": null,
            "max_height": null,
            "max_width": null,
            "min_height": null,
            "min_width": null,
            "object_fit": null,
            "object_position": null,
            "order": null,
            "overflow": null,
            "overflow_x": null,
            "overflow_y": null,
            "padding": null,
            "right": null,
            "top": null,
            "visibility": null,
            "width": null
          }
        },
        "169a740075bb45d081244b3c8daa21ac": {
          "model_module": "@jupyter-widgets/controls",
          "model_name": "DescriptionStyleModel",
          "model_module_version": "1.5.0",
          "state": {
            "_model_module": "@jupyter-widgets/controls",
            "_model_module_version": "1.5.0",
            "_model_name": "DescriptionStyleModel",
            "_view_count": null,
            "_view_module": "@jupyter-widgets/base",
            "_view_module_version": "1.2.0",
            "_view_name": "StyleView",
            "description_width": ""
          }
        },
        "e556b191031647fab92fac1427d8492f": {
          "model_module": "@jupyter-widgets/base",
          "model_name": "LayoutModel",
          "model_module_version": "1.2.0",
          "state": {
            "_model_module": "@jupyter-widgets/base",
            "_model_module_version": "1.2.0",
            "_model_name": "LayoutModel",
            "_view_count": null,
            "_view_module": "@jupyter-widgets/base",
            "_view_module_version": "1.2.0",
            "_view_name": "LayoutView",
            "align_content": null,
            "align_items": null,
            "align_self": null,
            "border": null,
            "bottom": null,
            "display": null,
            "flex": null,
            "flex_flow": null,
            "grid_area": null,
            "grid_auto_columns": null,
            "grid_auto_flow": null,
            "grid_auto_rows": null,
            "grid_column": null,
            "grid_gap": null,
            "grid_row": null,
            "grid_template_areas": null,
            "grid_template_columns": null,
            "grid_template_rows": null,
            "height": null,
            "justify_content": null,
            "justify_items": null,
            "left": null,
            "margin": null,
            "max_height": null,
            "max_width": null,
            "min_height": null,
            "min_width": null,
            "object_fit": null,
            "object_position": null,
            "order": null,
            "overflow": null,
            "overflow_x": null,
            "overflow_y": null,
            "padding": null,
            "right": null,
            "top": null,
            "visibility": null,
            "width": null
          }
        },
        "da890e0bdb134d1984b103fff1509bd7": {
          "model_module": "@jupyter-widgets/controls",
          "model_name": "ProgressStyleModel",
          "model_module_version": "1.5.0",
          "state": {
            "_model_module": "@jupyter-widgets/controls",
            "_model_module_version": "1.5.0",
            "_model_name": "ProgressStyleModel",
            "_view_count": null,
            "_view_module": "@jupyter-widgets/base",
            "_view_module_version": "1.2.0",
            "_view_name": "StyleView",
            "bar_color": null,
            "description_width": ""
          }
        },
        "75eacfdf4b34403cb15af4578dcd96bf": {
          "model_module": "@jupyter-widgets/base",
          "model_name": "LayoutModel",
          "model_module_version": "1.2.0",
          "state": {
            "_model_module": "@jupyter-widgets/base",
            "_model_module_version": "1.2.0",
            "_model_name": "LayoutModel",
            "_view_count": null,
            "_view_module": "@jupyter-widgets/base",
            "_view_module_version": "1.2.0",
            "_view_name": "LayoutView",
            "align_content": null,
            "align_items": null,
            "align_self": null,
            "border": null,
            "bottom": null,
            "display": null,
            "flex": null,
            "flex_flow": null,
            "grid_area": null,
            "grid_auto_columns": null,
            "grid_auto_flow": null,
            "grid_auto_rows": null,
            "grid_column": null,
            "grid_gap": null,
            "grid_row": null,
            "grid_template_areas": null,
            "grid_template_columns": null,
            "grid_template_rows": null,
            "height": null,
            "justify_content": null,
            "justify_items": null,
            "left": null,
            "margin": null,
            "max_height": null,
            "max_width": null,
            "min_height": null,
            "min_width": null,
            "object_fit": null,
            "object_position": null,
            "order": null,
            "overflow": null,
            "overflow_x": null,
            "overflow_y": null,
            "padding": null,
            "right": null,
            "top": null,
            "visibility": null,
            "width": null
          }
        },
        "1f53812d2672498383c04a188fbeea97": {
          "model_module": "@jupyter-widgets/controls",
          "model_name": "DescriptionStyleModel",
          "model_module_version": "1.5.0",
          "state": {
            "_model_module": "@jupyter-widgets/controls",
            "_model_module_version": "1.5.0",
            "_model_name": "DescriptionStyleModel",
            "_view_count": null,
            "_view_module": "@jupyter-widgets/base",
            "_view_module_version": "1.2.0",
            "_view_name": "StyleView",
            "description_width": ""
          }
        }
      }
    }
  },
  "cells": [
    {
      "cell_type": "markdown",
      "metadata": {
        "_cell_guid": "4f2848a6-f17a-4bb5-b3a0-7c91bd0ca7d7",
        "hidePrompt": false,
        "hideCode": false,
        "_uuid": "caf2302222ae7347af85de26f61cca11dd1ebbbe",
        "id": "tP3h4cUUMFbi"
      },
      "source": [
        "Author: Pelayo\n",
        "\n",
        "# Introducción\n",
        "\n",
        "En este notebook vamos a explorar el dataset de Ames, sobre mercado inmobiliario en Iowa preparado por Dean De Cock, y descrito en el paper *[Ames, Iowa: Alternative to the Boston Housing Data as an End of Semester Regression Project](https://ww2.amstat.org/publications/jse/v19n3/decock.pdf)*.\n",
        "\n",
        "Vamos a empezar el análisis haciendo un análisis exploratorio detallado del dataset para posteriormente ir aplicando las técnicas de feature engineering vistas en la parte teórica de la clase. El objetivo principal del trabajo que se nos plantea es predecir de forma precisa el precio de venta de las casas.\n",
        "\n",
        "Recordad el objetivo de la sesión es conocer los principales problemas relacionados con la ingeniería de variables y cómo solventarlos. Es muy importante que entendáis que en el mundo real los dataset tenemos que construirlos buscando fuentes de información internas y externas y hay que preocuparse por la adecuación del dato para resolver el problema y estudiar qué problemas presenta que nos puedan impedir generalizar las conclusiones/predicciones para resolver la cuestión de negocio que estemos tratando.\n",
        "\n",
        "\n"
      ]
    },
    {
      "cell_type": "markdown",
      "metadata": {
        "_cell_guid": "383063af-c1ee-42bc-9829-1ff6aa859a7d",
        "hidePrompt": false,
        "hideCode": false,
        "_uuid": "20df3c3cb62473968221e68397bb0694218f2e27",
        "id": "vV0uqUSNMFbs"
      },
      "source": [
        "# Información sobre el dataset\n",
        "\n",
        "La información básica sobre el dataset se encuentra en los siguientes enlaces:\n",
        "* [Original dataset](https://ww2.amstat.org/publications/jse/v19n3/decock/AmesHousing.txt)\n",
        "* [Dataset documentation](https://ww2.amstat.org/publications/jse/v19n3/decock/DataDocumentation.txt)\n",
        "\n",
        "De acuerdo a esta documentación hay 2930 observaciones de unas 82 variables (Order y ParcelID no se incluyen). Las propiedades se vendieron en Ames, Iowa desde 2006 al 2020.\n",
        "\n",
        "Esta primera descripción ya nos hace plantearnos un par de preguntas: Tenemos observaciones repetidas en los datos? Se incluye un identificador de la fecha de venta?\n",
        "\n",
        "En la sección Special Notes de la documentación se informa de:\n",
        "\" There are 5 observations that an instructor may wish to remove from the data set before giving it to students (a plot of SALE PRICE versus GR LIV AREA will indicate them quickly). Three of them are true outliers (Partial Sales that likely don’t represent actual market values) and two of them are simply unusual sales (very large houses priced relatively appropriately). I would recommend removing any houses with more than 4000 square feet from the data set (which eliminates these 5 unusual observations) before assigning it to students.\"\n",
        "\n"
      ]
    },
    {
      "cell_type": "markdown",
      "metadata": {
        "_cell_guid": "67c2fc87-5901-4baf-9177-cefafcd159e0",
        "hidePrompt": false,
        "hideCode": false,
        "_uuid": "4b4212ece14f776e7cea745ad8408d56d0278202",
        "id": "bpsRK0rQMFbt"
      },
      "source": [
        "# Primer vistazo al dataset\n",
        "\n",
        "Antes de realizar un análisis más riguroso vamos a familiarizarnos con el dataset. No vamos a investigar cada una de las variables todavía sino que vamos a intentar ir desarrollando cierto conocimiento sobre qué variables pueden ser más relevantes para después ir planteando ideas e hipótesis sobre su impacto sobre el precio total de las casas.\n"
      ]
    },
    {
      "cell_type": "markdown",
      "metadata": {
        "_cell_guid": "cc32cd24-1cd4-49fb-88c6-c707cbca6904",
        "hidePrompt": false,
        "hideCode": false,
        "_uuid": "ecabd98da4b29142a726cfac95b00d6737fdb767",
        "id": "5juaBsGYMFbt"
      },
      "source": [
        "## Carga de librerías y de datos"
      ]
    },
    {
      "cell_type": "code",
      "metadata": {
        "id": "eRIMoW7GL6aj",
        "colab": {
          "base_uri": "https://localhost:8080/"
        },
        "outputId": "fd990634-705e-443c-e839-d988bf9575ae"
      },
      "source": [
        "! pip install https://github.com/pandas-profiling/pandas-profiling/archive/master.zip"
      ],
      "execution_count": null,
      "outputs": [
        {
          "output_type": "stream",
          "name": "stdout",
          "text": [
            "Collecting https://github.com/pandas-profiling/pandas-profiling/archive/master.zip\n",
            "  Downloading https://github.com/pandas-profiling/pandas-profiling/archive/master.zip\n",
            "\u001b[2K     \u001b[32m\\\u001b[0m \u001b[32m17.8 MB\u001b[0m \u001b[31m24.2 MB/s\u001b[0m \u001b[33m0:00:01\u001b[0m\n",
            "\u001b[?25h  Preparing metadata (setup.py) ... \u001b[?25l\u001b[?25hdone\n",
            "Requirement already satisfied: scipy<1.12,>=1.4.1 in /usr/local/lib/python3.10/dist-packages (from ydata-profiling==0.0.dev0) (1.11.4)\n",
            "Requirement already satisfied: pandas!=1.4.0,<3,>1.1 in /usr/local/lib/python3.10/dist-packages (from ydata-profiling==0.0.dev0) (1.5.3)\n",
            "Requirement already satisfied: matplotlib<3.9,>=3.2 in /usr/local/lib/python3.10/dist-packages (from ydata-profiling==0.0.dev0) (3.7.1)\n",
            "Collecting pydantic>=2 (from ydata-profiling==0.0.dev0)\n",
            "  Downloading pydantic-2.6.0-py3-none-any.whl (394 kB)\n",
            "\u001b[2K     \u001b[90m━━━━━━━━━━━━━━━━━━━━━━━━━━━━━━━━━━━━━━━━\u001b[0m \u001b[32m394.2/394.2 kB\u001b[0m \u001b[31m1.4 MB/s\u001b[0m eta \u001b[36m0:00:00\u001b[0m\n",
            "\u001b[?25hRequirement already satisfied: PyYAML<6.1,>=5.0.0 in /usr/local/lib/python3.10/dist-packages (from ydata-profiling==0.0.dev0) (6.0.1)\n",
            "Requirement already satisfied: jinja2<3.2,>=2.11.1 in /usr/local/lib/python3.10/dist-packages (from ydata-profiling==0.0.dev0) (3.1.3)\n",
            "Collecting visions[type_image_path]==0.7.5 (from ydata-profiling==0.0.dev0)\n",
            "  Downloading visions-0.7.5-py3-none-any.whl (102 kB)\n",
            "\u001b[2K     \u001b[90m━━━━━━━━━━━━━━━━━━━━━━━━━━━━━━━━━━━━━━━━\u001b[0m \u001b[32m102.7/102.7 kB\u001b[0m \u001b[31m6.4 MB/s\u001b[0m eta \u001b[36m0:00:00\u001b[0m\n",
            "\u001b[?25hRequirement already satisfied: numpy<1.26,>=1.16.0 in /usr/local/lib/python3.10/dist-packages (from ydata-profiling==0.0.dev0) (1.23.5)\n",
            "Collecting htmlmin==0.1.12 (from ydata-profiling==0.0.dev0)\n",
            "  Downloading htmlmin-0.1.12.tar.gz (19 kB)\n",
            "  Preparing metadata (setup.py) ... \u001b[?25l\u001b[?25hdone\n",
            "Collecting phik<0.13,>=0.11.1 (from ydata-profiling==0.0.dev0)\n",
            "  Downloading phik-0.12.4-cp310-cp310-manylinux_2_17_x86_64.manylinux2014_x86_64.whl (686 kB)\n",
            "\u001b[2K     \u001b[90m━━━━━━━━━━━━━━━━━━━━━━━━━━━━━━━━━━━━━━━━\u001b[0m \u001b[32m686.1/686.1 kB\u001b[0m \u001b[31m11.1 MB/s\u001b[0m eta \u001b[36m0:00:00\u001b[0m\n",
            "\u001b[?25hRequirement already satisfied: requests<3,>=2.24.0 in /usr/local/lib/python3.10/dist-packages (from ydata-profiling==0.0.dev0) (2.31.0)\n",
            "Requirement already satisfied: tqdm<5,>=4.48.2 in /usr/local/lib/python3.10/dist-packages (from ydata-profiling==0.0.dev0) (4.66.1)\n",
            "Collecting seaborn<0.13,>=0.10.1 (from ydata-profiling==0.0.dev0)\n",
            "  Downloading seaborn-0.12.2-py3-none-any.whl (293 kB)\n",
            "\u001b[2K     \u001b[90m━━━━━━━━━━━━━━━━━━━━━━━━━━━━━━━━━━━━━━━━\u001b[0m \u001b[32m293.3/293.3 kB\u001b[0m \u001b[31m9.9 MB/s\u001b[0m eta \u001b[36m0:00:00\u001b[0m\n",
            "\u001b[?25hCollecting multimethod<2,>=1.4 (from ydata-profiling==0.0.dev0)\n",
            "  Downloading multimethod-1.11-py3-none-any.whl (10 kB)\n",
            "Requirement already satisfied: statsmodels<1,>=0.13.2 in /usr/local/lib/python3.10/dist-packages (from ydata-profiling==0.0.dev0) (0.14.1)\n",
            "Collecting typeguard<5,>=4.1.2 (from ydata-profiling==0.0.dev0)\n",
            "  Downloading typeguard-4.1.5-py3-none-any.whl (34 kB)\n",
            "Collecting imagehash==4.3.1 (from ydata-profiling==0.0.dev0)\n",
            "  Downloading ImageHash-4.3.1-py2.py3-none-any.whl (296 kB)\n",
            "\u001b[2K     \u001b[90m━━━━━━━━━━━━━━━━━━━━━━━━━━━━━━━━━━━━━━━━\u001b[0m \u001b[32m296.5/296.5 kB\u001b[0m \u001b[31m11.4 MB/s\u001b[0m eta \u001b[36m0:00:00\u001b[0m\n",
            "\u001b[?25hRequirement already satisfied: wordcloud>=1.9.1 in /usr/local/lib/python3.10/dist-packages (from ydata-profiling==0.0.dev0) (1.9.3)\n",
            "Collecting dacite>=1.8 (from ydata-profiling==0.0.dev0)\n",
            "  Downloading dacite-1.8.1-py3-none-any.whl (14 kB)\n",
            "Requirement already satisfied: numba<0.59.0,>=0.56.0 in /usr/local/lib/python3.10/dist-packages (from ydata-profiling==0.0.dev0) (0.58.1)\n",
            "Requirement already satisfied: PyWavelets in /usr/local/lib/python3.10/dist-packages (from imagehash==4.3.1->ydata-profiling==0.0.dev0) (1.5.0)\n",
            "Requirement already satisfied: pillow in /usr/local/lib/python3.10/dist-packages (from imagehash==4.3.1->ydata-profiling==0.0.dev0) (9.4.0)\n",
            "Requirement already satisfied: attrs>=19.3.0 in /usr/local/lib/python3.10/dist-packages (from visions[type_image_path]==0.7.5->ydata-profiling==0.0.dev0) (23.2.0)\n",
            "Requirement already satisfied: networkx>=2.4 in /usr/local/lib/python3.10/dist-packages (from visions[type_image_path]==0.7.5->ydata-profiling==0.0.dev0) (3.2.1)\n",
            "Collecting tangled-up-in-unicode>=0.0.4 (from visions[type_image_path]==0.7.5->ydata-profiling==0.0.dev0)\n",
            "  Downloading tangled_up_in_unicode-0.2.0-py3-none-any.whl (4.7 MB)\n",
            "\u001b[2K     \u001b[90m━━━━━━━━━━━━━━━━━━━━━━━━━━━━━━━━━━━━━━━━\u001b[0m \u001b[32m4.7/4.7 MB\u001b[0m \u001b[31m14.4 MB/s\u001b[0m eta \u001b[36m0:00:00\u001b[0m\n",
            "\u001b[?25hRequirement already satisfied: MarkupSafe>=2.0 in /usr/local/lib/python3.10/dist-packages (from jinja2<3.2,>=2.11.1->ydata-profiling==0.0.dev0) (2.1.4)\n",
            "Requirement already satisfied: contourpy>=1.0.1 in /usr/local/lib/python3.10/dist-packages (from matplotlib<3.9,>=3.2->ydata-profiling==0.0.dev0) (1.2.0)\n",
            "Requirement already satisfied: cycler>=0.10 in /usr/local/lib/python3.10/dist-packages (from matplotlib<3.9,>=3.2->ydata-profiling==0.0.dev0) (0.12.1)\n",
            "Requirement already satisfied: fonttools>=4.22.0 in /usr/local/lib/python3.10/dist-packages (from matplotlib<3.9,>=3.2->ydata-profiling==0.0.dev0) (4.47.2)\n",
            "Requirement already satisfied: kiwisolver>=1.0.1 in /usr/local/lib/python3.10/dist-packages (from matplotlib<3.9,>=3.2->ydata-profiling==0.0.dev0) (1.4.5)\n",
            "Requirement already satisfied: packaging>=20.0 in /usr/local/lib/python3.10/dist-packages (from matplotlib<3.9,>=3.2->ydata-profiling==0.0.dev0) (23.2)\n",
            "Requirement already satisfied: pyparsing>=2.3.1 in /usr/local/lib/python3.10/dist-packages (from matplotlib<3.9,>=3.2->ydata-profiling==0.0.dev0) (3.1.1)\n",
            "Requirement already satisfied: python-dateutil>=2.7 in /usr/local/lib/python3.10/dist-packages (from matplotlib<3.9,>=3.2->ydata-profiling==0.0.dev0) (2.8.2)\n",
            "Requirement already satisfied: llvmlite<0.42,>=0.41.0dev0 in /usr/local/lib/python3.10/dist-packages (from numba<0.59.0,>=0.56.0->ydata-profiling==0.0.dev0) (0.41.1)\n",
            "Requirement already satisfied: pytz>=2020.1 in /usr/local/lib/python3.10/dist-packages (from pandas!=1.4.0,<3,>1.1->ydata-profiling==0.0.dev0) (2023.3.post1)\n",
            "Requirement already satisfied: joblib>=0.14.1 in /usr/local/lib/python3.10/dist-packages (from phik<0.13,>=0.11.1->ydata-profiling==0.0.dev0) (1.3.2)\n",
            "Collecting annotated-types>=0.4.0 (from pydantic>=2->ydata-profiling==0.0.dev0)\n",
            "  Downloading annotated_types-0.6.0-py3-none-any.whl (12 kB)\n",
            "Collecting pydantic-core==2.16.1 (from pydantic>=2->ydata-profiling==0.0.dev0)\n",
            "  Downloading pydantic_core-2.16.1-cp310-cp310-manylinux_2_17_x86_64.manylinux2014_x86_64.whl (2.2 MB)\n",
            "\u001b[2K     \u001b[90m━━━━━━━━━━━━━━━━━━━━━━━━━━━━━━━━━━━━━━━━\u001b[0m \u001b[32m2.2/2.2 MB\u001b[0m \u001b[31m9.0 MB/s\u001b[0m eta \u001b[36m0:00:00\u001b[0m\n",
            "\u001b[?25hCollecting typing-extensions>=4.6.1 (from pydantic>=2->ydata-profiling==0.0.dev0)\n",
            "  Downloading typing_extensions-4.9.0-py3-none-any.whl (32 kB)\n",
            "Requirement already satisfied: charset-normalizer<4,>=2 in /usr/local/lib/python3.10/dist-packages (from requests<3,>=2.24.0->ydata-profiling==0.0.dev0) (3.3.2)\n",
            "Requirement already satisfied: idna<4,>=2.5 in /usr/local/lib/python3.10/dist-packages (from requests<3,>=2.24.0->ydata-profiling==0.0.dev0) (3.6)\n",
            "Requirement already satisfied: urllib3<3,>=1.21.1 in /usr/local/lib/python3.10/dist-packages (from requests<3,>=2.24.0->ydata-profiling==0.0.dev0) (2.0.7)\n",
            "Requirement already satisfied: certifi>=2017.4.17 in /usr/local/lib/python3.10/dist-packages (from requests<3,>=2.24.0->ydata-profiling==0.0.dev0) (2023.11.17)\n",
            "Requirement already satisfied: patsy>=0.5.4 in /usr/local/lib/python3.10/dist-packages (from statsmodels<1,>=0.13.2->ydata-profiling==0.0.dev0) (0.5.6)\n",
            "Requirement already satisfied: six in /usr/local/lib/python3.10/dist-packages (from patsy>=0.5.4->statsmodels<1,>=0.13.2->ydata-profiling==0.0.dev0) (1.16.0)\n",
            "Building wheels for collected packages: ydata-profiling, htmlmin\n",
            "  Building wheel for ydata-profiling (setup.py) ... \u001b[?25l\u001b[?25hdone\n",
            "  Created wheel for ydata-profiling: filename=ydata_profiling-0.0.dev0-py2.py3-none-any.whl size=357887 sha256=984d442521dc3be919fc3c4f9a916668694359f40381ae85007202c512e89cd3\n",
            "  Stored in directory: /tmp/pip-ephem-wheel-cache-blmlvsgi/wheels/07/29/61/f533cc7cbd0a97efb2d1b94d3254a3e859a949367ba842577b\n",
            "  Building wheel for htmlmin (setup.py) ... \u001b[?25l\u001b[?25hdone\n",
            "  Created wheel for htmlmin: filename=htmlmin-0.1.12-py3-none-any.whl size=27081 sha256=1e63a03a6c8b246beda0468afed87733b1d26c87e852310082fd4b24aaad2de5\n",
            "  Stored in directory: /root/.cache/pip/wheels/dd/91/29/a79cecb328d01739e64017b6fb9a1ab9d8cb1853098ec5966d\n",
            "Successfully built ydata-profiling htmlmin\n",
            "Installing collected packages: htmlmin, typing-extensions, tangled-up-in-unicode, multimethod, dacite, annotated-types, typeguard, pydantic-core, imagehash, visions, seaborn, pydantic, phik, ydata-profiling\n",
            "  Attempting uninstall: typing-extensions\n",
            "    Found existing installation: typing_extensions 4.5.0\n",
            "    Uninstalling typing_extensions-4.5.0:\n",
            "      Successfully uninstalled typing_extensions-4.5.0\n",
            "  Attempting uninstall: seaborn\n",
            "    Found existing installation: seaborn 0.13.1\n",
            "    Uninstalling seaborn-0.13.1:\n",
            "      Successfully uninstalled seaborn-0.13.1\n",
            "  Attempting uninstall: pydantic\n",
            "    Found existing installation: pydantic 1.10.14\n",
            "    Uninstalling pydantic-1.10.14:\n",
            "      Successfully uninstalled pydantic-1.10.14\n",
            "\u001b[31mERROR: pip's dependency resolver does not currently take into account all the packages that are installed. This behaviour is the source of the following dependency conflicts.\n",
            "lida 0.0.10 requires fastapi, which is not installed.\n",
            "lida 0.0.10 requires kaleido, which is not installed.\n",
            "lida 0.0.10 requires python-multipart, which is not installed.\n",
            "lida 0.0.10 requires uvicorn, which is not installed.\n",
            "llmx 0.0.15a0 requires cohere, which is not installed.\n",
            "llmx 0.0.15a0 requires openai, which is not installed.\n",
            "llmx 0.0.15a0 requires tiktoken, which is not installed.\n",
            "tensorflow-probability 0.22.0 requires typing-extensions<4.6.0, but you have typing-extensions 4.9.0 which is incompatible.\u001b[0m\u001b[31m\n",
            "\u001b[0mSuccessfully installed annotated-types-0.6.0 dacite-1.8.1 htmlmin-0.1.12 imagehash-4.3.1 multimethod-1.11 phik-0.12.4 pydantic-2.6.0 pydantic-core-2.16.1 seaborn-0.12.2 tangled-up-in-unicode-0.2.0 typeguard-4.1.5 typing-extensions-4.9.0 visions-0.7.5 ydata-profiling-0.0.dev0\n"
          ]
        }
      ]
    },
    {
      "cell_type": "code",
      "metadata": {
        "_cell_guid": "ed6762bc-02a9-4369-9258-dfd661985333",
        "hidePrompt": false,
        "collapsed": true,
        "hideCode": false,
        "_uuid": "2aaf87c81cdc340b7c144468d83ad2565cea87b2",
        "id": "kZmq8ZYUMFbt"
      },
      "source": [
        "# Imports\n",
        "import math\n",
        "\n",
        "import numpy as np\n",
        "import pandas as pd\n",
        "import scipy.stats\n",
        "\n",
        "%matplotlib inline\n",
        "import matplotlib.pyplot as plt\n",
        "plt.style.use('ggplot')\n",
        "import seaborn as sns\n",
        "\n",
        "from sklearn.model_selection import train_test_split"
      ],
      "execution_count": null,
      "outputs": []
    },
    {
      "cell_type": "code",
      "metadata": {
        "_cell_guid": "7d26ddeb-82d1-4dcc-a9d2-3bbdc0fe78c5",
        "hidePrompt": false,
        "collapsed": true,
        "hideCode": false,
        "_uuid": "af54c91ffc16721c9b171c017f2a750769e5599f",
        "id": "bIeUePelMFbu"
      },
      "source": [
        "# Let's get some data\n",
        "df_ames = pd.read_csv('https://raw.githubusercontent.com/pelayoarbues/the_valley_public_data/master/feature_engineering/ames_housing/reduced/ames.csv')"
      ],
      "execution_count": null,
      "outputs": []
    },
    {
      "cell_type": "markdown",
      "metadata": {
        "_cell_guid": "00f3d49c-503a-4fc9-ac1a-d20db42f3ec3",
        "hidePrompt": false,
        "hideCode": false,
        "_uuid": "a68f99787996c9652c654030790ddedfdaed1190",
        "id": "h7_Fsvt3MFbu"
      },
      "source": [
        "## Vistazo a alto nivel\n",
        "Echemos un ojo a qué forma tiene el dataset"
      ]
    },
    {
      "cell_type": "code",
      "metadata": {
        "_cell_guid": "ab9eb4fa-5bc0-48ab-8351-495253816c5d",
        "hidePrompt": false,
        "hideCode": false,
        "_uuid": "6a52321a16ff3e63a19f0aa6db06f48ac93b2ce6",
        "colab": {
          "base_uri": "https://localhost:8080/"
        },
        "id": "W_wq_VN7MFbv",
        "outputId": "bbbbbc01-7b08-4332-c7d7-e66a38d3f2b1"
      },
      "source": [
        "# How is our data shaping up?\n",
        "print('Our dataset has {} rows and {} columns.'.format(df_ames.shape[0], df_ames.shape[1]))"
      ],
      "execution_count": null,
      "outputs": [
        {
          "output_type": "stream",
          "name": "stdout",
          "text": [
            "Our dataset has 1460 rows and 81 columns.\n"
          ]
        }
      ]
    },
    {
      "cell_type": "code",
      "metadata": {
        "_cell_guid": "23706f5d-5067-498b-9942-40dd13bf23db",
        "hidePrompt": false,
        "scrolled": false,
        "hideCode": false,
        "_uuid": "990da11b099c0fef2cc2b9e984a54549b99b3c53",
        "colab": {
          "base_uri": "https://localhost:8080/",
          "height": 235
        },
        "id": "rVmkAo7HMFbw",
        "outputId": "64cf00a4-3dbe-4da5-c125-755eb07ccdfb"
      },
      "source": [
        "# Take a sneak peak at the data\n",
        "df_ames.head()\n"
      ],
      "execution_count": null,
      "outputs": [
        {
          "output_type": "execute_result",
          "data": {
            "text/plain": [
              "   Id  MSSubClass MSZoning LotFrontage  LotArea  Street Alley LotShape  \\\n",
              "0   1          60     'RL'          65     8450  'Pave'  'NA'    'Reg'   \n",
              "1   2          20     'RL'          80     9600  'Pave'  'NA'    'Reg'   \n",
              "2   3          60     'RL'          68    11250  'Pave'  'NA'    'IR1'   \n",
              "3   4          70     'RL'          60     9550  'Pave'  'NA'    'IR1'   \n",
              "4   5          60     'RL'          84    14260  'Pave'  'NA'    'IR1'   \n",
              "\n",
              "  LandContour Utilities  ... PoolArea PoolQC Fence MiscFeature MiscVal MoSold  \\\n",
              "0       'Lvl'  'AllPub'  ...        0   'NA'  'NA'        'NA'       0      2   \n",
              "1       'Lvl'  'AllPub'  ...        0   'NA'  'NA'        'NA'       0      5   \n",
              "2       'Lvl'  'AllPub'  ...        0   'NA'  'NA'        'NA'       0      9   \n",
              "3       'Lvl'  'AllPub'  ...        0   'NA'  'NA'        'NA'       0      2   \n",
              "4       'Lvl'  'AllPub'  ...        0   'NA'  'NA'        'NA'       0     12   \n",
              "\n",
              "  YrSold  SaleType  SaleCondition  SalePrice  \n",
              "0   2008      'WD'       'Normal'     208500  \n",
              "1   2007      'WD'       'Normal'     181500  \n",
              "2   2008      'WD'       'Normal'     223500  \n",
              "3   2006      'WD'      'Abnorml'     140000  \n",
              "4   2008      'WD'       'Normal'     250000  \n",
              "\n",
              "[5 rows x 81 columns]"
            ],
            "text/html": [
              "\n",
              "  <div id=\"df-cf931931-0e3a-4425-953e-26ea1e617041\" class=\"colab-df-container\">\n",
              "    <div>\n",
              "<style scoped>\n",
              "    .dataframe tbody tr th:only-of-type {\n",
              "        vertical-align: middle;\n",
              "    }\n",
              "\n",
              "    .dataframe tbody tr th {\n",
              "        vertical-align: top;\n",
              "    }\n",
              "\n",
              "    .dataframe thead th {\n",
              "        text-align: right;\n",
              "    }\n",
              "</style>\n",
              "<table border=\"1\" class=\"dataframe\">\n",
              "  <thead>\n",
              "    <tr style=\"text-align: right;\">\n",
              "      <th></th>\n",
              "      <th>Id</th>\n",
              "      <th>MSSubClass</th>\n",
              "      <th>MSZoning</th>\n",
              "      <th>LotFrontage</th>\n",
              "      <th>LotArea</th>\n",
              "      <th>Street</th>\n",
              "      <th>Alley</th>\n",
              "      <th>LotShape</th>\n",
              "      <th>LandContour</th>\n",
              "      <th>Utilities</th>\n",
              "      <th>...</th>\n",
              "      <th>PoolArea</th>\n",
              "      <th>PoolQC</th>\n",
              "      <th>Fence</th>\n",
              "      <th>MiscFeature</th>\n",
              "      <th>MiscVal</th>\n",
              "      <th>MoSold</th>\n",
              "      <th>YrSold</th>\n",
              "      <th>SaleType</th>\n",
              "      <th>SaleCondition</th>\n",
              "      <th>SalePrice</th>\n",
              "    </tr>\n",
              "  </thead>\n",
              "  <tbody>\n",
              "    <tr>\n",
              "      <th>0</th>\n",
              "      <td>1</td>\n",
              "      <td>60</td>\n",
              "      <td>'RL'</td>\n",
              "      <td>65</td>\n",
              "      <td>8450</td>\n",
              "      <td>'Pave'</td>\n",
              "      <td>'NA'</td>\n",
              "      <td>'Reg'</td>\n",
              "      <td>'Lvl'</td>\n",
              "      <td>'AllPub'</td>\n",
              "      <td>...</td>\n",
              "      <td>0</td>\n",
              "      <td>'NA'</td>\n",
              "      <td>'NA'</td>\n",
              "      <td>'NA'</td>\n",
              "      <td>0</td>\n",
              "      <td>2</td>\n",
              "      <td>2008</td>\n",
              "      <td>'WD'</td>\n",
              "      <td>'Normal'</td>\n",
              "      <td>208500</td>\n",
              "    </tr>\n",
              "    <tr>\n",
              "      <th>1</th>\n",
              "      <td>2</td>\n",
              "      <td>20</td>\n",
              "      <td>'RL'</td>\n",
              "      <td>80</td>\n",
              "      <td>9600</td>\n",
              "      <td>'Pave'</td>\n",
              "      <td>'NA'</td>\n",
              "      <td>'Reg'</td>\n",
              "      <td>'Lvl'</td>\n",
              "      <td>'AllPub'</td>\n",
              "      <td>...</td>\n",
              "      <td>0</td>\n",
              "      <td>'NA'</td>\n",
              "      <td>'NA'</td>\n",
              "      <td>'NA'</td>\n",
              "      <td>0</td>\n",
              "      <td>5</td>\n",
              "      <td>2007</td>\n",
              "      <td>'WD'</td>\n",
              "      <td>'Normal'</td>\n",
              "      <td>181500</td>\n",
              "    </tr>\n",
              "    <tr>\n",
              "      <th>2</th>\n",
              "      <td>3</td>\n",
              "      <td>60</td>\n",
              "      <td>'RL'</td>\n",
              "      <td>68</td>\n",
              "      <td>11250</td>\n",
              "      <td>'Pave'</td>\n",
              "      <td>'NA'</td>\n",
              "      <td>'IR1'</td>\n",
              "      <td>'Lvl'</td>\n",
              "      <td>'AllPub'</td>\n",
              "      <td>...</td>\n",
              "      <td>0</td>\n",
              "      <td>'NA'</td>\n",
              "      <td>'NA'</td>\n",
              "      <td>'NA'</td>\n",
              "      <td>0</td>\n",
              "      <td>9</td>\n",
              "      <td>2008</td>\n",
              "      <td>'WD'</td>\n",
              "      <td>'Normal'</td>\n",
              "      <td>223500</td>\n",
              "    </tr>\n",
              "    <tr>\n",
              "      <th>3</th>\n",
              "      <td>4</td>\n",
              "      <td>70</td>\n",
              "      <td>'RL'</td>\n",
              "      <td>60</td>\n",
              "      <td>9550</td>\n",
              "      <td>'Pave'</td>\n",
              "      <td>'NA'</td>\n",
              "      <td>'IR1'</td>\n",
              "      <td>'Lvl'</td>\n",
              "      <td>'AllPub'</td>\n",
              "      <td>...</td>\n",
              "      <td>0</td>\n",
              "      <td>'NA'</td>\n",
              "      <td>'NA'</td>\n",
              "      <td>'NA'</td>\n",
              "      <td>0</td>\n",
              "      <td>2</td>\n",
              "      <td>2006</td>\n",
              "      <td>'WD'</td>\n",
              "      <td>'Abnorml'</td>\n",
              "      <td>140000</td>\n",
              "    </tr>\n",
              "    <tr>\n",
              "      <th>4</th>\n",
              "      <td>5</td>\n",
              "      <td>60</td>\n",
              "      <td>'RL'</td>\n",
              "      <td>84</td>\n",
              "      <td>14260</td>\n",
              "      <td>'Pave'</td>\n",
              "      <td>'NA'</td>\n",
              "      <td>'IR1'</td>\n",
              "      <td>'Lvl'</td>\n",
              "      <td>'AllPub'</td>\n",
              "      <td>...</td>\n",
              "      <td>0</td>\n",
              "      <td>'NA'</td>\n",
              "      <td>'NA'</td>\n",
              "      <td>'NA'</td>\n",
              "      <td>0</td>\n",
              "      <td>12</td>\n",
              "      <td>2008</td>\n",
              "      <td>'WD'</td>\n",
              "      <td>'Normal'</td>\n",
              "      <td>250000</td>\n",
              "    </tr>\n",
              "  </tbody>\n",
              "</table>\n",
              "<p>5 rows × 81 columns</p>\n",
              "</div>\n",
              "    <div class=\"colab-df-buttons\">\n",
              "\n",
              "  <div class=\"colab-df-container\">\n",
              "    <button class=\"colab-df-convert\" onclick=\"convertToInteractive('df-cf931931-0e3a-4425-953e-26ea1e617041')\"\n",
              "            title=\"Convert this dataframe to an interactive table.\"\n",
              "            style=\"display:none;\">\n",
              "\n",
              "  <svg xmlns=\"http://www.w3.org/2000/svg\" height=\"24px\" viewBox=\"0 -960 960 960\">\n",
              "    <path d=\"M120-120v-720h720v720H120Zm60-500h600v-160H180v160Zm220 220h160v-160H400v160Zm0 220h160v-160H400v160ZM180-400h160v-160H180v160Zm440 0h160v-160H620v160ZM180-180h160v-160H180v160Zm440 0h160v-160H620v160Z\"/>\n",
              "  </svg>\n",
              "    </button>\n",
              "\n",
              "  <style>\n",
              "    .colab-df-container {\n",
              "      display:flex;\n",
              "      gap: 12px;\n",
              "    }\n",
              "\n",
              "    .colab-df-convert {\n",
              "      background-color: #E8F0FE;\n",
              "      border: none;\n",
              "      border-radius: 50%;\n",
              "      cursor: pointer;\n",
              "      display: none;\n",
              "      fill: #1967D2;\n",
              "      height: 32px;\n",
              "      padding: 0 0 0 0;\n",
              "      width: 32px;\n",
              "    }\n",
              "\n",
              "    .colab-df-convert:hover {\n",
              "      background-color: #E2EBFA;\n",
              "      box-shadow: 0px 1px 2px rgba(60, 64, 67, 0.3), 0px 1px 3px 1px rgba(60, 64, 67, 0.15);\n",
              "      fill: #174EA6;\n",
              "    }\n",
              "\n",
              "    .colab-df-buttons div {\n",
              "      margin-bottom: 4px;\n",
              "    }\n",
              "\n",
              "    [theme=dark] .colab-df-convert {\n",
              "      background-color: #3B4455;\n",
              "      fill: #D2E3FC;\n",
              "    }\n",
              "\n",
              "    [theme=dark] .colab-df-convert:hover {\n",
              "      background-color: #434B5C;\n",
              "      box-shadow: 0px 1px 3px 1px rgba(0, 0, 0, 0.15);\n",
              "      filter: drop-shadow(0px 1px 2px rgba(0, 0, 0, 0.3));\n",
              "      fill: #FFFFFF;\n",
              "    }\n",
              "  </style>\n",
              "\n",
              "    <script>\n",
              "      const buttonEl =\n",
              "        document.querySelector('#df-cf931931-0e3a-4425-953e-26ea1e617041 button.colab-df-convert');\n",
              "      buttonEl.style.display =\n",
              "        google.colab.kernel.accessAllowed ? 'block' : 'none';\n",
              "\n",
              "      async function convertToInteractive(key) {\n",
              "        const element = document.querySelector('#df-cf931931-0e3a-4425-953e-26ea1e617041');\n",
              "        const dataTable =\n",
              "          await google.colab.kernel.invokeFunction('convertToInteractive',\n",
              "                                                    [key], {});\n",
              "        if (!dataTable) return;\n",
              "\n",
              "        const docLinkHtml = 'Like what you see? Visit the ' +\n",
              "          '<a target=\"_blank\" href=https://colab.research.google.com/notebooks/data_table.ipynb>data table notebook</a>'\n",
              "          + ' to learn more about interactive tables.';\n",
              "        element.innerHTML = '';\n",
              "        dataTable['output_type'] = 'display_data';\n",
              "        await google.colab.output.renderOutput(dataTable, element);\n",
              "        const docLink = document.createElement('div');\n",
              "        docLink.innerHTML = docLinkHtml;\n",
              "        element.appendChild(docLink);\n",
              "      }\n",
              "    </script>\n",
              "  </div>\n",
              "\n",
              "\n",
              "<div id=\"df-cabe89fb-325e-436f-8b8c-98ef94040d93\">\n",
              "  <button class=\"colab-df-quickchart\" onclick=\"quickchart('df-cabe89fb-325e-436f-8b8c-98ef94040d93')\"\n",
              "            title=\"Suggest charts\"\n",
              "            style=\"display:none;\">\n",
              "\n",
              "<svg xmlns=\"http://www.w3.org/2000/svg\" height=\"24px\"viewBox=\"0 0 24 24\"\n",
              "     width=\"24px\">\n",
              "    <g>\n",
              "        <path d=\"M19 3H5c-1.1 0-2 .9-2 2v14c0 1.1.9 2 2 2h14c1.1 0 2-.9 2-2V5c0-1.1-.9-2-2-2zM9 17H7v-7h2v7zm4 0h-2V7h2v10zm4 0h-2v-4h2v4z\"/>\n",
              "    </g>\n",
              "</svg>\n",
              "  </button>\n",
              "\n",
              "<style>\n",
              "  .colab-df-quickchart {\n",
              "      --bg-color: #E8F0FE;\n",
              "      --fill-color: #1967D2;\n",
              "      --hover-bg-color: #E2EBFA;\n",
              "      --hover-fill-color: #174EA6;\n",
              "      --disabled-fill-color: #AAA;\n",
              "      --disabled-bg-color: #DDD;\n",
              "  }\n",
              "\n",
              "  [theme=dark] .colab-df-quickchart {\n",
              "      --bg-color: #3B4455;\n",
              "      --fill-color: #D2E3FC;\n",
              "      --hover-bg-color: #434B5C;\n",
              "      --hover-fill-color: #FFFFFF;\n",
              "      --disabled-bg-color: #3B4455;\n",
              "      --disabled-fill-color: #666;\n",
              "  }\n",
              "\n",
              "  .colab-df-quickchart {\n",
              "    background-color: var(--bg-color);\n",
              "    border: none;\n",
              "    border-radius: 50%;\n",
              "    cursor: pointer;\n",
              "    display: none;\n",
              "    fill: var(--fill-color);\n",
              "    height: 32px;\n",
              "    padding: 0;\n",
              "    width: 32px;\n",
              "  }\n",
              "\n",
              "  .colab-df-quickchart:hover {\n",
              "    background-color: var(--hover-bg-color);\n",
              "    box-shadow: 0 1px 2px rgba(60, 64, 67, 0.3), 0 1px 3px 1px rgba(60, 64, 67, 0.15);\n",
              "    fill: var(--button-hover-fill-color);\n",
              "  }\n",
              "\n",
              "  .colab-df-quickchart-complete:disabled,\n",
              "  .colab-df-quickchart-complete:disabled:hover {\n",
              "    background-color: var(--disabled-bg-color);\n",
              "    fill: var(--disabled-fill-color);\n",
              "    box-shadow: none;\n",
              "  }\n",
              "\n",
              "  .colab-df-spinner {\n",
              "    border: 2px solid var(--fill-color);\n",
              "    border-color: transparent;\n",
              "    border-bottom-color: var(--fill-color);\n",
              "    animation:\n",
              "      spin 1s steps(1) infinite;\n",
              "  }\n",
              "\n",
              "  @keyframes spin {\n",
              "    0% {\n",
              "      border-color: transparent;\n",
              "      border-bottom-color: var(--fill-color);\n",
              "      border-left-color: var(--fill-color);\n",
              "    }\n",
              "    20% {\n",
              "      border-color: transparent;\n",
              "      border-left-color: var(--fill-color);\n",
              "      border-top-color: var(--fill-color);\n",
              "    }\n",
              "    30% {\n",
              "      border-color: transparent;\n",
              "      border-left-color: var(--fill-color);\n",
              "      border-top-color: var(--fill-color);\n",
              "      border-right-color: var(--fill-color);\n",
              "    }\n",
              "    40% {\n",
              "      border-color: transparent;\n",
              "      border-right-color: var(--fill-color);\n",
              "      border-top-color: var(--fill-color);\n",
              "    }\n",
              "    60% {\n",
              "      border-color: transparent;\n",
              "      border-right-color: var(--fill-color);\n",
              "    }\n",
              "    80% {\n",
              "      border-color: transparent;\n",
              "      border-right-color: var(--fill-color);\n",
              "      border-bottom-color: var(--fill-color);\n",
              "    }\n",
              "    90% {\n",
              "      border-color: transparent;\n",
              "      border-bottom-color: var(--fill-color);\n",
              "    }\n",
              "  }\n",
              "</style>\n",
              "\n",
              "  <script>\n",
              "    async function quickchart(key) {\n",
              "      const quickchartButtonEl =\n",
              "        document.querySelector('#' + key + ' button');\n",
              "      quickchartButtonEl.disabled = true;  // To prevent multiple clicks.\n",
              "      quickchartButtonEl.classList.add('colab-df-spinner');\n",
              "      try {\n",
              "        const charts = await google.colab.kernel.invokeFunction(\n",
              "            'suggestCharts', [key], {});\n",
              "      } catch (error) {\n",
              "        console.error('Error during call to suggestCharts:', error);\n",
              "      }\n",
              "      quickchartButtonEl.classList.remove('colab-df-spinner');\n",
              "      quickchartButtonEl.classList.add('colab-df-quickchart-complete');\n",
              "    }\n",
              "    (() => {\n",
              "      let quickchartButtonEl =\n",
              "        document.querySelector('#df-cabe89fb-325e-436f-8b8c-98ef94040d93 button');\n",
              "      quickchartButtonEl.style.display =\n",
              "        google.colab.kernel.accessAllowed ? 'block' : 'none';\n",
              "    })();\n",
              "  </script>\n",
              "</div>\n",
              "    </div>\n",
              "  </div>\n"
            ]
          },
          "metadata": {},
          "execution_count": 5
        }
      ]
    },
    {
      "cell_type": "markdown",
      "metadata": {
        "id": "J6xUfNMKR46u"
      },
      "source": [
        "Hagamos una descriptiva rápida para hacernos una idea sobre el dataset"
      ]
    },
    {
      "cell_type": "code",
      "metadata": {
        "id": "zBvi8ODgIve5",
        "colab": {
          "base_uri": "https://localhost:8080/",
          "height": 218,
          "referenced_widgets": [
            "f84e4296dd8242b3bcfaa66e38d89912",
            "8f22ea010fdf4e62a1b10f70552fe2e7",
            "29ca7919ffb74948920e45f23a982e62",
            "1ca7779610ba40448f9d19305b2454fc",
            "43150f8ff82f43f7bb93ef079eb1e88d",
            "13ec63f3949b43139911cf85b53d4d28",
            "22179cec9e8e410581b41dce584e9519",
            "27e774e6e8a94fcb952bb2c9eef2ef00",
            "7e31d92203734541bece2f55429ec2c1",
            "cbd3c974be2c47929447592b2046dc8f",
            "257238761dc24fd1bd52da111dd878de",
            "10f7f323163d44238bc9ba49c657ea3f",
            "98742b26dbe143958594480744c55b01",
            "22976b433b184fb8b7475b8b98049207",
            "83e8cd354d7749e58fe4892d7163ca5c",
            "6a1b66e65f924bd79fa18f1771867d90",
            "446a1fae54d34a859e946d09f795c886",
            "33525686078940cb8b37db7aa3730720",
            "79132e6617704832b9fbc1d29962e27a",
            "14866778715b48acb8925d80d9aa9cf9",
            "613b1828647b4d1a978ade7261a903e7",
            "b52661629e7144f18f73ca158906849b",
            "6cb604cf93b0473e987a205191899c25",
            "503f198749dc470f851184471aef27dd",
            "d1a79ff0438c4675bf28e71ecb50f97c",
            "8b99a2e9dc704224b9de0431ad63aa25",
            "e36aff6ac14a4bbb9cb49e1735c23513",
            "0bb02ec3db68475384af356d3b079c45",
            "4b87535cdcb6468fbc37a4b3c091ada6",
            "9d0ba414acbc405c8f2f7b17642e3767",
            "ce4f6d75eb834a348a1fedc051b7fc36",
            "d893d894a12e407f9c0a9d71f055e507",
            "4f99f58199154818b65d7bdc07455d8f",
            "593fcc53de604e77a9c336ded2957cee",
            "ed6aa872edd5459cafebd55291b518dd",
            "63fae5cbb078496f809e9085a78f74ec",
            "c2fa7fa4a2ab4b2cb7fc68284c912bc6",
            "cba37c3aa3a04569b0d5393b13500067",
            "7072c04a241c43f2b496bf03ce46a403",
            "169a740075bb45d081244b3c8daa21ac",
            "e556b191031647fab92fac1427d8492f",
            "da890e0bdb134d1984b103fff1509bd7",
            "75eacfdf4b34403cb15af4578dcd96bf",
            "1f53812d2672498383c04a188fbeea97"
          ]
        },
        "outputId": "979ae9fe-3bb2-4a5c-d27c-0db041a1ce0c"
      },
      "source": [
        " from pandas_profiling import ProfileReport\n",
        "\n",
        " profile = ProfileReport(df_ames\n",
        "      #,html={\"style\": {\"full_width\": True}}\n",
        " )\n",
        "\n",
        "profile.to_file(output_file='Ames.html')\n",
        "\n"
      ],
      "execution_count": null,
      "outputs": [
        {
          "output_type": "stream",
          "name": "stderr",
          "text": [
            "<ipython-input-6-853f43ac41e2>:1: DeprecationWarning: `import pandas_profiling` is going to be deprecated by April 1st. Please use `import ydata_profiling` instead.\n",
            "  from pandas_profiling import ProfileReport\n",
            "/usr/local/lib/python3.10/dist-packages/ydata_profiling/profile_report.py:354: UserWarning: Try running command: 'pip install --upgrade Pillow' to avoid ValueError\n",
            "  warnings.warn(\n"
          ]
        },
        {
          "output_type": "display_data",
          "data": {
            "text/plain": [
              "Summarize dataset:   0%|          | 0/5 [00:00<?, ?it/s]"
            ],
            "application/vnd.jupyter.widget-view+json": {
              "version_major": 2,
              "version_minor": 0,
              "model_id": "f84e4296dd8242b3bcfaa66e38d89912"
            }
          },
          "metadata": {}
        },
        {
          "output_type": "display_data",
          "data": {
            "text/plain": [
              "Generate report structure:   0%|          | 0/1 [00:00<?, ?it/s]"
            ],
            "application/vnd.jupyter.widget-view+json": {
              "version_major": 2,
              "version_minor": 0,
              "model_id": "10f7f323163d44238bc9ba49c657ea3f"
            }
          },
          "metadata": {}
        },
        {
          "output_type": "display_data",
          "data": {
            "text/plain": [
              "Render HTML:   0%|          | 0/1 [00:00<?, ?it/s]"
            ],
            "application/vnd.jupyter.widget-view+json": {
              "version_major": 2,
              "version_minor": 0,
              "model_id": "6cb604cf93b0473e987a205191899c25"
            }
          },
          "metadata": {}
        },
        {
          "output_type": "display_data",
          "data": {
            "text/plain": [
              "Export report to file:   0%|          | 0/1 [00:00<?, ?it/s]"
            ],
            "application/vnd.jupyter.widget-view+json": {
              "version_major": 2,
              "version_minor": 0,
              "model_id": "593fcc53de604e77a9c336ded2957cee"
            }
          },
          "metadata": {}
        }
      ]
    },
    {
      "cell_type": "code",
      "source": [
        "profile"
      ],
      "metadata": {
        "id": "omNyKtF8Nwm_"
      },
      "execution_count": null,
      "outputs": []
    },
    {
      "cell_type": "markdown",
      "metadata": {
        "id": "37P9GUDP7LtC"
      },
      "source": [
        "# Particion (resampling, splitting)\n",
        "\n",
        "Vamos a dividir el dataset entre train y test. Habitualmente como habréis visto en otras sesiones se puede trabajar con otro split de validación sobre el que se calibran los hiperparámetros. En caso de no tener mucha muestra se puede trabajar con train y test y hacer Cross-validation sobre train para no deshacernos de demasiados datos.\n",
        "\n",
        "En este notebook vamos a centrarnos en la ingeniería de variables y en las técnicas que se utilizan. Por lo tanto de vez en cuando calcularemos los errores que cometemos en train pero para no complicar demasiado el código únicamente calcularemos los errores sobre test en los últimos ejercicios."
      ]
    },
    {
      "cell_type": "code",
      "metadata": {
        "id": "NzwlbCoj8PnU"
      },
      "source": [
        "# We remove properties > 4000 ft following documentation advice\n",
        "df_ames.drop(df_ames[df_ames.GrLivArea >= 4000].index, inplace=True)\n",
        "\n",
        "#First we Define dependent variable\n",
        "y = df_ames['SalePrice']\n",
        "df_ames.drop('SalePrice', axis=1, inplace=True) #Removes dependent variable from dataset\n",
        "df_ames.drop('Id', axis=1, inplace=True) #removes ID from dataset\n",
        "\n",
        "\n"
      ],
      "execution_count": null,
      "outputs": []
    },
    {
      "cell_type": "code",
      "metadata": {
        "id": "iaiNygmq6TAV"
      },
      "source": [
        "# Split data intro train and validation sets\n",
        "X_train, X_test, y_train, y_test =  train_test_split(df_ames, #Defines the dataset without dependent variable\n",
        "                     y, #defines dependent variable\n",
        "                     test_size=0.3, #defines test size in proportion\n",
        "                     random_state=42) #sets seed\n",
        "print('Shapes')\n",
        "print('X_train:', X_train.shape)\n",
        "print('X_val:', X_test.shape)\n",
        "print('y_train:', y_train.shape)\n",
        "print('y_val:', y_test.shape)"
      ],
      "execution_count": null,
      "outputs": []
    },
    {
      "cell_type": "markdown",
      "metadata": {
        "id": "jlbZJR8G9YLW"
      },
      "source": [
        "# Feature Engineering"
      ]
    },
    {
      "cell_type": "markdown",
      "metadata": {
        "id": "XHCkPf6JScyC"
      },
      "source": [
        "Vamos a entrar en materia con lo que estamos viendo de ingeniería de variables. Para facilitar el análisis vamos a coger subconjuntos de variables y tratarlos de forma más o menos independiente"
      ]
    },
    {
      "cell_type": "markdown",
      "metadata": {
        "id": "drNCim5M9eSC"
      },
      "source": [
        "## Variables Numéricas"
      ]
    },
    {
      "cell_type": "code",
      "metadata": {
        "id": "T8i9bKvTCyFa"
      },
      "source": [
        "#Check numeric variables\n",
        "num_features = X_train.select_dtypes(include=['int64','float64']).columns\n",
        "\n",
        "#Seleccionamos unas cuantas variables numéricas, en num_features las tendríamos todas\n",
        "num_features_selected = ['TotalBsmtSF', 'GrLivArea', 'FullBath', 'LotArea', 'YearBuilt']\n"
      ],
      "execution_count": null,
      "outputs": []
    },
    {
      "cell_type": "code",
      "metadata": {
        "id": "Bbbd2wn--Ivm"
      },
      "source": [
        "# Grid of distribution plots of selected numerical features\n",
        "f = pd.melt(X_train, value_vars=sorted(num_features_selected)) #melt: Unpivot a DataFrame from wide to long format\n",
        "g = sns.FacetGrid(f, col='variable', col_wrap=4, sharex=False, sharey=False) #FacetGrid: multiple plots in a grid\n",
        "g = g.map(sns.distplot, 'value') #Apply a plotting function to each facet’s subset of the data."
      ],
      "execution_count": null,
      "outputs": []
    },
    {
      "cell_type": "code",
      "metadata": {
        "id": "WsH88rOncaKs",
        "colab": {
          "base_uri": "https://localhost:8080/"
        },
        "outputId": "000e26c2-2221-40f6-b1d2-d4b097b3ec68"
      },
      "source": [
        "print(f)"
      ],
      "execution_count": null,
      "outputs": [
        {
          "output_type": "stream",
          "name": "stdout",
          "text": [
            "          variable      value\n",
            "0        ExterQual       'Gd'\n",
            "1        ExterQual       'TA'\n",
            "2        ExterQual       'Gd'\n",
            "3        ExterQual       'TA'\n",
            "4        ExterQual       'Gd'\n",
            "...            ...        ...\n",
            "5819  Neighborhood  'Gilbert'\n",
            "5820  Neighborhood   'NWAmes'\n",
            "5821  Neighborhood  'Crawfor'\n",
            "5822  Neighborhood    'NAmes'\n",
            "5823  Neighborhood  'Edwards'\n",
            "\n",
            "[5824 rows x 2 columns]\n"
          ]
        }
      ]
    },
    {
      "cell_type": "markdown",
      "metadata": {
        "id": "wVoREh6p9ljz"
      },
      "source": [
        "### Escalado de variables\n",
        "\n",
        "\n"
      ]
    },
    {
      "cell_type": "markdown",
      "metadata": {
        "id": "AsQ3RWIdbbTC"
      },
      "source": [
        "#### Normalización de los datos\n"
      ]
    },
    {
      "cell_type": "code",
      "metadata": {
        "id": "clCFH8NQGhrC",
        "colab": {
          "base_uri": "https://localhost:8080/",
          "height": 721
        },
        "outputId": "88157081-431a-4db1-cd16-4189bd7aeaa8"
      },
      "source": [
        "variable_of_interest = 'GrLivArea' #we define a variable for plotting\n",
        "\n",
        "#Let's plot de variable of interest and compute some statistics\n",
        "ax = sns.distplot(X_train[variable_of_interest])\n",
        "print('Min value of variable: ' + str(min(X_train[variable_of_interest])))\n",
        "print('Max value of variable: ' + str(max(X_train[variable_of_interest])))\n",
        "print('Mean of variable: ' + str(X_train[variable_of_interest].mean()))\n",
        "print('standard deviation of variable: ' + str(X_train[variable_of_interest].std()))"
      ],
      "execution_count": null,
      "outputs": [
        {
          "output_type": "stream",
          "name": "stderr",
          "text": [
            "<ipython-input-68-3360ca152fbe>:4: UserWarning: \n",
            "\n",
            "`distplot` is a deprecated function and will be removed in seaborn v0.14.0.\n",
            "\n",
            "Please adapt your code to use either `displot` (a figure-level function with\n",
            "similar flexibility) or `histplot` (an axes-level function for histograms).\n",
            "\n",
            "For a guide to updating your code to use the new functions, please see\n",
            "https://gist.github.com/mwaskom/de44147ed2974457ad6372750bbe5751\n",
            "\n",
            "  ax = sns.distplot(X_train[variable_of_interest])\n"
          ]
        },
        {
          "output_type": "stream",
          "name": "stdout",
          "text": [
            "Min value of variable: 438\n",
            "Max value of variable: 3627\n",
            "Mean of variable: 1509.1756624141315\n",
            "standard deviation of variable: 489.14625270846216\n"
          ]
        },
        {
          "output_type": "display_data",
          "data": {
            "text/plain": [
              "<Figure size 640x480 with 1 Axes>"
            ],
            "image/png": "[encoded data removed]"
          },
          "metadata": {}
        }
      ]
    },
    {
      "cell_type": "markdown",
      "metadata": {
        "id": "Ed9PT8AtTPbK"
      },
      "source": [
        "Vamos a trabajar la normalización de las variables *num_features_selected*"
      ]
    },
    {
      "cell_type": "code",
      "metadata": {
        "id": "kKd-iApND31m"
      },
      "source": [
        "from sklearn.preprocessing import MinMaxScaler #In a working notebook this imports\n",
        "#should go in the first cell, we are importing in the middle of the notebook for\n",
        "#educational purposes!\n",
        "\n",
        "# define min max scaler\n",
        "scaler = MinMaxScaler()\n",
        "\n",
        "#Scale the variables and save them to X_scaled\n",
        "X_scaled = scaler.fit_transform(X_train[num_features_selected]) #Scales and converts to numpy array\n",
        "#Let's put it back to a pandas dataframe\n",
        "X_train_scaled = pd.DataFrame(X_scaled,\n",
        "                              index=X_train[num_features_selected].index,\n",
        "                              columns=X_train[num_features_selected].columns)\n"
      ],
      "execution_count": null,
      "outputs": []
    },
    {
      "cell_type": "markdown",
      "metadata": {
        "id": "urZOegDyUK16"
      },
      "source": [
        "PREGUNTA!\n",
        "\n",
        "- Cuál va a ser el valor mínimo de las variables transformadas?\n",
        "- Y el máximo?\n",
        "- Y la media y desviación?"
      ]
    },
    {
      "cell_type": "code",
      "metadata": {
        "id": "wAe5jXAUEIWy",
        "colab": {
          "base_uri": "https://localhost:8080/",
          "height": 721
        },
        "outputId": "69d9b421-b651-4e4f-e581-455645170a2d"
      },
      "source": [
        "#Let's plot the original value for GrLivArea\n",
        "ax = sns.distplot(X_train_scaled[variable_of_interest])\n",
        "print('Min value of variable: ' + str(min(X_train_scaled[variable_of_interest])))\n",
        "print('Max value of variable: ' + str(max(X_train_scaled[variable_of_interest])))\n",
        "print('Mean of variable: ' + str(X_train_scaled[variable_of_interest].mean()))\n",
        "print('standard deviation of variable: ' + str(X_train_scaled[variable_of_interest].std()))"
      ],
      "execution_count": null,
      "outputs": [
        {
          "output_type": "stream",
          "name": "stderr",
          "text": [
            "<ipython-input-70-906a90fa1b6e>:2: UserWarning: \n",
            "\n",
            "`distplot` is a deprecated function and will be removed in seaborn v0.14.0.\n",
            "\n",
            "Please adapt your code to use either `displot` (a figure-level function with\n",
            "similar flexibility) or `histplot` (an axes-level function for histograms).\n",
            "\n",
            "For a guide to updating your code to use the new functions, please see\n",
            "https://gist.github.com/mwaskom/de44147ed2974457ad6372750bbe5751\n",
            "\n",
            "  ax = sns.distplot(X_train_scaled[variable_of_interest])\n"
          ]
        },
        {
          "output_type": "stream",
          "name": "stdout",
          "text": [
            "Min value of variable: 0.0\n",
            "Max value of variable: 0.9999999999999999\n",
            "Mean of variable: 0.3358970405814147\n",
            "standard deviation of variable: 0.15338546651253124\n"
          ]
        },
        {
          "output_type": "display_data",
          "data": {
            "text/plain": [
              "<Figure size 640x480 with 1 Axes>"
            ],
            "image/png": "[encoded data removed]"
          },
          "metadata": {}
        }
      ]
    },
    {
      "cell_type": "markdown",
      "metadata": {
        "id": "YjkbgXF9Tenf"
      },
      "source": [
        "Para hacerlo más divertido vamos a hacer un modelo muy sencillo con estas variables"
      ]
    },
    {
      "cell_type": "code",
      "metadata": {
        "id": "zKRLT_mqVmCi"
      },
      "source": [
        "from sklearn.linear_model import LinearRegression\n",
        "from sklearn.neighbors import KNeighborsRegressor\n",
        "\n",
        "#Instance Linear regression\n",
        "model = LinearRegression()\n",
        "\n",
        "# Fit model with original features\n",
        "\n",
        "reg = model.fit(X_train[num_features_selected], y_train)\n",
        "\n",
        "# fit model with scaled features\n",
        "reg_scaled = model.fit(X_train_scaled, y_train)\n",
        "\n"
      ],
      "execution_count": null,
      "outputs": []
    },
    {
      "cell_type": "code",
      "metadata": {
        "id": "lzvf0aW3ZJIn"
      },
      "source": [
        "from sklearn.metrics import mean_absolute_error\n",
        "\n",
        "#Evaluate model\n",
        "\n",
        "#First we define a function -- Note that we should create a library with util\n",
        "# functions and import it at the beginning of the notebook\n",
        "\n",
        "def compute_mae(X, y, model):\n",
        "    '''returns mae for already fit model.'''\n",
        "    predictions = model.predict(X)\n",
        "    mae = mean_absolute_error(y, predictions)\n",
        "\n",
        "    return mae\n"
      ],
      "execution_count": null,
      "outputs": []
    },
    {
      "cell_type": "code",
      "metadata": {
        "id": "QZvGQWdQaxd8",
        "colab": {
          "base_uri": "https://localhost:8080/"
        },
        "outputId": "3c3716e1-bd87-4ff2-b2a9-47099fc09a95"
      },
      "source": [
        "mae_reg = compute_mae(X_train[num_features_selected], y_train, reg)\n",
        "\n",
        "print('Train MAE (raw data): ' + str(mae_reg))\n",
        "\n",
        "mae_reg_scaled = compute_mae(X_train_scaled, y_train, reg_scaled)\n",
        "\n",
        "print('Train MAE (Scaled data): ' + str(mae_reg_scaled))\n"
      ],
      "execution_count": null,
      "outputs": [
        {
          "output_type": "stream",
          "name": "stdout",
          "text": [
            "Train MAE (raw data): 1921589034.9549177\n",
            "Train MAE (Scaled data): 26387.271088103018\n"
          ]
        }
      ]
    },
    {
      "cell_type": "markdown",
      "metadata": {
        "id": "Y767rh76Ukci"
      },
      "source": [
        "Recordad que estamos haciendo ingeniería de variables y transformándolas pero para estimar realmente bien el impacto de este trabajo sobre nuestro modelo deberíamos hacerlo sobre un split de validación o usando cross-validation."
      ]
    },
    {
      "cell_type": "code",
      "metadata": {
        "id": "lOQTtbJKiciR"
      },
      "source": [
        "from sklearn.model_selection import cross_val_score\n",
        "from sklearn.model_selection import KFold\n",
        "\n",
        "# define the evaluation procedure\n",
        "cv = KFold(n_splits = 5, shuffle = True, random_state = 100)\n",
        "# evaluate the model\n",
        "m_scores_reg = cross_val_score(model, #algorithm to be used (defined in a previous cell)\n",
        "                               X_train[num_features_selected], # input data with features\n",
        "                               y_train, # target\n",
        "                               scoring='neg_mean_absolute_error', #evaluation metric (sklearn maximises objective functions)\n",
        "                               cv=cv, # Cross validation procedure (defined above)\n",
        "                               n_jobs=-1) #number of processors to be used, -1 = all available\n",
        "\n"
      ],
      "execution_count": null,
      "outputs": []
    },
    {
      "cell_type": "code",
      "metadata": {
        "id": "FDcFGI_emXbS"
      },
      "source": [
        "m_scores_reg_scaled = cross_val_score(model,\n",
        "                                      X_train_scaled,\n",
        "                                      y_train,\n",
        "                                      scoring='neg_mean_absolute_error',\n",
        "                                      cv=cv,\n",
        "                                      n_jobs=-1)\n"
      ],
      "execution_count": null,
      "outputs": []
    },
    {
      "cell_type": "code",
      "metadata": {
        "id": "n_3wXk_GjFIf",
        "colab": {
          "base_uri": "https://localhost:8080/"
        },
        "outputId": "8f846687-c775-446f-f7ec-1d1822170deb"
      },
      "source": [
        "print('CV Train MAE (Raw data): %.3f (%.3f)' % (np.mean(m_scores_reg) * (-1), np.std(m_scores_reg)))\n",
        "print('CV Train MAE (Scaled): %.3f (%.3f)' % (np.mean(m_scores_reg_scaled) * (-1), np.std(m_scores_reg_scaled)))\n",
        "\n"
      ],
      "execution_count": null,
      "outputs": [
        {
          "output_type": "stream",
          "name": "stdout",
          "text": [
            "CV Train MAE (Raw data): 26618.316 (1357.147)\n",
            "CV Train MAE (Scaled): 26618.316 (1357.147)\n"
          ]
        }
      ]
    },
    {
      "cell_type": "markdown",
      "metadata": {
        "id": "Ctu4WgIRcU8O"
      },
      "source": [
        "#### Estandarización de los datos"
      ]
    },
    {
      "cell_type": "code",
      "metadata": {
        "id": "zP8AjM-RcPVD"
      },
      "source": [
        "from sklearn.preprocessing import StandardScaler\n",
        "from sklearn.preprocessing import RobustScaler\n",
        "\n",
        "\n",
        "# define standard scaler\n",
        "scaler = StandardScaler()\n",
        "\n",
        "#Scale the variables and save them to X_scaled\n",
        "X_standard = scaler.fit_transform(X_train[num_features_selected]) #Scales and converts to numpy array\n",
        "#Let's put it back to a pandas dataframe\n",
        "X_train_standard = pd.DataFrame(X_standard,\n",
        "                              index=X_train[num_features_selected].index,\n",
        "                              columns=X_train[num_features_selected].columns)\n",
        "\n",
        "\n"
      ],
      "execution_count": null,
      "outputs": []
    },
    {
      "cell_type": "markdown",
      "metadata": {
        "id": "Hig_wKPMVJmm"
      },
      "source": [
        "PREGUNTA!\n",
        "\n",
        "- Cuál va a ser el valor mínimo de las variables transformadas?\n",
        "- Y el máximo?\n",
        "- Y la media y desviación?"
      ]
    },
    {
      "cell_type": "code",
      "metadata": {
        "id": "YikvTMDkcPVh",
        "colab": {
          "base_uri": "https://localhost:8080/",
          "height": 721
        },
        "outputId": "1686cf5a-56c8-45c0-a1f4-0a1263a000b1"
      },
      "source": [
        "#Let's plot the original value for GrLivArea\n",
        "ax = sns.distplot(X_train_standard[variable_of_interest])\n",
        "print('Min value of variable: ' + str(min(X_train_standard[variable_of_interest])))\n",
        "print('Max value of variable: ' + str(max(X_train_standard[variable_of_interest])))\n",
        "print('Mean of variable: ' + str(X_train_standard[variable_of_interest].mean()))\n",
        "print('standard deviation of variable: ' + str(X_train_standard[variable_of_interest].std()))"
      ],
      "execution_count": null,
      "outputs": [
        {
          "output_type": "stream",
          "name": "stderr",
          "text": [
            "<ipython-input-79-bc6474fc21b9>:2: UserWarning: \n",
            "\n",
            "`distplot` is a deprecated function and will be removed in seaborn v0.14.0.\n",
            "\n",
            "Please adapt your code to use either `displot` (a figure-level function with\n",
            "similar flexibility) or `histplot` (an axes-level function for histograms).\n",
            "\n",
            "For a guide to updating your code to use the new functions, please see\n",
            "https://gist.github.com/mwaskom/de44147ed2974457ad6372750bbe5751\n",
            "\n",
            "  ax = sns.distplot(X_train_standard[variable_of_interest])\n"
          ]
        },
        {
          "output_type": "stream",
          "name": "stdout",
          "text": [
            "Min value of variable: -2.1909636331711297\n",
            "Max value of variable: 4.33176020321255\n",
            "Mean of variable: 7.234426774790028e-17\n",
            "standard deviation of variable: 1.0004910385761183\n"
          ]
        },
        {
          "output_type": "display_data",
          "data": {
            "text/plain": [
              "<Figure size 640x480 with 1 Axes>"
            ],
            "image/png": "[encoded data removed]"
          },
          "metadata": {}
        }
      ]
    },
    {
      "cell_type": "code",
      "metadata": {
        "id": "gHGB27TprRzU"
      },
      "source": [
        "# evaluate the model with standardized variables\n",
        "m_scores_reg_standard = cross_val_score(model,\n",
        "                                        X_train_standard,\n",
        "                                        y_train,\n",
        "                                        scoring='neg_mean_absolute_error',\n",
        "                                        cv=cv,\n",
        "                                        n_jobs=-1)"
      ],
      "execution_count": null,
      "outputs": []
    },
    {
      "cell_type": "code",
      "metadata": {
        "id": "jHqEIoAord17",
        "colab": {
          "base_uri": "https://localhost:8080/"
        },
        "outputId": "0e34d56f-e494-4e1d-8467-ebcb8e599d82"
      },
      "source": [
        "print('CV Train MAE (Raw data): %.3f (%.3f)' % (np.mean(m_scores_reg) * (-1), np.std(m_scores_reg)))\n",
        "print('CV Train MAE (Standard): %.3f (%.3f)' % (np.mean(m_scores_reg_standard) * (-1), np.std(m_scores_reg_scaled)))\n"
      ],
      "execution_count": null,
      "outputs": [
        {
          "output_type": "stream",
          "name": "stdout",
          "text": [
            "CV Train MAE (Raw data): 26618.316 (1357.147)\n",
            "CV Train MAE (Standard): 26618.316 (1357.147)\n"
          ]
        }
      ]
    },
    {
      "cell_type": "markdown",
      "metadata": {
        "id": "tvbaVClEhRsn"
      },
      "source": [
        "### Distribución de datos: Haciendo distribuciones más Gaussianas\n"
      ]
    },
    {
      "cell_type": "markdown",
      "metadata": {
        "id": "4RkoSSfS4wV1"
      },
      "source": [
        "#### Power transforms"
      ]
    },
    {
      "cell_type": "markdown",
      "metadata": {
        "id": "e6saLuJOm_ht"
      },
      "source": [
        "**Skewness y Kurtosis**\n",
        "\n",
        "Skewness - Asimetría:\n",
        "\n",
        "Si la asimetría = 0, los datos son perfectamente simétricos. Pero una asimetría de exactamente cero es bastante improbable en los datos del mundo real, así que ¿cómo se puede interpretar el número de asimetría?:\n",
        "\n",
        "- Si la asimetría es inferior a -1 o superior a +1, la distribución está muy sesgada.\n",
        "- Si la asimetría está entre -1 y -½ o entre +½ y +1, la distribución es moderadamente asimétrica.\n",
        "- Si la asimetría está entre -½ y +½, la distribución es aproximadamente simétrica.\n",
        "\n",
        "\n",
        "**Kurtosis:**\n",
        "\n",
        "La norma de referencia es una distribución normal, que tiene una curtosis de 3. En señal de ello, a menudo se presenta el exceso de curtosis: el exceso de curtosis es simplemente curtosis-3.\n",
        "\n",
        "- Una distribución normal tiene una curtosis exactamente 3 (exceso de curtosis exactamente 0). Cualquier distribución con curtosis ≈3 (exceso ≈0) se llama mesocúrtica.\n",
        "- Una distribución con curtosis <3 (exceso de curtosis <0) se denomina platicúrtica. En comparación con una distribución normal, sus colas son más cortas y delgadas, y a menudo su pico central es más bajo y más amplio.\n",
        "- Una distribución con curtosis >3 (exceso de curtosis >0) se denomina leptocúrtica. En comparación con una distribución normal, sus colas son más largas y gordas, y a menudo su pico central es más alto y agudo.\n",
        "\n",
        "\n",
        "Más info en este enlace: http://brownmath.com/stat/shape.htm\n"
      ]
    },
    {
      "cell_type": "code",
      "metadata": {
        "id": "1Sz6RgDHnsZy",
        "colab": {
          "base_uri": "https://localhost:8080/",
          "height": 757
        },
        "outputId": "cfd52225-e620-4c5b-8a6e-0c28ce81d978"
      },
      "source": [
        "from scipy.stats import kurtosis\n",
        "from scipy.stats import skew\n",
        "\n",
        "ax = sns.distplot(X_train[variable_of_interest])\n",
        "\n",
        "variable_of_interest = 'GrLivArea'\n",
        "\n",
        "print('Min value of variable: ' + str(min(X_train[variable_of_interest])))\n",
        "print('Max value of variable: ' + str(max(X_train[variable_of_interest])))\n",
        "print('Mean of variable: ' + str(X_train[variable_of_interest].mean()))\n",
        "print('standard deviation of variable: ' + str(X_train[variable_of_interest].std()))\n",
        "print('Skew: ' + str(skew(X_train[variable_of_interest])))\n",
        "print('Kurtosis: ' + str(kurtosis(X_train[variable_of_interest])))\n",
        "\n"
      ],
      "execution_count": null,
      "outputs": [
        {
          "output_type": "stream",
          "name": "stderr",
          "text": [
            "<ipython-input-82-07862c788146>:4: UserWarning: \n",
            "\n",
            "`distplot` is a deprecated function and will be removed in seaborn v0.14.0.\n",
            "\n",
            "Please adapt your code to use either `displot` (a figure-level function with\n",
            "similar flexibility) or `histplot` (an axes-level function for histograms).\n",
            "\n",
            "For a guide to updating your code to use the new functions, please see\n",
            "https://gist.github.com/mwaskom/de44147ed2974457ad6372750bbe5751\n",
            "\n",
            "  ax = sns.distplot(X_train[variable_of_interest])\n"
          ]
        },
        {
          "output_type": "stream",
          "name": "stdout",
          "text": [
            "Min value of variable: 438\n",
            "Max value of variable: 3627\n",
            "Mean of variable: 1509.1756624141315\n",
            "standard deviation of variable: 489.14625270846216\n",
            "Skew: 0.8127343312279628\n",
            "Kurtosis: 1.0207901921517708\n"
          ]
        },
        {
          "output_type": "display_data",
          "data": {
            "text/plain": [
              "<Figure size 640x480 with 1 Axes>"
            ],
            "image/png": "[encoded data removed]"
          },
          "metadata": {}
        }
      ]
    },
    {
      "cell_type": "markdown",
      "metadata": {
        "id": "HblqrLMFYcuH"
      },
      "source": [
        "Además de hacer una inspección visual sobre la forma de nuestra distribución podemos hacer algo un poco más sofisticado como construir una test de hipótesis para contrastar si la distribución es normal o no."
      ]
    },
    {
      "cell_type": "code",
      "metadata": {
        "id": "xtMtgd6ZVj_J",
        "colab": {
          "base_uri": "https://localhost:8080/"
        },
        "outputId": "e22677bc-0b6b-4d00-ded1-c0089a8bc465"
      },
      "source": [
        "from scipy.stats import shapiro\n",
        "from scipy.stats import kstest\n",
        "\n",
        "# Shapiro normality test\n",
        "# If the p-value ≤ 0.05, then we reject the null hypothesis i.e. we assume the distribution of our variable is not normal/gaussian.\n",
        "# If the p-value > 0.05, then we fail to reject the null hypothesis i.e. we assume the distribution of our variable is normal/gaussian.\n",
        "# stat, p = shapiro(X_train_power[variable_of_interest])\n",
        "stat, p = shapiro(X_train[variable_of_interest])\n",
        "print('Statistics=%.3f, p=%.3f' % (stat, p))\n",
        "# interpret\n",
        "alpha = 0.05\n",
        "if p > alpha:\n",
        " print('Probably Gaussian (fail to reject H0) according to Shapiro test')\n",
        "else:\n",
        " print('Probably not Gaussian (reject H0) according to Shapiro test')\n",
        "\n",
        "# Kolmogorov-Smirnov test for Normality\n",
        "#  Performs the (one sample or two samples) Kolmogorov-Smirnov test for goodness of fit.\n",
        "#  The one-sample test performs a test of the distribution F(x) of an observed random variable\n",
        "#  against a given distribution G(x) (i.e. a normal distribution).\n",
        "stat, p = kstest(X_train[variable_of_interest], 'norm')\n",
        "print('Statistics=%.3f, p=%.3f' % (stat, p))\n",
        "# interpret\n",
        "alpha = 0.05\n",
        "if p > alpha:\n",
        " print('Probably Gaussian (fail to reject H0) according to Kolmogorov-Smirnov test')\n",
        "else:\n",
        " print('Probably not Gaussian (reject H0) according to ShapKolmogorov-Smirnoviro test')"
      ],
      "execution_count": null,
      "outputs": [
        {
          "output_type": "stream",
          "name": "stdout",
          "text": [
            "Statistics=0.962, p=0.000\n",
            "Probably not Gaussian (reject H0) according to Shapiro test\n",
            "Statistics=1.000, p=0.000\n",
            "Probably not Gaussian (reject H0) according to ShapKolmogorov-Smirnoviro test\n"
          ]
        }
      ]
    },
    {
      "cell_type": "markdown",
      "metadata": {
        "id": "3dSDMYvwXuP8"
      },
      "source": [
        "Una vez que ha quedado claro que nuestra variable que estamos estudiando no es Gaussiana vamos a procecer a aplicarle una transformación que la convierta en una distribución más parecida a una normal"
      ]
    },
    {
      "cell_type": "code",
      "metadata": {
        "id": "WiIYqjFbhcNI"
      },
      "source": [
        "from sklearn.preprocessing import PowerTransformer\n",
        "\n",
        "p_method = 'yeo-johnson' #try it with 'box-cox'\n",
        "power_transform = PowerTransformer(method=p_method)\n",
        "X_power = power_transform.fit_transform(X_train[num_features_selected])\n",
        "\n",
        "#Let's put it back to a pandas dataframe\n",
        "X_train_power = pd.DataFrame(X_power,\n",
        "                              index=X_train[num_features_selected].index,\n",
        "                              columns=X_train[num_features_selected].columns)"
      ],
      "execution_count": null,
      "outputs": []
    },
    {
      "cell_type": "markdown",
      "metadata": {
        "id": "sjM8_a65jic2"
      },
      "source": [
        "Vamos a ver cómo ha quedado visualmente tras aplicarle la transformación"
      ]
    },
    {
      "cell_type": "code",
      "metadata": {
        "id": "oG9_fvgFwS_x",
        "colab": {
          "base_uri": "https://localhost:8080/",
          "height": 757
        },
        "outputId": "9c0f9e96-5901-4ced-cf55-b6d979701aa8"
      },
      "source": [
        "\n",
        "ax = sns.distplot(X_train_power[variable_of_interest])\n",
        "\n",
        "print('Min value of variable: ' + str(min(X_train_power[variable_of_interest])))\n",
        "print('Max value of variable: ' + str(max(X_train_power[variable_of_interest])))\n",
        "print('Mean of variable: ' + str(X_train_power[variable_of_interest].mean()))\n",
        "print('standard deviation of variable: ' + str(X_train_power[variable_of_interest].std()))\n",
        "print('Skew: ' + str(skew(X_train_power[variable_of_interest])))\n",
        "print('Kurtosis: ' + str(kurtosis(X_train_power[variable_of_interest])))\n",
        "\n"
      ],
      "execution_count": null,
      "outputs": [
        {
          "output_type": "stream",
          "name": "stderr",
          "text": [
            "<ipython-input-85-0fd4d3c67230>:1: UserWarning: \n",
            "\n",
            "`distplot` is a deprecated function and will be removed in seaborn v0.14.0.\n",
            "\n",
            "Please adapt your code to use either `displot` (a figure-level function with\n",
            "similar flexibility) or `histplot` (an axes-level function for histograms).\n",
            "\n",
            "For a guide to updating your code to use the new functions, please see\n",
            "https://gist.github.com/mwaskom/de44147ed2974457ad6372750bbe5751\n",
            "\n",
            "  ax = sns.distplot(X_train_power[variable_of_interest])\n"
          ]
        },
        {
          "output_type": "stream",
          "name": "stdout",
          "text": [
            "Min value of variable: -3.4687023517665185\n",
            "Max value of variable: 3.014965056192395\n",
            "Mean of variable: -7.861991507060972e-16\n",
            "standard deviation of variable: 1.0004910385761183\n",
            "Skew: -0.0022758370005735848\n",
            "Kurtosis: -0.19153816337858398\n"
          ]
        },
        {
          "output_type": "display_data",
          "data": {
            "text/plain": [
              "<Figure size 640x480 with 1 Axes>"
            ],
            "image/png": "[encoded data removed]"
          },
          "metadata": {}
        }
      ]
    },
    {
      "cell_type": "markdown",
      "metadata": {
        "id": "FJF2TnkgjqO8"
      },
      "source": [
        "Y ahora vamos a ver qué nos dicen los test de normalidad"
      ]
    },
    {
      "cell_type": "code",
      "metadata": {
        "id": "EYeP7CRiXkmF",
        "colab": {
          "base_uri": "https://localhost:8080/"
        },
        "outputId": "fc16ef38-8c8b-4dca-b8b2-f7ba944b8a71"
      },
      "source": [
        "from scipy.stats import shapiro\n",
        "from scipy.stats import kstest\n",
        "\n",
        "# Shapiro normality test\n",
        "# If the p-value ≤ 0.05, then we reject the null hypothesis i.e. we assume the distribution of our variable is not normal/gaussian.\n",
        "# If the p-value > 0.05, then we fail to reject the null hypothesis i.e. we assume the distribution of our variable is normal/gaussian.\n",
        "stat, p = shapiro(X_train_power[variable_of_interest])\n",
        "print('Statistics=%.3f, p=%.3f' % (stat, p))\n",
        "# interpret\n",
        "alpha = 0.05\n",
        "if p > alpha:\n",
        " print('Probably Gaussian (fail to reject H0) according to Shapiro test')\n",
        "else:\n",
        " print('Probably not Gaussian (reject H0) according to Shapiro test')\n",
        "\n",
        "# Kolmogorov-Smirnov test for Normality\n",
        "#  Performs the (one sample or two samples) Kolmogorov-Smirnov test for goodness of fit.\n",
        "#  The one-sample test performs a test of the distribution F(x) of an observed random variable\n",
        "#  against a given distribution G(x) (i.e. a normal distribution).\n",
        "stat, p = kstest(X_train_power[variable_of_interest], 'norm')\n",
        "print('Statistics=%.3f, p=%.3f' % (stat, p))\n",
        "# interpret\n",
        "alpha = 0.05\n",
        "if p > alpha:\n",
        " print('Probably Gaussian (fail to reject H0) according to Kolmogorov-Smirnov test')\n",
        "else:\n",
        " print('Probably not Gaussian (reject H0) according to ShapKolmogorov-Smirnoviro test')"
      ],
      "execution_count": null,
      "outputs": [
        {
          "output_type": "stream",
          "name": "stdout",
          "text": [
            "Statistics=0.997, p=0.023\n",
            "Probably not Gaussian (reject H0) according to Shapiro test\n",
            "Statistics=0.028, p=0.379\n",
            "Probably Gaussian (fail to reject H0) according to Kolmogorov-Smirnov test\n"
          ]
        }
      ]
    },
    {
      "cell_type": "markdown",
      "metadata": {
        "id": "RIhfVwKcYwot"
      },
      "source": [
        "Vamos a ajustar (entrenar) un modelo con los datos transformados"
      ]
    },
    {
      "cell_type": "code",
      "metadata": {
        "id": "09vaX1k1yMDu"
      },
      "source": [
        "# fit model with Power Transformed features\n",
        "reg_power = model.fit(X_train_power, y_train)\n"
      ],
      "execution_count": null,
      "outputs": []
    },
    {
      "cell_type": "code",
      "metadata": {
        "id": "FY0srLNyyMEa",
        "colab": {
          "base_uri": "https://localhost:8080/"
        },
        "outputId": "0e83fa2f-3f12-494e-f462-4a5970902937"
      },
      "source": [
        "#Print previously computed MAE for unscaled data\n",
        "print('Train MAE (raw data): ' + str(mae_reg))\n"
      ],
      "execution_count": null,
      "outputs": [
        {
          "output_type": "stream",
          "name": "stdout",
          "text": [
            "Train MAE (raw data): 1921589034.9549177\n"
          ]
        }
      ]
    },
    {
      "cell_type": "code",
      "metadata": {
        "id": "YHIn6LLFyMEc",
        "colab": {
          "base_uri": "https://localhost:8080/"
        },
        "outputId": "56544971-194b-446e-9f33-8610d8a1ea12"
      },
      "source": [
        "mae_reg_power = compute_mae(X_train_power, y_train, reg_power)\n",
        "\n",
        "print('Train MAE with Power Transformed Data: ' + str(mae_reg_power))\n"
      ],
      "execution_count": null,
      "outputs": [
        {
          "output_type": "stream",
          "name": "stdout",
          "text": [
            "Train MAE with Power Transformed Data: 27869.889602634626\n"
          ]
        }
      ]
    },
    {
      "cell_type": "code",
      "metadata": {
        "id": "MffS7pKNtCbt"
      },
      "source": [
        "# evaluate the model with power transformed variables\n",
        "m_scores_reg_power = cross_val_score(model, X_train_power, y_train, scoring='neg_mean_absolute_error', cv=cv, n_jobs=-1)"
      ],
      "execution_count": null,
      "outputs": []
    },
    {
      "cell_type": "code",
      "metadata": {
        "id": "t5CZEmXJtCbv",
        "colab": {
          "base_uri": "https://localhost:8080/"
        },
        "outputId": "3cf6fcdc-39e1-45ef-c543-25ccb1617ceb"
      },
      "source": [
        "print('CV Train MAE (Raw data): %.3f (%.3f)' % (np.mean(m_scores_reg) * (-1), np.std(m_scores_reg)))\n",
        "print('CV Train MAE (Power Transform): %.3f (%.3f)' % (np.mean(m_scores_reg_power) * (-1), np.std(m_scores_reg_power)))\n"
      ],
      "execution_count": null,
      "outputs": [
        {
          "output_type": "stream",
          "name": "stdout",
          "text": [
            "CV Train MAE (Raw data): 26618.316 (1357.147)\n",
            "CV Train MAE (Power Transform): 28071.523 (1538.395)\n"
          ]
        }
      ]
    },
    {
      "cell_type": "markdown",
      "metadata": {
        "id": "6j6p9paX0nEF"
      },
      "source": [
        "#### Quantile transforms"
      ]
    },
    {
      "cell_type": "code",
      "metadata": {
        "id": "4vx__rRQ1NDO"
      },
      "source": [
        "from sklearn.preprocessing import QuantileTransformer\n",
        "\n",
        "quantile_transform = QuantileTransformer(output_distribution='normal')\n",
        "X_quantile = quantile_transform.fit_transform(X_train[num_features_selected])\n",
        "\n",
        "#Let's put it back to a pandas dataframe\n",
        "X_train_quantile = pd.DataFrame(X_quantile,\n",
        "                              index=X_train[num_features_selected].index,\n",
        "                              columns=X_train[num_features_selected].columns)"
      ],
      "execution_count": null,
      "outputs": []
    },
    {
      "cell_type": "markdown",
      "metadata": {
        "id": "pM53QcErnNoA"
      },
      "source": [
        "Vamos a visualizar la distribución de la variable transformada a través de la función cuantílica"
      ]
    },
    {
      "cell_type": "code",
      "metadata": {
        "id": "Z2bKyeKr1JY8",
        "colab": {
          "base_uri": "https://localhost:8080/",
          "height": 757
        },
        "outputId": "52ce7ed2-6946-4339-a94b-391d6558e5c7"
      },
      "source": [
        "\n",
        "ax = sns.distplot(X_train_power[variable_of_interest])\n",
        "\n",
        "print('Min value of variable: ' + str(min(X_train_quantile[variable_of_interest])))\n",
        "print('Max value of variable: ' + str(max(X_train_quantile[variable_of_interest])))\n",
        "print('Mean of variable: ' + str(X_train_quantile[variable_of_interest].mean()))\n",
        "print('standard deviation of variable: ' + str(X_train_quantile[variable_of_interest].std()))\n",
        "print('Skew: ' + str(skew(X_train_quantile[variable_of_interest])))\n",
        "print('Kurtosis: ' + str(kurtosis(X_train_quantile[variable_of_interest])))\n",
        "\n"
      ],
      "execution_count": null,
      "outputs": [
        {
          "output_type": "stream",
          "name": "stderr",
          "text": [
            "<ipython-input-93-0d5dde8905da>:1: UserWarning: \n",
            "\n",
            "`distplot` is a deprecated function and will be removed in seaborn v0.14.0.\n",
            "\n",
            "Please adapt your code to use either `displot` (a figure-level function with\n",
            "similar flexibility) or `histplot` (an axes-level function for histograms).\n",
            "\n",
            "For a guide to updating your code to use the new functions, please see\n",
            "https://gist.github.com/mwaskom/de44147ed2974457ad6372750bbe5751\n",
            "\n",
            "  ax = sns.distplot(X_train_power[variable_of_interest])\n"
          ]
        },
        {
          "output_type": "stream",
          "name": "stdout",
          "text": [
            "Min value of variable: -5.199337582605575\n",
            "Max value of variable: 5.19933758270342\n",
            "Mean of variable: -5.83338455332154e-06\n",
            "standard deviation of variable: 1.0204838670982934\n",
            "Skew: -0.00042730109043164036\n",
            "Kurtosis: 0.9527567305994427\n"
          ]
        },
        {
          "output_type": "display_data",
          "data": {
            "text/plain": [
              "<Figure size 640x480 with 1 Axes>"
            ],
            "image/png": "[encoded data removed]"
          },
          "metadata": {}
        }
      ]
    },
    {
      "cell_type": "code",
      "metadata": {
        "id": "8EFcUFbIZmLc",
        "colab": {
          "base_uri": "https://localhost:8080/"
        },
        "outputId": "d1b86b4f-427e-43da-a0a9-059ce6f75f98"
      },
      "source": [
        "# Shapiro normality test\n",
        "# If the p-value ≤ 0.05, then we reject the null hypothesis i.e. we assume the distribution of our variable is not normal/gaussian.\n",
        "# If the p-value > 0.05, then we fail to reject the null hypothesis i.e. we assume the distribution of our variable is normal/gaussian.\n",
        "stat, p = shapiro(X_train_quantile[variable_of_interest])\n",
        "print('Statistics=%.3f, p=%.3f' % (stat, p))\n",
        "# interpret\n",
        "alpha = 0.05\n",
        "if p > alpha:\n",
        " print('Probably Gaussian (fail to reject H0) according to Shapiro test')\n",
        "else:\n",
        " print('Probably not Gaussian (reject H0) according to Shapiro test')\n",
        "\n",
        "# Kolmogorov-Smirnov test for Normality\n",
        "#  Performs the (one sample or two samples) Kolmogorov-Smirnov test for goodness of fit.\n",
        "#  The one-sample test performs a test of the distribution F(x) of an observed random variable\n",
        "#  against a given distribution G(x) (i.e. a normal distribution).\n",
        "stat, p = kstest(X_train_quantile[variable_of_interest], 'norm')\n",
        "print('Statistics=%.3f, p=%.3f' % (stat, p))\n",
        "# interpret\n",
        "alpha = 0.05\n",
        "if p > alpha:\n",
        " print('Probably Gaussian (fail to reject H0) according to Kolmogorov-Smirnov test')\n",
        "else:\n",
        " print('Probably not Gaussian (reject H0) according to ShapKolmogorov-Smirnoviro test')"
      ],
      "execution_count": null,
      "outputs": [
        {
          "output_type": "stream",
          "name": "stdout",
          "text": [
            "Statistics=0.994, p=0.001\n",
            "Probably not Gaussian (reject H0) according to Shapiro test\n",
            "Statistics=0.007, p=1.000\n",
            "Probably Gaussian (fail to reject H0) according to Kolmogorov-Smirnov test\n"
          ]
        }
      ]
    },
    {
      "cell_type": "code",
      "metadata": {
        "id": "JtMjd06v1JY_"
      },
      "source": [
        "# fit model with scaled features\n",
        "reg_quantile = model.fit(X_train_quantile, y_train)"
      ],
      "execution_count": null,
      "outputs": []
    },
    {
      "cell_type": "code",
      "metadata": {
        "id": "NpmqwRnA1JZA",
        "colab": {
          "base_uri": "https://localhost:8080/"
        },
        "outputId": "989a8a96-b164-42a4-c1aa-a917ffcf037f"
      },
      "source": [
        "#Print previously computed MAE for unscaled data\n",
        "print('Train MAE (raw data): ' + str(mae_reg))\n"
      ],
      "execution_count": null,
      "outputs": [
        {
          "output_type": "stream",
          "name": "stdout",
          "text": [
            "Train MAE (raw data): 1921589034.9549177\n"
          ]
        }
      ]
    },
    {
      "cell_type": "code",
      "metadata": {
        "id": "nqlSBl181JZB",
        "colab": {
          "base_uri": "https://localhost:8080/"
        },
        "outputId": "625d6fa7-7000-4575-b5cb-369a06c885f4"
      },
      "source": [
        "mae_reg_quantile = compute_mae(X_train_quantile, y_train, reg_quantile)\n",
        "\n",
        "print('Train MAE with Quantile Transformed Data: ' + str(mae_reg_quantile))\n"
      ],
      "execution_count": null,
      "outputs": [
        {
          "output_type": "stream",
          "name": "stdout",
          "text": [
            "Train MAE with Quantile Transformed Data: 28061.50541923433\n"
          ]
        }
      ]
    },
    {
      "cell_type": "code",
      "metadata": {
        "id": "pmaKjBsMuTC4"
      },
      "source": [
        "# evaluate the model with quantile transformed variables\n",
        "m_scores_reg_quantile = cross_val_score(model, X_train_quantile, y_train, scoring='neg_mean_absolute_error', cv=cv, n_jobs=-1)"
      ],
      "execution_count": null,
      "outputs": []
    },
    {
      "cell_type": "code",
      "metadata": {
        "id": "galTRwQZuTC7",
        "colab": {
          "base_uri": "https://localhost:8080/"
        },
        "outputId": "a181a507-be36-4e58-d138-9faadac18d8a"
      },
      "source": [
        "print('CV Train MAE (Raw data): %.3f (%.3f)' % (np.mean(m_scores_reg) * (-1), np.std(m_scores_reg)))\n",
        "print('CV Train MAE (Quantile Transform): %.3f (%.3f)' % (np.mean(m_scores_reg_quantile) * (-1), np.std(m_scores_reg_quantile)))\n"
      ],
      "execution_count": null,
      "outputs": [
        {
          "output_type": "stream",
          "name": "stdout",
          "text": [
            "CV Train MAE (Raw data): 26618.316 (1357.147)\n",
            "CV Train MAE (Quantile Transform): 28336.075 (1799.789)\n"
          ]
        }
      ]
    },
    {
      "cell_type": "markdown",
      "metadata": {
        "id": "viGLRd0vvfwX"
      },
      "source": [
        "De momento sólo hemos trabajado con las variables predictoras, pero... **sabiais que también es importante para algunos modelos transformar la variable a predecir?**\n",
        "\n"
      ]
    },
    {
      "cell_type": "code",
      "metadata": {
        "id": "K3rjL7-nvzWg",
        "colab": {
          "base_uri": "https://localhost:8080/",
          "height": 665
        },
        "outputId": "0d7cfdb3-815d-4057-9ecb-a03ea5279433"
      },
      "source": [
        "#let's take a look at the dependent variable\n",
        "ax = sns.distplot(y_train)\n"
      ],
      "execution_count": null,
      "outputs": [
        {
          "output_type": "stream",
          "name": "stderr",
          "text": [
            "<ipython-input-100-3d571954435e>:2: UserWarning: \n",
            "\n",
            "`distplot` is a deprecated function and will be removed in seaborn v0.14.0.\n",
            "\n",
            "Please adapt your code to use either `displot` (a figure-level function with\n",
            "similar flexibility) or `histplot` (an axes-level function for histograms).\n",
            "\n",
            "For a guide to updating your code to use the new functions, please see\n",
            "https://gist.github.com/mwaskom/de44147ed2974457ad6372750bbe5751\n",
            "\n",
            "  ax = sns.distplot(y_train)\n"
          ]
        },
        {
          "output_type": "display_data",
          "data": {
            "text/plain": [
              "<Figure size 640x480 with 1 Axes>"
            ],
            "image/png": "[encoded data removed]"
          },
          "metadata": {}
        }
      ]
    },
    {
      "cell_type": "markdown",
      "metadata": {
        "id": "O7D2lMnCmRKg"
      },
      "source": [
        "Hemos visto que una de las opciones más comunes de usar una transformada de potencia es tomar el logaritmo (aunque es posible que no sea la forma más óptima). Vamos a tomar el log de la variable target"
      ]
    },
    {
      "cell_type": "code",
      "metadata": {
        "id": "lIPs9Zs8wj3c",
        "colab": {
          "base_uri": "https://localhost:8080/",
          "height": 649
        },
        "outputId": "816b6bf5-462e-4740-aabe-2e46a0cf0cdb"
      },
      "source": [
        "ax = sns.distplot(np.log(y_train), axlabel = 'log(SalePrice)') # we take the log of the dependent variable"
      ],
      "execution_count": null,
      "outputs": [
        {
          "output_type": "stream",
          "name": "stderr",
          "text": [
            "<ipython-input-101-971c8a5d5971>:1: UserWarning: \n",
            "\n",
            "`distplot` is a deprecated function and will be removed in seaborn v0.14.0.\n",
            "\n",
            "Please adapt your code to use either `displot` (a figure-level function with\n",
            "similar flexibility) or `histplot` (an axes-level function for histograms).\n",
            "\n",
            "For a guide to updating your code to use the new functions, please see\n",
            "https://gist.github.com/mwaskom/de44147ed2974457ad6372750bbe5751\n",
            "\n",
            "  ax = sns.distplot(np.log(y_train), axlabel = 'log(SalePrice)') # we take the log of the dependent variable\n"
          ]
        },
        {
          "output_type": "display_data",
          "data": {
            "text/plain": [
              "<Figure size 640x480 with 1 Axes>"
            ],
            "image/png": "[encoded data removed]"
          },
          "metadata": {}
        }
      ]
    },
    {
      "cell_type": "code",
      "metadata": {
        "id": "EnEvIbGEwjKe"
      },
      "source": [
        "# evaluate the model with power transformed variables and logged target\n",
        "m_scores_reg_power_target = cross_val_score(model,\n",
        "                                            X_train_power,\n",
        "                                            np.log(y_train),\n",
        "                                            scoring='neg_mean_absolute_error',\n",
        "                                            cv=cv,\n",
        "                                            n_jobs=-1)"
      ],
      "execution_count": null,
      "outputs": []
    },
    {
      "cell_type": "code",
      "metadata": {
        "id": "Sqi0sQlLw8gX",
        "colab": {
          "base_uri": "https://localhost:8080/"
        },
        "outputId": "d1a759d9-0af5-450a-934f-3937687ea0fe"
      },
      "source": [
        "print('CV Train MAE (Power Transform + log(y)): %.3f (%.3f)' % (np.mean(m_scores_reg_power_target) * (-1), np.std(m_scores_reg_power_target)))"
      ],
      "execution_count": null,
      "outputs": [
        {
          "output_type": "stream",
          "name": "stdout",
          "text": [
            "CV Train MAE (Power Transform + log(y)): 0.127 (0.008)\n"
          ]
        }
      ]
    },
    {
      "cell_type": "markdown",
      "metadata": {
        "id": "un_aqtCR-ziU"
      },
      "source": [
        "Como hemos transformando la variable dependiente nuestros errores también se han transformado, vamos a hacer un proceso más robusto utilizando Pipelines de sklearn y la función"
      ]
    },
    {
      "cell_type": "code",
      "metadata": {
        "id": "dK-DI_PxziBP"
      },
      "source": [
        "from sklearn.pipeline import Pipeline\n",
        "from sklearn.preprocessing import PowerTransformer\n",
        "from sklearn.compose import TransformedTargetRegressor\n",
        "\n",
        "# prepare the model with input scaling\n",
        "pipeline = Pipeline(steps=[('power', PowerTransformer()), ('model', model)])\n",
        "# prepare the model with target scaling\n",
        "model_pipeline = TransformedTargetRegressor(regressor=pipeline, transformer=PowerTransformer())\n",
        "# evaluate model\n",
        "cv = KFold(n_splits=10, shuffle=True, random_state=1)\n",
        "\n",
        "scores_pipeline = cross_val_score(model_pipeline, X_train[num_features_selected], y_train, scoring='neg_mean_absolute_error', cv=cv, n_jobs=-1)\n"
      ],
      "execution_count": null,
      "outputs": []
    },
    {
      "cell_type": "code",
      "metadata": {
        "id": "MyjzMnZG_czI",
        "colab": {
          "base_uri": "https://localhost:8080/"
        },
        "outputId": "09152dba-29b3-4d8c-e557-45a23e241f56"
      },
      "source": [
        "print('CV Train MAE (Raw data): %.3f (%.3f)' % (np.mean(m_scores_reg) * (-1), np.std(m_scores_reg)))\n",
        "print('CV Train MAE (Power Transform with ): %.3f (%.3f)' % (np.mean(scores_pipeline) * (-1), np.std(scores_pipeline)))\n"
      ],
      "execution_count": null,
      "outputs": [
        {
          "output_type": "stream",
          "name": "stdout",
          "text": [
            "CV Train MAE (Raw data): 26618.316 (1357.147)\n",
            "CV Train MAE (Power Transform with ): 22870.804 (3014.873)\n"
          ]
        }
      ]
    },
    {
      "cell_type": "markdown",
      "metadata": {
        "id": "UGe0heSS4pac"
      },
      "source": [
        "### Discretización de variables (Binning)"
      ]
    },
    {
      "cell_type": "code",
      "metadata": {
        "id": "pcD0_rzk5HKb"
      },
      "source": [
        "from sklearn.preprocessing import KBinsDiscretizer\n",
        "\n",
        "kbins = KBinsDiscretizer(n_bins=10, #10 buckets\n",
        "                         encode='ordinal', #ordinal encoding\n",
        "                         strategy='uniform') # ‘uniform’, ‘quantile’, or ‘kmeans’\n",
        "\n",
        "X_bins = kbins.fit_transform(X_train[num_features_selected])\n",
        "#Let's put it back to a pandas dataframe\n",
        "X_train_bins = pd.DataFrame(X_bins,\n",
        "                              index=X_train[num_features_selected].index,\n",
        "                              columns=X_train[num_features_selected].columns)\n"
      ],
      "execution_count": null,
      "outputs": []
    },
    {
      "cell_type": "markdown",
      "metadata": {
        "id": "tOd3BsuTa4HP"
      },
      "source": [
        "Vamos a pintar ahora la variable, como ha pasado de numérica (continua) a discreta la podemos pintar con un histograma"
      ]
    },
    {
      "cell_type": "code",
      "metadata": {
        "id": "Txqy_cse52-E",
        "colab": {
          "base_uri": "https://localhost:8080/",
          "height": 489
        },
        "outputId": "4e15d8e6-70dc-4565-bd14-48ff0dde979d"
      },
      "source": [
        "ax = sns.histplot(X_train_bins[variable_of_interest])\n",
        "\n",
        "print('Min value of variable: ' + str(min(X_train_bins[variable_of_interest])))\n",
        "print('Max value of variable: ' + str(max(X_train_bins[variable_of_interest])))\n"
      ],
      "execution_count": null,
      "outputs": [
        {
          "output_type": "stream",
          "name": "stdout",
          "text": [
            "Min value of variable: 0.0\n",
            "Max value of variable: 9.0\n"
          ]
        },
        {
          "output_type": "display_data",
          "data": {
            "text/plain": [
              "<Figure size 640x480 with 1 Axes>"
            ],
            "image/png": "[encoded data removed]"
          },
          "metadata": {}
        }
      ]
    },
    {
      "cell_type": "code",
      "metadata": {
        "id": "SczVN6gO6kYl",
        "colab": {
          "base_uri": "https://localhost:8080/"
        },
        "outputId": "54c86de3-a4e2-4705-c6e6-18809e25e61a"
      },
      "source": [
        "# # fit model with scaled features\n",
        "reg_bins = model.fit(X_train_bins, y_train)\n",
        "# #Print previously computed MAE for unscaled data\n",
        "print('Train MAE (raw data): ' + str(mae_reg))\n",
        "mae_reg_bins = compute_mae(X_train_bins, y_train, reg_bins)\n",
        "\n",
        "print('Train MAE with Binned Data: ' + str(mae_reg_bins))\n"
      ],
      "execution_count": null,
      "outputs": [
        {
          "output_type": "stream",
          "name": "stdout",
          "text": [
            "Train MAE (raw data): 1921589034.9549177\n",
            "Train MAE with Binned Data: 27762.815429467442\n"
          ]
        }
      ]
    },
    {
      "cell_type": "code",
      "metadata": {
        "id": "ZYaUkDUlLQok"
      },
      "source": [
        "# evaluate the model with binned variables\n",
        "m_scores_bins = cross_val_score(model,\n",
        "                                X_train_bins,\n",
        "                                y_train,\n",
        "                                scoring='neg_mean_absolute_error',\n",
        "                                cv=cv,\n",
        "                                n_jobs=-1)"
      ],
      "execution_count": null,
      "outputs": []
    },
    {
      "cell_type": "code",
      "metadata": {
        "id": "aS5vrmMfLQon",
        "colab": {
          "base_uri": "https://localhost:8080/"
        },
        "outputId": "1b0a6ac5-1e46-4822-ebd3-1d258b889f87"
      },
      "source": [
        "print('CV Train MAE (Bins): %.3f (%.3f)' % (np.mean(m_scores_bins) * (-1), np.std(m_scores_bins)))"
      ],
      "execution_count": null,
      "outputs": [
        {
          "output_type": "stream",
          "name": "stdout",
          "text": [
            "CV Train MAE (Bins): 27960.697 (2973.229)\n"
          ]
        }
      ]
    },
    {
      "cell_type": "markdown",
      "metadata": {
        "id": "vlrMSmL5bEQh"
      },
      "source": [
        "Como hemos visto en la teoría al discretizar las variables podemos perder información causando dificultades al algoritmo para aprender las relaciones. No obstante recordad que sólo estamos viendo el efecto sobre el split de train y deberíamos hacerlo sobre un conjunto de validación."
      ]
    },
    {
      "cell_type": "markdown",
      "metadata": {
        "id": "0t6-ImvO8WWH"
      },
      "source": [
        "### Polynomial Features"
      ]
    },
    {
      "cell_type": "code",
      "metadata": {
        "id": "olftZ4nyzJTU",
        "colab": {
          "base_uri": "https://localhost:8080/",
          "height": 453
        },
        "outputId": "66deaf61-1797-45c9-8101-4e29d973ecdb"
      },
      "source": [
        "ax = sns.regplot(x=\"GrLivArea\", y=y_train, data=X_train, logx=True)"
      ],
      "execution_count": null,
      "outputs": [
        {
          "output_type": "display_data",
          "data": {
            "text/plain": [
              "<Figure size 640x480 with 1 Axes>"
            ],
            "image/png": "[encoded data removed]"
          },
          "metadata": {}
        }
      ]
    },
    {
      "cell_type": "code",
      "metadata": {
        "id": "GTiM6D9S9nzy",
        "colab": {
          "base_uri": "https://localhost:8080/"
        },
        "outputId": "e21b0aac-8016-493d-d11e-1420cb355a25"
      },
      "source": [
        "from sklearn.preprocessing import PolynomialFeatures\n",
        "\n",
        "poly_degree = 2\n",
        "polynomial = PolynomialFeatures(degree=poly_degree)\n",
        "\n",
        "X_polynomial = polynomial.fit_transform(X_train[num_features_selected])\n",
        "\n",
        "\n",
        "#Let's put it back to a pandas dataframe\n",
        "X_train_polynomial = pd.DataFrame(X_polynomial,\n",
        "                              index=X_train[num_features_selected].index,\n",
        "                              columns=polynomial.get_feature_names_out(X_train[num_features_selected].columns))\n",
        "print(X_train_polynomial)\n",
        "print(list(X_train_polynomial.columns))\n",
        "\n"
      ],
      "execution_count": null,
      "outputs": [
        {
          "output_type": "stream",
          "name": "stdout",
          "text": [
            "        1  TotalBsmtSF  GrLivArea  FullBath  LotArea  YearBuilt  \\\n",
            "464   1.0       1040.0     1040.0       2.0   8430.0     1978.0   \n",
            "471   1.0        808.0     1969.0       2.0  11952.0     1977.0   \n",
            "1332  1.0        816.0      816.0       1.0   8877.0     1938.0   \n",
            "435   1.0        799.0     1661.0       2.0  10667.0     1996.0   \n",
            "1209  1.0       1660.0     1660.0       2.0  10182.0     2006.0   \n",
            "...   ...          ...        ...       ...      ...        ...   \n",
            "1097  1.0       1074.0     1088.0       1.0   3696.0     1986.0   \n",
            "1132  1.0       1008.0     2210.0       2.0   9900.0     1880.0   \n",
            "1297  1.0        547.0     1072.0       2.0   3675.0     2005.0   \n",
            "862   1.0       1040.0     1097.0       2.0   9672.0     1984.0   \n",
            "1128  1.0        847.0     1959.0       2.0  11796.0     2004.0   \n",
            "\n",
            "      TotalBsmtSF^2  TotalBsmtSF GrLivArea  TotalBsmtSF FullBath  \\\n",
            "464       1081600.0              1081600.0                2080.0   \n",
            "471        652864.0              1590952.0                1616.0   \n",
            "1332       665856.0               665856.0                 816.0   \n",
            "435        638401.0              1327139.0                1598.0   \n",
            "1209      2755600.0              2755600.0                3320.0   \n",
            "...             ...                    ...                   ...   \n",
            "1097      1153476.0              1168512.0                1074.0   \n",
            "1132      1016064.0              2227680.0                2016.0   \n",
            "1297       299209.0               586384.0                1094.0   \n",
            "862       1081600.0              1140880.0                2080.0   \n",
            "1128       717409.0              1659273.0                1694.0   \n",
            "\n",
            "      TotalBsmtSF LotArea  ...  GrLivArea^2  GrLivArea FullBath  \\\n",
            "464             8767200.0  ...    1081600.0              2080.0   \n",
            "471             9657216.0  ...    3876961.0              3938.0   \n",
            "1332            7243632.0  ...     665856.0               816.0   \n",
            "435             8522933.0  ...    2758921.0              3322.0   \n",
            "1209           16902120.0  ...    2755600.0              3320.0   \n",
            "...                   ...  ...          ...                 ...   \n",
            "1097            3969504.0  ...    1183744.0              1088.0   \n",
            "1132            9979200.0  ...    4884100.0              4420.0   \n",
            "1297            2010225.0  ...    1149184.0              2144.0   \n",
            "862            10058880.0  ...    1203409.0              2194.0   \n",
            "1128            9991212.0  ...    3837681.0              3918.0   \n",
            "\n",
            "      GrLivArea LotArea  GrLivArea YearBuilt  FullBath^2  FullBath LotArea  \\\n",
            "464           8767200.0            2057120.0         4.0           16860.0   \n",
            "471          23533488.0            3892713.0         4.0           23904.0   \n",
            "1332          7243632.0            1581408.0         1.0            8877.0   \n",
            "435          17717887.0            3315356.0         4.0           21334.0   \n",
            "1209         16902120.0            3329960.0         4.0           20364.0   \n",
            "...                 ...                  ...         ...               ...   \n",
            "1097          4021248.0            2160768.0         1.0            3696.0   \n",
            "1132         21879000.0            4154800.0         4.0           19800.0   \n",
            "1297          3939600.0            2149360.0         4.0            7350.0   \n",
            "862          10610184.0            2176448.0         4.0           19344.0   \n",
            "1128         23108364.0            3925836.0         4.0           23592.0   \n",
            "\n",
            "      FullBath YearBuilt    LotArea^2  LotArea YearBuilt  YearBuilt^2  \n",
            "464               3956.0   71064900.0         16674540.0    3912484.0  \n",
            "471               3954.0  142850304.0         23629104.0    3908529.0  \n",
            "1332              1938.0   78801129.0         17203626.0    3755844.0  \n",
            "435               3992.0  113784889.0         21291332.0    3984016.0  \n",
            "1209              4012.0  103673124.0         20425092.0    4024036.0  \n",
            "...                  ...          ...                ...          ...  \n",
            "1097              1986.0   13660416.0          7340256.0    3944196.0  \n",
            "1132              3760.0   98010000.0         18612000.0    3534400.0  \n",
            "1297              4010.0   13505625.0          7368375.0    4020025.0  \n",
            "862               3968.0   93547584.0         19189248.0    3936256.0  \n",
            "1128              4008.0  139145616.0         23639184.0    4016016.0  \n",
            "\n",
            "[1019 rows x 21 columns]\n",
            "['1', 'TotalBsmtSF', 'GrLivArea', 'FullBath', 'LotArea', 'YearBuilt', 'TotalBsmtSF^2', 'TotalBsmtSF GrLivArea', 'TotalBsmtSF FullBath', 'TotalBsmtSF LotArea', 'TotalBsmtSF YearBuilt', 'GrLivArea^2', 'GrLivArea FullBath', 'GrLivArea LotArea', 'GrLivArea YearBuilt', 'FullBath^2', 'FullBath LotArea', 'FullBath YearBuilt', 'LotArea^2', 'LotArea YearBuilt', 'YearBuilt^2']\n"
          ]
        }
      ]
    },
    {
      "cell_type": "code",
      "metadata": {
        "id": "lfoLrBC8_1Ug",
        "colab": {
          "base_uri": "https://localhost:8080/"
        },
        "outputId": "cc086fcc-2702-402a-92a0-56d69285470c"
      },
      "source": [
        "# # fit model with selected features\n",
        "reg_polynomial = model.fit(X_train_polynomial, y_train)\n",
        "\n",
        "mae_reg_polynomial= compute_mae(X_train_polynomial, y_train, reg_polynomial)\n",
        "\n",
        "print('Train MAE with polynomial Data: ' + str(mae_reg_polynomial))"
      ],
      "execution_count": null,
      "outputs": [
        {
          "output_type": "stream",
          "name": "stdout",
          "text": [
            "Train MAE with polynomial Data: 22357.273109367772\n"
          ]
        }
      ]
    },
    {
      "cell_type": "code",
      "metadata": {
        "id": "4g0G_JTfNeDi"
      },
      "source": [
        "# evaluate the model with polynomial transformed variables\n",
        "m_scores_reg_polynomial = cross_val_score(model,\n",
        "                                          X_train_polynomial,\n",
        "                                          y_train,\n",
        "                                          scoring='neg_mean_absolute_error',\n",
        "                                          cv=cv,\n",
        "                                          n_jobs=-1)"
      ],
      "execution_count": null,
      "outputs": []
    },
    {
      "cell_type": "markdown",
      "metadata": {
        "id": "8WD6I3HVFtn8"
      },
      "source": [
        "PREGUNTA!!!:\n",
        " Deberíamos estandarizar, escalar o transformar las variables?"
      ]
    },
    {
      "cell_type": "code",
      "metadata": {
        "id": "0iGyD6hFNeDk",
        "colab": {
          "base_uri": "https://localhost:8080/"
        },
        "outputId": "0fbc74e6-4f67-428e-d6cb-6edceded161e"
      },
      "source": [
        "print('CV Train MAE (Raw data): %.3f (%.3f)' % (np.mean(m_scores_reg) * (-1), np.std(m_scores_reg)))\n",
        "print('CV Train MAE (polynomial Transform): %.3f (%.3f)' % (np.mean(m_scores_reg_polynomial) * (-1), np.std(m_scores_reg_polynomial)))\n"
      ],
      "execution_count": null,
      "outputs": [
        {
          "output_type": "stream",
          "name": "stdout",
          "text": [
            "CV Train MAE (Raw data): 26618.316 (1357.147)\n",
            "CV Train MAE (polynomial Transform): 23093.599 (2247.644)\n"
          ]
        }
      ]
    },
    {
      "cell_type": "code",
      "metadata": {
        "id": "TQeVdfI6Sr0n",
        "colab": {
          "base_uri": "https://localhost:8080/"
        },
        "outputId": "f5f56325-cbc9-4f0a-fec5-41ec9716669a"
      },
      "source": [
        "# define the modeling pipeline\n",
        "trans = PolynomialFeatures(degree=poly_degree)\n",
        "scaler = StandardScaler()\n",
        "pipeline = Pipeline([('t',trans), ('s',scaler),('m',model)])\n",
        "\n",
        "# evaluate the model\n",
        "m_scores_reg_polynomial_scaled = cross_val_score(pipeline, X_train[num_features_selected], y_train, scoring='neg_mean_absolute_error', cv=cv, n_jobs=-1)\n",
        "# summarize the result\n",
        "print('CV Train MAE (polynomial Transform & scaled): %.3f (%.3f)' % (np.mean(m_scores_reg_polynomial_scaled) * (-1), np.std(m_scores_reg_polynomial_scaled)))\n"
      ],
      "execution_count": null,
      "outputs": [
        {
          "output_type": "stream",
          "name": "stdout",
          "text": [
            "CV Train MAE (polynomial Transform & scaled): 23093.599 (2247.644)\n"
          ]
        }
      ]
    },
    {
      "cell_type": "markdown",
      "metadata": {
        "id": "MvpPnJ8qki6j"
      },
      "source": [
        "PREGUNTA: Estamos haciendo mucho trabajo mecánico de transformación de los datos, pero aquí también cabe la posibilidad de que nos preguntemos si podemos crear ratios entre variables que tengan sentido. Se os ocurre alguna?"
      ]
    },
    {
      "cell_type": "markdown",
      "metadata": {
        "id": "RDpl700VLbgC"
      },
      "source": [
        "## Variables categóricas"
      ]
    },
    {
      "cell_type": "code",
      "metadata": {
        "id": "NPYxO09ILg1q",
        "colab": {
          "base_uri": "https://localhost:8080/",
          "height": 332
        },
        "outputId": "65e2837d-629b-4dea-be82-20ac8f240aa0"
      },
      "source": [
        "categorical_features = ['Neighborhood', 'MSZoning', 'ExterQual', 'KitchenQual']\n",
        "\n",
        "# Count plots of categorical features\n",
        "f = pd.melt(df_ames, value_vars=sorted(categorical_features))\n",
        "g = sns.FacetGrid(f, col='variable', col_wrap=4, sharex=False, sharey=False)\n",
        "plt.xticks(rotation='vertical')\n",
        "g = g.map(sns.countplot, 'value')\n",
        "[plt.setp(ax.get_xticklabels(), rotation=60) for ax in g.axes.flat]\n",
        "g.fig.tight_layout()\n",
        "plt.show()\n"
      ],
      "execution_count": null,
      "outputs": [
        {
          "output_type": "stream",
          "name": "stderr",
          "text": [
            "/usr/local/lib/python3.10/dist-packages/seaborn/axisgrid.py:712: UserWarning: Using the countplot function without specifying `order` is likely to produce an incorrect plot.\n",
            "  warnings.warn(warning)\n"
          ]
        },
        {
          "output_type": "display_data",
          "data": {
            "text/plain": [
              "<Figure size 1200x300 with 4 Axes>"
            ],
            "image/png": "[encoded data removed]"
          },
          "metadata": {}
        }
      ]
    },
    {
      "cell_type": "code",
      "metadata": {
        "_cell_guid": "6864b6a3-726d-43b2-b0da-36e1e9dfef0b",
        "hidePrompt": false,
        "hideCode": false,
        "_uuid": "bafe1be057927384430accdfd3a12bb5cd2f75e2",
        "id": "XSJsb35CLq7e",
        "colab": {
          "base_uri": "https://localhost:8080/",
          "height": 860
        },
        "outputId": "e4c1dc45-6b1a-4872-a1d4-527c834b4293"
      },
      "source": [
        "# Swarming Factorplot FTW\n",
        "fig = sns.catplot(x='Neighborhood', y=y_train, hue='MSZoning', data=X_train, kind='swarm', height=12, aspect=1.5)\n",
        "ax = fig.axes[0][0]\n",
        "ax.set_yscale('log')\n",
        "plt.show()"
      ],
      "execution_count": null,
      "outputs": [
        {
          "output_type": "stream",
          "name": "stderr",
          "text": [
            "/usr/local/lib/python3.10/dist-packages/seaborn/categorical.py:3544: UserWarning: 20.0% of the points cannot be placed; you may want to decrease the size of the markers or use stripplot.\n",
            "  warnings.warn(msg, UserWarning)\n",
            "/usr/local/lib/python3.10/dist-packages/seaborn/categorical.py:3544: UserWarning: 19.4% of the points cannot be placed; you may want to decrease the size of the markers or use stripplot.\n",
            "  warnings.warn(msg, UserWarning)\n",
            "/usr/local/lib/python3.10/dist-packages/seaborn/categorical.py:3544: UserWarning: 17.4% of the points cannot be placed; you may want to decrease the size of the markers or use stripplot.\n",
            "  warnings.warn(msg, UserWarning)\n",
            "/usr/local/lib/python3.10/dist-packages/seaborn/categorical.py:3544: UserWarning: 12.3% of the points cannot be placed; you may want to decrease the size of the markers or use stripplot.\n",
            "  warnings.warn(msg, UserWarning)\n"
          ]
        },
        {
          "output_type": "display_data",
          "data": {
            "text/plain": [
              "<Figure size 1899.12x1200 with 1 Axes>"
            ],
            "image/png": "[encoded data removed]"
          },
          "metadata": {}
        }
      ]
    },
    {
      "cell_type": "markdown",
      "metadata": {
        "id": "UYuZt7fYRh6Y"
      },
      "source": [
        "Vamos a tratar de hacer un modelo metiendo los datos numéricos y las variables en ordinal_features."
      ]
    },
    {
      "cell_type": "code",
      "metadata": {
        "id": "w1AZ2IUVRg4z",
        "colab": {
          "base_uri": "https://localhost:8080/"
        },
        "outputId": "f79b1204-a1b0-4769-8afe-396d4211ad8f"
      },
      "source": [
        "ordinal_features = ['ExterQual', 'KitchenQual'] #select a couple of variables for demostration purposes\n",
        "\n",
        "X_train_ordinal = pd.concat([X_train_scaled,\n",
        "                            X_train[ordinal_features]], axis = 1)\n",
        "\n",
        "print(X_train_ordinal)"
      ],
      "execution_count": null,
      "outputs": [
        {
          "output_type": "stream",
          "name": "stdout",
          "text": [
            "      TotalBsmtSF  GrLivArea  FullBath   LotArea  YearBuilt ExterQual  \\\n",
            "464      0.325000   0.188774  0.666667  0.033326   0.768116      'TA'   \n",
            "471      0.252500   0.480088  0.666667  0.049788   0.760870      'TA'   \n",
            "1332     0.255000   0.118532  0.333333  0.035416   0.478261      'TA'   \n",
            "435      0.249688   0.383506  0.666667  0.043782   0.898551      'Gd'   \n",
            "1209     0.518750   0.383192  0.666667  0.041515   0.971014      'Gd'   \n",
            "...           ...        ...       ...       ...        ...       ...   \n",
            "1097     0.335625   0.203826  0.333333  0.011199   0.826087      'Gd'   \n",
            "1132     0.315000   0.555660  0.666667  0.040197   0.057971      'TA'   \n",
            "1297     0.170937   0.198808  0.666667  0.011101   0.963768      'TA'   \n",
            "862      0.325000   0.206648  0.666667  0.039132   0.811594      'TA'   \n",
            "1128     0.264688   0.476952  0.666667  0.049059   0.956522      'Gd'   \n",
            "\n",
            "     KitchenQual  \n",
            "464         'TA'  \n",
            "471         'TA'  \n",
            "1332        'TA'  \n",
            "435         'Gd'  \n",
            "1209        'Gd'  \n",
            "...          ...  \n",
            "1097        'Gd'  \n",
            "1132        'Fa'  \n",
            "1297        'TA'  \n",
            "862         'TA'  \n",
            "1128        'Gd'  \n",
            "\n",
            "[1019 rows x 7 columns]\n"
          ]
        }
      ]
    },
    {
      "cell_type": "code",
      "metadata": {
        "id": "-BjMN3ISgbvH",
        "colab": {
          "base_uri": "https://localhost:8080/",
          "height": 346
        },
        "outputId": "8eeb06bb-d442-4127-c677-04d9014058a4"
      },
      "source": [
        "# fit model with categorical features\n",
        "reg_ordinal = model.fit(X_train_ordinal, y_train)"
      ],
      "execution_count": null,
      "outputs": [
        {
          "output_type": "error",
          "ename": "ValueError",
          "evalue": "could not convert string to float: \"'TA'\"",
          "traceback": [
            "\u001b[0;31m---------------------------------------------------------------------------\u001b[0m",
            "\u001b[0;31mValueError\u001b[0m                                Traceback (most recent call last)",
            "\u001b[0;32m<ipython-input-122-ace404c3fbf3>\u001b[0m in \u001b[0;36m<cell line: 2>\u001b[0;34m()\u001b[0m\n\u001b[1;32m      1\u001b[0m \u001b[0;31m# fit model with categorical features\u001b[0m\u001b[0;34m\u001b[0m\u001b[0;34m\u001b[0m\u001b[0m\n\u001b[0;32m----> 2\u001b[0;31m \u001b[0mreg_ordinal\u001b[0m \u001b[0;34m=\u001b[0m \u001b[0mmodel\u001b[0m\u001b[0;34m.\u001b[0m\u001b[0mfit\u001b[0m\u001b[0;34m(\u001b[0m\u001b[0mX_train_ordinal\u001b[0m\u001b[0;34m,\u001b[0m \u001b[0my_train\u001b[0m\u001b[0;34m)\u001b[0m\u001b[0;34m\u001b[0m\u001b[0;34m\u001b[0m\u001b[0m\n\u001b[0m",
            "\u001b[0;32m/usr/local/lib/python3.10/dist-packages/sklearn/linear_model/_base.py\u001b[0m in \u001b[0;36mfit\u001b[0;34m(self, X, y, sample_weight)\u001b[0m\n\u001b[1;32m    646\u001b[0m         \u001b[0maccept_sparse\u001b[0m \u001b[0;34m=\u001b[0m \u001b[0;32mFalse\u001b[0m \u001b[0;32mif\u001b[0m \u001b[0mself\u001b[0m\u001b[0;34m.\u001b[0m\u001b[0mpositive\u001b[0m \u001b[0;32melse\u001b[0m \u001b[0;34m[\u001b[0m\u001b[0;34m\"csr\"\u001b[0m\u001b[0;34m,\u001b[0m \u001b[0;34m\"csc\"\u001b[0m\u001b[0;34m,\u001b[0m \u001b[0;34m\"coo\"\u001b[0m\u001b[0;34m]\u001b[0m\u001b[0;34m\u001b[0m\u001b[0;34m\u001b[0m\u001b[0m\n\u001b[1;32m    647\u001b[0m \u001b[0;34m\u001b[0m\u001b[0m\n\u001b[0;32m--> 648\u001b[0;31m         X, y = self._validate_data(\n\u001b[0m\u001b[1;32m    649\u001b[0m             \u001b[0mX\u001b[0m\u001b[0;34m,\u001b[0m \u001b[0my\u001b[0m\u001b[0;34m,\u001b[0m \u001b[0maccept_sparse\u001b[0m\u001b[0;34m=\u001b[0m\u001b[0maccept_sparse\u001b[0m\u001b[0;34m,\u001b[0m \u001b[0my_numeric\u001b[0m\u001b[0;34m=\u001b[0m\u001b[0;32mTrue\u001b[0m\u001b[0;34m,\u001b[0m \u001b[0mmulti_output\u001b[0m\u001b[0;34m=\u001b[0m\u001b[0;32mTrue\u001b[0m\u001b[0;34m\u001b[0m\u001b[0;34m\u001b[0m\u001b[0m\n\u001b[1;32m    650\u001b[0m         )\n",
            "\u001b[0;32m/usr/local/lib/python3.10/dist-packages/sklearn/base.py\u001b[0m in \u001b[0;36m_validate_data\u001b[0;34m(self, X, y, reset, validate_separately, **check_params)\u001b[0m\n\u001b[1;32m    582\u001b[0m                 \u001b[0my\u001b[0m \u001b[0;34m=\u001b[0m \u001b[0mcheck_array\u001b[0m\u001b[0;34m(\u001b[0m\u001b[0my\u001b[0m\u001b[0;34m,\u001b[0m \u001b[0minput_name\u001b[0m\u001b[0;34m=\u001b[0m\u001b[0;34m\"y\"\u001b[0m\u001b[0;34m,\u001b[0m \u001b[0;34m**\u001b[0m\u001b[0mcheck_y_params\u001b[0m\u001b[0;34m)\u001b[0m\u001b[0;34m\u001b[0m\u001b[0;34m\u001b[0m\u001b[0m\n\u001b[1;32m    583\u001b[0m             \u001b[0;32melse\u001b[0m\u001b[0;34m:\u001b[0m\u001b[0;34m\u001b[0m\u001b[0;34m\u001b[0m\u001b[0m\n\u001b[0;32m--> 584\u001b[0;31m                 \u001b[0mX\u001b[0m\u001b[0;34m,\u001b[0m \u001b[0my\u001b[0m \u001b[0;34m=\u001b[0m \u001b[0mcheck_X_y\u001b[0m\u001b[0;34m(\u001b[0m\u001b[0mX\u001b[0m\u001b[0;34m,\u001b[0m \u001b[0my\u001b[0m\u001b[0;34m,\u001b[0m \u001b[0;34m**\u001b[0m\u001b[0mcheck_params\u001b[0m\u001b[0;34m)\u001b[0m\u001b[0;34m\u001b[0m\u001b[0;34m\u001b[0m\u001b[0m\n\u001b[0m\u001b[1;32m    585\u001b[0m             \u001b[0mout\u001b[0m \u001b[0;34m=\u001b[0m \u001b[0mX\u001b[0m\u001b[0;34m,\u001b[0m \u001b[0my\u001b[0m\u001b[0;34m\u001b[0m\u001b[0;34m\u001b[0m\u001b[0m\n\u001b[1;32m    586\u001b[0m \u001b[0;34m\u001b[0m\u001b[0m\n",
            "\u001b[0;32m/usr/local/lib/python3.10/dist-packages/sklearn/utils/validation.py\u001b[0m in \u001b[0;36mcheck_X_y\u001b[0;34m(X, y, accept_sparse, accept_large_sparse, dtype, order, copy, force_all_finite, ensure_2d, allow_nd, multi_output, ensure_min_samples, ensure_min_features, y_numeric, estimator)\u001b[0m\n\u001b[1;32m   1104\u001b[0m         )\n\u001b[1;32m   1105\u001b[0m \u001b[0;34m\u001b[0m\u001b[0m\n\u001b[0;32m-> 1106\u001b[0;31m     X = check_array(\n\u001b[0m\u001b[1;32m   1107\u001b[0m         \u001b[0mX\u001b[0m\u001b[0;34m,\u001b[0m\u001b[0;34m\u001b[0m\u001b[0;34m\u001b[0m\u001b[0m\n\u001b[1;32m   1108\u001b[0m         \u001b[0maccept_sparse\u001b[0m\u001b[0;34m=\u001b[0m\u001b[0maccept_sparse\u001b[0m\u001b[0;34m,\u001b[0m\u001b[0;34m\u001b[0m\u001b[0;34m\u001b[0m\u001b[0m\n",
            "\u001b[0;32m/usr/local/lib/python3.10/dist-packages/sklearn/utils/validation.py\u001b[0m in \u001b[0;36mcheck_array\u001b[0;34m(array, accept_sparse, accept_large_sparse, dtype, order, copy, force_all_finite, ensure_2d, allow_nd, ensure_min_samples, ensure_min_features, estimator, input_name)\u001b[0m\n\u001b[1;32m    877\u001b[0m                     \u001b[0marray\u001b[0m \u001b[0;34m=\u001b[0m \u001b[0mxp\u001b[0m\u001b[0;34m.\u001b[0m\u001b[0mastype\u001b[0m\u001b[0;34m(\u001b[0m\u001b[0marray\u001b[0m\u001b[0;34m,\u001b[0m \u001b[0mdtype\u001b[0m\u001b[0;34m,\u001b[0m \u001b[0mcopy\u001b[0m\u001b[0;34m=\u001b[0m\u001b[0;32mFalse\u001b[0m\u001b[0;34m)\u001b[0m\u001b[0;34m\u001b[0m\u001b[0;34m\u001b[0m\u001b[0m\n\u001b[1;32m    878\u001b[0m                 \u001b[0;32melse\u001b[0m\u001b[0;34m:\u001b[0m\u001b[0;34m\u001b[0m\u001b[0;34m\u001b[0m\u001b[0m\n\u001b[0;32m--> 879\u001b[0;31m                     \u001b[0marray\u001b[0m \u001b[0;34m=\u001b[0m \u001b[0m_asarray_with_order\u001b[0m\u001b[0;34m(\u001b[0m\u001b[0marray\u001b[0m\u001b[0;34m,\u001b[0m \u001b[0morder\u001b[0m\u001b[0;34m=\u001b[0m\u001b[0morder\u001b[0m\u001b[0;34m,\u001b[0m \u001b[0mdtype\u001b[0m\u001b[0;34m=\u001b[0m\u001b[0mdtype\u001b[0m\u001b[0;34m,\u001b[0m \u001b[0mxp\u001b[0m\u001b[0;34m=\u001b[0m\u001b[0mxp\u001b[0m\u001b[0;34m)\u001b[0m\u001b[0;34m\u001b[0m\u001b[0;34m\u001b[0m\u001b[0m\n\u001b[0m\u001b[1;32m    880\u001b[0m             \u001b[0;32mexcept\u001b[0m \u001b[0mComplexWarning\u001b[0m \u001b[0;32mas\u001b[0m \u001b[0mcomplex_warning\u001b[0m\u001b[0;34m:\u001b[0m\u001b[0;34m\u001b[0m\u001b[0;34m\u001b[0m\u001b[0m\n\u001b[1;32m    881\u001b[0m                 raise ValueError(\n",
            "\u001b[0;32m/usr/local/lib/python3.10/dist-packages/sklearn/utils/_array_api.py\u001b[0m in \u001b[0;36m_asarray_with_order\u001b[0;34m(array, dtype, order, copy, xp)\u001b[0m\n\u001b[1;32m    183\u001b[0m     \u001b[0;32mif\u001b[0m \u001b[0mxp\u001b[0m\u001b[0;34m.\u001b[0m\u001b[0m__name__\u001b[0m \u001b[0;32min\u001b[0m \u001b[0;34m{\u001b[0m\u001b[0;34m\"numpy\"\u001b[0m\u001b[0;34m,\u001b[0m \u001b[0;34m\"numpy.array_api\"\u001b[0m\u001b[0;34m}\u001b[0m\u001b[0;34m:\u001b[0m\u001b[0;34m\u001b[0m\u001b[0;34m\u001b[0m\u001b[0m\n\u001b[1;32m    184\u001b[0m         \u001b[0;31m# Use NumPy API to support order\u001b[0m\u001b[0;34m\u001b[0m\u001b[0;34m\u001b[0m\u001b[0m\n\u001b[0;32m--> 185\u001b[0;31m         \u001b[0marray\u001b[0m \u001b[0;34m=\u001b[0m \u001b[0mnumpy\u001b[0m\u001b[0;34m.\u001b[0m\u001b[0masarray\u001b[0m\u001b[0;34m(\u001b[0m\u001b[0marray\u001b[0m\u001b[0;34m,\u001b[0m \u001b[0morder\u001b[0m\u001b[0;34m=\u001b[0m\u001b[0morder\u001b[0m\u001b[0;34m,\u001b[0m \u001b[0mdtype\u001b[0m\u001b[0;34m=\u001b[0m\u001b[0mdtype\u001b[0m\u001b[0;34m)\u001b[0m\u001b[0;34m\u001b[0m\u001b[0;34m\u001b[0m\u001b[0m\n\u001b[0m\u001b[1;32m    186\u001b[0m         \u001b[0;32mreturn\u001b[0m \u001b[0mxp\u001b[0m\u001b[0;34m.\u001b[0m\u001b[0masarray\u001b[0m\u001b[0;34m(\u001b[0m\u001b[0marray\u001b[0m\u001b[0;34m,\u001b[0m \u001b[0mcopy\u001b[0m\u001b[0;34m=\u001b[0m\u001b[0mcopy\u001b[0m\u001b[0;34m)\u001b[0m\u001b[0;34m\u001b[0m\u001b[0;34m\u001b[0m\u001b[0m\n\u001b[1;32m    187\u001b[0m     \u001b[0;32melse\u001b[0m\u001b[0;34m:\u001b[0m\u001b[0;34m\u001b[0m\u001b[0;34m\u001b[0m\u001b[0m\n",
            "\u001b[0;32m/usr/local/lib/python3.10/dist-packages/pandas/core/generic.py\u001b[0m in \u001b[0;36m__array__\u001b[0;34m(self, dtype)\u001b[0m\n\u001b[1;32m   2068\u001b[0m \u001b[0;34m\u001b[0m\u001b[0m\n\u001b[1;32m   2069\u001b[0m     \u001b[0;32mdef\u001b[0m \u001b[0m__array__\u001b[0m\u001b[0;34m(\u001b[0m\u001b[0mself\u001b[0m\u001b[0;34m,\u001b[0m \u001b[0mdtype\u001b[0m\u001b[0;34m:\u001b[0m \u001b[0mnpt\u001b[0m\u001b[0;34m.\u001b[0m\u001b[0mDTypeLike\u001b[0m \u001b[0;34m|\u001b[0m \u001b[0;32mNone\u001b[0m \u001b[0;34m=\u001b[0m \u001b[0;32mNone\u001b[0m\u001b[0;34m)\u001b[0m \u001b[0;34m->\u001b[0m \u001b[0mnp\u001b[0m\u001b[0;34m.\u001b[0m\u001b[0mndarray\u001b[0m\u001b[0;34m:\u001b[0m\u001b[0;34m\u001b[0m\u001b[0;34m\u001b[0m\u001b[0m\n\u001b[0;32m-> 2070\u001b[0;31m         \u001b[0;32mreturn\u001b[0m \u001b[0mnp\u001b[0m\u001b[0;34m.\u001b[0m\u001b[0masarray\u001b[0m\u001b[0;34m(\u001b[0m\u001b[0mself\u001b[0m\u001b[0;34m.\u001b[0m\u001b[0m_values\u001b[0m\u001b[0;34m,\u001b[0m \u001b[0mdtype\u001b[0m\u001b[0;34m=\u001b[0m\u001b[0mdtype\u001b[0m\u001b[0;34m)\u001b[0m\u001b[0;34m\u001b[0m\u001b[0;34m\u001b[0m\u001b[0m\n\u001b[0m\u001b[1;32m   2071\u001b[0m \u001b[0;34m\u001b[0m\u001b[0m\n\u001b[1;32m   2072\u001b[0m     def __array_wrap__(\n",
            "\u001b[0;31mValueError\u001b[0m: could not convert string to float: \"'TA'\""
          ]
        }
      ]
    },
    {
      "cell_type": "markdown",
      "metadata": {
        "id": "sYq6meChRXxV"
      },
      "source": [
        "### Ordinal Encoding"
      ]
    },
    {
      "cell_type": "markdown",
      "metadata": {
        "id": "9-gCbJAYfJTo"
      },
      "source": [
        "Vamos a ver primero un ejemplo muy sencillo donde tenemos variables categóricas que siguen un orden y vamos a ver cómo codificarlas con OrdinalEncoder definiendo el orden de las categorías:"
      ]
    },
    {
      "cell_type": "code",
      "metadata": {
        "id": "s0R3Yv8tfFnW",
        "colab": {
          "base_uri": "https://localhost:8080/"
        },
        "outputId": "b8c297dd-1bd4-4ffe-b9db-59c27afe8f86"
      },
      "source": [
        "from sklearn.preprocessing import OrdinalEncoder\n",
        "\n",
        "# Sample dataframe with 2 ordinal categorical columns: 'temp' and 'place'\n",
        "categorical_df = pd.DataFrame({'my_id': ['101', '102', '103', '104'],\n",
        "                               'temp': ['hot', 'warm', 'cool', 'cold'],\n",
        "                               'place': ['third', 'second', 'first', 'second']})\n",
        "\n",
        "# In the 'temp' column, I want 'cold' to be 0, 'cool' to be 1, 'warm' to be 2, and 'hot' to be 3\n",
        "# In the 'place' column, I want 'first' to be 0, 'second' to be 1, and 'third' to be 2\n",
        "temp_categories = ['cold', 'cool', 'warm', 'hot']\n",
        "place_categories = ['first', 'second', 'third']\n",
        "\n",
        "# Now, when you instantiate the encoder, both of these lists go in one big categories list:\n",
        "encoder = OrdinalEncoder(categories=[temp_categories, place_categories])\n",
        "\n",
        "encoder.fit_transform(categorical_df[['temp', 'place']])"
      ],
      "execution_count": null,
      "outputs": [
        {
          "output_type": "execute_result",
          "data": {
            "text/plain": [
              "array([[3., 2.],\n",
              "       [2., 1.],\n",
              "       [1., 0.],\n",
              "       [0., 1.]])"
            ]
          },
          "metadata": {},
          "execution_count": 123
        }
      ]
    },
    {
      "cell_type": "markdown",
      "metadata": {
        "id": "SAO0KRaQRKKZ"
      },
      "source": [
        "Vamos a enfocarnos en la variable 'ExterQual' que recoge la calidad de los materiales exteriores de la casa"
      ]
    },
    {
      "cell_type": "code",
      "metadata": {
        "id": "7lL_2BX0UCBY"
      },
      "source": [
        "\n",
        "\n",
        "quality_order = [\"'Po'\",\"'Fa'\",\"'TA'\",\"'Gd'\",\"'Ex'\"]\n",
        "# # define ordinal encoding\n",
        "encoder = OrdinalEncoder(categories= [quality_order, quality_order])\n",
        "\n",
        "# #transform data\n",
        "X_ordinal = encoder.fit_transform(X_train_ordinal[ordinal_features])\n",
        "# #Let's put it back to a pandas dataframe\n",
        "X_ordinal = pd.DataFrame(X_ordinal,\n",
        "                              index=X_train_ordinal[ordinal_features].index,\n",
        "                              columns=X_train_ordinal[ordinal_features].columns)\n",
        "\n",
        "X_train_ordinal = pd.concat([X_train_scaled,\n",
        "                            X_ordinal], axis = 1)\n",
        "\n"
      ],
      "execution_count": null,
      "outputs": []
    },
    {
      "cell_type": "code",
      "metadata": {
        "id": "ZJb635OrqKaK"
      },
      "source": [
        "# # fit model with ordinal encoded features\n",
        "# reg_ordinal = model.fit(X_train_ordinal, y_train)\n",
        "# mae_reg_ordinal= compute_mae(X_train_ordinal, y_train, reg_ordinal)\n",
        "\n",
        "# print('Train MAE with Ordinal Encoded Data: ' + str(mae_reg_ordinal))"
      ],
      "execution_count": null,
      "outputs": []
    },
    {
      "cell_type": "code",
      "metadata": {
        "id": "NjHewgrNYNFG"
      },
      "source": [
        "# evaluate the model with polynomial transformed variables\n",
        "m_scores_reg_ordinal = cross_val_score(model, X_train_ordinal, y_train, scoring='neg_mean_absolute_error', cv=cv, n_jobs=-1)"
      ],
      "execution_count": null,
      "outputs": []
    },
    {
      "cell_type": "code",
      "metadata": {
        "id": "yaYJI6yrYNFy",
        "colab": {
          "base_uri": "https://localhost:8080/"
        },
        "outputId": "a9690ab2-28f2-4405-8efa-702261e189cd"
      },
      "source": [
        "print('CV Train MAE (Raw data): %.3f (%.3f)' % (np.mean(m_scores_reg) * (-1), np.std(m_scores_reg)))\n",
        "print('CV Train MAE (Ordinal Encoding): %.3f (%.3f)' % (np.mean(m_scores_reg_ordinal) * (-1), np.std(m_scores_reg_ordinal)))\n"
      ],
      "execution_count": null,
      "outputs": [
        {
          "output_type": "stream",
          "name": "stdout",
          "text": [
            "CV Train MAE (Raw data): 26618.316 (1357.147)\n",
            "CV Train MAE (Ordinal Encoding): 23971.977 (3071.325)\n"
          ]
        }
      ]
    },
    {
      "cell_type": "markdown",
      "metadata": {
        "id": "ZfDlmtgOdsyi"
      },
      "source": [
        "### One Hot Encoding - Dummy Variables"
      ]
    },
    {
      "cell_type": "markdown",
      "metadata": {
        "id": "NyLCxHBupUgy"
      },
      "source": [
        "Para ver cómo funciona One Hot Encoding (o su alternativa menos redundante Dummy variables) vamos a escoger un par de variables categóricas."
      ]
    },
    {
      "cell_type": "code",
      "metadata": {
        "id": "Pcvd-8aNwWnK",
        "colab": {
          "base_uri": "https://localhost:8080/"
        },
        "outputId": "9b0264bf-cd9a-4c40-c0e4-ba4d9f21400d"
      },
      "source": [
        "from sklearn.preprocessing import OneHotEncoder\n",
        "\n",
        "categorical_features = ['Neighborhood', 'MSZoning']\n",
        "\n",
        "X_train_categorical = pd.concat([X_train_scaled,\n",
        "                            X_train[categorical_features]],\n",
        "                            axis = 1)  #concat on columns\n",
        "axis = 1\n",
        "encoder = OneHotEncoder(sparse=False, #This prevents from creating sparse matrix\n",
        "                        drop='first') #This removes baseline variable\n",
        "\n",
        "onehot = encoder.fit_transform(X_train_categorical[categorical_features])\n",
        "\n",
        "#Create a Pandas DataFrame of the hot encoded columns\n",
        "# we pass categorical_features to get_feature_names to obtain prefixes\n",
        "ohe_df = pd.DataFrame(onehot,\n",
        "                      columns=encoder.get_feature_names_out(categorical_features))\n",
        "#Note that we set index from the original dataframe\n",
        "ohe_df.set_index(X_train_categorical.index, inplace = True)\n",
        "\n",
        "# #concat with original data\n",
        "\n",
        "X_train_ohe = pd.concat([X_train_categorical,\n",
        "                         ohe_df],\n",
        "                        axis = 1)\n",
        "\n",
        "print(X_train_ohe.head())\n",
        "\n",
        "# # drop original categorical variables\n",
        "X_train_ohe = X_train_ohe.drop(categorical_features, axis=1)\n",
        "\n"
      ],
      "execution_count": null,
      "outputs": [
        {
          "output_type": "stream",
          "name": "stdout",
          "text": [
            "      TotalBsmtSF  GrLivArea  FullBath   LotArea  YearBuilt Neighborhood  \\\n",
            "464      0.325000   0.188774  0.666667  0.033326   0.768116    'CollgCr'   \n",
            "471      0.252500   0.480088  0.666667  0.049788   0.760870     'NWAmes'   \n",
            "1332     0.255000   0.118532  0.333333  0.035416   0.478261    'Edwards'   \n",
            "435      0.249688   0.383506  0.666667  0.043782   0.898551    'CollgCr'   \n",
            "1209     0.518750   0.383192  0.666667  0.041515   0.971014    'Somerst'   \n",
            "\n",
            "     MSZoning  Neighborhood_'Blueste'  Neighborhood_'BrDale'  \\\n",
            "464      'RL'                     0.0                    0.0   \n",
            "471      'RL'                     0.0                    0.0   \n",
            "1332     'RL'                     0.0                    0.0   \n",
            "435      'RL'                     0.0                    0.0   \n",
            "1209     'RL'                     0.0                    0.0   \n",
            "\n",
            "      Neighborhood_'BrkSide'  ...  Neighborhood_'Sawyer'  \\\n",
            "464                      0.0  ...                    0.0   \n",
            "471                      0.0  ...                    0.0   \n",
            "1332                     0.0  ...                    0.0   \n",
            "435                      0.0  ...                    0.0   \n",
            "1209                     0.0  ...                    0.0   \n",
            "\n",
            "      Neighborhood_'SawyerW'  Neighborhood_'Somerst'  Neighborhood_'StoneBr'  \\\n",
            "464                      0.0                     0.0                     0.0   \n",
            "471                      0.0                     0.0                     0.0   \n",
            "1332                     0.0                     0.0                     0.0   \n",
            "435                      0.0                     0.0                     0.0   \n",
            "1209                     0.0                     1.0                     0.0   \n",
            "\n",
            "      Neighborhood_'Timber'  Neighborhood_'Veenker'  MSZoning_'FV'  \\\n",
            "464                     0.0                     0.0            0.0   \n",
            "471                     0.0                     0.0            0.0   \n",
            "1332                    0.0                     0.0            0.0   \n",
            "435                     0.0                     0.0            0.0   \n",
            "1209                    0.0                     0.0            0.0   \n",
            "\n",
            "      MSZoning_'RH'  MSZoning_'RL'  MSZoning_'RM'  \n",
            "464             0.0            1.0            0.0  \n",
            "471             0.0            1.0            0.0  \n",
            "1332            0.0            1.0            0.0  \n",
            "435             0.0            1.0            0.0  \n",
            "1209            0.0            1.0            0.0  \n",
            "\n",
            "[5 rows x 35 columns]\n"
          ]
        },
        {
          "output_type": "stream",
          "name": "stderr",
          "text": [
            "/usr/local/lib/python3.10/dist-packages/sklearn/preprocessing/_encoders.py:868: FutureWarning: `sparse` was renamed to `sparse_output` in version 1.2 and will be removed in 1.4. `sparse_output` is ignored unless you leave `sparse` to its default value.\n",
            "  warnings.warn(\n"
          ]
        }
      ]
    },
    {
      "cell_type": "code",
      "metadata": {
        "id": "5UTdpgUVlzg1",
        "colab": {
          "base_uri": "https://localhost:8080/"
        },
        "outputId": "5ccd1fa1-6329-413e-c08f-7194efa68870"
      },
      "source": [
        "# # fit model with selected features\n",
        "#model = LinearRegression(fit_intercept=True)\n",
        "model = KNeighborsRegressor()\n",
        "reg_ohe = model.fit(X_train_ohe, y_train)\n",
        "\n",
        "mae_reg_ohe= compute_mae(X_train_ohe, y_train, reg_ohe)\n",
        "\n",
        "print('Train MAE with One Hot Encoding Data: ' + str(mae_reg_ohe))"
      ],
      "execution_count": null,
      "outputs": [
        {
          "output_type": "stream",
          "name": "stdout",
          "text": [
            "Train MAE with One Hot Encoding Data: 19517.109322865555\n"
          ]
        }
      ]
    },
    {
      "cell_type": "code",
      "metadata": {
        "id": "U83TUx3KZNmf"
      },
      "source": [
        "# evaluate the model with polynomial transformed variables\n",
        "m_scores_reg_ohe = cross_val_score(model,\n",
        "                                   X_train_ohe,\n",
        "                                   y_train,\n",
        "                                   scoring='neg_mean_absolute_error',\n",
        "                                   cv=cv,\n",
        "                                   n_jobs=-1)"
      ],
      "execution_count": null,
      "outputs": []
    },
    {
      "cell_type": "code",
      "metadata": {
        "id": "SNs15sEiZNmg",
        "colab": {
          "base_uri": "https://localhost:8080/"
        },
        "outputId": "f667f056-e5b3-4134-8d53-078353c0fd9e"
      },
      "source": [
        "print('CV Train MAE (Raw data): %.3f (%.3f)' % (np.mean(m_scores_reg) * (-1), np.std(m_scores_reg)))\n",
        "print('CV Train MAE (One Hot Encoding): %.3f (%.3f)' % (np.mean(m_scores_reg_ohe) * (-1), np.std(m_scores_reg_ohe)))\n"
      ],
      "execution_count": null,
      "outputs": [
        {
          "output_type": "stream",
          "name": "stdout",
          "text": [
            "CV Train MAE (Raw data): 26618.316 (1357.147)\n",
            "CV Train MAE (One Hot Encoding): 24407.727 (2715.579)\n"
          ]
        }
      ]
    },
    {
      "cell_type": "markdown",
      "metadata": {
        "id": "_5whCzgwb7Zn"
      },
      "source": [
        "# Un pipeline un poco más complejo"
      ]
    },
    {
      "cell_type": "code",
      "metadata": {
        "id": "kYUnYGS3b_lA",
        "colab": {
          "base_uri": "https://localhost:8080/",
          "height": 227
        },
        "outputId": "b9b45da0-8700-4a4c-dfce-88c877603f4c"
      },
      "source": [
        "from sklearn.pipeline import Pipeline\n",
        "from sklearn.compose import ColumnTransformer\n",
        "from sklearn.impute import SimpleImputer\n",
        "from sklearn.preprocessing import StandardScaler, OneHotEncoder\n",
        "\n",
        "numeric_features = ['TotalBsmtSF', 'GrLivArea', 'FullBath', 'LotArea', 'YearBuilt']\n",
        "numeric_transformer = Pipeline(steps=[\n",
        "    ('imputer', SimpleImputer(strategy='median')),\n",
        "    ('scaler', StandardScaler())]) #it could be normalization\n",
        "\n",
        "categorical_features = ['Neighborhood', 'MSZoning', 'ExterQual', 'KitchenQual']\n",
        "categorical_transformer = Pipeline(steps=[\n",
        "      ('imputer', SimpleImputer(strategy='constant', fill_value='missing')),\n",
        "    ('onehot', OneHotEncoder(handle_unknown='ignore'))])\n",
        "\n",
        "preprocessor = ColumnTransformer(\n",
        "    transformers=[\n",
        "        ('num', numeric_transformer, numeric_features),\n",
        "        ('cat', categorical_transformer, categorical_features)])\n",
        "\n",
        "\n",
        "complex_pipeline = Pipeline(steps=[('preprocessor', preprocessor),\n",
        "                      ('model', KNeighborsRegressor())])\n",
        "\n",
        "# Fit the pipeline to train split\n",
        "complex_pipeline.fit(X_train, y_train)"
      ],
      "execution_count": null,
      "outputs": [
        {
          "output_type": "execute_result",
          "data": {
            "text/plain": [
              "Pipeline(steps=[('preprocessor',\n",
              "                 ColumnTransformer(transformers=[('num',\n",
              "                                                  Pipeline(steps=[('imputer',\n",
              "                                                                   SimpleImputer(strategy='median')),\n",
              "                                                                  ('scaler',\n",
              "                                                                   StandardScaler())]),\n",
              "                                                  ['TotalBsmtSF', 'GrLivArea',\n",
              "                                                   'FullBath', 'LotArea',\n",
              "                                                   'YearBuilt']),\n",
              "                                                 ('cat',\n",
              "                                                  Pipeline(steps=[('imputer',\n",
              "                                                                   SimpleImputer(fill_value='missing',\n",
              "                                                                                 strategy='constant')),\n",
              "                                                                  ('onehot',\n",
              "                                                                   OneHotEncoder(handle_unknown='ignore'))]),\n",
              "                                                  ['Neighborhood', 'MSZoning',\n",
              "                                                   'ExterQual',\n",
              "                                                   'KitchenQual'])])),\n",
              "                ('model', KNeighborsRegressor())])"
            ],
            "text/html": [
              "<style>#sk-container-id-1 {color: black;background-color: white;}#sk-container-id-1 pre{padding: 0;}#sk-container-id-1 div.sk-toggleable {background-color: white;}#sk-container-id-1 label.sk-toggleable__label {cursor: pointer;display: block;width: 100%;margin-bottom: 0;padding: 0.3em;box-sizing: border-box;text-align: center;}#sk-container-id-1 label.sk-toggleable__label-arrow:before {content: \"▸\";float: left;margin-right: 0.25em;color: #696969;}#sk-container-id-1 label.sk-toggleable__label-arrow:hover:before {color: black;}#sk-container-id-1 div.sk-estimator:hover label.sk-toggleable__label-arrow:before {color: black;}#sk-container-id-1 div.sk-toggleable__content {max-height: 0;max-width: 0;overflow: hidden;text-align: left;background-color: #f0f8ff;}#sk-container-id-1 div.sk-toggleable__content pre {margin: 0.2em;color: black;border-radius: 0.25em;background-color: #f0f8ff;}#sk-container-id-1 input.sk-toggleable__control:checked~div.sk-toggleable__content {max-height: 200px;max-width: 100%;overflow: auto;}#sk-container-id-1 input.sk-toggleable__control:checked~label.sk-toggleable__label-arrow:before {content: \"▾\";}#sk-container-id-1 div.sk-estimator input.sk-toggleable__control:checked~label.sk-toggleable__label {background-color: #d4ebff;}#sk-container-id-1 div.sk-label input.sk-toggleable__control:checked~label.sk-toggleable__label {background-color: #d4ebff;}#sk-container-id-1 input.sk-hidden--visually {border: 0;clip: rect(1px 1px 1px 1px);clip: rect(1px, 1px, 1px, 1px);height: 1px;margin: -1px;overflow: hidden;padding: 0;position: absolute;width: 1px;}#sk-container-id-1 div.sk-estimator {font-family: monospace;background-color: #f0f8ff;border: 1px dotted black;border-radius: 0.25em;box-sizing: border-box;margin-bottom: 0.5em;}#sk-container-id-1 div.sk-estimator:hover {background-color: #d4ebff;}#sk-container-id-1 div.sk-parallel-item::after {content: \"\";width: 100%;border-bottom: 1px solid gray;flex-grow: 1;}#sk-container-id-1 div.sk-label:hover label.sk-toggleable__label {background-color: #d4ebff;}#sk-container-id-1 div.sk-serial::before {content: \"\";position: absolute;border-left: 1px solid gray;box-sizing: border-box;top: 0;bottom: 0;left: 50%;z-index: 0;}#sk-container-id-1 div.sk-serial {display: flex;flex-direction: column;align-items: center;background-color: white;padding-right: 0.2em;padding-left: 0.2em;position: relative;}#sk-container-id-1 div.sk-item {position: relative;z-index: 1;}#sk-container-id-1 div.sk-parallel {display: flex;align-items: stretch;justify-content: center;background-color: white;position: relative;}#sk-container-id-1 div.sk-item::before, #sk-container-id-1 div.sk-parallel-item::before {content: \"\";position: absolute;border-left: 1px solid gray;box-sizing: border-box;top: 0;bottom: 0;left: 50%;z-index: -1;}#sk-container-id-1 div.sk-parallel-item {display: flex;flex-direction: column;z-index: 1;position: relative;background-color: white;}#sk-container-id-1 div.sk-parallel-item:first-child::after {align-self: flex-end;width: 50%;}#sk-container-id-1 div.sk-parallel-item:last-child::after {align-self: flex-start;width: 50%;}#sk-container-id-1 div.sk-parallel-item:only-child::after {width: 0;}#sk-container-id-1 div.sk-dashed-wrapped {border: 1px dashed gray;margin: 0 0.4em 0.5em 0.4em;box-sizing: border-box;padding-bottom: 0.4em;background-color: white;}#sk-container-id-1 div.sk-label label {font-family: monospace;font-weight: bold;display: inline-block;line-height: 1.2em;}#sk-container-id-1 div.sk-label-container {text-align: center;}#sk-container-id-1 div.sk-container {/* jupyter's `normalize.less` sets `[hidden] { display: none; }` but bootstrap.min.css set `[hidden] { display: none !important; }` so we also need the `!important` here to be able to override the default hidden behavior on the sphinx rendered scikit-learn.org. See: https://github.com/scikit-learn/scikit-learn/issues/21755 */display: inline-block !important;position: relative;}#sk-container-id-1 div.sk-text-repr-fallback {display: none;}</style><div id=\"sk-container-id-1\" class=\"sk-top-container\"><div class=\"sk-text-repr-fallback\"><pre>Pipeline(steps=[(&#x27;preprocessor&#x27;,\n",
              "                 ColumnTransformer(transformers=[(&#x27;num&#x27;,\n",
              "                                                  Pipeline(steps=[(&#x27;imputer&#x27;,\n",
              "                                                                   SimpleImputer(strategy=&#x27;median&#x27;)),\n",
              "                                                                  (&#x27;scaler&#x27;,\n",
              "                                                                   StandardScaler())]),\n",
              "                                                  [&#x27;TotalBsmtSF&#x27;, &#x27;GrLivArea&#x27;,\n",
              "                                                   &#x27;FullBath&#x27;, &#x27;LotArea&#x27;,\n",
              "                                                   &#x27;YearBuilt&#x27;]),\n",
              "                                                 (&#x27;cat&#x27;,\n",
              "                                                  Pipeline(steps=[(&#x27;imputer&#x27;,\n",
              "                                                                   SimpleImputer(fill_value=&#x27;missing&#x27;,\n",
              "                                                                                 strategy=&#x27;constant&#x27;)),\n",
              "                                                                  (&#x27;onehot&#x27;,\n",
              "                                                                   OneHotEncoder(handle_unknown=&#x27;ignore&#x27;))]),\n",
              "                                                  [&#x27;Neighborhood&#x27;, &#x27;MSZoning&#x27;,\n",
              "                                                   &#x27;ExterQual&#x27;,\n",
              "                                                   &#x27;KitchenQual&#x27;])])),\n",
              "                (&#x27;model&#x27;, KNeighborsRegressor())])</pre><b>In a Jupyter environment, please rerun this cell to show the HTML representation or trust the notebook. <br />On GitHub, the HTML representation is unable to render, please try loading this page with nbviewer.org.</b></div><div class=\"sk-container\" hidden><div class=\"sk-item sk-dashed-wrapped\"><div class=\"sk-label-container\"><div class=\"sk-label sk-toggleable\"><input class=\"sk-toggleable__control sk-hidden--visually\" id=\"sk-estimator-id-1\" type=\"checkbox\" ><label for=\"sk-estimator-id-1\" class=\"sk-toggleable__label sk-toggleable__label-arrow\">Pipeline</label><div class=\"sk-toggleable__content\"><pre>Pipeline(steps=[(&#x27;preprocessor&#x27;,\n",
              "                 ColumnTransformer(transformers=[(&#x27;num&#x27;,\n",
              "                                                  Pipeline(steps=[(&#x27;imputer&#x27;,\n",
              "                                                                   SimpleImputer(strategy=&#x27;median&#x27;)),\n",
              "                                                                  (&#x27;scaler&#x27;,\n",
              "                                                                   StandardScaler())]),\n",
              "                                                  [&#x27;TotalBsmtSF&#x27;, &#x27;GrLivArea&#x27;,\n",
              "                                                   &#x27;FullBath&#x27;, &#x27;LotArea&#x27;,\n",
              "                                                   &#x27;YearBuilt&#x27;]),\n",
              "                                                 (&#x27;cat&#x27;,\n",
              "                                                  Pipeline(steps=[(&#x27;imputer&#x27;,\n",
              "                                                                   SimpleImputer(fill_value=&#x27;missing&#x27;,\n",
              "                                                                                 strategy=&#x27;constant&#x27;)),\n",
              "                                                                  (&#x27;onehot&#x27;,\n",
              "                                                                   OneHotEncoder(handle_unknown=&#x27;ignore&#x27;))]),\n",
              "                                                  [&#x27;Neighborhood&#x27;, &#x27;MSZoning&#x27;,\n",
              "                                                   &#x27;ExterQual&#x27;,\n",
              "                                                   &#x27;KitchenQual&#x27;])])),\n",
              "                (&#x27;model&#x27;, KNeighborsRegressor())])</pre></div></div></div><div class=\"sk-serial\"><div class=\"sk-item sk-dashed-wrapped\"><div class=\"sk-label-container\"><div class=\"sk-label sk-toggleable\"><input class=\"sk-toggleable__control sk-hidden--visually\" id=\"sk-estimator-id-2\" type=\"checkbox\" ><label for=\"sk-estimator-id-2\" class=\"sk-toggleable__label sk-toggleable__label-arrow\">preprocessor: ColumnTransformer</label><div class=\"sk-toggleable__content\"><pre>ColumnTransformer(transformers=[(&#x27;num&#x27;,\n",
              "                                 Pipeline(steps=[(&#x27;imputer&#x27;,\n",
              "                                                  SimpleImputer(strategy=&#x27;median&#x27;)),\n",
              "                                                 (&#x27;scaler&#x27;, StandardScaler())]),\n",
              "                                 [&#x27;TotalBsmtSF&#x27;, &#x27;GrLivArea&#x27;, &#x27;FullBath&#x27;,\n",
              "                                  &#x27;LotArea&#x27;, &#x27;YearBuilt&#x27;]),\n",
              "                                (&#x27;cat&#x27;,\n",
              "                                 Pipeline(steps=[(&#x27;imputer&#x27;,\n",
              "                                                  SimpleImputer(fill_value=&#x27;missing&#x27;,\n",
              "                                                                strategy=&#x27;constant&#x27;)),\n",
              "                                                 (&#x27;onehot&#x27;,\n",
              "                                                  OneHotEncoder(handle_unknown=&#x27;ignore&#x27;))]),\n",
              "                                 [&#x27;Neighborhood&#x27;, &#x27;MSZoning&#x27;, &#x27;ExterQual&#x27;,\n",
              "                                  &#x27;KitchenQual&#x27;])])</pre></div></div></div><div class=\"sk-parallel\"><div class=\"sk-parallel-item\"><div class=\"sk-item\"><div class=\"sk-label-container\"><div class=\"sk-label sk-toggleable\"><input class=\"sk-toggleable__control sk-hidden--visually\" id=\"sk-estimator-id-3\" type=\"checkbox\" ><label for=\"sk-estimator-id-3\" class=\"sk-toggleable__label sk-toggleable__label-arrow\">num</label><div class=\"sk-toggleable__content\"><pre>[&#x27;TotalBsmtSF&#x27;, &#x27;GrLivArea&#x27;, &#x27;FullBath&#x27;, &#x27;LotArea&#x27;, &#x27;YearBuilt&#x27;]</pre></div></div></div><div class=\"sk-serial\"><div class=\"sk-item\"><div class=\"sk-serial\"><div class=\"sk-item\"><div class=\"sk-estimator sk-toggleable\"><input class=\"sk-toggleable__control sk-hidden--visually\" id=\"sk-estimator-id-4\" type=\"checkbox\" ><label for=\"sk-estimator-id-4\" class=\"sk-toggleable__label sk-toggleable__label-arrow\">SimpleImputer</label><div class=\"sk-toggleable__content\"><pre>SimpleImputer(strategy=&#x27;median&#x27;)</pre></div></div></div><div class=\"sk-item\"><div class=\"sk-estimator sk-toggleable\"><input class=\"sk-toggleable__control sk-hidden--visually\" id=\"sk-estimator-id-5\" type=\"checkbox\" ><label for=\"sk-estimator-id-5\" class=\"sk-toggleable__label sk-toggleable__label-arrow\">StandardScaler</label><div class=\"sk-toggleable__content\"><pre>StandardScaler()</pre></div></div></div></div></div></div></div></div><div class=\"sk-parallel-item\"><div class=\"sk-item\"><div class=\"sk-label-container\"><div class=\"sk-label sk-toggleable\"><input class=\"sk-toggleable__control sk-hidden--visually\" id=\"sk-estimator-id-6\" type=\"checkbox\" ><label for=\"sk-estimator-id-6\" class=\"sk-toggleable__label sk-toggleable__label-arrow\">cat</label><div class=\"sk-toggleable__content\"><pre>[&#x27;Neighborhood&#x27;, &#x27;MSZoning&#x27;, &#x27;ExterQual&#x27;, &#x27;KitchenQual&#x27;]</pre></div></div></div><div class=\"sk-serial\"><div class=\"sk-item\"><div class=\"sk-serial\"><div class=\"sk-item\"><div class=\"sk-estimator sk-toggleable\"><input class=\"sk-toggleable__control sk-hidden--visually\" id=\"sk-estimator-id-7\" type=\"checkbox\" ><label for=\"sk-estimator-id-7\" class=\"sk-toggleable__label sk-toggleable__label-arrow\">SimpleImputer</label><div class=\"sk-toggleable__content\"><pre>SimpleImputer(fill_value=&#x27;missing&#x27;, strategy=&#x27;constant&#x27;)</pre></div></div></div><div class=\"sk-item\"><div class=\"sk-estimator sk-toggleable\"><input class=\"sk-toggleable__control sk-hidden--visually\" id=\"sk-estimator-id-8\" type=\"checkbox\" ><label for=\"sk-estimator-id-8\" class=\"sk-toggleable__label sk-toggleable__label-arrow\">OneHotEncoder</label><div class=\"sk-toggleable__content\"><pre>OneHotEncoder(handle_unknown=&#x27;ignore&#x27;)</pre></div></div></div></div></div></div></div></div></div></div><div class=\"sk-item\"><div class=\"sk-estimator sk-toggleable\"><input class=\"sk-toggleable__control sk-hidden--visually\" id=\"sk-estimator-id-9\" type=\"checkbox\" ><label for=\"sk-estimator-id-9\" class=\"sk-toggleable__label sk-toggleable__label-arrow\">KNeighborsRegressor</label><div class=\"sk-toggleable__content\"><pre>KNeighborsRegressor()</pre></div></div></div></div></div></div></div>"
            ]
          },
          "metadata": {},
          "execution_count": 132
        }
      ]
    },
    {
      "cell_type": "code",
      "source": [
        "complex_pipeline.get_params"
      ],
      "metadata": {
        "id": "x8Cq6mIASahC",
        "colab": {
          "base_uri": "https://localhost:8080/"
        },
        "outputId": "98d768d7-26ce-43d9-b78d-d0b3cae5fec3"
      },
      "execution_count": null,
      "outputs": [
        {
          "output_type": "execute_result",
          "data": {
            "text/plain": [
              "<bound method Pipeline.get_params of Pipeline(steps=[('preprocessor',\n",
              "                 ColumnTransformer(transformers=[('num',\n",
              "                                                  Pipeline(steps=[('imputer',\n",
              "                                                                   SimpleImputer(strategy='median')),\n",
              "                                                                  ('scaler',\n",
              "                                                                   StandardScaler())]),\n",
              "                                                  ['TotalBsmtSF', 'GrLivArea',\n",
              "                                                   'FullBath', 'LotArea',\n",
              "                                                   'YearBuilt']),\n",
              "                                                 ('cat',\n",
              "                                                  Pipeline(steps=[('imputer',\n",
              "                                                                   SimpleImputer(fill_value='missing',\n",
              "                                                                                 strategy='constant')),\n",
              "                                                                  ('onehot',\n",
              "                                                                   OneHotEncoder(handle_unknown='ignore'))]),\n",
              "                                                  ['Neighborhood', 'MSZoning',\n",
              "                                                   'ExterQual',\n",
              "                                                   'KitchenQual'])])),\n",
              "                ('model', KNeighborsRegressor())])>"
            ]
          },
          "metadata": {},
          "execution_count": 133
        }
      ]
    },
    {
      "cell_type": "code",
      "metadata": {
        "id": "7dakESLAdZD7"
      },
      "source": [
        "# evaluate the model\n",
        "m_scores_complex_pipeline = cross_val_score(complex_pipeline, X_train, y_train,\n",
        "                                            scoring='neg_mean_absolute_error',\n",
        "                                            cv=cv,\n",
        "                                            n_jobs=-1)"
      ],
      "execution_count": null,
      "outputs": []
    },
    {
      "cell_type": "code",
      "metadata": {
        "id": "2q-vwnuoeqPF",
        "colab": {
          "base_uri": "https://localhost:8080/"
        },
        "outputId": "6faf0782-dd6f-409b-d9ac-7d48b1a97b1f"
      },
      "source": [
        "print('CV Train MAE (Numeric scaling + One Hot Encoding): %.3f (%.3f)' % (np.mean(m_scores_complex_pipeline) * (-1), np.std(m_scores_complex_pipeline)))\n"
      ],
      "execution_count": null,
      "outputs": [
        {
          "output_type": "stream",
          "name": "stdout",
          "text": [
            "CV Train MAE (Numeric scaling + One Hot Encoding): 21436.647 (1816.678)\n"
          ]
        }
      ]
    },
    {
      "cell_type": "code",
      "metadata": {
        "id": "p1Lp8FF-hjO-",
        "colab": {
          "base_uri": "https://localhost:8080/"
        },
        "outputId": "3c8b136d-b301-4a62-ae6c-42b342b1700f"
      },
      "source": [
        "compute_mae(X_test, y_test, complex_pipeline)"
      ],
      "execution_count": null,
      "outputs": [
        {
          "output_type": "execute_result",
          "data": {
            "text/plain": [
              "20943.545080091535"
            ]
          },
          "metadata": {},
          "execution_count": 136
        }
      ]
    }
  ]
}
