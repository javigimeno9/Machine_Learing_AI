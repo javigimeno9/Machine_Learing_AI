{
  "nbformat": 4,
  "nbformat_minor": 0,
  "metadata": {
    "kernelspec": {
      "display_name": "Python 3",
      "language": "python",
      "name": "python3"
    },
    "language_info": {
      "codemirror_mode": {
        "name": "ipython",
        "version": 3
      },
      "file_extension": ".py",
      "mimetype": "text/x-python",
      "name": "python",
      "nbconvert_exporter": "python",
      "pygments_lexer": "ipython3",
      "version": "3.6.6"
    },
    "varInspector": {
      "cols": {
        "lenName": 16,
        "lenType": 16,
        "lenVar": 40
      },
      "kernels_config": {
        "python": {
          "delete_cmd_postfix": "",
          "delete_cmd_prefix": "del ",
          "library": "var_list.py",
          "varRefreshCmd": "print(var_dic_list())"
        },
        "r": {
          "delete_cmd_postfix": ") ",
          "delete_cmd_prefix": "rm(",
          "library": "var_list.r",
          "varRefreshCmd": "cat(var_dic_list()) "
        }
      },
      "types_to_exclude": [
        "module",
        "function",
        "builtin_function_or_method",
        "instance",
        "_Feature"
      ],
      "window_display": false
    },
    "colab": {
      "provenance": [],
      "collapsed_sections": [
        "Nv4dPD_SfaEx",
        "dbjno1EHfaE1",
        "R8V9FtrFfaE4",
        "WPjNuQtEfaE9"
      ]
    }
  },
  "cells": [
    {
      "cell_type": "markdown",
      "metadata": {
        "id": "cmAPvmFJfaEY"
      },
      "source": [
        "<img src=\"https://thevalley.es/wp-content/uploads/2016/11/thevalley-logo-negro.png\" width=\"400\"></img>"
      ]
    },
    {
      "cell_type": "markdown",
      "metadata": {
        "id": "MgcLUz5jfaEb"
      },
      "source": [
        "\n",
        "# Introducción al algoritmo de los k vecinos más próximos\n",
        "\n",
        "<img src=\"https://github.com/davidreyblanco/ml-training/blob/master/resources/neighbor.jpeg?raw=true\" width=\"400\"></img>\n",
        "\n",
        "Notebook por\n",
        "[David Rey Blanco](https://www.linkedin.com/in/davidreyblanco).\n",
        "\n",
        "*Recursos*: Los códigos de esta sesión y recursos se pueden encontra en el [repositorio](https://github.com/davidreyblanco/ml-training)\n",
        "<br/>\n",
        "<hr/>\n",
        "\n",
        "El algoritmo de los K-Nearest-Neighbors o *K-Vecinos* es un algoritmo basado en instancias (o vago) y de tipo supervisado de Machine Learning. Puede usarse para clasificar elemementos (valores discretos) o para predecir valores continuos(regresión, valores continuos).\n",
        "\n",
        "Es un algoritmo muy usado, y es simple, fácil de entender, *fácil de interpretar*, versátil y uno de los mejores de aprendizaje automático. KNN se utiliza en una amplia gama de aplicaciones como finanzas, salud, ciencias políticas, detección de escritura, reconocimiento de imágenes y video.\n",
        "\n",
        "## Algoritmos vagos versus voraces\n",
        "\n",
        "En inteligencia artificial los algoritmos vagos o basados en instancias se diferencian de los algoritmos voraces porque los primeros se construyen para cada caso que se evalúa, siendo su tiempo de construcción cero. Sus ventajas e inconvenientes son:\n",
        "\n",
        "* Su **ventaja** es que son muy flexibles para adaptarse a las condiciones locales de la instancia que queremos predecir.\n",
        "* Su principal **inconveniente** es que requieren mantener en memoria todo el conjunto de datos.\n",
        "Otro inconveniente es que cuando no tienen información local no producen buenas predicciones (si las producen).\n",
        "\n",
        "Los algoritmos voraces o basados en modelo sin embargo intentan generalizar un comportamiento a partir del conjunto de datos completo con la construcción de un modelo.\n",
        "Estos algoritmos son costosos de construir pero muy eficientes en la ejecución, generalizan los comportamientos (a veces demasiado) Esta discusión también conocida como instance learners versus model learners.\n",
        "\n",
        "\n",
        "## El algoritmo KNN\n",
        "KNN es un algoritmo de aprendizaje vago y no paramétrico. No paramétrico significa que no hay suposiciones para la distribución de datos subyacente. En otras palabras, la estructura del modelo determinada a partir del conjunto de datos. Esto será muy útil en la práctica donde la mayoría de los conjuntos de datos del mundo real no siguen supuestos teóricos matemáticos. El algoritmo perezoso significa que no necesita ningún punto de datos de entrenamiento para la generación del modelo. Todos los datos de entrenamiento utilizados en la fase de prueba. Esto hace que el entrenamiento sea más rápido y la fase de prueba más lenta y costosa. La costosa fase de prueba significa tiempo y memoria. En el peor de los casos, KNN necesita más tiempo para escanear todos los puntos de datos y escanear todos los puntos de datos requerirá más memoria para almacenar los datos de entrenamiento.\n",
        "\n",
        "![Imagen](http://res.cloudinary.com/dyd911kmh/image/upload/f_auto,q_auto:best/v1531424125/Knn_k1_z96jba.png)\n",
        "\n",
        "Suponga que P1 es el punto, para el cual la etiqueta necesita predecir. Primero, encuentra el k punto más cercano a P1 y luego clasifica los puntos por voto mayoritario de sus k vecinos. Cada objeto vota por su clase y la clase con más votos se toma como predicción. Para encontrar puntos similares más cercanos, encuentre la distancia entre puntos utilizando medidas de distancia como la distancia euclidiana, la distancia de Hamming, la distancia de Manhattan y la distancia de Minkowski.\n",
        "\n",
        "Nuestro algoritmo sigue estos tres pasos:\n",
        "\n",
        "* Calcular la distancia\n",
        "* Encuentra los K vecinos más cercanos\n",
        "* Votación para la selección de la clase\n",
        "\n",
        "![Imagen](http://res.cloudinary.com/dyd911kmh/image/upload/f_auto,q_auto:best/v1531424125/KNN_final1_ibdm8a.png)\n",
        "\n",
        "\n",
        "### ¿Cómo funciona el algoritmo KNN?\n",
        "\n",
        "En KNN, K es el número de vecinos más cercanos. El número de vecinos es el factor decisivo fundamental. K es generalmente un número impar si el número de clases es 2. Cuando K = 1, entonces el algoritmo se conoce como el algoritmo de vecino más cercano. Este es el caso más simple. Suponga que P1 es el punto, para el cual la etiqueta necesita predecir. Primero, busque el punto más cercano a P1 y luego la etiqueta del punto más cercano asignado a P1.\n",
        "\n",
        "### La maldición de la dimensionalidad\n",
        "\n",
        "KNN funciona mejor con una menor cantidad de variables que una gran cantidad de variables. Se puede decir que cuando aumenta el número de funciones, se requieren más datos, de forma que el incremento de las dimensiones también conduce al problema del sobreajuste. Para evitar el sobreajuste, los datos necesarios deberán crecer exponencialmente a medida que aumente el número de dimensiones (y esto como se puede suponer tiene un claro impacto en los tiempos de ejecución y la memoria necesaria). A este problema se lo conoce como **la maldición de la dimensionalidad**.\n",
        "\n",
        "Para atacar el problema de la maldición de la dimensionalidad, debe pueden realizar actividades que nos reduzcan el número de dimensiones como un análisis de componentes principales antes de aplicar nuestro algoritmo de aprendizaje automático, o también puede usar el enfoque de selección de características (ambas no dejan de ser formas de reducir nuestro espacio de características de un número alto a un número más bajo, asegurando que la pérdida de información sea mínima y nuestros modelos no pierdan precisión).\n",
        "\n",
        "Es importante tener en cuenta que en múltiples artículos de investigación se ha demostrado que en grandes dimensiones la distancia euclidiana ya no es útil. Por lo tanto, es muy importante la decisión que medida es más apropiada. Como hemos visto en el módulo de distancias en casos de alta dimensionalidad y espacios dispersos puede ser muy interesante usar la similitud del coseno en lugar de la euclídea porque es menos sensible al impacto de la alta dimensionalidad.\n"
      ]
    },
    {
      "cell_type": "markdown",
      "metadata": {
        "id": "KtklfofJfaEe"
      },
      "source": [
        "# Conjuntos de datos\n",
        "(https://www.openml.org/s/76/data)"
      ]
    },
    {
      "cell_type": "code",
      "metadata": {
        "id": "6d3q-LpsfaEe"
      },
      "source": [
        "# Importamos scikit-learn metrics module for accuracy calculation\n",
        "from sklearn import metrics\n",
        "# Importamos  train_test_split function\n",
        "from sklearn.model_selection import train_test_split\n",
        "# Tranformación de variables\n",
        "from sklearn import preprocessing\n",
        "import pandas as pd\n",
        "import numpy as np\n",
        "# Ignoramos los warning que no quedan muy bien\n",
        "import warnings\n",
        "warnings.filterwarnings('ignore')"
      ],
      "execution_count": null,
      "outputs": []
    },
    {
      "cell_type": "markdown",
      "metadata": {
        "id": "H7MKzGtdfaEg"
      },
      "source": [
        "# Una primera aproximación al algoritmo de k-vecinos\n",
        "\n",
        "Vamos a hacer una primera prueba [del algoritmo de k-vecinos de scikit learn](https://scikit-learn.org/stable/modules/classes.html#module-sklearn.neighbors) con un primer clasificador de animales en función del peso (en kilos) de cada animal."
      ]
    },
    {
      "cell_type": "code",
      "metadata": {
        "id": "9SbHFsOVfaEg"
      },
      "source": [
        "# Importamos  de librerías\n",
        "from sklearn.neighbors import KNeighborsClassifier"
      ],
      "execution_count": null,
      "outputs": []
    },
    {
      "cell_type": "code",
      "metadata": {
        "id": "3Fp6hdaVfaEh",
        "colab": {
          "base_uri": "https://localhost:8080/"
        },
        "outputId": "8d8261ea-aceb-414f-fd19-ce8328413b73"
      },
      "source": [
        "Peso = [[2.5], [1.3], [0.8], [3.3],[120],[150],[133],[210]]\n",
        "# 1 -> Gato\n",
        "# 2 -> Tigre\n",
        "clase = ['gato', 'gato', 'gato', 'gato', 'tigre', 'tigre','tigre','tigre']\n",
        "neigh = KNeighborsClassifier(n_neighbors=3)\n",
        "neigh.fit(Peso, clase)\n",
        "print(neigh.predict([[2.3]]))\n",
        "print(neigh.predict([[199]]))\n",
        "\n",
        "# Estimamos la probabilidad par aun animal de 2.3 kg\n",
        "print(neigh.predict_proba([[2.3]]))\n",
        "# Y si nos encontramos un animal del 80kg\n",
        "print(neigh.predict([[80]]))\n",
        "print(neigh.predict_proba([[80]]))"
      ],
      "execution_count": null,
      "outputs": [
        {
          "output_type": "stream",
          "name": "stdout",
          "text": [
            "['gato']\n",
            "['tigre']\n",
            "[[1. 0.]]\n",
            "['tigre']\n",
            "[[0. 1.]]\n"
          ]
        }
      ]
    },
    {
      "cell_type": "markdown",
      "metadata": {
        "id": "a1fbJmLcfaEj"
      },
      "source": [
        "## Jugando con las medidas de distancia\n",
        "\n",
        "Vamos a poner a prueba nuestros conocimientos uniform le da la misma importancia a todas las instancias *(weights=uniform)*, que es el valor por defecto"
      ]
    },
    {
      "cell_type": "code",
      "metadata": {
        "id": "V7WJ-sPFfaEj",
        "colab": {
          "base_uri": "https://localhost:8080/"
        },
        "outputId": "2cb17bfe-0cb2-468f-f27f-272110660e7e"
      },
      "source": [
        "Peso = [[2.5], [1.3], [0.8], [3.3],[190]]\n",
        "clase = ['gato', 'gato', 'gato', 'gato', 'tigre']\n",
        "neigh = KNeighborsClassifier(n_neighbors=3, weights='uniform')\n",
        "neigh.fit(Peso, clase)\n",
        "print(neigh.predict([[2.3]]))\n",
        "print(neigh.predict([[199]]))\n",
        "print(neigh.predict_proba([[2.3]]))\n",
        "print(neigh.predict_proba([[199]]))"
      ],
      "execution_count": null,
      "outputs": [
        {
          "output_type": "stream",
          "name": "stdout",
          "text": [
            "['gato']\n",
            "['gato']\n",
            "[[1. 0.]]\n",
            "[[0.66666667 0.33333333]]\n"
          ]
        }
      ]
    },
    {
      "cell_type": "markdown",
      "metadata": {
        "id": "WkNf0EnffaEk"
      },
      "source": [
        "*Pregunta)* ¿Qué está pasando ....?\n",
        "\n",
        "Ahora vamos a probar con una versión del método que asigna un peso mayor a la instancia cuanto más cerca este de nuestro dato de entrada *(weights=distance)*"
      ]
    },
    {
      "cell_type": "code",
      "metadata": {
        "id": "GqG9J3HXfaEm",
        "colab": {
          "base_uri": "https://localhost:8080/"
        },
        "outputId": "aeb965e2-5d8b-4f97-c49d-8f7607e82c84"
      },
      "source": [
        "Peso = [[2.5], [1.3], [0.8], [3.3],[190]]\n",
        "clase = ['gato', 'gato', 'gato', 'gato', 'tigre']\n",
        "neigh = KNeighborsClassifier(n_neighbors=3, weights='distance')\n",
        "neigh.fit(Peso, clase)\n",
        "print(neigh.predict([[2.3]]))\n",
        "print(neigh.predict([[199]]))\n",
        "print(neigh.predict_proba([[2.33]]))\n",
        "print(neigh.predict_proba([[199]]))"
      ],
      "execution_count": null,
      "outputs": [
        {
          "output_type": "stream",
          "name": "stdout",
          "text": [
            "['gato']\n",
            "['tigre']\n",
            "[[1. 0.]]\n",
            "[[0.08407318 0.91592682]]\n"
          ]
        }
      ]
    },
    {
      "cell_type": "markdown",
      "metadata": {
        "id": "zGji8mlVfaEm"
      },
      "source": [
        "## El efecto de la normalización / estandarización de variables\n",
        "\n",
        "Vamos a ver el efecto de la estandarización en la clasificación, ahora usaremos un ejemplo en el que tenemos un a lista de clientes, cada uno con dos atributos y una clase:\n",
        "\n",
        "    * Gasto anual en euros\n",
        "    * Edad\n",
        "    * Clase: starter, senior"
      ]
    },
    {
      "cell_type": "code",
      "metadata": {
        "id": "ZIgexPG_faEn",
        "colab": {
          "base_uri": "https://localhost:8080/",
          "height": 269
        },
        "outputId": "767fe119-3232-45ff-ca90-f26e0965b260"
      },
      "source": [
        "# Probamos el algoritmo estandarizando las columnas\n",
        "clientes = [[1200,30], [1350,35], [1550,60], [1400,55],[1600,75],[1400,20],[1120,25]]\n",
        "clase_cliente = ['starter','starter','senior','senior','senior','starter','starter']\n",
        "df = pd.DataFrame(clientes, columns=['gasto','edad'])\n",
        "df"
      ],
      "execution_count": null,
      "outputs": [
        {
          "output_type": "execute_result",
          "data": {
            "text/plain": [
              "   gasto  edad\n",
              "0   1200    30\n",
              "1   1350    35\n",
              "2   1550    60\n",
              "3   1400    55\n",
              "4   1600    75\n",
              "5   1400    20\n",
              "6   1120    25"
            ],
            "text/html": [
              "\n",
              "  <div id=\"df-7f551848-cab8-45ac-b622-b865a9e2bdd1\" class=\"colab-df-container\">\n",
              "    <div>\n",
              "<style scoped>\n",
              "    .dataframe tbody tr th:only-of-type {\n",
              "        vertical-align: middle;\n",
              "    }\n",
              "\n",
              "    .dataframe tbody tr th {\n",
              "        vertical-align: top;\n",
              "    }\n",
              "\n",
              "    .dataframe thead th {\n",
              "        text-align: right;\n",
              "    }\n",
              "</style>\n",
              "<table border=\"1\" class=\"dataframe\">\n",
              "  <thead>\n",
              "    <tr style=\"text-align: right;\">\n",
              "      <th></th>\n",
              "      <th>gasto</th>\n",
              "      <th>edad</th>\n",
              "    </tr>\n",
              "  </thead>\n",
              "  <tbody>\n",
              "    <tr>\n",
              "      <th>0</th>\n",
              "      <td>1200</td>\n",
              "      <td>30</td>\n",
              "    </tr>\n",
              "    <tr>\n",
              "      <th>1</th>\n",
              "      <td>1350</td>\n",
              "      <td>35</td>\n",
              "    </tr>\n",
              "    <tr>\n",
              "      <th>2</th>\n",
              "      <td>1550</td>\n",
              "      <td>60</td>\n",
              "    </tr>\n",
              "    <tr>\n",
              "      <th>3</th>\n",
              "      <td>1400</td>\n",
              "      <td>55</td>\n",
              "    </tr>\n",
              "    <tr>\n",
              "      <th>4</th>\n",
              "      <td>1600</td>\n",
              "      <td>75</td>\n",
              "    </tr>\n",
              "    <tr>\n",
              "      <th>5</th>\n",
              "      <td>1400</td>\n",
              "      <td>20</td>\n",
              "    </tr>\n",
              "    <tr>\n",
              "      <th>6</th>\n",
              "      <td>1120</td>\n",
              "      <td>25</td>\n",
              "    </tr>\n",
              "  </tbody>\n",
              "</table>\n",
              "</div>\n",
              "    <div class=\"colab-df-buttons\">\n",
              "\n",
              "  <div class=\"colab-df-container\">\n",
              "    <button class=\"colab-df-convert\" onclick=\"convertToInteractive('df-7f551848-cab8-45ac-b622-b865a9e2bdd1')\"\n",
              "            title=\"Convert this dataframe to an interactive table.\"\n",
              "            style=\"display:none;\">\n",
              "\n",
              "  <svg xmlns=\"http://www.w3.org/2000/svg\" height=\"24px\" viewBox=\"0 -960 960 960\">\n",
              "    <path d=\"M120-120v-720h720v720H120Zm60-500h600v-160H180v160Zm220 220h160v-160H400v160Zm0 220h160v-160H400v160ZM180-400h160v-160H180v160Zm440 0h160v-160H620v160ZM180-180h160v-160H180v160Zm440 0h160v-160H620v160Z\"/>\n",
              "  </svg>\n",
              "    </button>\n",
              "\n",
              "  <style>\n",
              "    .colab-df-container {\n",
              "      display:flex;\n",
              "      gap: 12px;\n",
              "    }\n",
              "\n",
              "    .colab-df-convert {\n",
              "      background-color: #E8F0FE;\n",
              "      border: none;\n",
              "      border-radius: 50%;\n",
              "      cursor: pointer;\n",
              "      display: none;\n",
              "      fill: #1967D2;\n",
              "      height: 32px;\n",
              "      padding: 0 0 0 0;\n",
              "      width: 32px;\n",
              "    }\n",
              "\n",
              "    .colab-df-convert:hover {\n",
              "      background-color: #E2EBFA;\n",
              "      box-shadow: 0px 1px 2px rgba(60, 64, 67, 0.3), 0px 1px 3px 1px rgba(60, 64, 67, 0.15);\n",
              "      fill: #174EA6;\n",
              "    }\n",
              "\n",
              "    .colab-df-buttons div {\n",
              "      margin-bottom: 4px;\n",
              "    }\n",
              "\n",
              "    [theme=dark] .colab-df-convert {\n",
              "      background-color: #3B4455;\n",
              "      fill: #D2E3FC;\n",
              "    }\n",
              "\n",
              "    [theme=dark] .colab-df-convert:hover {\n",
              "      background-color: #434B5C;\n",
              "      box-shadow: 0px 1px 3px 1px rgba(0, 0, 0, 0.15);\n",
              "      filter: drop-shadow(0px 1px 2px rgba(0, 0, 0, 0.3));\n",
              "      fill: #FFFFFF;\n",
              "    }\n",
              "  </style>\n",
              "\n",
              "    <script>\n",
              "      const buttonEl =\n",
              "        document.querySelector('#df-7f551848-cab8-45ac-b622-b865a9e2bdd1 button.colab-df-convert');\n",
              "      buttonEl.style.display =\n",
              "        google.colab.kernel.accessAllowed ? 'block' : 'none';\n",
              "\n",
              "      async function convertToInteractive(key) {\n",
              "        const element = document.querySelector('#df-7f551848-cab8-45ac-b622-b865a9e2bdd1');\n",
              "        const dataTable =\n",
              "          await google.colab.kernel.invokeFunction('convertToInteractive',\n",
              "                                                    [key], {});\n",
              "        if (!dataTable) return;\n",
              "\n",
              "        const docLinkHtml = 'Like what you see? Visit the ' +\n",
              "          '<a target=\"_blank\" href=https://colab.research.google.com/notebooks/data_table.ipynb>data table notebook</a>'\n",
              "          + ' to learn more about interactive tables.';\n",
              "        element.innerHTML = '';\n",
              "        dataTable['output_type'] = 'display_data';\n",
              "        await google.colab.output.renderOutput(dataTable, element);\n",
              "        const docLink = document.createElement('div');\n",
              "        docLink.innerHTML = docLinkHtml;\n",
              "        element.appendChild(docLink);\n",
              "      }\n",
              "    </script>\n",
              "  </div>\n",
              "\n",
              "\n",
              "<div id=\"df-89f1d2ed-d7cb-46dd-82d7-67889673f912\">\n",
              "  <button class=\"colab-df-quickchart\" onclick=\"quickchart('df-89f1d2ed-d7cb-46dd-82d7-67889673f912')\"\n",
              "            title=\"Suggest charts\"\n",
              "            style=\"display:none;\">\n",
              "\n",
              "<svg xmlns=\"http://www.w3.org/2000/svg\" height=\"24px\"viewBox=\"0 0 24 24\"\n",
              "     width=\"24px\">\n",
              "    <g>\n",
              "        <path d=\"M19 3H5c-1.1 0-2 .9-2 2v14c0 1.1.9 2 2 2h14c1.1 0 2-.9 2-2V5c0-1.1-.9-2-2-2zM9 17H7v-7h2v7zm4 0h-2V7h2v10zm4 0h-2v-4h2v4z\"/>\n",
              "    </g>\n",
              "</svg>\n",
              "  </button>\n",
              "\n",
              "<style>\n",
              "  .colab-df-quickchart {\n",
              "      --bg-color: #E8F0FE;\n",
              "      --fill-color: #1967D2;\n",
              "      --hover-bg-color: #E2EBFA;\n",
              "      --hover-fill-color: #174EA6;\n",
              "      --disabled-fill-color: #AAA;\n",
              "      --disabled-bg-color: #DDD;\n",
              "  }\n",
              "\n",
              "  [theme=dark] .colab-df-quickchart {\n",
              "      --bg-color: #3B4455;\n",
              "      --fill-color: #D2E3FC;\n",
              "      --hover-bg-color: #434B5C;\n",
              "      --hover-fill-color: #FFFFFF;\n",
              "      --disabled-bg-color: #3B4455;\n",
              "      --disabled-fill-color: #666;\n",
              "  }\n",
              "\n",
              "  .colab-df-quickchart {\n",
              "    background-color: var(--bg-color);\n",
              "    border: none;\n",
              "    border-radius: 50%;\n",
              "    cursor: pointer;\n",
              "    display: none;\n",
              "    fill: var(--fill-color);\n",
              "    height: 32px;\n",
              "    padding: 0;\n",
              "    width: 32px;\n",
              "  }\n",
              "\n",
              "  .colab-df-quickchart:hover {\n",
              "    background-color: var(--hover-bg-color);\n",
              "    box-shadow: 0 1px 2px rgba(60, 64, 67, 0.3), 0 1px 3px 1px rgba(60, 64, 67, 0.15);\n",
              "    fill: var(--button-hover-fill-color);\n",
              "  }\n",
              "\n",
              "  .colab-df-quickchart-complete:disabled,\n",
              "  .colab-df-quickchart-complete:disabled:hover {\n",
              "    background-color: var(--disabled-bg-color);\n",
              "    fill: var(--disabled-fill-color);\n",
              "    box-shadow: none;\n",
              "  }\n",
              "\n",
              "  .colab-df-spinner {\n",
              "    border: 2px solid var(--fill-color);\n",
              "    border-color: transparent;\n",
              "    border-bottom-color: var(--fill-color);\n",
              "    animation:\n",
              "      spin 1s steps(1) infinite;\n",
              "  }\n",
              "\n",
              "  @keyframes spin {\n",
              "    0% {\n",
              "      border-color: transparent;\n",
              "      border-bottom-color: var(--fill-color);\n",
              "      border-left-color: var(--fill-color);\n",
              "    }\n",
              "    20% {\n",
              "      border-color: transparent;\n",
              "      border-left-color: var(--fill-color);\n",
              "      border-top-color: var(--fill-color);\n",
              "    }\n",
              "    30% {\n",
              "      border-color: transparent;\n",
              "      border-left-color: var(--fill-color);\n",
              "      border-top-color: var(--fill-color);\n",
              "      border-right-color: var(--fill-color);\n",
              "    }\n",
              "    40% {\n",
              "      border-color: transparent;\n",
              "      border-right-color: var(--fill-color);\n",
              "      border-top-color: var(--fill-color);\n",
              "    }\n",
              "    60% {\n",
              "      border-color: transparent;\n",
              "      border-right-color: var(--fill-color);\n",
              "    }\n",
              "    80% {\n",
              "      border-color: transparent;\n",
              "      border-right-color: var(--fill-color);\n",
              "      border-bottom-color: var(--fill-color);\n",
              "    }\n",
              "    90% {\n",
              "      border-color: transparent;\n",
              "      border-bottom-color: var(--fill-color);\n",
              "    }\n",
              "  }\n",
              "</style>\n",
              "\n",
              "  <script>\n",
              "    async function quickchart(key) {\n",
              "      const quickchartButtonEl =\n",
              "        document.querySelector('#' + key + ' button');\n",
              "      quickchartButtonEl.disabled = true;  // To prevent multiple clicks.\n",
              "      quickchartButtonEl.classList.add('colab-df-spinner');\n",
              "      try {\n",
              "        const charts = await google.colab.kernel.invokeFunction(\n",
              "            'suggestCharts', [key], {});\n",
              "      } catch (error) {\n",
              "        console.error('Error during call to suggestCharts:', error);\n",
              "      }\n",
              "      quickchartButtonEl.classList.remove('colab-df-spinner');\n",
              "      quickchartButtonEl.classList.add('colab-df-quickchart-complete');\n",
              "    }\n",
              "    (() => {\n",
              "      let quickchartButtonEl =\n",
              "        document.querySelector('#df-89f1d2ed-d7cb-46dd-82d7-67889673f912 button');\n",
              "      quickchartButtonEl.style.display =\n",
              "        google.colab.kernel.accessAllowed ? 'block' : 'none';\n",
              "    })();\n",
              "  </script>\n",
              "</div>\n",
              "    </div>\n",
              "  </div>\n"
            ]
          },
          "metadata": {},
          "execution_count": 6
        }
      ]
    },
    {
      "cell_type": "markdown",
      "metadata": {
        "id": "Vtz3GTyFfaEn"
      },
      "source": [
        "Creamos nuestro modelo basado en los K=2 vecinos más cercanos"
      ]
    },
    {
      "cell_type": "code",
      "metadata": {
        "id": "ERLh7DpBfaEo",
        "colab": {
          "base_uri": "https://localhost:8080/"
        },
        "outputId": "96f03fce-bbae-4698-a51d-d5e968185881"
      },
      "source": [
        "neigh = KNeighborsClassifier(n_neighbors=2)\n",
        "neigh.fit(clientes, clase_cliente)\n",
        "clientes_nuevos = [[1450, 28], [1185, 74]]\n",
        "print(neigh.predict(clientes_nuevos))"
      ],
      "execution_count": null,
      "outputs": [
        {
          "output_type": "stream",
          "name": "stdout",
          "text": [
            "['senior' 'starter']\n"
          ]
        }
      ]
    },
    {
      "cell_type": "markdown",
      "metadata": {
        "id": "oL-MCHGlfaEp"
      },
      "source": [
        "Vamos a ver si cambia si normalizamos los datos ver [las funciones de preprocesado](https://scikit-learn.org/stable/modules/preprocessing.html)"
      ]
    },
    {
      "cell_type": "code",
      "metadata": {
        "id": "7L_C2nd0faEp",
        "colab": {
          "base_uri": "https://localhost:8080/",
          "height": 269
        },
        "outputId": "b5323e50-1ffa-4fe7-84dc-13012915eca7"
      },
      "source": [
        "# Creamos un transformador\n",
        "scaler_df = preprocessing.StandardScaler().fit(df.values)\n",
        "# Re escalamos el conjunto de entrada\n",
        "array_clientes_scaled = scaler_df.transform(df.values)\n",
        "df_scaled = pd.DataFrame(array_clientes_scaled, columns=['gasto','edad'])\n",
        "df_scaled"
      ],
      "execution_count": null,
      "outputs": [
        {
          "output_type": "execute_result",
          "data": {
            "text/plain": [
              "      gasto      edad\n",
              "0 -1.090591 -0.674579\n",
              "1 -0.151968 -0.412242\n",
              "2  1.099530  0.899438\n",
              "3  0.160907  0.637102\n",
              "4  1.412404  1.686446\n",
              "5  0.160907 -1.199251\n",
              "6 -1.591190 -0.936915"
            ],
            "text/html": [
              "\n",
              "  <div id=\"df-1ee7e2cf-93b6-4d02-8e27-eda2346000a7\" class=\"colab-df-container\">\n",
              "    <div>\n",
              "<style scoped>\n",
              "    .dataframe tbody tr th:only-of-type {\n",
              "        vertical-align: middle;\n",
              "    }\n",
              "\n",
              "    .dataframe tbody tr th {\n",
              "        vertical-align: top;\n",
              "    }\n",
              "\n",
              "    .dataframe thead th {\n",
              "        text-align: right;\n",
              "    }\n",
              "</style>\n",
              "<table border=\"1\" class=\"dataframe\">\n",
              "  <thead>\n",
              "    <tr style=\"text-align: right;\">\n",
              "      <th></th>\n",
              "      <th>gasto</th>\n",
              "      <th>edad</th>\n",
              "    </tr>\n",
              "  </thead>\n",
              "  <tbody>\n",
              "    <tr>\n",
              "      <th>0</th>\n",
              "      <td>-1.090591</td>\n",
              "      <td>-0.674579</td>\n",
              "    </tr>\n",
              "    <tr>\n",
              "      <th>1</th>\n",
              "      <td>-0.151968</td>\n",
              "      <td>-0.412242</td>\n",
              "    </tr>\n",
              "    <tr>\n",
              "      <th>2</th>\n",
              "      <td>1.099530</td>\n",
              "      <td>0.899438</td>\n",
              "    </tr>\n",
              "    <tr>\n",
              "      <th>3</th>\n",
              "      <td>0.160907</td>\n",
              "      <td>0.637102</td>\n",
              "    </tr>\n",
              "    <tr>\n",
              "      <th>4</th>\n",
              "      <td>1.412404</td>\n",
              "      <td>1.686446</td>\n",
              "    </tr>\n",
              "    <tr>\n",
              "      <th>5</th>\n",
              "      <td>0.160907</td>\n",
              "      <td>-1.199251</td>\n",
              "    </tr>\n",
              "    <tr>\n",
              "      <th>6</th>\n",
              "      <td>-1.591190</td>\n",
              "      <td>-0.936915</td>\n",
              "    </tr>\n",
              "  </tbody>\n",
              "</table>\n",
              "</div>\n",
              "    <div class=\"colab-df-buttons\">\n",
              "\n",
              "  <div class=\"colab-df-container\">\n",
              "    <button class=\"colab-df-convert\" onclick=\"convertToInteractive('df-1ee7e2cf-93b6-4d02-8e27-eda2346000a7')\"\n",
              "            title=\"Convert this dataframe to an interactive table.\"\n",
              "            style=\"display:none;\">\n",
              "\n",
              "  <svg xmlns=\"http://www.w3.org/2000/svg\" height=\"24px\" viewBox=\"0 -960 960 960\">\n",
              "    <path d=\"M120-120v-720h720v720H120Zm60-500h600v-160H180v160Zm220 220h160v-160H400v160Zm0 220h160v-160H400v160ZM180-400h160v-160H180v160Zm440 0h160v-160H620v160ZM180-180h160v-160H180v160Zm440 0h160v-160H620v160Z\"/>\n",
              "  </svg>\n",
              "    </button>\n",
              "\n",
              "  <style>\n",
              "    .colab-df-container {\n",
              "      display:flex;\n",
              "      gap: 12px;\n",
              "    }\n",
              "\n",
              "    .colab-df-convert {\n",
              "      background-color: #E8F0FE;\n",
              "      border: none;\n",
              "      border-radius: 50%;\n",
              "      cursor: pointer;\n",
              "      display: none;\n",
              "      fill: #1967D2;\n",
              "      height: 32px;\n",
              "      padding: 0 0 0 0;\n",
              "      width: 32px;\n",
              "    }\n",
              "\n",
              "    .colab-df-convert:hover {\n",
              "      background-color: #E2EBFA;\n",
              "      box-shadow: 0px 1px 2px rgba(60, 64, 67, 0.3), 0px 1px 3px 1px rgba(60, 64, 67, 0.15);\n",
              "      fill: #174EA6;\n",
              "    }\n",
              "\n",
              "    .colab-df-buttons div {\n",
              "      margin-bottom: 4px;\n",
              "    }\n",
              "\n",
              "    [theme=dark] .colab-df-convert {\n",
              "      background-color: #3B4455;\n",
              "      fill: #D2E3FC;\n",
              "    }\n",
              "\n",
              "    [theme=dark] .colab-df-convert:hover {\n",
              "      background-color: #434B5C;\n",
              "      box-shadow: 0px 1px 3px 1px rgba(0, 0, 0, 0.15);\n",
              "      filter: drop-shadow(0px 1px 2px rgba(0, 0, 0, 0.3));\n",
              "      fill: #FFFFFF;\n",
              "    }\n",
              "  </style>\n",
              "\n",
              "    <script>\n",
              "      const buttonEl =\n",
              "        document.querySelector('#df-1ee7e2cf-93b6-4d02-8e27-eda2346000a7 button.colab-df-convert');\n",
              "      buttonEl.style.display =\n",
              "        google.colab.kernel.accessAllowed ? 'block' : 'none';\n",
              "\n",
              "      async function convertToInteractive(key) {\n",
              "        const element = document.querySelector('#df-1ee7e2cf-93b6-4d02-8e27-eda2346000a7');\n",
              "        const dataTable =\n",
              "          await google.colab.kernel.invokeFunction('convertToInteractive',\n",
              "                                                    [key], {});\n",
              "        if (!dataTable) return;\n",
              "\n",
              "        const docLinkHtml = 'Like what you see? Visit the ' +\n",
              "          '<a target=\"_blank\" href=https://colab.research.google.com/notebooks/data_table.ipynb>data table notebook</a>'\n",
              "          + ' to learn more about interactive tables.';\n",
              "        element.innerHTML = '';\n",
              "        dataTable['output_type'] = 'display_data';\n",
              "        await google.colab.output.renderOutput(dataTable, element);\n",
              "        const docLink = document.createElement('div');\n",
              "        docLink.innerHTML = docLinkHtml;\n",
              "        element.appendChild(docLink);\n",
              "      }\n",
              "    </script>\n",
              "  </div>\n",
              "\n",
              "\n",
              "<div id=\"df-f2a57ca3-8c60-46be-ad1c-97632bdd73cc\">\n",
              "  <button class=\"colab-df-quickchart\" onclick=\"quickchart('df-f2a57ca3-8c60-46be-ad1c-97632bdd73cc')\"\n",
              "            title=\"Suggest charts\"\n",
              "            style=\"display:none;\">\n",
              "\n",
              "<svg xmlns=\"http://www.w3.org/2000/svg\" height=\"24px\"viewBox=\"0 0 24 24\"\n",
              "     width=\"24px\">\n",
              "    <g>\n",
              "        <path d=\"M19 3H5c-1.1 0-2 .9-2 2v14c0 1.1.9 2 2 2h14c1.1 0 2-.9 2-2V5c0-1.1-.9-2-2-2zM9 17H7v-7h2v7zm4 0h-2V7h2v10zm4 0h-2v-4h2v4z\"/>\n",
              "    </g>\n",
              "</svg>\n",
              "  </button>\n",
              "\n",
              "<style>\n",
              "  .colab-df-quickchart {\n",
              "      --bg-color: #E8F0FE;\n",
              "      --fill-color: #1967D2;\n",
              "      --hover-bg-color: #E2EBFA;\n",
              "      --hover-fill-color: #174EA6;\n",
              "      --disabled-fill-color: #AAA;\n",
              "      --disabled-bg-color: #DDD;\n",
              "  }\n",
              "\n",
              "  [theme=dark] .colab-df-quickchart {\n",
              "      --bg-color: #3B4455;\n",
              "      --fill-color: #D2E3FC;\n",
              "      --hover-bg-color: #434B5C;\n",
              "      --hover-fill-color: #FFFFFF;\n",
              "      --disabled-bg-color: #3B4455;\n",
              "      --disabled-fill-color: #666;\n",
              "  }\n",
              "\n",
              "  .colab-df-quickchart {\n",
              "    background-color: var(--bg-color);\n",
              "    border: none;\n",
              "    border-radius: 50%;\n",
              "    cursor: pointer;\n",
              "    display: none;\n",
              "    fill: var(--fill-color);\n",
              "    height: 32px;\n",
              "    padding: 0;\n",
              "    width: 32px;\n",
              "  }\n",
              "\n",
              "  .colab-df-quickchart:hover {\n",
              "    background-color: var(--hover-bg-color);\n",
              "    box-shadow: 0 1px 2px rgba(60, 64, 67, 0.3), 0 1px 3px 1px rgba(60, 64, 67, 0.15);\n",
              "    fill: var(--button-hover-fill-color);\n",
              "  }\n",
              "\n",
              "  .colab-df-quickchart-complete:disabled,\n",
              "  .colab-df-quickchart-complete:disabled:hover {\n",
              "    background-color: var(--disabled-bg-color);\n",
              "    fill: var(--disabled-fill-color);\n",
              "    box-shadow: none;\n",
              "  }\n",
              "\n",
              "  .colab-df-spinner {\n",
              "    border: 2px solid var(--fill-color);\n",
              "    border-color: transparent;\n",
              "    border-bottom-color: var(--fill-color);\n",
              "    animation:\n",
              "      spin 1s steps(1) infinite;\n",
              "  }\n",
              "\n",
              "  @keyframes spin {\n",
              "    0% {\n",
              "      border-color: transparent;\n",
              "      border-bottom-color: var(--fill-color);\n",
              "      border-left-color: var(--fill-color);\n",
              "    }\n",
              "    20% {\n",
              "      border-color: transparent;\n",
              "      border-left-color: var(--fill-color);\n",
              "      border-top-color: var(--fill-color);\n",
              "    }\n",
              "    30% {\n",
              "      border-color: transparent;\n",
              "      border-left-color: var(--fill-color);\n",
              "      border-top-color: var(--fill-color);\n",
              "      border-right-color: var(--fill-color);\n",
              "    }\n",
              "    40% {\n",
              "      border-color: transparent;\n",
              "      border-right-color: var(--fill-color);\n",
              "      border-top-color: var(--fill-color);\n",
              "    }\n",
              "    60% {\n",
              "      border-color: transparent;\n",
              "      border-right-color: var(--fill-color);\n",
              "    }\n",
              "    80% {\n",
              "      border-color: transparent;\n",
              "      border-right-color: var(--fill-color);\n",
              "      border-bottom-color: var(--fill-color);\n",
              "    }\n",
              "    90% {\n",
              "      border-color: transparent;\n",
              "      border-bottom-color: var(--fill-color);\n",
              "    }\n",
              "  }\n",
              "</style>\n",
              "\n",
              "  <script>\n",
              "    async function quickchart(key) {\n",
              "      const quickchartButtonEl =\n",
              "        document.querySelector('#' + key + ' button');\n",
              "      quickchartButtonEl.disabled = true;  // To prevent multiple clicks.\n",
              "      quickchartButtonEl.classList.add('colab-df-spinner');\n",
              "      try {\n",
              "        const charts = await google.colab.kernel.invokeFunction(\n",
              "            'suggestCharts', [key], {});\n",
              "      } catch (error) {\n",
              "        console.error('Error during call to suggestCharts:', error);\n",
              "      }\n",
              "      quickchartButtonEl.classList.remove('colab-df-spinner');\n",
              "      quickchartButtonEl.classList.add('colab-df-quickchart-complete');\n",
              "    }\n",
              "    (() => {\n",
              "      let quickchartButtonEl =\n",
              "        document.querySelector('#df-f2a57ca3-8c60-46be-ad1c-97632bdd73cc button');\n",
              "      quickchartButtonEl.style.display =\n",
              "        google.colab.kernel.accessAllowed ? 'block' : 'none';\n",
              "    })();\n",
              "  </script>\n",
              "</div>\n",
              "    </div>\n",
              "  </div>\n"
            ]
          },
          "metadata": {},
          "execution_count": 8
        }
      ]
    },
    {
      "cell_type": "markdown",
      "metadata": {
        "id": "38sD6QApfaEq"
      },
      "source": [
        "Y re escalamos también los clientes nuevos"
      ]
    },
    {
      "cell_type": "code",
      "metadata": {
        "id": "9HK30695faEq",
        "colab": {
          "base_uri": "https://localhost:8080/"
        },
        "outputId": "92cec48e-7fb3-48f9-fd1e-dc03f56260bf"
      },
      "source": [
        "# Re escalamos el conjunto de clasificación\n",
        "clientes_nuevos_scaled = scaler_df.transform(clientes_nuevos)\n",
        "clientes_nuevos_scaled"
      ],
      "execution_count": null,
      "outputs": [
        {
          "output_type": "execute_result",
          "data": {
            "text/plain": [
              "array([[ 0.47378117, -0.77951296],\n",
              "       [-1.18445292,  1.63397908]])"
            ]
          },
          "metadata": {},
          "execution_count": 9
        }
      ]
    },
    {
      "cell_type": "markdown",
      "metadata": {
        "id": "ZksGXaGUfaEr"
      },
      "source": [
        "Volvemos a clasificar nuestros casos y vemos como en este caso la edad no está *discriminada* por su escala y tenemos un valor más razonable para la clasificación"
      ]
    },
    {
      "cell_type": "code",
      "metadata": {
        "id": "R1s0652qfaEr",
        "colab": {
          "base_uri": "https://localhost:8080/"
        },
        "outputId": "e957e461-9e76-4214-9fcb-5c492f215a1f"
      },
      "source": [
        "# Transformamos los clientes originales\n",
        "clientes_nuevos = [[1450,28], [1185,74]]\n",
        "clientes_nuevos_scaled = scaler_df.fit_transform(clientes_nuevos)\n",
        "neigh = KNeighborsClassifier(n_neighbors=2)\n",
        "neigh.fit(df_scaled.values, clase_cliente)\n",
        "# Recordamos el\n",
        "#clientes_nuevos = [[1450,28], [1185,74]]\n",
        "print(neigh.predict(clientes_nuevos_scaled))"
      ],
      "execution_count": null,
      "outputs": [
        {
          "output_type": "stream",
          "name": "stdout",
          "text": [
            "['starter' 'senior']\n"
          ]
        }
      ]
    },
    {
      "cell_type": "markdown",
      "metadata": {
        "id": "rNCDoBJTfaEs"
      },
      "source": [
        "*Pregunta)* ¿Y por qué ahora funciona *bien*?"
      ]
    },
    {
      "cell_type": "markdown",
      "metadata": {
        "id": "MGjb__lbfaEs"
      },
      "source": [
        "# Modelo de clasificación multiclase\n",
        "\n",
        "Hasta ahora, ha aprendido a crear un clasificador KNN para dos en python usando scikit-learn. Ahora aprenderá sobre KNN con múltiples clases.\n",
        "\n",
        "En el modelo de la parte de construcción, puede utilizar el conjunto de datos de vino, que es un problema de clasificación de clases múltiples muy famoso. Estos datos son el resultado de un análisis químico de vinos cultivados en la misma región en Italia utilizando tres cultivares diferentes. El análisis determinó las cantidades de 13 componentes que se encuentran en cada uno de los tres tipos de vinos.\n",
        "\n",
        "El conjunto de datos comprende 13 características:\n",
        "\n",
        "* alcohol\n",
        "* malic_acid\n",
        "* ash\n",
        "* alcalinity_of_ash\n",
        "* magnesium\n",
        "* total_phenols\n",
        "* flavanoids\n",
        "* nonflavanoid_phenols\n",
        "* proanthocyanins\n",
        "* color_intensity\n",
        "* hue\n",
        "* od280/od315_of_diluted_wines\n",
        "* proline\n",
        "\n",
        "y una variable objetivo, tipo de **cultivares**, con tres tipos de clases de cultivares:\n",
        "\n",
        "* class_0\n",
        "* class_1\n",
        "* class_2\n",
        "\n",
        "Aquí, puede construir un modelo para clasificar el tipo de cultivo. El conjunto de datos está disponible en la biblioteca scikit-learn, o también puede descargarlo de la biblioteca de aprendizaje automático de UCI."
      ]
    },
    {
      "cell_type": "markdown",
      "metadata": {
        "id": "UhQUeRujfaEs"
      },
      "source": [
        "## Carga de datos\n",
        "\n",
        "Cargamos los datos del paquete sckitlearn"
      ]
    },
    {
      "cell_type": "code",
      "metadata": {
        "id": "R-UyjaiffaEt"
      },
      "source": [
        "#Import scikit-learn dataset library\n",
        "from sklearn import datasets\n",
        "\n",
        "#Load dataset\n",
        "wine = datasets.load_wine()"
      ],
      "execution_count": null,
      "outputs": []
    },
    {
      "cell_type": "markdown",
      "metadata": {
        "id": "sl8bd0t3faEt"
      },
      "source": [
        "## Exploración básica\n",
        "\n",
        "Una vez que haya cargado el conjunto de datos, es posible que desee saber un poco más sobre él. Puede comprobar los nombres de las funciones y los objetivos."
      ]
    },
    {
      "cell_type": "code",
      "metadata": {
        "id": "hghGloMPfaEt",
        "colab": {
          "base_uri": "https://localhost:8080/"
        },
        "outputId": "d39ad96e-d282-4b10-d2fd-50251c0d3f03"
      },
      "source": [
        "# Mostrar características\n",
        "print(wine.feature_names)"
      ],
      "execution_count": null,
      "outputs": [
        {
          "output_type": "stream",
          "name": "stdout",
          "text": [
            "['alcohol', 'malic_acid', 'ash', 'alcalinity_of_ash', 'magnesium', 'total_phenols', 'flavanoids', 'nonflavanoid_phenols', 'proanthocyanins', 'color_intensity', 'hue', 'od280/od315_of_diluted_wines', 'proline']\n"
          ]
        }
      ]
    },
    {
      "cell_type": "code",
      "metadata": {
        "id": "6kpO5p4BfaEu",
        "colab": {
          "base_uri": "https://localhost:8080/"
        },
        "outputId": "24fd5e1b-2bd0-4300-e61a-1199f11a477c"
      },
      "source": [
        "# Mostramos las clases objetivo\n",
        "print(wine.target_names)"
      ],
      "execution_count": null,
      "outputs": [
        {
          "output_type": "stream",
          "name": "stdout",
          "text": [
            "['class_0' 'class_1' 'class_2']\n"
          ]
        }
      ]
    },
    {
      "cell_type": "markdown",
      "metadata": {
        "id": "TRP44XXLfaEu"
      },
      "source": [
        "Vemos las 3 primeras instancias del conjunto de datos"
      ]
    },
    {
      "cell_type": "code",
      "metadata": {
        "id": "AsVfmE0yfaEu",
        "colab": {
          "base_uri": "https://localhost:8080/"
        },
        "outputId": "a1ccb78a-2fb4-4d6c-9707-b0ba9fa3b924"
      },
      "source": [
        "print(wine.data[0:3])"
      ],
      "execution_count": null,
      "outputs": [
        {
          "output_type": "stream",
          "name": "stdout",
          "text": [
            "[[1.423e+01 1.710e+00 2.430e+00 1.560e+01 1.270e+02 2.800e+00 3.060e+00\n",
            "  2.800e-01 2.290e+00 5.640e+00 1.040e+00 3.920e+00 1.065e+03]\n",
            " [1.320e+01 1.780e+00 2.140e+00 1.120e+01 1.000e+02 2.650e+00 2.760e+00\n",
            "  2.600e-01 1.280e+00 4.380e+00 1.050e+00 3.400e+00 1.050e+03]\n",
            " [1.316e+01 2.360e+00 2.670e+00 1.860e+01 1.010e+02 2.800e+00 3.240e+00\n",
            "  3.000e-01 2.810e+00 5.680e+00 1.030e+00 3.170e+00 1.185e+03]]\n"
          ]
        }
      ]
    },
    {
      "cell_type": "markdown",
      "metadata": {
        "id": "WE0z8-w9faEv"
      },
      "source": [
        "Mostramos las clases de los registros"
      ]
    },
    {
      "cell_type": "code",
      "metadata": {
        "id": "kUWAlA4zfaEv",
        "colab": {
          "base_uri": "https://localhost:8080/"
        },
        "outputId": "5d756f5f-f06f-4ee8-e464-8b1f5ae19a91"
      },
      "source": [
        "print(wine.target)"
      ],
      "execution_count": null,
      "outputs": [
        {
          "output_type": "stream",
          "name": "stdout",
          "text": [
            "[0 0 0 0 0 0 0 0 0 0 0 0 0 0 0 0 0 0 0 0 0 0 0 0 0 0 0 0 0 0 0 0 0 0 0 0 0\n",
            " 0 0 0 0 0 0 0 0 0 0 0 0 0 0 0 0 0 0 0 0 0 0 1 1 1 1 1 1 1 1 1 1 1 1 1 1 1\n",
            " 1 1 1 1 1 1 1 1 1 1 1 1 1 1 1 1 1 1 1 1 1 1 1 1 1 1 1 1 1 1 1 1 1 1 1 1 1\n",
            " 1 1 1 1 1 1 1 1 1 1 1 1 1 1 1 1 1 1 1 2 2 2 2 2 2 2 2 2 2 2 2 2 2 2 2 2 2\n",
            " 2 2 2 2 2 2 2 2 2 2 2 2 2 2 2 2 2 2 2 2 2 2 2 2 2 2 2 2 2 2]\n"
          ]
        }
      ]
    },
    {
      "cell_type": "markdown",
      "metadata": {
        "id": "NzoX0KUzfaEv"
      },
      "source": [
        "Finalmente extraemos una serie de descriptivos, para ello transformamos el objeto de datos de scikit learn en un dataframe pandas"
      ]
    },
    {
      "cell_type": "code",
      "metadata": {
        "id": "2mjLT6uefaEw",
        "colab": {
          "base_uri": "https://localhost:8080/",
          "height": 320
        },
        "outputId": "239f2771-2db1-4d7e-94c8-2efb75e8ad58"
      },
      "source": [
        "data1 = pd.DataFrame(data= np.c_[wine['data'], wine['target']],\n",
        "                     columns= wine['feature_names'] + ['target'])\n",
        "\n",
        "data1.describe()"
      ],
      "execution_count": null,
      "outputs": [
        {
          "output_type": "execute_result",
          "data": {
            "text/plain": [
              "          alcohol  malic_acid         ash  alcalinity_of_ash   magnesium  \\\n",
              "count  178.000000  178.000000  178.000000         178.000000  178.000000   \n",
              "mean    13.000618    2.336348    2.366517          19.494944   99.741573   \n",
              "std      0.811827    1.117146    0.274344           3.339564   14.282484   \n",
              "min     11.030000    0.740000    1.360000          10.600000   70.000000   \n",
              "25%     12.362500    1.602500    2.210000          17.200000   88.000000   \n",
              "50%     13.050000    1.865000    2.360000          19.500000   98.000000   \n",
              "75%     13.677500    3.082500    2.557500          21.500000  107.000000   \n",
              "max     14.830000    5.800000    3.230000          30.000000  162.000000   \n",
              "\n",
              "       total_phenols  flavanoids  nonflavanoid_phenols  proanthocyanins  \\\n",
              "count     178.000000  178.000000            178.000000       178.000000   \n",
              "mean        2.295112    2.029270              0.361854         1.590899   \n",
              "std         0.625851    0.998859              0.124453         0.572359   \n",
              "min         0.980000    0.340000              0.130000         0.410000   \n",
              "25%         1.742500    1.205000              0.270000         1.250000   \n",
              "50%         2.355000    2.135000              0.340000         1.555000   \n",
              "75%         2.800000    2.875000              0.437500         1.950000   \n",
              "max         3.880000    5.080000              0.660000         3.580000   \n",
              "\n",
              "       color_intensity         hue  od280/od315_of_diluted_wines      proline  \\\n",
              "count       178.000000  178.000000                    178.000000   178.000000   \n",
              "mean          5.058090    0.957449                      2.611685   746.893258   \n",
              "std           2.318286    0.228572                      0.709990   314.907474   \n",
              "min           1.280000    0.480000                      1.270000   278.000000   \n",
              "25%           3.220000    0.782500                      1.937500   500.500000   \n",
              "50%           4.690000    0.965000                      2.780000   673.500000   \n",
              "75%           6.200000    1.120000                      3.170000   985.000000   \n",
              "max          13.000000    1.710000                      4.000000  1680.000000   \n",
              "\n",
              "           target  \n",
              "count  178.000000  \n",
              "mean     0.938202  \n",
              "std      0.775035  \n",
              "min      0.000000  \n",
              "25%      0.000000  \n",
              "50%      1.000000  \n",
              "75%      2.000000  \n",
              "max      2.000000  "
            ],
            "text/html": [
              "\n",
              "  <div id=\"df-4eb47ca3-35c9-4c26-9f0a-e413339d4e59\" class=\"colab-df-container\">\n",
              "    <div>\n",
              "<style scoped>\n",
              "    .dataframe tbody tr th:only-of-type {\n",
              "        vertical-align: middle;\n",
              "    }\n",
              "\n",
              "    .dataframe tbody tr th {\n",
              "        vertical-align: top;\n",
              "    }\n",
              "\n",
              "    .dataframe thead th {\n",
              "        text-align: right;\n",
              "    }\n",
              "</style>\n",
              "<table border=\"1\" class=\"dataframe\">\n",
              "  <thead>\n",
              "    <tr style=\"text-align: right;\">\n",
              "      <th></th>\n",
              "      <th>alcohol</th>\n",
              "      <th>malic_acid</th>\n",
              "      <th>ash</th>\n",
              "      <th>alcalinity_of_ash</th>\n",
              "      <th>magnesium</th>\n",
              "      <th>total_phenols</th>\n",
              "      <th>flavanoids</th>\n",
              "      <th>nonflavanoid_phenols</th>\n",
              "      <th>proanthocyanins</th>\n",
              "      <th>color_intensity</th>\n",
              "      <th>hue</th>\n",
              "      <th>od280/od315_of_diluted_wines</th>\n",
              "      <th>proline</th>\n",
              "      <th>target</th>\n",
              "    </tr>\n",
              "  </thead>\n",
              "  <tbody>\n",
              "    <tr>\n",
              "      <th>count</th>\n",
              "      <td>178.000000</td>\n",
              "      <td>178.000000</td>\n",
              "      <td>178.000000</td>\n",
              "      <td>178.000000</td>\n",
              "      <td>178.000000</td>\n",
              "      <td>178.000000</td>\n",
              "      <td>178.000000</td>\n",
              "      <td>178.000000</td>\n",
              "      <td>178.000000</td>\n",
              "      <td>178.000000</td>\n",
              "      <td>178.000000</td>\n",
              "      <td>178.000000</td>\n",
              "      <td>178.000000</td>\n",
              "      <td>178.000000</td>\n",
              "    </tr>\n",
              "    <tr>\n",
              "      <th>mean</th>\n",
              "      <td>13.000618</td>\n",
              "      <td>2.336348</td>\n",
              "      <td>2.366517</td>\n",
              "      <td>19.494944</td>\n",
              "      <td>99.741573</td>\n",
              "      <td>2.295112</td>\n",
              "      <td>2.029270</td>\n",
              "      <td>0.361854</td>\n",
              "      <td>1.590899</td>\n",
              "      <td>5.058090</td>\n",
              "      <td>0.957449</td>\n",
              "      <td>2.611685</td>\n",
              "      <td>746.893258</td>\n",
              "      <td>0.938202</td>\n",
              "    </tr>\n",
              "    <tr>\n",
              "      <th>std</th>\n",
              "      <td>0.811827</td>\n",
              "      <td>1.117146</td>\n",
              "      <td>0.274344</td>\n",
              "      <td>3.339564</td>\n",
              "      <td>14.282484</td>\n",
              "      <td>0.625851</td>\n",
              "      <td>0.998859</td>\n",
              "      <td>0.124453</td>\n",
              "      <td>0.572359</td>\n",
              "      <td>2.318286</td>\n",
              "      <td>0.228572</td>\n",
              "      <td>0.709990</td>\n",
              "      <td>314.907474</td>\n",
              "      <td>0.775035</td>\n",
              "    </tr>\n",
              "    <tr>\n",
              "      <th>min</th>\n",
              "      <td>11.030000</td>\n",
              "      <td>0.740000</td>\n",
              "      <td>1.360000</td>\n",
              "      <td>10.600000</td>\n",
              "      <td>70.000000</td>\n",
              "      <td>0.980000</td>\n",
              "      <td>0.340000</td>\n",
              "      <td>0.130000</td>\n",
              "      <td>0.410000</td>\n",
              "      <td>1.280000</td>\n",
              "      <td>0.480000</td>\n",
              "      <td>1.270000</td>\n",
              "      <td>278.000000</td>\n",
              "      <td>0.000000</td>\n",
              "    </tr>\n",
              "    <tr>\n",
              "      <th>25%</th>\n",
              "      <td>12.362500</td>\n",
              "      <td>1.602500</td>\n",
              "      <td>2.210000</td>\n",
              "      <td>17.200000</td>\n",
              "      <td>88.000000</td>\n",
              "      <td>1.742500</td>\n",
              "      <td>1.205000</td>\n",
              "      <td>0.270000</td>\n",
              "      <td>1.250000</td>\n",
              "      <td>3.220000</td>\n",
              "      <td>0.782500</td>\n",
              "      <td>1.937500</td>\n",
              "      <td>500.500000</td>\n",
              "      <td>0.000000</td>\n",
              "    </tr>\n",
              "    <tr>\n",
              "      <th>50%</th>\n",
              "      <td>13.050000</td>\n",
              "      <td>1.865000</td>\n",
              "      <td>2.360000</td>\n",
              "      <td>19.500000</td>\n",
              "      <td>98.000000</td>\n",
              "      <td>2.355000</td>\n",
              "      <td>2.135000</td>\n",
              "      <td>0.340000</td>\n",
              "      <td>1.555000</td>\n",
              "      <td>4.690000</td>\n",
              "      <td>0.965000</td>\n",
              "      <td>2.780000</td>\n",
              "      <td>673.500000</td>\n",
              "      <td>1.000000</td>\n",
              "    </tr>\n",
              "    <tr>\n",
              "      <th>75%</th>\n",
              "      <td>13.677500</td>\n",
              "      <td>3.082500</td>\n",
              "      <td>2.557500</td>\n",
              "      <td>21.500000</td>\n",
              "      <td>107.000000</td>\n",
              "      <td>2.800000</td>\n",
              "      <td>2.875000</td>\n",
              "      <td>0.437500</td>\n",
              "      <td>1.950000</td>\n",
              "      <td>6.200000</td>\n",
              "      <td>1.120000</td>\n",
              "      <td>3.170000</td>\n",
              "      <td>985.000000</td>\n",
              "      <td>2.000000</td>\n",
              "    </tr>\n",
              "    <tr>\n",
              "      <th>max</th>\n",
              "      <td>14.830000</td>\n",
              "      <td>5.800000</td>\n",
              "      <td>3.230000</td>\n",
              "      <td>30.000000</td>\n",
              "      <td>162.000000</td>\n",
              "      <td>3.880000</td>\n",
              "      <td>5.080000</td>\n",
              "      <td>0.660000</td>\n",
              "      <td>3.580000</td>\n",
              "      <td>13.000000</td>\n",
              "      <td>1.710000</td>\n",
              "      <td>4.000000</td>\n",
              "      <td>1680.000000</td>\n",
              "      <td>2.000000</td>\n",
              "    </tr>\n",
              "  </tbody>\n",
              "</table>\n",
              "</div>\n",
              "    <div class=\"colab-df-buttons\">\n",
              "\n",
              "  <div class=\"colab-df-container\">\n",
              "    <button class=\"colab-df-convert\" onclick=\"convertToInteractive('df-4eb47ca3-35c9-4c26-9f0a-e413339d4e59')\"\n",
              "            title=\"Convert this dataframe to an interactive table.\"\n",
              "            style=\"display:none;\">\n",
              "\n",
              "  <svg xmlns=\"http://www.w3.org/2000/svg\" height=\"24px\" viewBox=\"0 -960 960 960\">\n",
              "    <path d=\"M120-120v-720h720v720H120Zm60-500h600v-160H180v160Zm220 220h160v-160H400v160Zm0 220h160v-160H400v160ZM180-400h160v-160H180v160Zm440 0h160v-160H620v160ZM180-180h160v-160H180v160Zm440 0h160v-160H620v160Z\"/>\n",
              "  </svg>\n",
              "    </button>\n",
              "\n",
              "  <style>\n",
              "    .colab-df-container {\n",
              "      display:flex;\n",
              "      gap: 12px;\n",
              "    }\n",
              "\n",
              "    .colab-df-convert {\n",
              "      background-color: #E8F0FE;\n",
              "      border: none;\n",
              "      border-radius: 50%;\n",
              "      cursor: pointer;\n",
              "      display: none;\n",
              "      fill: #1967D2;\n",
              "      height: 32px;\n",
              "      padding: 0 0 0 0;\n",
              "      width: 32px;\n",
              "    }\n",
              "\n",
              "    .colab-df-convert:hover {\n",
              "      background-color: #E2EBFA;\n",
              "      box-shadow: 0px 1px 2px rgba(60, 64, 67, 0.3), 0px 1px 3px 1px rgba(60, 64, 67, 0.15);\n",
              "      fill: #174EA6;\n",
              "    }\n",
              "\n",
              "    .colab-df-buttons div {\n",
              "      margin-bottom: 4px;\n",
              "    }\n",
              "\n",
              "    [theme=dark] .colab-df-convert {\n",
              "      background-color: #3B4455;\n",
              "      fill: #D2E3FC;\n",
              "    }\n",
              "\n",
              "    [theme=dark] .colab-df-convert:hover {\n",
              "      background-color: #434B5C;\n",
              "      box-shadow: 0px 1px 3px 1px rgba(0, 0, 0, 0.15);\n",
              "      filter: drop-shadow(0px 1px 2px rgba(0, 0, 0, 0.3));\n",
              "      fill: #FFFFFF;\n",
              "    }\n",
              "  </style>\n",
              "\n",
              "    <script>\n",
              "      const buttonEl =\n",
              "        document.querySelector('#df-4eb47ca3-35c9-4c26-9f0a-e413339d4e59 button.colab-df-convert');\n",
              "      buttonEl.style.display =\n",
              "        google.colab.kernel.accessAllowed ? 'block' : 'none';\n",
              "\n",
              "      async function convertToInteractive(key) {\n",
              "        const element = document.querySelector('#df-4eb47ca3-35c9-4c26-9f0a-e413339d4e59');\n",
              "        const dataTable =\n",
              "          await google.colab.kernel.invokeFunction('convertToInteractive',\n",
              "                                                    [key], {});\n",
              "        if (!dataTable) return;\n",
              "\n",
              "        const docLinkHtml = 'Like what you see? Visit the ' +\n",
              "          '<a target=\"_blank\" href=https://colab.research.google.com/notebooks/data_table.ipynb>data table notebook</a>'\n",
              "          + ' to learn more about interactive tables.';\n",
              "        element.innerHTML = '';\n",
              "        dataTable['output_type'] = 'display_data';\n",
              "        await google.colab.output.renderOutput(dataTable, element);\n",
              "        const docLink = document.createElement('div');\n",
              "        docLink.innerHTML = docLinkHtml;\n",
              "        element.appendChild(docLink);\n",
              "      }\n",
              "    </script>\n",
              "  </div>\n",
              "\n",
              "\n",
              "<div id=\"df-31ff64a0-5920-4159-ba75-619c8b96e303\">\n",
              "  <button class=\"colab-df-quickchart\" onclick=\"quickchart('df-31ff64a0-5920-4159-ba75-619c8b96e303')\"\n",
              "            title=\"Suggest charts\"\n",
              "            style=\"display:none;\">\n",
              "\n",
              "<svg xmlns=\"http://www.w3.org/2000/svg\" height=\"24px\"viewBox=\"0 0 24 24\"\n",
              "     width=\"24px\">\n",
              "    <g>\n",
              "        <path d=\"M19 3H5c-1.1 0-2 .9-2 2v14c0 1.1.9 2 2 2h14c1.1 0 2-.9 2-2V5c0-1.1-.9-2-2-2zM9 17H7v-7h2v7zm4 0h-2V7h2v10zm4 0h-2v-4h2v4z\"/>\n",
              "    </g>\n",
              "</svg>\n",
              "  </button>\n",
              "\n",
              "<style>\n",
              "  .colab-df-quickchart {\n",
              "      --bg-color: #E8F0FE;\n",
              "      --fill-color: #1967D2;\n",
              "      --hover-bg-color: #E2EBFA;\n",
              "      --hover-fill-color: #174EA6;\n",
              "      --disabled-fill-color: #AAA;\n",
              "      --disabled-bg-color: #DDD;\n",
              "  }\n",
              "\n",
              "  [theme=dark] .colab-df-quickchart {\n",
              "      --bg-color: #3B4455;\n",
              "      --fill-color: #D2E3FC;\n",
              "      --hover-bg-color: #434B5C;\n",
              "      --hover-fill-color: #FFFFFF;\n",
              "      --disabled-bg-color: #3B4455;\n",
              "      --disabled-fill-color: #666;\n",
              "  }\n",
              "\n",
              "  .colab-df-quickchart {\n",
              "    background-color: var(--bg-color);\n",
              "    border: none;\n",
              "    border-radius: 50%;\n",
              "    cursor: pointer;\n",
              "    display: none;\n",
              "    fill: var(--fill-color);\n",
              "    height: 32px;\n",
              "    padding: 0;\n",
              "    width: 32px;\n",
              "  }\n",
              "\n",
              "  .colab-df-quickchart:hover {\n",
              "    background-color: var(--hover-bg-color);\n",
              "    box-shadow: 0 1px 2px rgba(60, 64, 67, 0.3), 0 1px 3px 1px rgba(60, 64, 67, 0.15);\n",
              "    fill: var(--button-hover-fill-color);\n",
              "  }\n",
              "\n",
              "  .colab-df-quickchart-complete:disabled,\n",
              "  .colab-df-quickchart-complete:disabled:hover {\n",
              "    background-color: var(--disabled-bg-color);\n",
              "    fill: var(--disabled-fill-color);\n",
              "    box-shadow: none;\n",
              "  }\n",
              "\n",
              "  .colab-df-spinner {\n",
              "    border: 2px solid var(--fill-color);\n",
              "    border-color: transparent;\n",
              "    border-bottom-color: var(--fill-color);\n",
              "    animation:\n",
              "      spin 1s steps(1) infinite;\n",
              "  }\n",
              "\n",
              "  @keyframes spin {\n",
              "    0% {\n",
              "      border-color: transparent;\n",
              "      border-bottom-color: var(--fill-color);\n",
              "      border-left-color: var(--fill-color);\n",
              "    }\n",
              "    20% {\n",
              "      border-color: transparent;\n",
              "      border-left-color: var(--fill-color);\n",
              "      border-top-color: var(--fill-color);\n",
              "    }\n",
              "    30% {\n",
              "      border-color: transparent;\n",
              "      border-left-color: var(--fill-color);\n",
              "      border-top-color: var(--fill-color);\n",
              "      border-right-color: var(--fill-color);\n",
              "    }\n",
              "    40% {\n",
              "      border-color: transparent;\n",
              "      border-right-color: var(--fill-color);\n",
              "      border-top-color: var(--fill-color);\n",
              "    }\n",
              "    60% {\n",
              "      border-color: transparent;\n",
              "      border-right-color: var(--fill-color);\n",
              "    }\n",
              "    80% {\n",
              "      border-color: transparent;\n",
              "      border-right-color: var(--fill-color);\n",
              "      border-bottom-color: var(--fill-color);\n",
              "    }\n",
              "    90% {\n",
              "      border-color: transparent;\n",
              "      border-bottom-color: var(--fill-color);\n",
              "    }\n",
              "  }\n",
              "</style>\n",
              "\n",
              "  <script>\n",
              "    async function quickchart(key) {\n",
              "      const quickchartButtonEl =\n",
              "        document.querySelector('#' + key + ' button');\n",
              "      quickchartButtonEl.disabled = true;  // To prevent multiple clicks.\n",
              "      quickchartButtonEl.classList.add('colab-df-spinner');\n",
              "      try {\n",
              "        const charts = await google.colab.kernel.invokeFunction(\n",
              "            'suggestCharts', [key], {});\n",
              "      } catch (error) {\n",
              "        console.error('Error during call to suggestCharts:', error);\n",
              "      }\n",
              "      quickchartButtonEl.classList.remove('colab-df-spinner');\n",
              "      quickchartButtonEl.classList.add('colab-df-quickchart-complete');\n",
              "    }\n",
              "    (() => {\n",
              "      let quickchartButtonEl =\n",
              "        document.querySelector('#df-31ff64a0-5920-4159-ba75-619c8b96e303 button');\n",
              "      quickchartButtonEl.style.display =\n",
              "        google.colab.kernel.accessAllowed ? 'block' : 'none';\n",
              "    })();\n",
              "  </script>\n",
              "</div>\n",
              "    </div>\n",
              "  </div>\n"
            ]
          },
          "metadata": {},
          "execution_count": 16
        }
      ]
    },
    {
      "cell_type": "markdown",
      "metadata": {
        "id": "cmu4RIxxfaEw"
      },
      "source": [
        "# Creación de conjuntos de entrenamiento y validación\n",
        "\n",
        "Para comprender el rendimiento del modelo, dividir el conjunto de datos en un conjunto de entrenamiento y un conjunto de prueba es una buena estrategia.\n",
        "\n",
        "Dividamos el conjunto de datos usando la función train_test_split (). Debe pasar 3 parámetros, características, destino y tamaño del conjunto de pruebas. Además, puede usar random_state para seleccionar registros al azar."
      ]
    },
    {
      "cell_type": "code",
      "metadata": {
        "id": "xFzV640RfaEw"
      },
      "source": [
        "# Split dataset into training set and test set 70% train/ 30% test\n",
        "X_train, X_test, y_train, y_test = train_test_split(wine.data, wine.target, test_size=0.3)"
      ],
      "execution_count": null,
      "outputs": []
    },
    {
      "cell_type": "markdown",
      "metadata": {
        "id": "9dmuo2CrfaEx"
      },
      "source": [
        "## Generación del modelo para K=5\n",
        "Elegimos una K que se nos ocurra, por ejemplo K=5"
      ]
    },
    {
      "cell_type": "code",
      "metadata": {
        "id": "UJ4hhv0GfaEx",
        "colab": {
          "base_uri": "https://localhost:8080/"
        },
        "outputId": "16fdd97b-a1bb-4397-eda9-f792ff0c4b68"
      },
      "source": [
        "#Create KNN Classifier\n",
        "K=5\n",
        "knn = KNeighborsClassifier(n_neighbors=3)\n",
        "\n",
        "#Train the model using the training sets\n",
        "knn.fit(X_train, y_train)\n",
        "\n",
        "#Predict the response for test dataset\n",
        "y_pred = knn.predict(X_test)\n",
        "y_pred"
      ],
      "execution_count": null,
      "outputs": [
        {
          "output_type": "execute_result",
          "data": {
            "text/plain": [
              "array([1, 0, 0, 2, 1, 0, 0, 2, 2, 2, 0, 2, 1, 0, 1, 2, 1, 1, 1, 0, 1, 2,\n",
              "       1, 2, 2, 2, 0, 0, 1, 0, 1, 2, 2, 2, 0, 0, 2, 0, 0, 1, 1, 0, 2, 0,\n",
              "       2, 0, 1, 0, 0, 1, 2, 2, 1, 2])"
            ]
          },
          "metadata": {},
          "execution_count": 18
        }
      ]
    },
    {
      "cell_type": "markdown",
      "metadata": {
        "id": "Nv4dPD_SfaEx"
      },
      "source": [
        "### Evaluación del modelo para k = 5\n",
        "Calculemos con qué precisión el clasificador o modelo puede predecir el tipo de cultivares.\n",
        "\n",
        "La precisión se puede calcular comparando los valores reales del conjunto de prueba y los valores predichos.\n",
        "\n",
        "La exactitud es una métrica para evaluar modelos de clasificación. Informalmente, la exactitud es la fracción de predicciones que el modelo realizó correctamente. Formalmente, la exactitud tiene la siguiente definición:\n",
        "\n",
        "En la clasificación binaria, la exactitud (accuracy) también se puede calcular en términos de positivos y negativos de la siguiente manera:\n",
        "$$\n",
        "    Accuracy = \\frac{Verdaderos Positivos + Verdaderos Negativos}{Total\\ casos}\n",
        "$$\n",
        "\n",
        "Es decir cuantos casos acertamos\n",
        "\n",
        "Más info sobre estas métricas en [Métricas en clasificadores curso de Google](https://developers.google.com/machine-learning/crash-course/classification/accuracy)"
      ]
    },
    {
      "cell_type": "code",
      "metadata": {
        "id": "TfhNN78qfaEx",
        "colab": {
          "base_uri": "https://localhost:8080/"
        },
        "outputId": "0d9598bd-3b72-466e-dbae-82dbe5bc4814"
      },
      "source": [
        "# Model Accuracy, how often is the classifier correct?\n",
        "print(\"Accuracy: \",metrics.accuracy_score(y_test, y_pred))"
      ],
      "execution_count": null,
      "outputs": [
        {
          "output_type": "stream",
          "name": "stdout",
          "text": [
            "Accuracy:  0.6851851851851852\n"
          ]
        }
      ]
    },
    {
      "cell_type": "markdown",
      "metadata": {
        "id": "wA8ef1vifaEy"
      },
      "source": [
        "## ¿Cómo se decide el número de vecinos en KNN?\n",
        "\n",
        "Ahora que ya entendemos el funcionamiento del algoritmo, surge la pregunta ¿Cómo elegir el número óptimo de vecinos? ¿Y cuáles son sus efectos sobre el clasificador? El número de vecinos (K) en KNN es un hiperparámetro que debe elegir en el momento de la construcción del modelo. Puede pensar en K como una variable de control para el modelo de predicción.\n",
        "\n",
        "La investigación ha demostrado que no existe un K óptimo de vecinos que se ajuste a todo tipo de conjuntos de datos. Cada conjunto de datos tiene sus propios requisitos. En el caso de un pequeño número de vecinos, el ruido tendrá una mayor influencia en el resultado y un gran número de vecinos lo hace computacionalmente costoso. La investigación también ha demostrado que una pequeña cantidad de vecinos tienen un ajuste más flexible, lo que tendrá un sesgo bajo pero una varianza alta, y un gran número de vecinos tendrá un límite de decisión más suave, lo que significa una varianza menor pero un sesgo más alto.\n",
        "\n",
        "Generalmente, los científicos de datos eligen como un número impar si el número de clases es par. También puede verificar generando el modelo en diferentes valores de ky verificar su desempeño. También puedes probar el método del codo aquí.\n",
        "\n",
        "![Imagen](http://res.cloudinary.com/dyd911kmh/image/upload/f_auto,q_auto:best/v1531424125/KNN_final_a1mrv9.png)"
      ]
    },
    {
      "cell_type": "code",
      "metadata": {
        "id": "jkbRG6Z4faEy",
        "colab": {
          "base_uri": "https://localhost:8080/"
        },
        "outputId": "be41ac02-f03e-4326-d703-493621d0b1b1"
      },
      "source": [
        "#Create KNN Classifier\n",
        "best_k = 0\n",
        "best_accuracy = 0\n",
        "for K in range(2,10):\n",
        "    knn = KNeighborsClassifier(n_neighbors=K)\n",
        "\n",
        "    #Train the model using the training sets\n",
        "    knn.fit(X_train, y_train)\n",
        "\n",
        "    #Predict the response for test dataset\n",
        "    y_pred = knn.predict(X_test)\n",
        "    #Import scikit-learn metrics module for accuracy calculation\n",
        "    accuracy = metrics.accuracy_score(y_test, y_pred)\n",
        "    print(\"Exactitud (accuracy) K=\"+str(K)+\": \",accuracy)\n",
        "    if best_accuracy < accuracy:\n",
        "        best_accuracy = accuracy\n",
        "        best_k = K\n",
        "print('Mejor según accuracy: K=' + str(best_k))"
      ],
      "execution_count": null,
      "outputs": [
        {
          "output_type": "stream",
          "name": "stdout",
          "text": [
            "Exactitud (accuracy) K=2:  0.6111111111111112\n",
            "Exactitud (accuracy) K=3:  0.6851851851851852\n",
            "Exactitud (accuracy) K=4:  0.7407407407407407\n",
            "Exactitud (accuracy) K=5:  0.6666666666666666\n",
            "Exactitud (accuracy) K=6:  0.6666666666666666\n",
            "Exactitud (accuracy) K=7:  0.6296296296296297\n",
            "Exactitud (accuracy) K=8:  0.6296296296296297\n",
            "Exactitud (accuracy) K=9:  0.6111111111111112\n",
            "Mejor según accuracy: K=4\n"
          ]
        }
      ]
    },
    {
      "cell_type": "markdown",
      "metadata": {
        "id": "TX5zy-D8faEz"
      },
      "source": [
        "## ¿Cómo de sensibles somos a la falta de información?\n",
        "Estos algoritmos son muy sensibles a la falta de información, ¿estamos seguros de que estos resultados son correctos?"
      ]
    },
    {
      "cell_type": "code",
      "metadata": {
        "id": "Aq-fTlWSfaEz",
        "colab": {
          "base_uri": "https://localhost:8080/"
        },
        "outputId": "ecfdb370-284f-4a1f-8c0c-d86c81ddb96f"
      },
      "source": [
        "best_iteration = 0\n",
        "best_k = 0\n",
        "best_accuracy = 0\n",
        "for iteration in range(1,10):\n",
        "    X_train, X_test, y_train, y_test = train_test_split(wine.data, wine.target, test_size=0.5)\n",
        "    for K in range(3,10):\n",
        "        knn = KNeighborsClassifier(n_neighbors=K)\n",
        "        knn.fit(X_train, y_train)\n",
        "        y_pred = knn.predict(X_test)\n",
        "        accuracy = metrics.accuracy_score(y_test, y_pred)\n",
        "        #print(\"Exactitud [\"+str(iteration)+\"] (accuracy) K=\"+str(K)+\": \",accuracy)\n",
        "        if best_accuracy < accuracy:\n",
        "            best_accuracy = accuracy\n",
        "            best_k = K\n",
        "            best_iteration = iteration\n",
        "\n",
        "print('Mejor según accuracy: K=' + str(best_k)+ ' en iteración:' + str(iteration))"
      ],
      "execution_count": null,
      "outputs": [
        {
          "output_type": "stream",
          "name": "stdout",
          "text": [
            "Mejor según accuracy: K=3 en iteración:9\n"
          ]
        }
      ]
    },
    {
      "cell_type": "markdown",
      "metadata": {
        "id": "oxT8Vf8DfaE0"
      },
      "source": [
        "**Preguntas**:\n",
        "* *¿Qué puede estar pasando?*\n",
        "* *¿que pasa si cambiamos el test_size a un 10% o a un 50%?, qué pasa en cada caso*\n",
        "* *¿Cómo podríamos tener un mecanismo más robusto para la selección de la K?*"
      ]
    },
    {
      "cell_type": "markdown",
      "metadata": {
        "id": "_hZAMyDRfaE1"
      },
      "source": [
        "# Modelo de regresión\n",
        "\n",
        "El modelo de regresión en esencia es muy parecido al de clasificación, pero en este caso buscamos una salida numérica, para calcularla la *votación* del resultado final puede ser una media, media ponderada, mediana o la medida que nos pueda interesar"
      ]
    },
    {
      "cell_type": "markdown",
      "metadata": {
        "id": "Ma3vbydLfaE1"
      },
      "source": [
        "## ¿Cómo de felices somos en España?\n",
        "¿A qué alguna vez nos hemos preguntado si somos felices o no?, vamos a intentar hacer un modelo con lo que hemos aprendido en esta clase."
      ]
    },
    {
      "cell_type": "markdown",
      "metadata": {
        "id": "dbjno1EHfaE1"
      },
      "source": [
        "### Datos de entrada\n",
        "\n",
        "Para este caso vamos a usar los datos de felicidad en el mundo. Que de nuevo un reto procedente de un dataset de Kaggle, en este caso tenemos las clasificaciones de felicidad por país.\n",
        "\n",
        "Las puntuaciones y clasificaciones de felicidad utilizan datos de la Encuesta Mundial de Gallup. Los puntajes se basan en las respuestas a la pregunta principal de evaluación de la vida que se hizo en la encuesta. Esta pregunta, conocida como *la escala de Cantril*, pide a los encuestados que piensen en una escala en la que la mejor vida posible para ellos sea un 10 y la peor vida posible sea un 0 y que califiquen sus propias vidas actuales en esa escala. Los puntos provienen de muestras representativas a nivel nacional para los años 2013-2016 y utilizan las ponderaciones de Gallup para hacer las estimaciones representativas.\n",
        "\n",
        "Las columnas que siguen al puntos de felicidad estiman en qué medida cada uno de los seis factores (producción económica, apoyo social, esperanza de vida, libertad, ausencia de corrupción y generosidad) contribuyen a hacer que las evaluaciones de vida sean más altas en cada país que en *Distopía*, un país hipotético que tiene valores iguales a los promedios nacionales más bajos del mundo para cada uno de los seis factores. No tienen ningún impacto en la puntuación total informada para cada país, pero sí explican por qué algunos países tienen una clasificación más alta que otros."
      ]
    },
    {
      "cell_type": "code",
      "metadata": {
        "id": "m-uKSn73faE2",
        "colab": {
          "base_uri": "https://localhost:8080/"
        },
        "outputId": "d7b2fa90-1f0e-41e9-d7f4-c5e054f65fa1"
      },
      "source": [
        "df_hapiness = pd.read_csv('https://raw.githubusercontent.com/davidreyblanco/ml-training/master/data/happiness_2019.csv')\n",
        "# Limpiamos un poco los nombres de las columnas para eliminar espacios y mayúsculas\n",
        "df_hapiness.columns = df_hapiness.columns.str.replace(' ', '_')\n",
        "df_hapiness.columns = df_hapiness.columns.str.lower()\n",
        "df_hapiness.head(5)"
      ],
      "execution_count": null,
      "outputs": [
        {
          "output_type": "execute_result",
          "data": {
            "text/plain": [
              "   overall_rank country_or_region  score  gdp_per_capita  social_support  \\\n",
              "0             1           Finland  7.769           1.340           1.587   \n",
              "1             2           Denmark  7.600           1.383           1.573   \n",
              "2             3            Norway  7.554           1.488           1.582   \n",
              "3             4           Iceland  7.494           1.380           1.624   \n",
              "4             5       Netherlands  7.488           1.396           1.522   \n",
              "\n",
              "   healthy_life_expectancy  freedom_to_make_life_choices  generosity  \\\n",
              "0                    0.986                         0.596       0.153   \n",
              "1                    0.996                         0.592       0.252   \n",
              "2                    1.028                         0.603       0.271   \n",
              "3                    1.026                         0.591       0.354   \n",
              "4                    0.999                         0.557       0.322   \n",
              "\n",
              "   perceptions_of_corruption  \n",
              "0                      0.393  \n",
              "1                      0.410  \n",
              "2                      0.341  \n",
              "3                      0.118  \n",
              "4                      0.298  "
            ],
            "text/html": [
              "\n",
              "  <div id=\"df-9294088a-7b92-49dd-bea0-5a611d07efb6\" class=\"colab-df-container\">\n",
              "    <div>\n",
              "<style scoped>\n",
              "    .dataframe tbody tr th:only-of-type {\n",
              "        vertical-align: middle;\n",
              "    }\n",
              "\n",
              "    .dataframe tbody tr th {\n",
              "        vertical-align: top;\n",
              "    }\n",
              "\n",
              "    .dataframe thead th {\n",
              "        text-align: right;\n",
              "    }\n",
              "</style>\n",
              "<table border=\"1\" class=\"dataframe\">\n",
              "  <thead>\n",
              "    <tr style=\"text-align: right;\">\n",
              "      <th></th>\n",
              "      <th>overall_rank</th>\n",
              "      <th>country_or_region</th>\n",
              "      <th>score</th>\n",
              "      <th>gdp_per_capita</th>\n",
              "      <th>social_support</th>\n",
              "      <th>healthy_life_expectancy</th>\n",
              "      <th>freedom_to_make_life_choices</th>\n",
              "      <th>generosity</th>\n",
              "      <th>perceptions_of_corruption</th>\n",
              "    </tr>\n",
              "  </thead>\n",
              "  <tbody>\n",
              "    <tr>\n",
              "      <th>0</th>\n",
              "      <td>1</td>\n",
              "      <td>Finland</td>\n",
              "      <td>7.769</td>\n",
              "      <td>1.340</td>\n",
              "      <td>1.587</td>\n",
              "      <td>0.986</td>\n",
              "      <td>0.596</td>\n",
              "      <td>0.153</td>\n",
              "      <td>0.393</td>\n",
              "    </tr>\n",
              "    <tr>\n",
              "      <th>1</th>\n",
              "      <td>2</td>\n",
              "      <td>Denmark</td>\n",
              "      <td>7.600</td>\n",
              "      <td>1.383</td>\n",
              "      <td>1.573</td>\n",
              "      <td>0.996</td>\n",
              "      <td>0.592</td>\n",
              "      <td>0.252</td>\n",
              "      <td>0.410</td>\n",
              "    </tr>\n",
              "    <tr>\n",
              "      <th>2</th>\n",
              "      <td>3</td>\n",
              "      <td>Norway</td>\n",
              "      <td>7.554</td>\n",
              "      <td>1.488</td>\n",
              "      <td>1.582</td>\n",
              "      <td>1.028</td>\n",
              "      <td>0.603</td>\n",
              "      <td>0.271</td>\n",
              "      <td>0.341</td>\n",
              "    </tr>\n",
              "    <tr>\n",
              "      <th>3</th>\n",
              "      <td>4</td>\n",
              "      <td>Iceland</td>\n",
              "      <td>7.494</td>\n",
              "      <td>1.380</td>\n",
              "      <td>1.624</td>\n",
              "      <td>1.026</td>\n",
              "      <td>0.591</td>\n",
              "      <td>0.354</td>\n",
              "      <td>0.118</td>\n",
              "    </tr>\n",
              "    <tr>\n",
              "      <th>4</th>\n",
              "      <td>5</td>\n",
              "      <td>Netherlands</td>\n",
              "      <td>7.488</td>\n",
              "      <td>1.396</td>\n",
              "      <td>1.522</td>\n",
              "      <td>0.999</td>\n",
              "      <td>0.557</td>\n",
              "      <td>0.322</td>\n",
              "      <td>0.298</td>\n",
              "    </tr>\n",
              "  </tbody>\n",
              "</table>\n",
              "</div>\n",
              "    <div class=\"colab-df-buttons\">\n",
              "\n",
              "  <div class=\"colab-df-container\">\n",
              "    <button class=\"colab-df-convert\" onclick=\"convertToInteractive('df-9294088a-7b92-49dd-bea0-5a611d07efb6')\"\n",
              "            title=\"Convert this dataframe to an interactive table.\"\n",
              "            style=\"display:none;\">\n",
              "\n",
              "  <svg xmlns=\"http://www.w3.org/2000/svg\" height=\"24px\" viewBox=\"0 -960 960 960\">\n",
              "    <path d=\"M120-120v-720h720v720H120Zm60-500h600v-160H180v160Zm220 220h160v-160H400v160Zm0 220h160v-160H400v160ZM180-400h160v-160H180v160Zm440 0h160v-160H620v160ZM180-180h160v-160H180v160Zm440 0h160v-160H620v160Z\"/>\n",
              "  </svg>\n",
              "    </button>\n",
              "\n",
              "  <style>\n",
              "    .colab-df-container {\n",
              "      display:flex;\n",
              "      gap: 12px;\n",
              "    }\n",
              "\n",
              "    .colab-df-convert {\n",
              "      background-color: #E8F0FE;\n",
              "      border: none;\n",
              "      border-radius: 50%;\n",
              "      cursor: pointer;\n",
              "      display: none;\n",
              "      fill: #1967D2;\n",
              "      height: 32px;\n",
              "      padding: 0 0 0 0;\n",
              "      width: 32px;\n",
              "    }\n",
              "\n",
              "    .colab-df-convert:hover {\n",
              "      background-color: #E2EBFA;\n",
              "      box-shadow: 0px 1px 2px rgba(60, 64, 67, 0.3), 0px 1px 3px 1px rgba(60, 64, 67, 0.15);\n",
              "      fill: #174EA6;\n",
              "    }\n",
              "\n",
              "    .colab-df-buttons div {\n",
              "      margin-bottom: 4px;\n",
              "    }\n",
              "\n",
              "    [theme=dark] .colab-df-convert {\n",
              "      background-color: #3B4455;\n",
              "      fill: #D2E3FC;\n",
              "    }\n",
              "\n",
              "    [theme=dark] .colab-df-convert:hover {\n",
              "      background-color: #434B5C;\n",
              "      box-shadow: 0px 1px 3px 1px rgba(0, 0, 0, 0.15);\n",
              "      filter: drop-shadow(0px 1px 2px rgba(0, 0, 0, 0.3));\n",
              "      fill: #FFFFFF;\n",
              "    }\n",
              "  </style>\n",
              "\n",
              "    <script>\n",
              "      const buttonEl =\n",
              "        document.querySelector('#df-9294088a-7b92-49dd-bea0-5a611d07efb6 button.colab-df-convert');\n",
              "      buttonEl.style.display =\n",
              "        google.colab.kernel.accessAllowed ? 'block' : 'none';\n",
              "\n",
              "      async function convertToInteractive(key) {\n",
              "        const element = document.querySelector('#df-9294088a-7b92-49dd-bea0-5a611d07efb6');\n",
              "        const dataTable =\n",
              "          await google.colab.kernel.invokeFunction('convertToInteractive',\n",
              "                                                    [key], {});\n",
              "        if (!dataTable) return;\n",
              "\n",
              "        const docLinkHtml = 'Like what you see? Visit the ' +\n",
              "          '<a target=\"_blank\" href=https://colab.research.google.com/notebooks/data_table.ipynb>data table notebook</a>'\n",
              "          + ' to learn more about interactive tables.';\n",
              "        element.innerHTML = '';\n",
              "        dataTable['output_type'] = 'display_data';\n",
              "        await google.colab.output.renderOutput(dataTable, element);\n",
              "        const docLink = document.createElement('div');\n",
              "        docLink.innerHTML = docLinkHtml;\n",
              "        element.appendChild(docLink);\n",
              "      }\n",
              "    </script>\n",
              "  </div>\n",
              "\n",
              "\n",
              "<div id=\"df-0b8dedcf-a6c2-4425-9680-bd631874100e\">\n",
              "  <button class=\"colab-df-quickchart\" onclick=\"quickchart('df-0b8dedcf-a6c2-4425-9680-bd631874100e')\"\n",
              "            title=\"Suggest charts\"\n",
              "            style=\"display:none;\">\n",
              "\n",
              "<svg xmlns=\"http://www.w3.org/2000/svg\" height=\"24px\"viewBox=\"0 0 24 24\"\n",
              "     width=\"24px\">\n",
              "    <g>\n",
              "        <path d=\"M19 3H5c-1.1 0-2 .9-2 2v14c0 1.1.9 2 2 2h14c1.1 0 2-.9 2-2V5c0-1.1-.9-2-2-2zM9 17H7v-7h2v7zm4 0h-2V7h2v10zm4 0h-2v-4h2v4z\"/>\n",
              "    </g>\n",
              "</svg>\n",
              "  </button>\n",
              "\n",
              "<style>\n",
              "  .colab-df-quickchart {\n",
              "      --bg-color: #E8F0FE;\n",
              "      --fill-color: #1967D2;\n",
              "      --hover-bg-color: #E2EBFA;\n",
              "      --hover-fill-color: #174EA6;\n",
              "      --disabled-fill-color: #AAA;\n",
              "      --disabled-bg-color: #DDD;\n",
              "  }\n",
              "\n",
              "  [theme=dark] .colab-df-quickchart {\n",
              "      --bg-color: #3B4455;\n",
              "      --fill-color: #D2E3FC;\n",
              "      --hover-bg-color: #434B5C;\n",
              "      --hover-fill-color: #FFFFFF;\n",
              "      --disabled-bg-color: #3B4455;\n",
              "      --disabled-fill-color: #666;\n",
              "  }\n",
              "\n",
              "  .colab-df-quickchart {\n",
              "    background-color: var(--bg-color);\n",
              "    border: none;\n",
              "    border-radius: 50%;\n",
              "    cursor: pointer;\n",
              "    display: none;\n",
              "    fill: var(--fill-color);\n",
              "    height: 32px;\n",
              "    padding: 0;\n",
              "    width: 32px;\n",
              "  }\n",
              "\n",
              "  .colab-df-quickchart:hover {\n",
              "    background-color: var(--hover-bg-color);\n",
              "    box-shadow: 0 1px 2px rgba(60, 64, 67, 0.3), 0 1px 3px 1px rgba(60, 64, 67, 0.15);\n",
              "    fill: var(--button-hover-fill-color);\n",
              "  }\n",
              "\n",
              "  .colab-df-quickchart-complete:disabled,\n",
              "  .colab-df-quickchart-complete:disabled:hover {\n",
              "    background-color: var(--disabled-bg-color);\n",
              "    fill: var(--disabled-fill-color);\n",
              "    box-shadow: none;\n",
              "  }\n",
              "\n",
              "  .colab-df-spinner {\n",
              "    border: 2px solid var(--fill-color);\n",
              "    border-color: transparent;\n",
              "    border-bottom-color: var(--fill-color);\n",
              "    animation:\n",
              "      spin 1s steps(1) infinite;\n",
              "  }\n",
              "\n",
              "  @keyframes spin {\n",
              "    0% {\n",
              "      border-color: transparent;\n",
              "      border-bottom-color: var(--fill-color);\n",
              "      border-left-color: var(--fill-color);\n",
              "    }\n",
              "    20% {\n",
              "      border-color: transparent;\n",
              "      border-left-color: var(--fill-color);\n",
              "      border-top-color: var(--fill-color);\n",
              "    }\n",
              "    30% {\n",
              "      border-color: transparent;\n",
              "      border-left-color: var(--fill-color);\n",
              "      border-top-color: var(--fill-color);\n",
              "      border-right-color: var(--fill-color);\n",
              "    }\n",
              "    40% {\n",
              "      border-color: transparent;\n",
              "      border-right-color: var(--fill-color);\n",
              "      border-top-color: var(--fill-color);\n",
              "    }\n",
              "    60% {\n",
              "      border-color: transparent;\n",
              "      border-right-color: var(--fill-color);\n",
              "    }\n",
              "    80% {\n",
              "      border-color: transparent;\n",
              "      border-right-color: var(--fill-color);\n",
              "      border-bottom-color: var(--fill-color);\n",
              "    }\n",
              "    90% {\n",
              "      border-color: transparent;\n",
              "      border-bottom-color: var(--fill-color);\n",
              "    }\n",
              "  }\n",
              "</style>\n",
              "\n",
              "  <script>\n",
              "    async function quickchart(key) {\n",
              "      const quickchartButtonEl =\n",
              "        document.querySelector('#' + key + ' button');\n",
              "      quickchartButtonEl.disabled = true;  // To prevent multiple clicks.\n",
              "      quickchartButtonEl.classList.add('colab-df-spinner');\n",
              "      try {\n",
              "        const charts = await google.colab.kernel.invokeFunction(\n",
              "            'suggestCharts', [key], {});\n",
              "      } catch (error) {\n",
              "        console.error('Error during call to suggestCharts:', error);\n",
              "      }\n",
              "      quickchartButtonEl.classList.remove('colab-df-spinner');\n",
              "      quickchartButtonEl.classList.add('colab-df-quickchart-complete');\n",
              "    }\n",
              "    (() => {\n",
              "      let quickchartButtonEl =\n",
              "        document.querySelector('#df-0b8dedcf-a6c2-4425-9680-bd631874100e button');\n",
              "      quickchartButtonEl.style.display =\n",
              "        google.colab.kernel.accessAllowed ? 'block' : 'none';\n",
              "    })();\n",
              "  </script>\n",
              "</div>\n",
              "    </div>\n",
              "  </div>\n"
            ]
          },
          "metadata": {},
          "execution_count": 22
        }
      ]
    },
    {
      "cell_type": "markdown",
      "metadata": {
        "id": "Qizc_4ZffaE2"
      },
      "source": [
        "Vemos unos mínimos descriptivos por un lado los datos numéricos y las columnas del dataframe"
      ]
    },
    {
      "cell_type": "code",
      "metadata": {
        "id": "ocrk9XXifaE3",
        "colab": {
          "base_uri": "https://localhost:8080/"
        },
        "outputId": "2a80e90d-de06-47bf-93ab-40fd7587ac80"
      },
      "source": [
        "df_hapiness.columns"
      ],
      "execution_count": null,
      "outputs": [
        {
          "output_type": "execute_result",
          "data": {
            "text/plain": [
              "Index(['overall_rank', 'country_or_region', 'score', 'gdp_per_capita',\n",
              "       'social_support', 'healthy_life_expectancy',\n",
              "       'freedom_to_make_life_choices', 'generosity',\n",
              "       'perceptions_of_corruption'],\n",
              "      dtype='object')"
            ]
          },
          "metadata": {},
          "execution_count": 23
        }
      ]
    },
    {
      "cell_type": "code",
      "metadata": {
        "id": "Nn0P-7WSfaE3",
        "colab": {
          "base_uri": "https://localhost:8080/"
        },
        "outputId": "9ac7c5a8-0d4a-46ca-8864-a8a8ee46a953"
      },
      "source": [
        "df_hapiness.describe()"
      ],
      "execution_count": null,
      "outputs": [
        {
          "output_type": "execute_result",
          "data": {
            "text/plain": [
              "       overall_rank       score  gdp_per_capita  social_support  \\\n",
              "count    156.000000  156.000000      156.000000      156.000000   \n",
              "mean      78.500000    5.407096        0.905147        1.208814   \n",
              "std       45.177428    1.113120        0.398389        0.299191   \n",
              "min        1.000000    2.853000        0.000000        0.000000   \n",
              "25%       39.750000    4.544500        0.602750        1.055750   \n",
              "50%       78.500000    5.379500        0.960000        1.271500   \n",
              "75%      117.250000    6.184500        1.232500        1.452500   \n",
              "max      156.000000    7.769000        1.684000        1.624000   \n",
              "\n",
              "       healthy_life_expectancy  freedom_to_make_life_choices  generosity  \\\n",
              "count               156.000000                    156.000000  156.000000   \n",
              "mean                  0.725244                      0.392571    0.184846   \n",
              "std                   0.242124                      0.143289    0.095254   \n",
              "min                   0.000000                      0.000000    0.000000   \n",
              "25%                   0.547750                      0.308000    0.108750   \n",
              "50%                   0.789000                      0.417000    0.177500   \n",
              "75%                   0.881750                      0.507250    0.248250   \n",
              "max                   1.141000                      0.631000    0.566000   \n",
              "\n",
              "       perceptions_of_corruption  \n",
              "count                 156.000000  \n",
              "mean                    0.110603  \n",
              "std                     0.094538  \n",
              "min                     0.000000  \n",
              "25%                     0.047000  \n",
              "50%                     0.085500  \n",
              "75%                     0.141250  \n",
              "max                     0.453000  "
            ],
            "text/html": [
              "\n",
              "  <div id=\"df-6dfe511a-0bf2-4798-b066-e85e8a009107\" class=\"colab-df-container\">\n",
              "    <div>\n",
              "<style scoped>\n",
              "    .dataframe tbody tr th:only-of-type {\n",
              "        vertical-align: middle;\n",
              "    }\n",
              "\n",
              "    .dataframe tbody tr th {\n",
              "        vertical-align: top;\n",
              "    }\n",
              "\n",
              "    .dataframe thead th {\n",
              "        text-align: right;\n",
              "    }\n",
              "</style>\n",
              "<table border=\"1\" class=\"dataframe\">\n",
              "  <thead>\n",
              "    <tr style=\"text-align: right;\">\n",
              "      <th></th>\n",
              "      <th>overall_rank</th>\n",
              "      <th>score</th>\n",
              "      <th>gdp_per_capita</th>\n",
              "      <th>social_support</th>\n",
              "      <th>healthy_life_expectancy</th>\n",
              "      <th>freedom_to_make_life_choices</th>\n",
              "      <th>generosity</th>\n",
              "      <th>perceptions_of_corruption</th>\n",
              "    </tr>\n",
              "  </thead>\n",
              "  <tbody>\n",
              "    <tr>\n",
              "      <th>count</th>\n",
              "      <td>156.000000</td>\n",
              "      <td>156.000000</td>\n",
              "      <td>156.000000</td>\n",
              "      <td>156.000000</td>\n",
              "      <td>156.000000</td>\n",
              "      <td>156.000000</td>\n",
              "      <td>156.000000</td>\n",
              "      <td>156.000000</td>\n",
              "    </tr>\n",
              "    <tr>\n",
              "      <th>mean</th>\n",
              "      <td>78.500000</td>\n",
              "      <td>5.407096</td>\n",
              "      <td>0.905147</td>\n",
              "      <td>1.208814</td>\n",
              "      <td>0.725244</td>\n",
              "      <td>0.392571</td>\n",
              "      <td>0.184846</td>\n",
              "      <td>0.110603</td>\n",
              "    </tr>\n",
              "    <tr>\n",
              "      <th>std</th>\n",
              "      <td>45.177428</td>\n",
              "      <td>1.113120</td>\n",
              "      <td>0.398389</td>\n",
              "      <td>0.299191</td>\n",
              "      <td>0.242124</td>\n",
              "      <td>0.143289</td>\n",
              "      <td>0.095254</td>\n",
              "      <td>0.094538</td>\n",
              "    </tr>\n",
              "    <tr>\n",
              "      <th>min</th>\n",
              "      <td>1.000000</td>\n",
              "      <td>2.853000</td>\n",
              "      <td>0.000000</td>\n",
              "      <td>0.000000</td>\n",
              "      <td>0.000000</td>\n",
              "      <td>0.000000</td>\n",
              "      <td>0.000000</td>\n",
              "      <td>0.000000</td>\n",
              "    </tr>\n",
              "    <tr>\n",
              "      <th>25%</th>\n",
              "      <td>39.750000</td>\n",
              "      <td>4.544500</td>\n",
              "      <td>0.602750</td>\n",
              "      <td>1.055750</td>\n",
              "      <td>0.547750</td>\n",
              "      <td>0.308000</td>\n",
              "      <td>0.108750</td>\n",
              "      <td>0.047000</td>\n",
              "    </tr>\n",
              "    <tr>\n",
              "      <th>50%</th>\n",
              "      <td>78.500000</td>\n",
              "      <td>5.379500</td>\n",
              "      <td>0.960000</td>\n",
              "      <td>1.271500</td>\n",
              "      <td>0.789000</td>\n",
              "      <td>0.417000</td>\n",
              "      <td>0.177500</td>\n",
              "      <td>0.085500</td>\n",
              "    </tr>\n",
              "    <tr>\n",
              "      <th>75%</th>\n",
              "      <td>117.250000</td>\n",
              "      <td>6.184500</td>\n",
              "      <td>1.232500</td>\n",
              "      <td>1.452500</td>\n",
              "      <td>0.881750</td>\n",
              "      <td>0.507250</td>\n",
              "      <td>0.248250</td>\n",
              "      <td>0.141250</td>\n",
              "    </tr>\n",
              "    <tr>\n",
              "      <th>max</th>\n",
              "      <td>156.000000</td>\n",
              "      <td>7.769000</td>\n",
              "      <td>1.684000</td>\n",
              "      <td>1.624000</td>\n",
              "      <td>1.141000</td>\n",
              "      <td>0.631000</td>\n",
              "      <td>0.566000</td>\n",
              "      <td>0.453000</td>\n",
              "    </tr>\n",
              "  </tbody>\n",
              "</table>\n",
              "</div>\n",
              "    <div class=\"colab-df-buttons\">\n",
              "\n",
              "  <div class=\"colab-df-container\">\n",
              "    <button class=\"colab-df-convert\" onclick=\"convertToInteractive('df-6dfe511a-0bf2-4798-b066-e85e8a009107')\"\n",
              "            title=\"Convert this dataframe to an interactive table.\"\n",
              "            style=\"display:none;\">\n",
              "\n",
              "  <svg xmlns=\"http://www.w3.org/2000/svg\" height=\"24px\" viewBox=\"0 -960 960 960\">\n",
              "    <path d=\"M120-120v-720h720v720H120Zm60-500h600v-160H180v160Zm220 220h160v-160H400v160Zm0 220h160v-160H400v160ZM180-400h160v-160H180v160Zm440 0h160v-160H620v160ZM180-180h160v-160H180v160Zm440 0h160v-160H620v160Z\"/>\n",
              "  </svg>\n",
              "    </button>\n",
              "\n",
              "  <style>\n",
              "    .colab-df-container {\n",
              "      display:flex;\n",
              "      gap: 12px;\n",
              "    }\n",
              "\n",
              "    .colab-df-convert {\n",
              "      background-color: #E8F0FE;\n",
              "      border: none;\n",
              "      border-radius: 50%;\n",
              "      cursor: pointer;\n",
              "      display: none;\n",
              "      fill: #1967D2;\n",
              "      height: 32px;\n",
              "      padding: 0 0 0 0;\n",
              "      width: 32px;\n",
              "    }\n",
              "\n",
              "    .colab-df-convert:hover {\n",
              "      background-color: #E2EBFA;\n",
              "      box-shadow: 0px 1px 2px rgba(60, 64, 67, 0.3), 0px 1px 3px 1px rgba(60, 64, 67, 0.15);\n",
              "      fill: #174EA6;\n",
              "    }\n",
              "\n",
              "    .colab-df-buttons div {\n",
              "      margin-bottom: 4px;\n",
              "    }\n",
              "\n",
              "    [theme=dark] .colab-df-convert {\n",
              "      background-color: #3B4455;\n",
              "      fill: #D2E3FC;\n",
              "    }\n",
              "\n",
              "    [theme=dark] .colab-df-convert:hover {\n",
              "      background-color: #434B5C;\n",
              "      box-shadow: 0px 1px 3px 1px rgba(0, 0, 0, 0.15);\n",
              "      filter: drop-shadow(0px 1px 2px rgba(0, 0, 0, 0.3));\n",
              "      fill: #FFFFFF;\n",
              "    }\n",
              "  </style>\n",
              "\n",
              "    <script>\n",
              "      const buttonEl =\n",
              "        document.querySelector('#df-6dfe511a-0bf2-4798-b066-e85e8a009107 button.colab-df-convert');\n",
              "      buttonEl.style.display =\n",
              "        google.colab.kernel.accessAllowed ? 'block' : 'none';\n",
              "\n",
              "      async function convertToInteractive(key) {\n",
              "        const element = document.querySelector('#df-6dfe511a-0bf2-4798-b066-e85e8a009107');\n",
              "        const dataTable =\n",
              "          await google.colab.kernel.invokeFunction('convertToInteractive',\n",
              "                                                    [key], {});\n",
              "        if (!dataTable) return;\n",
              "\n",
              "        const docLinkHtml = 'Like what you see? Visit the ' +\n",
              "          '<a target=\"_blank\" href=https://colab.research.google.com/notebooks/data_table.ipynb>data table notebook</a>'\n",
              "          + ' to learn more about interactive tables.';\n",
              "        element.innerHTML = '';\n",
              "        dataTable['output_type'] = 'display_data';\n",
              "        await google.colab.output.renderOutput(dataTable, element);\n",
              "        const docLink = document.createElement('div');\n",
              "        docLink.innerHTML = docLinkHtml;\n",
              "        element.appendChild(docLink);\n",
              "      }\n",
              "    </script>\n",
              "  </div>\n",
              "\n",
              "\n",
              "<div id=\"df-d83e9601-f2d3-4c4b-aada-8913ab3e2dd7\">\n",
              "  <button class=\"colab-df-quickchart\" onclick=\"quickchart('df-d83e9601-f2d3-4c4b-aada-8913ab3e2dd7')\"\n",
              "            title=\"Suggest charts\"\n",
              "            style=\"display:none;\">\n",
              "\n",
              "<svg xmlns=\"http://www.w3.org/2000/svg\" height=\"24px\"viewBox=\"0 0 24 24\"\n",
              "     width=\"24px\">\n",
              "    <g>\n",
              "        <path d=\"M19 3H5c-1.1 0-2 .9-2 2v14c0 1.1.9 2 2 2h14c1.1 0 2-.9 2-2V5c0-1.1-.9-2-2-2zM9 17H7v-7h2v7zm4 0h-2V7h2v10zm4 0h-2v-4h2v4z\"/>\n",
              "    </g>\n",
              "</svg>\n",
              "  </button>\n",
              "\n",
              "<style>\n",
              "  .colab-df-quickchart {\n",
              "      --bg-color: #E8F0FE;\n",
              "      --fill-color: #1967D2;\n",
              "      --hover-bg-color: #E2EBFA;\n",
              "      --hover-fill-color: #174EA6;\n",
              "      --disabled-fill-color: #AAA;\n",
              "      --disabled-bg-color: #DDD;\n",
              "  }\n",
              "\n",
              "  [theme=dark] .colab-df-quickchart {\n",
              "      --bg-color: #3B4455;\n",
              "      --fill-color: #D2E3FC;\n",
              "      --hover-bg-color: #434B5C;\n",
              "      --hover-fill-color: #FFFFFF;\n",
              "      --disabled-bg-color: #3B4455;\n",
              "      --disabled-fill-color: #666;\n",
              "  }\n",
              "\n",
              "  .colab-df-quickchart {\n",
              "    background-color: var(--bg-color);\n",
              "    border: none;\n",
              "    border-radius: 50%;\n",
              "    cursor: pointer;\n",
              "    display: none;\n",
              "    fill: var(--fill-color);\n",
              "    height: 32px;\n",
              "    padding: 0;\n",
              "    width: 32px;\n",
              "  }\n",
              "\n",
              "  .colab-df-quickchart:hover {\n",
              "    background-color: var(--hover-bg-color);\n",
              "    box-shadow: 0 1px 2px rgba(60, 64, 67, 0.3), 0 1px 3px 1px rgba(60, 64, 67, 0.15);\n",
              "    fill: var(--button-hover-fill-color);\n",
              "  }\n",
              "\n",
              "  .colab-df-quickchart-complete:disabled,\n",
              "  .colab-df-quickchart-complete:disabled:hover {\n",
              "    background-color: var(--disabled-bg-color);\n",
              "    fill: var(--disabled-fill-color);\n",
              "    box-shadow: none;\n",
              "  }\n",
              "\n",
              "  .colab-df-spinner {\n",
              "    border: 2px solid var(--fill-color);\n",
              "    border-color: transparent;\n",
              "    border-bottom-color: var(--fill-color);\n",
              "    animation:\n",
              "      spin 1s steps(1) infinite;\n",
              "  }\n",
              "\n",
              "  @keyframes spin {\n",
              "    0% {\n",
              "      border-color: transparent;\n",
              "      border-bottom-color: var(--fill-color);\n",
              "      border-left-color: var(--fill-color);\n",
              "    }\n",
              "    20% {\n",
              "      border-color: transparent;\n",
              "      border-left-color: var(--fill-color);\n",
              "      border-top-color: var(--fill-color);\n",
              "    }\n",
              "    30% {\n",
              "      border-color: transparent;\n",
              "      border-left-color: var(--fill-color);\n",
              "      border-top-color: var(--fill-color);\n",
              "      border-right-color: var(--fill-color);\n",
              "    }\n",
              "    40% {\n",
              "      border-color: transparent;\n",
              "      border-right-color: var(--fill-color);\n",
              "      border-top-color: var(--fill-color);\n",
              "    }\n",
              "    60% {\n",
              "      border-color: transparent;\n",
              "      border-right-color: var(--fill-color);\n",
              "    }\n",
              "    80% {\n",
              "      border-color: transparent;\n",
              "      border-right-color: var(--fill-color);\n",
              "      border-bottom-color: var(--fill-color);\n",
              "    }\n",
              "    90% {\n",
              "      border-color: transparent;\n",
              "      border-bottom-color: var(--fill-color);\n",
              "    }\n",
              "  }\n",
              "</style>\n",
              "\n",
              "  <script>\n",
              "    async function quickchart(key) {\n",
              "      const quickchartButtonEl =\n",
              "        document.querySelector('#' + key + ' button');\n",
              "      quickchartButtonEl.disabled = true;  // To prevent multiple clicks.\n",
              "      quickchartButtonEl.classList.add('colab-df-spinner');\n",
              "      try {\n",
              "        const charts = await google.colab.kernel.invokeFunction(\n",
              "            'suggestCharts', [key], {});\n",
              "      } catch (error) {\n",
              "        console.error('Error during call to suggestCharts:', error);\n",
              "      }\n",
              "      quickchartButtonEl.classList.remove('colab-df-spinner');\n",
              "      quickchartButtonEl.classList.add('colab-df-quickchart-complete');\n",
              "    }\n",
              "    (() => {\n",
              "      let quickchartButtonEl =\n",
              "        document.querySelector('#df-d83e9601-f2d3-4c4b-aada-8913ab3e2dd7 button');\n",
              "      quickchartButtonEl.style.display =\n",
              "        google.colab.kernel.accessAllowed ? 'block' : 'none';\n",
              "    })();\n",
              "  </script>\n",
              "</div>\n",
              "    </div>\n",
              "  </div>\n"
            ]
          },
          "metadata": {},
          "execution_count": 24
        }
      ]
    },
    {
      "cell_type": "markdown",
      "metadata": {
        "id": "R8V9FtrFfaE4"
      },
      "source": [
        "Por si acaso vamos a mirar un poco esta tabla por si tenemos que recurrir a ella más adelante.\n",
        "\n",
        "### Construimos los datos de entrada\n",
        "\n",
        "Seleccionamos los datos del resto del mundo como datos para construir el modelo y el de España para evaluar nuestro modelo"
      ]
    },
    {
      "cell_type": "code",
      "metadata": {
        "id": "aOr3G5SdfaE4"
      },
      "source": [
        "# Vamos a construir un modelo de regresión en el que sacamos a España del conjunto de entrada\n",
        "df_spain = df_hapiness[(df_hapiness.country_or_region == \"Spain\")]\n",
        "df_world = df_hapiness[(df_hapiness.country_or_region != \"Spain\")]"
      ],
      "execution_count": null,
      "outputs": []
    },
    {
      "cell_type": "markdown",
      "metadata": {
        "id": "RsjwY8cvfaE4"
      },
      "source": [
        "Construimos nuestras caracteristicas"
      ]
    },
    {
      "cell_type": "code",
      "metadata": {
        "id": "9lX_82KofaE5"
      },
      "source": [
        "# Construimos nuestras features para el conjunto de entrada\n",
        "feature_set = ['gdp_per_capita',\n",
        "       'social_support', 'healthy_life_expectancy',\n",
        "       'freedom_to_make_life_choices', 'generosity',\n",
        "       'perceptions_of_corruption']\n",
        "df_train_features = df_world[feature_set]\n",
        "df_train_target = df_world['score']"
      ],
      "execution_count": null,
      "outputs": []
    },
    {
      "cell_type": "markdown",
      "metadata": {
        "id": "rsI2E1_1faE5"
      },
      "source": [
        "### Versión naive de nuestro algoritmo\n",
        "Construimos un algoritmo de regresión usando los 3 países más parecidos"
      ]
    },
    {
      "cell_type": "code",
      "metadata": {
        "id": "nO6FrbzyfaE5",
        "colab": {
          "base_uri": "https://localhost:8080/",
          "height": 74
        },
        "outputId": "48349b2f-bc94-4305-f177-43b1e09961f6"
      },
      "source": [
        "from sklearn.neighbors import KNeighborsRegressor\n",
        "K = 3\n",
        "# Repaso: Minkowski con p = 2 es la distancia euclídea\n",
        "happiness_model = KNeighborsRegressor(n_neighbors=K,\n",
        "                    weights='uniform',\n",
        "                    p=2,\n",
        "                    metric='minkowski')\n",
        "\n",
        "# Construimos nuestro modelo\n",
        "happiness_model.fit(df_train_features.values, df_train_target.values)\n"
      ],
      "execution_count": null,
      "outputs": [
        {
          "output_type": "execute_result",
          "data": {
            "text/plain": [
              "KNeighborsRegressor(n_neighbors=3)"
            ],
            "text/html": [
              "<style>#sk-container-id-1 {color: black;background-color: white;}#sk-container-id-1 pre{padding: 0;}#sk-container-id-1 div.sk-toggleable {background-color: white;}#sk-container-id-1 label.sk-toggleable__label {cursor: pointer;display: block;width: 100%;margin-bottom: 0;padding: 0.3em;box-sizing: border-box;text-align: center;}#sk-container-id-1 label.sk-toggleable__label-arrow:before {content: \"▸\";float: left;margin-right: 0.25em;color: #696969;}#sk-container-id-1 label.sk-toggleable__label-arrow:hover:before {color: black;}#sk-container-id-1 div.sk-estimator:hover label.sk-toggleable__label-arrow:before {color: black;}#sk-container-id-1 div.sk-toggleable__content {max-height: 0;max-width: 0;overflow: hidden;text-align: left;background-color: #f0f8ff;}#sk-container-id-1 div.sk-toggleable__content pre {margin: 0.2em;color: black;border-radius: 0.25em;background-color: #f0f8ff;}#sk-container-id-1 input.sk-toggleable__control:checked~div.sk-toggleable__content {max-height: 200px;max-width: 100%;overflow: auto;}#sk-container-id-1 input.sk-toggleable__control:checked~label.sk-toggleable__label-arrow:before {content: \"▾\";}#sk-container-id-1 div.sk-estimator input.sk-toggleable__control:checked~label.sk-toggleable__label {background-color: #d4ebff;}#sk-container-id-1 div.sk-label input.sk-toggleable__control:checked~label.sk-toggleable__label {background-color: #d4ebff;}#sk-container-id-1 input.sk-hidden--visually {border: 0;clip: rect(1px 1px 1px 1px);clip: rect(1px, 1px, 1px, 1px);height: 1px;margin: -1px;overflow: hidden;padding: 0;position: absolute;width: 1px;}#sk-container-id-1 div.sk-estimator {font-family: monospace;background-color: #f0f8ff;border: 1px dotted black;border-radius: 0.25em;box-sizing: border-box;margin-bottom: 0.5em;}#sk-container-id-1 div.sk-estimator:hover {background-color: #d4ebff;}#sk-container-id-1 div.sk-parallel-item::after {content: \"\";width: 100%;border-bottom: 1px solid gray;flex-grow: 1;}#sk-container-id-1 div.sk-label:hover label.sk-toggleable__label {background-color: #d4ebff;}#sk-container-id-1 div.sk-serial::before {content: \"\";position: absolute;border-left: 1px solid gray;box-sizing: border-box;top: 0;bottom: 0;left: 50%;z-index: 0;}#sk-container-id-1 div.sk-serial {display: flex;flex-direction: column;align-items: center;background-color: white;padding-right: 0.2em;padding-left: 0.2em;position: relative;}#sk-container-id-1 div.sk-item {position: relative;z-index: 1;}#sk-container-id-1 div.sk-parallel {display: flex;align-items: stretch;justify-content: center;background-color: white;position: relative;}#sk-container-id-1 div.sk-item::before, #sk-container-id-1 div.sk-parallel-item::before {content: \"\";position: absolute;border-left: 1px solid gray;box-sizing: border-box;top: 0;bottom: 0;left: 50%;z-index: -1;}#sk-container-id-1 div.sk-parallel-item {display: flex;flex-direction: column;z-index: 1;position: relative;background-color: white;}#sk-container-id-1 div.sk-parallel-item:first-child::after {align-self: flex-end;width: 50%;}#sk-container-id-1 div.sk-parallel-item:last-child::after {align-self: flex-start;width: 50%;}#sk-container-id-1 div.sk-parallel-item:only-child::after {width: 0;}#sk-container-id-1 div.sk-dashed-wrapped {border: 1px dashed gray;margin: 0 0.4em 0.5em 0.4em;box-sizing: border-box;padding-bottom: 0.4em;background-color: white;}#sk-container-id-1 div.sk-label label {font-family: monospace;font-weight: bold;display: inline-block;line-height: 1.2em;}#sk-container-id-1 div.sk-label-container {text-align: center;}#sk-container-id-1 div.sk-container {/* jupyter's `normalize.less` sets `[hidden] { display: none; }` but bootstrap.min.css set `[hidden] { display: none !important; }` so we also need the `!important` here to be able to override the default hidden behavior on the sphinx rendered scikit-learn.org. See: https://github.com/scikit-learn/scikit-learn/issues/21755 */display: inline-block !important;position: relative;}#sk-container-id-1 div.sk-text-repr-fallback {display: none;}</style><div id=\"sk-container-id-1\" class=\"sk-top-container\"><div class=\"sk-text-repr-fallback\"><pre>KNeighborsRegressor(n_neighbors=3)</pre><b>In a Jupyter environment, please rerun this cell to show the HTML representation or trust the notebook. <br />On GitHub, the HTML representation is unable to render, please try loading this page with nbviewer.org.</b></div><div class=\"sk-container\" hidden><div class=\"sk-item\"><div class=\"sk-estimator sk-toggleable\"><input class=\"sk-toggleable__control sk-hidden--visually\" id=\"sk-estimator-id-1\" type=\"checkbox\" checked><label for=\"sk-estimator-id-1\" class=\"sk-toggleable__label sk-toggleable__label-arrow\">KNeighborsRegressor</label><div class=\"sk-toggleable__content\"><pre>KNeighborsRegressor(n_neighbors=3)</pre></div></div></div></div></div>"
            ]
          },
          "metadata": {},
          "execution_count": 27
        }
      ]
    },
    {
      "cell_type": "markdown",
      "metadata": {
        "id": "q--ssxw5faE5"
      },
      "source": [
        "Y ahora vamos a ver como somos de felices"
      ]
    },
    {
      "cell_type": "code",
      "metadata": {
        "id": "gvZiyrAVfaE6",
        "colab": {
          "base_uri": "https://localhost:8080/"
        },
        "outputId": "8278e573-6e07-4667-b6aa-7afe90b92359"
      },
      "source": [
        "#Predict the response for test dataset\n",
        "input_spain = df_spain[feature_set].values\n",
        "happiness_spain = happiness_model.predict(input_spain)\n",
        "happiness_spain"
      ],
      "execution_count": null,
      "outputs": [
        {
          "output_type": "execute_result",
          "data": {
            "text/plain": [
              "array([6.65133333])"
            ]
          },
          "metadata": {},
          "execution_count": 28
        }
      ]
    },
    {
      "cell_type": "markdown",
      "metadata": {
        "id": "z5AQqb37faE6"
      },
      "source": [
        "¿Cómo hemos sido de precisos en nuestra predicción de felicidad?, para eso calculamos una medida de error como el error en porcentaje calculado como:\n",
        "    $$\n",
        "    MAPE = \\frac{abs(y - \\hat{y})}{y}\n",
        "    $$"
      ]
    },
    {
      "cell_type": "code",
      "metadata": {
        "id": "2uvXhMIbfaE7",
        "colab": {
          "base_uri": "https://localhost:8080/"
        },
        "outputId": "65a796ef-5dab-4c41-ce0a-82510e72a2f8"
      },
      "source": [
        "actual_happiness = df_spain['score'].values\n",
        "pct_error = 100*abs(actual_happiness[0] -  happiness_spain[0]) / actual_happiness[0]\n",
        "print('Nuestra predicción se desvía un ' + str(round(pct_error,3)) + '% del valor real')"
      ],
      "execution_count": null,
      "outputs": [
        {
          "output_type": "stream",
          "name": "stdout",
          "text": [
            "Nuestra predicción se desvía un 4.679% del valor real\n"
          ]
        }
      ]
    },
    {
      "cell_type": "markdown",
      "metadata": {
        "id": "l_po8CPZfaE7"
      },
      "source": [
        "Vamos a ver si nuestro algoritmo ha funcionado bien, si el score calculado se parece al original es que lo hemos hecho bien."
      ]
    },
    {
      "cell_type": "code",
      "metadata": {
        "id": "e6Q78-udfaE7",
        "colab": {
          "base_uri": "https://localhost:8080/",
          "height": 81
        },
        "outputId": "b70f6559-a899-487d-fff7-5519480c71bf"
      },
      "source": [
        "df_spain"
      ],
      "execution_count": null,
      "outputs": [
        {
          "output_type": "execute_result",
          "data": {
            "text/plain": [
              "    overall_rank country_or_region  score  gdp_per_capita  social_support  \\\n",
              "29            30             Spain  6.354           1.286           1.484   \n",
              "\n",
              "    healthy_life_expectancy  freedom_to_make_life_choices  generosity  \\\n",
              "29                    1.062                         0.362       0.153   \n",
              "\n",
              "    perceptions_of_corruption  \n",
              "29                      0.079  "
            ],
            "text/html": [
              "\n",
              "  <div id=\"df-3b2f6bb5-a2e5-4569-8a36-72018cf50c4a\" class=\"colab-df-container\">\n",
              "    <div>\n",
              "<style scoped>\n",
              "    .dataframe tbody tr th:only-of-type {\n",
              "        vertical-align: middle;\n",
              "    }\n",
              "\n",
              "    .dataframe tbody tr th {\n",
              "        vertical-align: top;\n",
              "    }\n",
              "\n",
              "    .dataframe thead th {\n",
              "        text-align: right;\n",
              "    }\n",
              "</style>\n",
              "<table border=\"1\" class=\"dataframe\">\n",
              "  <thead>\n",
              "    <tr style=\"text-align: right;\">\n",
              "      <th></th>\n",
              "      <th>overall_rank</th>\n",
              "      <th>country_or_region</th>\n",
              "      <th>score</th>\n",
              "      <th>gdp_per_capita</th>\n",
              "      <th>social_support</th>\n",
              "      <th>healthy_life_expectancy</th>\n",
              "      <th>freedom_to_make_life_choices</th>\n",
              "      <th>generosity</th>\n",
              "      <th>perceptions_of_corruption</th>\n",
              "    </tr>\n",
              "  </thead>\n",
              "  <tbody>\n",
              "    <tr>\n",
              "      <th>29</th>\n",
              "      <td>30</td>\n",
              "      <td>Spain</td>\n",
              "      <td>6.354</td>\n",
              "      <td>1.286</td>\n",
              "      <td>1.484</td>\n",
              "      <td>1.062</td>\n",
              "      <td>0.362</td>\n",
              "      <td>0.153</td>\n",
              "      <td>0.079</td>\n",
              "    </tr>\n",
              "  </tbody>\n",
              "</table>\n",
              "</div>\n",
              "    <div class=\"colab-df-buttons\">\n",
              "\n",
              "  <div class=\"colab-df-container\">\n",
              "    <button class=\"colab-df-convert\" onclick=\"convertToInteractive('df-3b2f6bb5-a2e5-4569-8a36-72018cf50c4a')\"\n",
              "            title=\"Convert this dataframe to an interactive table.\"\n",
              "            style=\"display:none;\">\n",
              "\n",
              "  <svg xmlns=\"http://www.w3.org/2000/svg\" height=\"24px\" viewBox=\"0 -960 960 960\">\n",
              "    <path d=\"M120-120v-720h720v720H120Zm60-500h600v-160H180v160Zm220 220h160v-160H400v160Zm0 220h160v-160H400v160ZM180-400h160v-160H180v160Zm440 0h160v-160H620v160ZM180-180h160v-160H180v160Zm440 0h160v-160H620v160Z\"/>\n",
              "  </svg>\n",
              "    </button>\n",
              "\n",
              "  <style>\n",
              "    .colab-df-container {\n",
              "      display:flex;\n",
              "      gap: 12px;\n",
              "    }\n",
              "\n",
              "    .colab-df-convert {\n",
              "      background-color: #E8F0FE;\n",
              "      border: none;\n",
              "      border-radius: 50%;\n",
              "      cursor: pointer;\n",
              "      display: none;\n",
              "      fill: #1967D2;\n",
              "      height: 32px;\n",
              "      padding: 0 0 0 0;\n",
              "      width: 32px;\n",
              "    }\n",
              "\n",
              "    .colab-df-convert:hover {\n",
              "      background-color: #E2EBFA;\n",
              "      box-shadow: 0px 1px 2px rgba(60, 64, 67, 0.3), 0px 1px 3px 1px rgba(60, 64, 67, 0.15);\n",
              "      fill: #174EA6;\n",
              "    }\n",
              "\n",
              "    .colab-df-buttons div {\n",
              "      margin-bottom: 4px;\n",
              "    }\n",
              "\n",
              "    [theme=dark] .colab-df-convert {\n",
              "      background-color: #3B4455;\n",
              "      fill: #D2E3FC;\n",
              "    }\n",
              "\n",
              "    [theme=dark] .colab-df-convert:hover {\n",
              "      background-color: #434B5C;\n",
              "      box-shadow: 0px 1px 3px 1px rgba(0, 0, 0, 0.15);\n",
              "      filter: drop-shadow(0px 1px 2px rgba(0, 0, 0, 0.3));\n",
              "      fill: #FFFFFF;\n",
              "    }\n",
              "  </style>\n",
              "\n",
              "    <script>\n",
              "      const buttonEl =\n",
              "        document.querySelector('#df-3b2f6bb5-a2e5-4569-8a36-72018cf50c4a button.colab-df-convert');\n",
              "      buttonEl.style.display =\n",
              "        google.colab.kernel.accessAllowed ? 'block' : 'none';\n",
              "\n",
              "      async function convertToInteractive(key) {\n",
              "        const element = document.querySelector('#df-3b2f6bb5-a2e5-4569-8a36-72018cf50c4a');\n",
              "        const dataTable =\n",
              "          await google.colab.kernel.invokeFunction('convertToInteractive',\n",
              "                                                    [key], {});\n",
              "        if (!dataTable) return;\n",
              "\n",
              "        const docLinkHtml = 'Like what you see? Visit the ' +\n",
              "          '<a target=\"_blank\" href=https://colab.research.google.com/notebooks/data_table.ipynb>data table notebook</a>'\n",
              "          + ' to learn more about interactive tables.';\n",
              "        element.innerHTML = '';\n",
              "        dataTable['output_type'] = 'display_data';\n",
              "        await google.colab.output.renderOutput(dataTable, element);\n",
              "        const docLink = document.createElement('div');\n",
              "        docLink.innerHTML = docLinkHtml;\n",
              "        element.appendChild(docLink);\n",
              "      }\n",
              "    </script>\n",
              "  </div>\n",
              "\n",
              "    </div>\n",
              "  </div>\n"
            ]
          },
          "metadata": {},
          "execution_count": 30
        }
      ]
    },
    {
      "cell_type": "markdown",
      "metadata": {
        "id": "l-1sB5nZfaE8"
      },
      "source": [
        "¿Qué ejemplos hemos usado para clasificar?, vemos por un lado las medidas de distancia y por otro lado las posiciones en el array del conjunto de entrada"
      ]
    },
    {
      "cell_type": "code",
      "metadata": {
        "id": "z2zybJPNfaE8",
        "colab": {
          "base_uri": "https://localhost:8080/"
        },
        "outputId": "1572e905-5932-4a8a-9336-e4e844f4f7d4"
      },
      "source": [
        "neighbors = happiness_model.kneighbors(input_spain, n_neighbors = K)\n",
        "neighbors"
      ],
      "execution_count": null,
      "outputs": [
        {
          "output_type": "execute_result",
          "data": {
            "text/plain": [
              "(array([[0.11740528, 0.14118428, 0.14211263]]), array([[12, 23, 34]]))"
            ]
          },
          "metadata": {},
          "execution_count": 31
        }
      ]
    },
    {
      "cell_type": "markdown",
      "metadata": {
        "id": "eAJLuUF6faE8"
      },
      "source": [
        "¿A quién nos parecemos?, pues la segunda poscición del array anterior lo vemos y creo que no nos llevaremos ninguna sorpresa"
      ]
    },
    {
      "cell_type": "code",
      "metadata": {
        "id": "cDgi4ozgfaE9",
        "colab": {
          "base_uri": "https://localhost:8080/",
          "height": 143
        },
        "outputId": "6e09440b-533d-44fe-83f3-c87eab3f72d0"
      },
      "source": [
        "df_world.iloc[neighbors[1][0], :]"
      ],
      "execution_count": null,
      "outputs": [
        {
          "output_type": "execute_result",
          "data": {
            "text/plain": [
              "    overall_rank country_or_region  score  gdp_per_capita  social_support  \\\n",
              "12            13            Israel  7.139           1.276           1.455   \n",
              "23            24            France  6.592           1.324           1.472   \n",
              "35            36             Italy  6.223           1.294           1.488   \n",
              "\n",
              "    healthy_life_expectancy  freedom_to_make_life_choices  generosity  \\\n",
              "12                    1.029                         0.371       0.261   \n",
              "23                    1.045                         0.436       0.111   \n",
              "35                    1.039                         0.231       0.158   \n",
              "\n",
              "    perceptions_of_corruption  \n",
              "12                      0.082  \n",
              "23                      0.183  \n",
              "35                      0.030  "
            ],
            "text/html": [
              "\n",
              "  <div id=\"df-c855dc63-8b44-461c-a6f2-1a5ded59405b\" class=\"colab-df-container\">\n",
              "    <div>\n",
              "<style scoped>\n",
              "    .dataframe tbody tr th:only-of-type {\n",
              "        vertical-align: middle;\n",
              "    }\n",
              "\n",
              "    .dataframe tbody tr th {\n",
              "        vertical-align: top;\n",
              "    }\n",
              "\n",
              "    .dataframe thead th {\n",
              "        text-align: right;\n",
              "    }\n",
              "</style>\n",
              "<table border=\"1\" class=\"dataframe\">\n",
              "  <thead>\n",
              "    <tr style=\"text-align: right;\">\n",
              "      <th></th>\n",
              "      <th>overall_rank</th>\n",
              "      <th>country_or_region</th>\n",
              "      <th>score</th>\n",
              "      <th>gdp_per_capita</th>\n",
              "      <th>social_support</th>\n",
              "      <th>healthy_life_expectancy</th>\n",
              "      <th>freedom_to_make_life_choices</th>\n",
              "      <th>generosity</th>\n",
              "      <th>perceptions_of_corruption</th>\n",
              "    </tr>\n",
              "  </thead>\n",
              "  <tbody>\n",
              "    <tr>\n",
              "      <th>12</th>\n",
              "      <td>13</td>\n",
              "      <td>Israel</td>\n",
              "      <td>7.139</td>\n",
              "      <td>1.276</td>\n",
              "      <td>1.455</td>\n",
              "      <td>1.029</td>\n",
              "      <td>0.371</td>\n",
              "      <td>0.261</td>\n",
              "      <td>0.082</td>\n",
              "    </tr>\n",
              "    <tr>\n",
              "      <th>23</th>\n",
              "      <td>24</td>\n",
              "      <td>France</td>\n",
              "      <td>6.592</td>\n",
              "      <td>1.324</td>\n",
              "      <td>1.472</td>\n",
              "      <td>1.045</td>\n",
              "      <td>0.436</td>\n",
              "      <td>0.111</td>\n",
              "      <td>0.183</td>\n",
              "    </tr>\n",
              "    <tr>\n",
              "      <th>35</th>\n",
              "      <td>36</td>\n",
              "      <td>Italy</td>\n",
              "      <td>6.223</td>\n",
              "      <td>1.294</td>\n",
              "      <td>1.488</td>\n",
              "      <td>1.039</td>\n",
              "      <td>0.231</td>\n",
              "      <td>0.158</td>\n",
              "      <td>0.030</td>\n",
              "    </tr>\n",
              "  </tbody>\n",
              "</table>\n",
              "</div>\n",
              "    <div class=\"colab-df-buttons\">\n",
              "\n",
              "  <div class=\"colab-df-container\">\n",
              "    <button class=\"colab-df-convert\" onclick=\"convertToInteractive('df-c855dc63-8b44-461c-a6f2-1a5ded59405b')\"\n",
              "            title=\"Convert this dataframe to an interactive table.\"\n",
              "            style=\"display:none;\">\n",
              "\n",
              "  <svg xmlns=\"http://www.w3.org/2000/svg\" height=\"24px\" viewBox=\"0 -960 960 960\">\n",
              "    <path d=\"M120-120v-720h720v720H120Zm60-500h600v-160H180v160Zm220 220h160v-160H400v160Zm0 220h160v-160H400v160ZM180-400h160v-160H180v160Zm440 0h160v-160H620v160ZM180-180h160v-160H180v160Zm440 0h160v-160H620v160Z\"/>\n",
              "  </svg>\n",
              "    </button>\n",
              "\n",
              "  <style>\n",
              "    .colab-df-container {\n",
              "      display:flex;\n",
              "      gap: 12px;\n",
              "    }\n",
              "\n",
              "    .colab-df-convert {\n",
              "      background-color: #E8F0FE;\n",
              "      border: none;\n",
              "      border-radius: 50%;\n",
              "      cursor: pointer;\n",
              "      display: none;\n",
              "      fill: #1967D2;\n",
              "      height: 32px;\n",
              "      padding: 0 0 0 0;\n",
              "      width: 32px;\n",
              "    }\n",
              "\n",
              "    .colab-df-convert:hover {\n",
              "      background-color: #E2EBFA;\n",
              "      box-shadow: 0px 1px 2px rgba(60, 64, 67, 0.3), 0px 1px 3px 1px rgba(60, 64, 67, 0.15);\n",
              "      fill: #174EA6;\n",
              "    }\n",
              "\n",
              "    .colab-df-buttons div {\n",
              "      margin-bottom: 4px;\n",
              "    }\n",
              "\n",
              "    [theme=dark] .colab-df-convert {\n",
              "      background-color: #3B4455;\n",
              "      fill: #D2E3FC;\n",
              "    }\n",
              "\n",
              "    [theme=dark] .colab-df-convert:hover {\n",
              "      background-color: #434B5C;\n",
              "      box-shadow: 0px 1px 3px 1px rgba(0, 0, 0, 0.15);\n",
              "      filter: drop-shadow(0px 1px 2px rgba(0, 0, 0, 0.3));\n",
              "      fill: #FFFFFF;\n",
              "    }\n",
              "  </style>\n",
              "\n",
              "    <script>\n",
              "      const buttonEl =\n",
              "        document.querySelector('#df-c855dc63-8b44-461c-a6f2-1a5ded59405b button.colab-df-convert');\n",
              "      buttonEl.style.display =\n",
              "        google.colab.kernel.accessAllowed ? 'block' : 'none';\n",
              "\n",
              "      async function convertToInteractive(key) {\n",
              "        const element = document.querySelector('#df-c855dc63-8b44-461c-a6f2-1a5ded59405b');\n",
              "        const dataTable =\n",
              "          await google.colab.kernel.invokeFunction('convertToInteractive',\n",
              "                                                    [key], {});\n",
              "        if (!dataTable) return;\n",
              "\n",
              "        const docLinkHtml = 'Like what you see? Visit the ' +\n",
              "          '<a target=\"_blank\" href=https://colab.research.google.com/notebooks/data_table.ipynb>data table notebook</a>'\n",
              "          + ' to learn more about interactive tables.';\n",
              "        element.innerHTML = '';\n",
              "        dataTable['output_type'] = 'display_data';\n",
              "        await google.colab.output.renderOutput(dataTable, element);\n",
              "        const docLink = document.createElement('div');\n",
              "        docLink.innerHTML = docLinkHtml;\n",
              "        element.appendChild(docLink);\n",
              "      }\n",
              "    </script>\n",
              "  </div>\n",
              "\n",
              "\n",
              "<div id=\"df-48d3c089-6110-4023-aa75-cd8a221c086e\">\n",
              "  <button class=\"colab-df-quickchart\" onclick=\"quickchart('df-48d3c089-6110-4023-aa75-cd8a221c086e')\"\n",
              "            title=\"Suggest charts\"\n",
              "            style=\"display:none;\">\n",
              "\n",
              "<svg xmlns=\"http://www.w3.org/2000/svg\" height=\"24px\"viewBox=\"0 0 24 24\"\n",
              "     width=\"24px\">\n",
              "    <g>\n",
              "        <path d=\"M19 3H5c-1.1 0-2 .9-2 2v14c0 1.1.9 2 2 2h14c1.1 0 2-.9 2-2V5c0-1.1-.9-2-2-2zM9 17H7v-7h2v7zm4 0h-2V7h2v10zm4 0h-2v-4h2v4z\"/>\n",
              "    </g>\n",
              "</svg>\n",
              "  </button>\n",
              "\n",
              "<style>\n",
              "  .colab-df-quickchart {\n",
              "      --bg-color: #E8F0FE;\n",
              "      --fill-color: #1967D2;\n",
              "      --hover-bg-color: #E2EBFA;\n",
              "      --hover-fill-color: #174EA6;\n",
              "      --disabled-fill-color: #AAA;\n",
              "      --disabled-bg-color: #DDD;\n",
              "  }\n",
              "\n",
              "  [theme=dark] .colab-df-quickchart {\n",
              "      --bg-color: #3B4455;\n",
              "      --fill-color: #D2E3FC;\n",
              "      --hover-bg-color: #434B5C;\n",
              "      --hover-fill-color: #FFFFFF;\n",
              "      --disabled-bg-color: #3B4455;\n",
              "      --disabled-fill-color: #666;\n",
              "  }\n",
              "\n",
              "  .colab-df-quickchart {\n",
              "    background-color: var(--bg-color);\n",
              "    border: none;\n",
              "    border-radius: 50%;\n",
              "    cursor: pointer;\n",
              "    display: none;\n",
              "    fill: var(--fill-color);\n",
              "    height: 32px;\n",
              "    padding: 0;\n",
              "    width: 32px;\n",
              "  }\n",
              "\n",
              "  .colab-df-quickchart:hover {\n",
              "    background-color: var(--hover-bg-color);\n",
              "    box-shadow: 0 1px 2px rgba(60, 64, 67, 0.3), 0 1px 3px 1px rgba(60, 64, 67, 0.15);\n",
              "    fill: var(--button-hover-fill-color);\n",
              "  }\n",
              "\n",
              "  .colab-df-quickchart-complete:disabled,\n",
              "  .colab-df-quickchart-complete:disabled:hover {\n",
              "    background-color: var(--disabled-bg-color);\n",
              "    fill: var(--disabled-fill-color);\n",
              "    box-shadow: none;\n",
              "  }\n",
              "\n",
              "  .colab-df-spinner {\n",
              "    border: 2px solid var(--fill-color);\n",
              "    border-color: transparent;\n",
              "    border-bottom-color: var(--fill-color);\n",
              "    animation:\n",
              "      spin 1s steps(1) infinite;\n",
              "  }\n",
              "\n",
              "  @keyframes spin {\n",
              "    0% {\n",
              "      border-color: transparent;\n",
              "      border-bottom-color: var(--fill-color);\n",
              "      border-left-color: var(--fill-color);\n",
              "    }\n",
              "    20% {\n",
              "      border-color: transparent;\n",
              "      border-left-color: var(--fill-color);\n",
              "      border-top-color: var(--fill-color);\n",
              "    }\n",
              "    30% {\n",
              "      border-color: transparent;\n",
              "      border-left-color: var(--fill-color);\n",
              "      border-top-color: var(--fill-color);\n",
              "      border-right-color: var(--fill-color);\n",
              "    }\n",
              "    40% {\n",
              "      border-color: transparent;\n",
              "      border-right-color: var(--fill-color);\n",
              "      border-top-color: var(--fill-color);\n",
              "    }\n",
              "    60% {\n",
              "      border-color: transparent;\n",
              "      border-right-color: var(--fill-color);\n",
              "    }\n",
              "    80% {\n",
              "      border-color: transparent;\n",
              "      border-right-color: var(--fill-color);\n",
              "      border-bottom-color: var(--fill-color);\n",
              "    }\n",
              "    90% {\n",
              "      border-color: transparent;\n",
              "      border-bottom-color: var(--fill-color);\n",
              "    }\n",
              "  }\n",
              "</style>\n",
              "\n",
              "  <script>\n",
              "    async function quickchart(key) {\n",
              "      const quickchartButtonEl =\n",
              "        document.querySelector('#' + key + ' button');\n",
              "      quickchartButtonEl.disabled = true;  // To prevent multiple clicks.\n",
              "      quickchartButtonEl.classList.add('colab-df-spinner');\n",
              "      try {\n",
              "        const charts = await google.colab.kernel.invokeFunction(\n",
              "            'suggestCharts', [key], {});\n",
              "      } catch (error) {\n",
              "        console.error('Error during call to suggestCharts:', error);\n",
              "      }\n",
              "      quickchartButtonEl.classList.remove('colab-df-spinner');\n",
              "      quickchartButtonEl.classList.add('colab-df-quickchart-complete');\n",
              "    }\n",
              "    (() => {\n",
              "      let quickchartButtonEl =\n",
              "        document.querySelector('#df-48d3c089-6110-4023-aa75-cd8a221c086e button');\n",
              "      quickchartButtonEl.style.display =\n",
              "        google.colab.kernel.accessAllowed ? 'block' : 'none';\n",
              "    })();\n",
              "  </script>\n",
              "</div>\n",
              "    </div>\n",
              "  </div>\n"
            ]
          },
          "metadata": {},
          "execution_count": 32
        }
      ]
    },
    {
      "cell_type": "markdown",
      "metadata": {
        "id": "WPjNuQtEfaE9"
      },
      "source": [
        "### ¿Podríamos afinar un poco más?\n",
        "Hemos usado la medida de pesos uniforme (es decir damos el mismo peso a cualquiera de las K instancias), pero vamos a probar a hacer una predicción dandole un peso inversamente proporcional a al distancia a las instancias. Así que usaremos todas *nuestras armas* que ya hemos aprendido hoy:\n",
        "\n",
        "* Escalado de variables\n",
        "* Pesos en función de la distancia"
      ]
    },
    {
      "cell_type": "code",
      "metadata": {
        "id": "-KVADdGWfaE9",
        "colab": {
          "base_uri": "https://localhost:8080/"
        },
        "outputId": "622a3439-59d3-455e-88a5-bcd0898e4d89"
      },
      "source": [
        "K = 3\n",
        "happiness_model = KNeighborsRegressor(n_neighbors=K,\n",
        "                    weights='distance',\n",
        "                    metric='euclidean')\n",
        "\n",
        "scaler_happiness = preprocessing.StandardScaler().fit(df_train_features)\n",
        "scaled_features = scaler_happiness.transform(df_train_features)\n",
        "\n",
        "# Construimos nuestro modelo\n",
        "happiness_model.fit(scaled_features, df_train_target.values)\n"
      ],
      "execution_count": null,
      "outputs": [
        {
          "output_type": "execute_result",
          "data": {
            "text/plain": [
              "KNeighborsRegressor(metric='euclidean', n_neighbors=3, weights='distance')"
            ],
            "text/html": [
              "<style>#sk-container-id-2 {color: black;background-color: white;}#sk-container-id-2 pre{padding: 0;}#sk-container-id-2 div.sk-toggleable {background-color: white;}#sk-container-id-2 label.sk-toggleable__label {cursor: pointer;display: block;width: 100%;margin-bottom: 0;padding: 0.3em;box-sizing: border-box;text-align: center;}#sk-container-id-2 label.sk-toggleable__label-arrow:before {content: \"▸\";float: left;margin-right: 0.25em;color: #696969;}#sk-container-id-2 label.sk-toggleable__label-arrow:hover:before {color: black;}#sk-container-id-2 div.sk-estimator:hover label.sk-toggleable__label-arrow:before {color: black;}#sk-container-id-2 div.sk-toggleable__content {max-height: 0;max-width: 0;overflow: hidden;text-align: left;background-color: #f0f8ff;}#sk-container-id-2 div.sk-toggleable__content pre {margin: 0.2em;color: black;border-radius: 0.25em;background-color: #f0f8ff;}#sk-container-id-2 input.sk-toggleable__control:checked~div.sk-toggleable__content {max-height: 200px;max-width: 100%;overflow: auto;}#sk-container-id-2 input.sk-toggleable__control:checked~label.sk-toggleable__label-arrow:before {content: \"▾\";}#sk-container-id-2 div.sk-estimator input.sk-toggleable__control:checked~label.sk-toggleable__label {background-color: #d4ebff;}#sk-container-id-2 div.sk-label input.sk-toggleable__control:checked~label.sk-toggleable__label {background-color: #d4ebff;}#sk-container-id-2 input.sk-hidden--visually {border: 0;clip: rect(1px 1px 1px 1px);clip: rect(1px, 1px, 1px, 1px);height: 1px;margin: -1px;overflow: hidden;padding: 0;position: absolute;width: 1px;}#sk-container-id-2 div.sk-estimator {font-family: monospace;background-color: #f0f8ff;border: 1px dotted black;border-radius: 0.25em;box-sizing: border-box;margin-bottom: 0.5em;}#sk-container-id-2 div.sk-estimator:hover {background-color: #d4ebff;}#sk-container-id-2 div.sk-parallel-item::after {content: \"\";width: 100%;border-bottom: 1px solid gray;flex-grow: 1;}#sk-container-id-2 div.sk-label:hover label.sk-toggleable__label {background-color: #d4ebff;}#sk-container-id-2 div.sk-serial::before {content: \"\";position: absolute;border-left: 1px solid gray;box-sizing: border-box;top: 0;bottom: 0;left: 50%;z-index: 0;}#sk-container-id-2 div.sk-serial {display: flex;flex-direction: column;align-items: center;background-color: white;padding-right: 0.2em;padding-left: 0.2em;position: relative;}#sk-container-id-2 div.sk-item {position: relative;z-index: 1;}#sk-container-id-2 div.sk-parallel {display: flex;align-items: stretch;justify-content: center;background-color: white;position: relative;}#sk-container-id-2 div.sk-item::before, #sk-container-id-2 div.sk-parallel-item::before {content: \"\";position: absolute;border-left: 1px solid gray;box-sizing: border-box;top: 0;bottom: 0;left: 50%;z-index: -1;}#sk-container-id-2 div.sk-parallel-item {display: flex;flex-direction: column;z-index: 1;position: relative;background-color: white;}#sk-container-id-2 div.sk-parallel-item:first-child::after {align-self: flex-end;width: 50%;}#sk-container-id-2 div.sk-parallel-item:last-child::after {align-self: flex-start;width: 50%;}#sk-container-id-2 div.sk-parallel-item:only-child::after {width: 0;}#sk-container-id-2 div.sk-dashed-wrapped {border: 1px dashed gray;margin: 0 0.4em 0.5em 0.4em;box-sizing: border-box;padding-bottom: 0.4em;background-color: white;}#sk-container-id-2 div.sk-label label {font-family: monospace;font-weight: bold;display: inline-block;line-height: 1.2em;}#sk-container-id-2 div.sk-label-container {text-align: center;}#sk-container-id-2 div.sk-container {/* jupyter's `normalize.less` sets `[hidden] { display: none; }` but bootstrap.min.css set `[hidden] { display: none !important; }` so we also need the `!important` here to be able to override the default hidden behavior on the sphinx rendered scikit-learn.org. See: https://github.com/scikit-learn/scikit-learn/issues/21755 */display: inline-block !important;position: relative;}#sk-container-id-2 div.sk-text-repr-fallback {display: none;}</style><div id=\"sk-container-id-2\" class=\"sk-top-container\"><div class=\"sk-text-repr-fallback\"><pre>KNeighborsRegressor(metric=&#x27;euclidean&#x27;, n_neighbors=3, weights=&#x27;distance&#x27;)</pre><b>In a Jupyter environment, please rerun this cell to show the HTML representation or trust the notebook. <br />On GitHub, the HTML representation is unable to render, please try loading this page with nbviewer.org.</b></div><div class=\"sk-container\" hidden><div class=\"sk-item\"><div class=\"sk-estimator sk-toggleable\"><input class=\"sk-toggleable__control sk-hidden--visually\" id=\"sk-estimator-id-2\" type=\"checkbox\" checked><label for=\"sk-estimator-id-2\" class=\"sk-toggleable__label sk-toggleable__label-arrow\">KNeighborsRegressor</label><div class=\"sk-toggleable__content\"><pre>KNeighborsRegressor(metric=&#x27;euclidean&#x27;, n_neighbors=3, weights=&#x27;distance&#x27;)</pre></div></div></div></div></div>"
            ]
          },
          "metadata": {},
          "execution_count": 33
        }
      ]
    },
    {
      "cell_type": "markdown",
      "metadata": {
        "id": "zyENw1X9faE9"
      },
      "source": [
        "Estimamos nuestro score de felicidad entre 1 y 10"
      ]
    },
    {
      "cell_type": "code",
      "metadata": {
        "id": "b0ym_y3XfaE-",
        "colab": {
          "base_uri": "https://localhost:8080/"
        },
        "outputId": "02059ff5-f4d0-494b-e17c-207feb00aa05"
      },
      "source": [
        "#Predict the response for test dataset\n",
        "input_spain = scaler_happiness.transform(df_spain[feature_set].values)\n",
        "happiness_spain = happiness_model.predict(input_spain)\n",
        "happiness_spain"
      ],
      "execution_count": null,
      "outputs": [
        {
          "output_type": "execute_result",
          "data": {
            "text/plain": [
              "array([6.25184763])"
            ]
          },
          "metadata": {},
          "execution_count": 34
        }
      ]
    },
    {
      "cell_type": "markdown",
      "metadata": {
        "id": "cHuKWrmFfaE-"
      },
      "source": [
        "Calculamos una medida de error como el error en porcentaje calculado como:\n",
        "    $$\n",
        "    MAPE = \\frac{abs(y - \\hat{y})}{y}\n",
        "    $$"
      ]
    },
    {
      "cell_type": "code",
      "metadata": {
        "id": "NNvunPPbfaE-",
        "colab": {
          "base_uri": "https://localhost:8080/"
        },
        "outputId": "a38908b0-254d-4c75-fee1-3ab4154ef5a0"
      },
      "source": [
        "actual_happiness = df_spain['score'].values\n",
        "pct_error = 100*abs(actual_happiness[0] -  happiness_spain[0]) / actual_happiness[0]\n",
        "print('Nuestra predicción se desvía un ' + str(round(pct_error,3)) + '% del valor real')"
      ],
      "execution_count": null,
      "outputs": [
        {
          "output_type": "stream",
          "name": "stdout",
          "text": [
            "Nuestra predicción se desvía un 1.608% del valor real\n"
          ]
        }
      ]
    },
    {
      "cell_type": "markdown",
      "metadata": {
        "id": "c2htSqL6faE_"
      },
      "source": [
        "Vemos ahora a quien nos parecemos"
      ]
    },
    {
      "cell_type": "code",
      "metadata": {
        "id": "fBHjAcIrfaE_",
        "colab": {
          "base_uri": "https://localhost:8080/"
        },
        "outputId": "e3849809-8cb9-4c59-c7c6-a64e01107ad7"
      },
      "source": [
        "neighbors = happiness_model.kneighbors(input_spain, n_neighbors = K)\n",
        "df_world.iloc[neighbors[1][0], :]"
      ],
      "execution_count": null,
      "outputs": [
        {
          "output_type": "execute_result",
          "data": {
            "text/plain": [
              "    overall_rank country_or_region  score  gdp_per_capita  social_support  \\\n",
              "25            26             Chile  6.444           1.159           1.369   \n",
              "35            36             Italy  6.223           1.294           1.488   \n",
              "48            49            Cyprus  6.046           1.263           1.223   \n",
              "\n",
              "    healthy_life_expectancy  freedom_to_make_life_choices  generosity  \\\n",
              "25                    0.920                         0.357       0.187   \n",
              "35                    1.039                         0.231       0.158   \n",
              "48                    1.042                         0.406       0.190   \n",
              "\n",
              "    perceptions_of_corruption  \n",
              "25                      0.056  \n",
              "35                      0.030  \n",
              "48                      0.041  "
            ],
            "text/html": [
              "\n",
              "  <div id=\"df-16300066-f2cf-422e-93ee-2af78e75a340\" class=\"colab-df-container\">\n",
              "    <div>\n",
              "<style scoped>\n",
              "    .dataframe tbody tr th:only-of-type {\n",
              "        vertical-align: middle;\n",
              "    }\n",
              "\n",
              "    .dataframe tbody tr th {\n",
              "        vertical-align: top;\n",
              "    }\n",
              "\n",
              "    .dataframe thead th {\n",
              "        text-align: right;\n",
              "    }\n",
              "</style>\n",
              "<table border=\"1\" class=\"dataframe\">\n",
              "  <thead>\n",
              "    <tr style=\"text-align: right;\">\n",
              "      <th></th>\n",
              "      <th>overall_rank</th>\n",
              "      <th>country_or_region</th>\n",
              "      <th>score</th>\n",
              "      <th>gdp_per_capita</th>\n",
              "      <th>social_support</th>\n",
              "      <th>healthy_life_expectancy</th>\n",
              "      <th>freedom_to_make_life_choices</th>\n",
              "      <th>generosity</th>\n",
              "      <th>perceptions_of_corruption</th>\n",
              "    </tr>\n",
              "  </thead>\n",
              "  <tbody>\n",
              "    <tr>\n",
              "      <th>25</th>\n",
              "      <td>26</td>\n",
              "      <td>Chile</td>\n",
              "      <td>6.444</td>\n",
              "      <td>1.159</td>\n",
              "      <td>1.369</td>\n",
              "      <td>0.920</td>\n",
              "      <td>0.357</td>\n",
              "      <td>0.187</td>\n",
              "      <td>0.056</td>\n",
              "    </tr>\n",
              "    <tr>\n",
              "      <th>35</th>\n",
              "      <td>36</td>\n",
              "      <td>Italy</td>\n",
              "      <td>6.223</td>\n",
              "      <td>1.294</td>\n",
              "      <td>1.488</td>\n",
              "      <td>1.039</td>\n",
              "      <td>0.231</td>\n",
              "      <td>0.158</td>\n",
              "      <td>0.030</td>\n",
              "    </tr>\n",
              "    <tr>\n",
              "      <th>48</th>\n",
              "      <td>49</td>\n",
              "      <td>Cyprus</td>\n",
              "      <td>6.046</td>\n",
              "      <td>1.263</td>\n",
              "      <td>1.223</td>\n",
              "      <td>1.042</td>\n",
              "      <td>0.406</td>\n",
              "      <td>0.190</td>\n",
              "      <td>0.041</td>\n",
              "    </tr>\n",
              "  </tbody>\n",
              "</table>\n",
              "</div>\n",
              "    <div class=\"colab-df-buttons\">\n",
              "\n",
              "  <div class=\"colab-df-container\">\n",
              "    <button class=\"colab-df-convert\" onclick=\"convertToInteractive('df-16300066-f2cf-422e-93ee-2af78e75a340')\"\n",
              "            title=\"Convert this dataframe to an interactive table.\"\n",
              "            style=\"display:none;\">\n",
              "\n",
              "  <svg xmlns=\"http://www.w3.org/2000/svg\" height=\"24px\" viewBox=\"0 -960 960 960\">\n",
              "    <path d=\"M120-120v-720h720v720H120Zm60-500h600v-160H180v160Zm220 220h160v-160H400v160Zm0 220h160v-160H400v160ZM180-400h160v-160H180v160Zm440 0h160v-160H620v160ZM180-180h160v-160H180v160Zm440 0h160v-160H620v160Z\"/>\n",
              "  </svg>\n",
              "    </button>\n",
              "\n",
              "  <style>\n",
              "    .colab-df-container {\n",
              "      display:flex;\n",
              "      gap: 12px;\n",
              "    }\n",
              "\n",
              "    .colab-df-convert {\n",
              "      background-color: #E8F0FE;\n",
              "      border: none;\n",
              "      border-radius: 50%;\n",
              "      cursor: pointer;\n",
              "      display: none;\n",
              "      fill: #1967D2;\n",
              "      height: 32px;\n",
              "      padding: 0 0 0 0;\n",
              "      width: 32px;\n",
              "    }\n",
              "\n",
              "    .colab-df-convert:hover {\n",
              "      background-color: #E2EBFA;\n",
              "      box-shadow: 0px 1px 2px rgba(60, 64, 67, 0.3), 0px 1px 3px 1px rgba(60, 64, 67, 0.15);\n",
              "      fill: #174EA6;\n",
              "    }\n",
              "\n",
              "    .colab-df-buttons div {\n",
              "      margin-bottom: 4px;\n",
              "    }\n",
              "\n",
              "    [theme=dark] .colab-df-convert {\n",
              "      background-color: #3B4455;\n",
              "      fill: #D2E3FC;\n",
              "    }\n",
              "\n",
              "    [theme=dark] .colab-df-convert:hover {\n",
              "      background-color: #434B5C;\n",
              "      box-shadow: 0px 1px 3px 1px rgba(0, 0, 0, 0.15);\n",
              "      filter: drop-shadow(0px 1px 2px rgba(0, 0, 0, 0.3));\n",
              "      fill: #FFFFFF;\n",
              "    }\n",
              "  </style>\n",
              "\n",
              "    <script>\n",
              "      const buttonEl =\n",
              "        document.querySelector('#df-16300066-f2cf-422e-93ee-2af78e75a340 button.colab-df-convert');\n",
              "      buttonEl.style.display =\n",
              "        google.colab.kernel.accessAllowed ? 'block' : 'none';\n",
              "\n",
              "      async function convertToInteractive(key) {\n",
              "        const element = document.querySelector('#df-16300066-f2cf-422e-93ee-2af78e75a340');\n",
              "        const dataTable =\n",
              "          await google.colab.kernel.invokeFunction('convertToInteractive',\n",
              "                                                    [key], {});\n",
              "        if (!dataTable) return;\n",
              "\n",
              "        const docLinkHtml = 'Like what you see? Visit the ' +\n",
              "          '<a target=\"_blank\" href=https://colab.research.google.com/notebooks/data_table.ipynb>data table notebook</a>'\n",
              "          + ' to learn more about interactive tables.';\n",
              "        element.innerHTML = '';\n",
              "        dataTable['output_type'] = 'display_data';\n",
              "        await google.colab.output.renderOutput(dataTable, element);\n",
              "        const docLink = document.createElement('div');\n",
              "        docLink.innerHTML = docLinkHtml;\n",
              "        element.appendChild(docLink);\n",
              "      }\n",
              "    </script>\n",
              "  </div>\n",
              "\n",
              "\n",
              "<div id=\"df-60245f73-6cc9-4ddf-98e5-49cf1f31cc15\">\n",
              "  <button class=\"colab-df-quickchart\" onclick=\"quickchart('df-60245f73-6cc9-4ddf-98e5-49cf1f31cc15')\"\n",
              "            title=\"Suggest charts\"\n",
              "            style=\"display:none;\">\n",
              "\n",
              "<svg xmlns=\"http://www.w3.org/2000/svg\" height=\"24px\"viewBox=\"0 0 24 24\"\n",
              "     width=\"24px\">\n",
              "    <g>\n",
              "        <path d=\"M19 3H5c-1.1 0-2 .9-2 2v14c0 1.1.9 2 2 2h14c1.1 0 2-.9 2-2V5c0-1.1-.9-2-2-2zM9 17H7v-7h2v7zm4 0h-2V7h2v10zm4 0h-2v-4h2v4z\"/>\n",
              "    </g>\n",
              "</svg>\n",
              "  </button>\n",
              "\n",
              "<style>\n",
              "  .colab-df-quickchart {\n",
              "      --bg-color: #E8F0FE;\n",
              "      --fill-color: #1967D2;\n",
              "      --hover-bg-color: #E2EBFA;\n",
              "      --hover-fill-color: #174EA6;\n",
              "      --disabled-fill-color: #AAA;\n",
              "      --disabled-bg-color: #DDD;\n",
              "  }\n",
              "\n",
              "  [theme=dark] .colab-df-quickchart {\n",
              "      --bg-color: #3B4455;\n",
              "      --fill-color: #D2E3FC;\n",
              "      --hover-bg-color: #434B5C;\n",
              "      --hover-fill-color: #FFFFFF;\n",
              "      --disabled-bg-color: #3B4455;\n",
              "      --disabled-fill-color: #666;\n",
              "  }\n",
              "\n",
              "  .colab-df-quickchart {\n",
              "    background-color: var(--bg-color);\n",
              "    border: none;\n",
              "    border-radius: 50%;\n",
              "    cursor: pointer;\n",
              "    display: none;\n",
              "    fill: var(--fill-color);\n",
              "    height: 32px;\n",
              "    padding: 0;\n",
              "    width: 32px;\n",
              "  }\n",
              "\n",
              "  .colab-df-quickchart:hover {\n",
              "    background-color: var(--hover-bg-color);\n",
              "    box-shadow: 0 1px 2px rgba(60, 64, 67, 0.3), 0 1px 3px 1px rgba(60, 64, 67, 0.15);\n",
              "    fill: var(--button-hover-fill-color);\n",
              "  }\n",
              "\n",
              "  .colab-df-quickchart-complete:disabled,\n",
              "  .colab-df-quickchart-complete:disabled:hover {\n",
              "    background-color: var(--disabled-bg-color);\n",
              "    fill: var(--disabled-fill-color);\n",
              "    box-shadow: none;\n",
              "  }\n",
              "\n",
              "  .colab-df-spinner {\n",
              "    border: 2px solid var(--fill-color);\n",
              "    border-color: transparent;\n",
              "    border-bottom-color: var(--fill-color);\n",
              "    animation:\n",
              "      spin 1s steps(1) infinite;\n",
              "  }\n",
              "\n",
              "  @keyframes spin {\n",
              "    0% {\n",
              "      border-color: transparent;\n",
              "      border-bottom-color: var(--fill-color);\n",
              "      border-left-color: var(--fill-color);\n",
              "    }\n",
              "    20% {\n",
              "      border-color: transparent;\n",
              "      border-left-color: var(--fill-color);\n",
              "      border-top-color: var(--fill-color);\n",
              "    }\n",
              "    30% {\n",
              "      border-color: transparent;\n",
              "      border-left-color: var(--fill-color);\n",
              "      border-top-color: var(--fill-color);\n",
              "      border-right-color: var(--fill-color);\n",
              "    }\n",
              "    40% {\n",
              "      border-color: transparent;\n",
              "      border-right-color: var(--fill-color);\n",
              "      border-top-color: var(--fill-color);\n",
              "    }\n",
              "    60% {\n",
              "      border-color: transparent;\n",
              "      border-right-color: var(--fill-color);\n",
              "    }\n",
              "    80% {\n",
              "      border-color: transparent;\n",
              "      border-right-color: var(--fill-color);\n",
              "      border-bottom-color: var(--fill-color);\n",
              "    }\n",
              "    90% {\n",
              "      border-color: transparent;\n",
              "      border-bottom-color: var(--fill-color);\n",
              "    }\n",
              "  }\n",
              "</style>\n",
              "\n",
              "  <script>\n",
              "    async function quickchart(key) {\n",
              "      const quickchartButtonEl =\n",
              "        document.querySelector('#' + key + ' button');\n",
              "      quickchartButtonEl.disabled = true;  // To prevent multiple clicks.\n",
              "      quickchartButtonEl.classList.add('colab-df-spinner');\n",
              "      try {\n",
              "        const charts = await google.colab.kernel.invokeFunction(\n",
              "            'suggestCharts', [key], {});\n",
              "      } catch (error) {\n",
              "        console.error('Error during call to suggestCharts:', error);\n",
              "      }\n",
              "      quickchartButtonEl.classList.remove('colab-df-spinner');\n",
              "      quickchartButtonEl.classList.add('colab-df-quickchart-complete');\n",
              "    }\n",
              "    (() => {\n",
              "      let quickchartButtonEl =\n",
              "        document.querySelector('#df-60245f73-6cc9-4ddf-98e5-49cf1f31cc15 button');\n",
              "      quickchartButtonEl.style.display =\n",
              "        google.colab.kernel.accessAllowed ? 'block' : 'none';\n",
              "    })();\n",
              "  </script>\n",
              "</div>\n",
              "    </div>\n",
              "  </div>\n"
            ]
          },
          "metadata": {},
          "execution_count": 36
        }
      ]
    },
    {
      "cell_type": "markdown",
      "metadata": {
        "id": "aXZxObwNfaE_"
      },
      "source": [
        "Vemos que hemos mejorado sensiblemente nuestra predicción.\n",
        "\n",
        "**Pregunta**: *¿Alguna idea de por qué podríamos haber mejorado nuestro modelo?, ¿recordais la tabla de los descriptivos?*"
      ]
    },
    {
      "cell_type": "markdown",
      "metadata": {
        "id": "2SswOT99faFA"
      },
      "source": [
        "# La maldición del big data y la dimensionalidad\n",
        "A veces tener muchos datos más que una bendición es una maldición, para resolver este problema scikit learn utiliza una serie de algoritmos para la búsqueda de la información que nos ayudan a ser eficientes, repaso sobre los algoritmos disponibles en scikit learn:\n",
        "\n",
        "**Algoritmos disponibles** [Referencia sklearn](https://scikit-learn.org/stable/modules/generated/sklearn.neighbors.KNeighborsRegressor.html#sklearn.neighbors.KNeighborsRegressor.kneighbors):\n",
        "\n",
        "* ‘ball_tree’ usará un BallTree\n",
        "\n",
        "* ‘kd_tree’ usará un  KDTree\n",
        "\n",
        "* ‘brute’ usará un la búsqueda según fuerza bruta\n",
        "\n",
        "* ‘auto’ el algoritmo decirá la mejor opción\n",
        "\n",
        "**Importante**: El entrenamiento en datos dispersos usará siempre el modo brute"
      ]
    },
    {
      "cell_type": "markdown",
      "metadata": {
        "id": "xTB_lOOHfaFA"
      },
      "source": [
        "## La fuerza bruta\n",
        "La fuerza bruta a no ser que seas muy bruto no suele ser la mejor estrategia, en este caso usamos **%%time** para mostrar el tiempo de ejecución (hace una simulación). Se muestran varios tiempos:\n",
        "\n",
        "* *wall time*: es el tiempo real que le lleva al programa entre que arranca hasta que termina\n",
        "* *cpu time*: o el tiempo que dedica la CPU a ejecutar el proceso, si existe paralelismo este puede ser mayor al wall time\n",
        "\n",
        "Como el conjunto de entrada es relativamente pequeño (155 instancias), vamos a ponerselo un poco dificil al algoritmo y a aumentaremos por 50 el numero de registros."
      ]
    },
    {
      "cell_type": "code",
      "metadata": {
        "id": "gZ-gJoo1faFA",
        "colab": {
          "base_uri": "https://localhost:8080/"
        },
        "outputId": "a48c98be-d51c-4cdb-ceb5-c1853ad676b3"
      },
      "source": [
        "df_big_world = df_world\n",
        "df_big_world = df_big_world.append([df_big_world]*500,ignore_index=True)\n",
        "df_train_features = df_big_world[feature_set]\n",
        "df_train_target = df_big_world['score']\n",
        "\n",
        "# Mostramos el número de registros\n",
        "len(df_big_world)"
      ],
      "execution_count": null,
      "outputs": [
        {
          "output_type": "execute_result",
          "data": {
            "text/plain": [
              "77655"
            ]
          },
          "metadata": {},
          "execution_count": 37
        }
      ]
    },
    {
      "cell_type": "code",
      "metadata": {
        "id": "CjMiPiCWfaFA",
        "colab": {
          "base_uri": "https://localhost:8080/",
          "height": 111
        },
        "outputId": "e9e05ed9-c239-4927-aff3-270fb3033109"
      },
      "source": [
        "%%time\n",
        "# Entrenamiento (si queremos llamarlo así)\n",
        "K = 5\n",
        "happiness_model = KNeighborsRegressor(n_neighbors=K,\n",
        "                    weights='uniform',\n",
        "                    algorithm='brute',\n",
        "                    p=2,\n",
        "                    metric='minkowski')\n",
        "\n",
        "# Construimos nuestro modelo\n",
        "happiness_model.fit(df_train_features.values, df_train_target.values)"
      ],
      "execution_count": null,
      "outputs": [
        {
          "output_type": "stream",
          "name": "stdout",
          "text": [
            "CPU times: user 5.25 ms, sys: 2.9 ms, total: 8.15 ms\n",
            "Wall time: 15.6 ms\n"
          ]
        },
        {
          "output_type": "execute_result",
          "data": {
            "text/plain": [
              "KNeighborsRegressor(algorithm='brute')"
            ],
            "text/html": [
              "<style>#sk-container-id-3 {color: black;background-color: white;}#sk-container-id-3 pre{padding: 0;}#sk-container-id-3 div.sk-toggleable {background-color: white;}#sk-container-id-3 label.sk-toggleable__label {cursor: pointer;display: block;width: 100%;margin-bottom: 0;padding: 0.3em;box-sizing: border-box;text-align: center;}#sk-container-id-3 label.sk-toggleable__label-arrow:before {content: \"▸\";float: left;margin-right: 0.25em;color: #696969;}#sk-container-id-3 label.sk-toggleable__label-arrow:hover:before {color: black;}#sk-container-id-3 div.sk-estimator:hover label.sk-toggleable__label-arrow:before {color: black;}#sk-container-id-3 div.sk-toggleable__content {max-height: 0;max-width: 0;overflow: hidden;text-align: left;background-color: #f0f8ff;}#sk-container-id-3 div.sk-toggleable__content pre {margin: 0.2em;color: black;border-radius: 0.25em;background-color: #f0f8ff;}#sk-container-id-3 input.sk-toggleable__control:checked~div.sk-toggleable__content {max-height: 200px;max-width: 100%;overflow: auto;}#sk-container-id-3 input.sk-toggleable__control:checked~label.sk-toggleable__label-arrow:before {content: \"▾\";}#sk-container-id-3 div.sk-estimator input.sk-toggleable__control:checked~label.sk-toggleable__label {background-color: #d4ebff;}#sk-container-id-3 div.sk-label input.sk-toggleable__control:checked~label.sk-toggleable__label {background-color: #d4ebff;}#sk-container-id-3 input.sk-hidden--visually {border: 0;clip: rect(1px 1px 1px 1px);clip: rect(1px, 1px, 1px, 1px);height: 1px;margin: -1px;overflow: hidden;padding: 0;position: absolute;width: 1px;}#sk-container-id-3 div.sk-estimator {font-family: monospace;background-color: #f0f8ff;border: 1px dotted black;border-radius: 0.25em;box-sizing: border-box;margin-bottom: 0.5em;}#sk-container-id-3 div.sk-estimator:hover {background-color: #d4ebff;}#sk-container-id-3 div.sk-parallel-item::after {content: \"\";width: 100%;border-bottom: 1px solid gray;flex-grow: 1;}#sk-container-id-3 div.sk-label:hover label.sk-toggleable__label {background-color: #d4ebff;}#sk-container-id-3 div.sk-serial::before {content: \"\";position: absolute;border-left: 1px solid gray;box-sizing: border-box;top: 0;bottom: 0;left: 50%;z-index: 0;}#sk-container-id-3 div.sk-serial {display: flex;flex-direction: column;align-items: center;background-color: white;padding-right: 0.2em;padding-left: 0.2em;position: relative;}#sk-container-id-3 div.sk-item {position: relative;z-index: 1;}#sk-container-id-3 div.sk-parallel {display: flex;align-items: stretch;justify-content: center;background-color: white;position: relative;}#sk-container-id-3 div.sk-item::before, #sk-container-id-3 div.sk-parallel-item::before {content: \"\";position: absolute;border-left: 1px solid gray;box-sizing: border-box;top: 0;bottom: 0;left: 50%;z-index: -1;}#sk-container-id-3 div.sk-parallel-item {display: flex;flex-direction: column;z-index: 1;position: relative;background-color: white;}#sk-container-id-3 div.sk-parallel-item:first-child::after {align-self: flex-end;width: 50%;}#sk-container-id-3 div.sk-parallel-item:last-child::after {align-self: flex-start;width: 50%;}#sk-container-id-3 div.sk-parallel-item:only-child::after {width: 0;}#sk-container-id-3 div.sk-dashed-wrapped {border: 1px dashed gray;margin: 0 0.4em 0.5em 0.4em;box-sizing: border-box;padding-bottom: 0.4em;background-color: white;}#sk-container-id-3 div.sk-label label {font-family: monospace;font-weight: bold;display: inline-block;line-height: 1.2em;}#sk-container-id-3 div.sk-label-container {text-align: center;}#sk-container-id-3 div.sk-container {/* jupyter's `normalize.less` sets `[hidden] { display: none; }` but bootstrap.min.css set `[hidden] { display: none !important; }` so we also need the `!important` here to be able to override the default hidden behavior on the sphinx rendered scikit-learn.org. See: https://github.com/scikit-learn/scikit-learn/issues/21755 */display: inline-block !important;position: relative;}#sk-container-id-3 div.sk-text-repr-fallback {display: none;}</style><div id=\"sk-container-id-3\" class=\"sk-top-container\"><div class=\"sk-text-repr-fallback\"><pre>KNeighborsRegressor(algorithm=&#x27;brute&#x27;)</pre><b>In a Jupyter environment, please rerun this cell to show the HTML representation or trust the notebook. <br />On GitHub, the HTML representation is unable to render, please try loading this page with nbviewer.org.</b></div><div class=\"sk-container\" hidden><div class=\"sk-item\"><div class=\"sk-estimator sk-toggleable\"><input class=\"sk-toggleable__control sk-hidden--visually\" id=\"sk-estimator-id-3\" type=\"checkbox\" checked><label for=\"sk-estimator-id-3\" class=\"sk-toggleable__label sk-toggleable__label-arrow\">KNeighborsRegressor</label><div class=\"sk-toggleable__content\"><pre>KNeighborsRegressor(algorithm=&#x27;brute&#x27;)</pre></div></div></div></div></div>"
            ]
          },
          "metadata": {},
          "execution_count": 38
        }
      ]
    },
    {
      "cell_type": "code",
      "metadata": {
        "id": "IFtXx082faFB",
        "colab": {
          "base_uri": "https://localhost:8080/"
        },
        "outputId": "a7a1d29a-bbcc-445b-857f-95ef8b36d312"
      },
      "source": [
        "%%time\n",
        "# Inferencia (si queremos llamarlo así)\n",
        "happiness_spain = happiness_model.predict(df_spain[feature_set].values)"
      ],
      "execution_count": null,
      "outputs": [
        {
          "output_type": "stream",
          "name": "stdout",
          "text": [
            "CPU times: user 15.2 ms, sys: 905 µs, total: 16.2 ms\n",
            "Wall time: 20.3 ms\n"
          ]
        }
      ]
    },
    {
      "cell_type": "markdown",
      "metadata": {
        "id": "ThfhKwA7faFB"
      },
      "source": [
        "## Aprendiendo con poco de \"eficiencia computacional\": KD Tree\n",
        "\n",
        "El algoritmo por defecto usa la \"fuerza bruta\" para realizar la búsqueda de los elementos más cercanos. Sin embargo, existen estruturas de datos que nos ayudan a encontrar los elementos más parecidos. El primero de los algoritmos, y muy utilizado en el manejo de información geográfica, es el árbol  ti po K-D [Árbol K-D](https://es.wikipedia.org/wiki/%C3%81rbol_kd)"
      ]
    },
    {
      "cell_type": "code",
      "metadata": {
        "id": "hKDutco9faFB",
        "colab": {
          "base_uri": "https://localhost:8080/",
          "height": 111
        },
        "outputId": "4d89856a-d5ee-4d5f-cfe5-63669c69171c"
      },
      "source": [
        "%%time\n",
        "# Entrenamiento (si queremos llamarlo así)\n",
        "K = 5\n",
        "happiness_model = KNeighborsRegressor(n_neighbors=K,\n",
        "                    weights='uniform',\n",
        "                    algorithm='kd_tree',\n",
        "                    p=2,\n",
        "                    metric='minkowski')\n",
        "\n",
        "# Construimos nuestro modelo\n",
        "happiness_model.fit(df_train_features.values, df_train_target.values)"
      ],
      "execution_count": null,
      "outputs": [
        {
          "output_type": "stream",
          "name": "stdout",
          "text": [
            "CPU times: user 161 ms, sys: 9.38 ms, total: 171 ms\n",
            "Wall time: 219 ms\n"
          ]
        },
        {
          "output_type": "execute_result",
          "data": {
            "text/plain": [
              "KNeighborsRegressor(algorithm='kd_tree')"
            ],
            "text/html": [
              "<style>#sk-container-id-4 {color: black;background-color: white;}#sk-container-id-4 pre{padding: 0;}#sk-container-id-4 div.sk-toggleable {background-color: white;}#sk-container-id-4 label.sk-toggleable__label {cursor: pointer;display: block;width: 100%;margin-bottom: 0;padding: 0.3em;box-sizing: border-box;text-align: center;}#sk-container-id-4 label.sk-toggleable__label-arrow:before {content: \"▸\";float: left;margin-right: 0.25em;color: #696969;}#sk-container-id-4 label.sk-toggleable__label-arrow:hover:before {color: black;}#sk-container-id-4 div.sk-estimator:hover label.sk-toggleable__label-arrow:before {color: black;}#sk-container-id-4 div.sk-toggleable__content {max-height: 0;max-width: 0;overflow: hidden;text-align: left;background-color: #f0f8ff;}#sk-container-id-4 div.sk-toggleable__content pre {margin: 0.2em;color: black;border-radius: 0.25em;background-color: #f0f8ff;}#sk-container-id-4 input.sk-toggleable__control:checked~div.sk-toggleable__content {max-height: 200px;max-width: 100%;overflow: auto;}#sk-container-id-4 input.sk-toggleable__control:checked~label.sk-toggleable__label-arrow:before {content: \"▾\";}#sk-container-id-4 div.sk-estimator input.sk-toggleable__control:checked~label.sk-toggleable__label {background-color: #d4ebff;}#sk-container-id-4 div.sk-label input.sk-toggleable__control:checked~label.sk-toggleable__label {background-color: #d4ebff;}#sk-container-id-4 input.sk-hidden--visually {border: 0;clip: rect(1px 1px 1px 1px);clip: rect(1px, 1px, 1px, 1px);height: 1px;margin: -1px;overflow: hidden;padding: 0;position: absolute;width: 1px;}#sk-container-id-4 div.sk-estimator {font-family: monospace;background-color: #f0f8ff;border: 1px dotted black;border-radius: 0.25em;box-sizing: border-box;margin-bottom: 0.5em;}#sk-container-id-4 div.sk-estimator:hover {background-color: #d4ebff;}#sk-container-id-4 div.sk-parallel-item::after {content: \"\";width: 100%;border-bottom: 1px solid gray;flex-grow: 1;}#sk-container-id-4 div.sk-label:hover label.sk-toggleable__label {background-color: #d4ebff;}#sk-container-id-4 div.sk-serial::before {content: \"\";position: absolute;border-left: 1px solid gray;box-sizing: border-box;top: 0;bottom: 0;left: 50%;z-index: 0;}#sk-container-id-4 div.sk-serial {display: flex;flex-direction: column;align-items: center;background-color: white;padding-right: 0.2em;padding-left: 0.2em;position: relative;}#sk-container-id-4 div.sk-item {position: relative;z-index: 1;}#sk-container-id-4 div.sk-parallel {display: flex;align-items: stretch;justify-content: center;background-color: white;position: relative;}#sk-container-id-4 div.sk-item::before, #sk-container-id-4 div.sk-parallel-item::before {content: \"\";position: absolute;border-left: 1px solid gray;box-sizing: border-box;top: 0;bottom: 0;left: 50%;z-index: -1;}#sk-container-id-4 div.sk-parallel-item {display: flex;flex-direction: column;z-index: 1;position: relative;background-color: white;}#sk-container-id-4 div.sk-parallel-item:first-child::after {align-self: flex-end;width: 50%;}#sk-container-id-4 div.sk-parallel-item:last-child::after {align-self: flex-start;width: 50%;}#sk-container-id-4 div.sk-parallel-item:only-child::after {width: 0;}#sk-container-id-4 div.sk-dashed-wrapped {border: 1px dashed gray;margin: 0 0.4em 0.5em 0.4em;box-sizing: border-box;padding-bottom: 0.4em;background-color: white;}#sk-container-id-4 div.sk-label label {font-family: monospace;font-weight: bold;display: inline-block;line-height: 1.2em;}#sk-container-id-4 div.sk-label-container {text-align: center;}#sk-container-id-4 div.sk-container {/* jupyter's `normalize.less` sets `[hidden] { display: none; }` but bootstrap.min.css set `[hidden] { display: none !important; }` so we also need the `!important` here to be able to override the default hidden behavior on the sphinx rendered scikit-learn.org. See: https://github.com/scikit-learn/scikit-learn/issues/21755 */display: inline-block !important;position: relative;}#sk-container-id-4 div.sk-text-repr-fallback {display: none;}</style><div id=\"sk-container-id-4\" class=\"sk-top-container\"><div class=\"sk-text-repr-fallback\"><pre>KNeighborsRegressor(algorithm=&#x27;kd_tree&#x27;)</pre><b>In a Jupyter environment, please rerun this cell to show the HTML representation or trust the notebook. <br />On GitHub, the HTML representation is unable to render, please try loading this page with nbviewer.org.</b></div><div class=\"sk-container\" hidden><div class=\"sk-item\"><div class=\"sk-estimator sk-toggleable\"><input class=\"sk-toggleable__control sk-hidden--visually\" id=\"sk-estimator-id-4\" type=\"checkbox\" checked><label for=\"sk-estimator-id-4\" class=\"sk-toggleable__label sk-toggleable__label-arrow\">KNeighborsRegressor</label><div class=\"sk-toggleable__content\"><pre>KNeighborsRegressor(algorithm=&#x27;kd_tree&#x27;)</pre></div></div></div></div></div>"
            ]
          },
          "metadata": {},
          "execution_count": 40
        }
      ]
    },
    {
      "cell_type": "markdown",
      "source": [
        "Existe otra estrutura que mejora la búsqueda que son los denominados ball-tree, que no utiliza una estructura de búsqueda rectangula y utiliza una de tipo \"esférica\":\n",
        "\n",
        "![image.png](data:image/png;base64,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)"
      ],
      "metadata": {
        "id": "eemQ1Sdd7BqT"
      }
    },
    {
      "cell_type": "markdown",
      "source": [
        "Para más información sobre su funcionamiento consultar https://en.wikipedia.org/wiki/Ball_tree"
      ],
      "metadata": {
        "id": "w9sCuPkE7r9y"
      }
    },
    {
      "cell_type": "code",
      "metadata": {
        "id": "YsUqYaacfaFC",
        "colab": {
          "base_uri": "https://localhost:8080/"
        },
        "outputId": "5ac1c906-94f7-437a-e18c-d4676060fd47"
      },
      "source": [
        "%%time\n",
        "# Inferencia (si queremos llamarlo así)\n",
        "happiness_spain = happiness_model.predict(df_spain[feature_set].values)"
      ],
      "execution_count": null,
      "outputs": [
        {
          "output_type": "stream",
          "name": "stdout",
          "text": [
            "CPU times: user 3.15 ms, sys: 35 µs, total: 3.18 ms\n",
            "Wall time: 6.47 ms\n"
          ]
        }
      ]
    },
    {
      "cell_type": "markdown",
      "source": [
        "Vemos como efectivamente los tiempos se reducen de forma muy significativa"
      ],
      "metadata": {
        "id": "L-Fu-kHb7zq0"
      }
    },
    {
      "cell_type": "markdown",
      "metadata": {
        "id": "Ae6sVa9ZfaFD"
      },
      "source": [
        "## Conclusiones sobre el uso de algoritmos para mejorar la búsqueda\n",
        "En este caso el conjunto de ejemplos es de cientos de instancias, varias preguntas:\n",
        "\n",
        "* *¿qué pasa con los tiempos de construcción del modelo (fit)*?\n",
        "* *¿y qué pasa con los tiempos de predicción (predict)*"
      ]
    },
    {
      "cell_type": "markdown",
      "metadata": {
        "id": "79uJ8jmbfaFD"
      },
      "source": [
        "# Referencias\n",
        "[K-Neighbors Scikitlearn](https://scikit-learn.org/stable/modules/classes.html#module-sklearn.neighbors)"
      ]
    }
  ]
}
