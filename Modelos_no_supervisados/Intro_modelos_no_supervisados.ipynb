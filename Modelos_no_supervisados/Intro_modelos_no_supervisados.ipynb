{
  "nbformat": 4,
  "nbformat_minor": 0,
  "metadata": {
    "colab": {
      "provenance": [],
      "toc_visible": true
    },
    "kernelspec": {
      "name": "python3",
      "display_name": "Python 3"
    }
  },
  "cells": [
    {
      "cell_type": "markdown",
      "metadata": {
        "id": "1CrQZnrGW_a2"
      },
      "source": [
        "<img width=\"300px\" src=\"https://thevalley.es/media-kit/TheValley_horizontal.png\"></img>"
      ]
    },
    {
      "cell_type": "code",
      "metadata": {
        "id": "T-DwOJSJRkc_"
      },
      "source": [
        "import numpy as np\n",
        "import pandas as pd\n",
        "import matplotlib.pyplot as plt"
      ],
      "execution_count": null,
      "outputs": []
    },
    {
      "cell_type": "markdown",
      "metadata": {
        "id": "0mZgIU6DGCiP"
      },
      "source": [
        "# Introducción a los modelos no supervisados"
      ]
    },
    {
      "cell_type": "markdown",
      "metadata": {
        "id": "DfUIrNhkGyUi"
      },
      "source": [
        "## Concepto de aprendizaje no supervisado"
      ]
    },
    {
      "cell_type": "markdown",
      "metadata": {
        "id": "uVMI-WQBk1eJ"
      },
      "source": [
        "<img width=\"500px\" src=\"https://storage.googleapis.com/jz-example-data/img/mapa-ml.png\"></img>"
      ]
    },
    {
      "cell_type": "markdown",
      "metadata": {
        "id": "68LheE7pKOIq"
      },
      "source": [
        "Los algoritmos de aprendizaje no supervisado tienen como objetivo **aprender patrones de la estructura de los datos**.\n",
        "\n",
        "A diferencia del aprendizaje supervisado en el aprendizaje no supervisado **los datos no están etiquetados**, es decir, no tenemos una variable objetivo que queramos predecir."
      ]
    },
    {
      "cell_type": "markdown",
      "metadata": {
        "id": "EI5IBQjuESRx"
      },
      "source": [
        "<img width=\"600px\" src=\"https://storage.googleapis.com/jz-example-data/img/supervised-vs-unsupervised.png\"></img>"
      ]
    },
    {
      "cell_type": "markdown",
      "metadata": {
        "id": "U262uSIxsMsF"
      },
      "source": [
        "Los algoritmos de aprendizaje no supervisado pueden **aportar un valor en sí mismo** o **utilizarse como un paso previo para el entrenamiento de un modelo supervisado**."
      ]
    },
    {
      "cell_type": "markdown",
      "metadata": {
        "id": "rQV2rXwalfrK"
      },
      "source": [
        "## Tipos de aprendizaje no supervisado"
      ]
    },
    {
      "cell_type": "markdown",
      "metadata": {
        "id": "aMmvMdjuxl8_"
      },
      "source": [
        "### Clustering"
      ]
    },
    {
      "cell_type": "markdown",
      "metadata": {
        "id": "QKezN3Rvn8_x"
      },
      "source": [
        "El análisis cluster o simplemente *clustering* tiene como objetivo **agrupar observaciones** de manera que:\n",
        "\n",
        "- **Dentro de un mismo grupo** las observaciones sean lo más ***similares*** posible.\n",
        "\n",
        "- Las observaciones que se encuentran en **grupos distintos** son lo más ***distintas*** entre ellas posible."
      ]
    },
    {
      "cell_type": "markdown",
      "metadata": {
        "id": "My3kMWNTprlE"
      },
      "source": [
        "Para evaluar la **similitud** entre dos muestras utilizamos alguna **métrica de distancia** entre las variables que las caracterizan."
      ]
    },
    {
      "cell_type": "markdown",
      "metadata": {
        "id": "HpM0XtR4rzfC"
      },
      "source": [
        "<img width=\"600px\" src=\"https://storage.googleapis.com/jz-example-data/img/ilustracion-clustering.png\"></img>"
      ]
    },
    {
      "cell_type": "markdown",
      "metadata": {
        "id": "Ml97avpM2byb"
      },
      "source": [
        "Algunos ejemplos de **casos de uso** de algoritmos de clustering son:\n",
        "\n",
        "- Segmentación de clientes, por ejemplo para diseñar distintos tipos de tarifas o servicios.\n",
        "\n",
        "En una compañia *Telco*, podríamos por ejemplo *clusterizar* a los clientes por minutos de llamadas al mes, *sms* enviados, consumo de datos... y así poder diseñar distintos tipos de tarifa que se adecúen más al comportamiento de los clientes.\n",
        "\n",
        "- Organización de información por temáticas.\n",
        "\n",
        "En un centro de ayuda a clientes, podríamos hacer un modelo de clustering de las llamadas más comunes y tener operadores especializados en cada una de ellas. Cada vez que entre una llamada nueva, la asignaríamos al cluster existente y se pasaría directamente al operador en cuestión.\n",
        "\n",
        "- Reducir el número de observaciones de un dataset de entrenamiento para un modelo supervisado.\n",
        "\n",
        "Un caso real es el diseño de un sistema para decidir la localización óptima para abrir una tienda dentro de una ciudad. En este caso utilizamos los datos del catastro para obtener información de dónde está localizada la población. Estos datos vienen a nivel *parcela* que es una resolución demasiado alta para el caso de uso en cuestión. Para reducir la cantidad de observaciones se utilizó un modelo de clustering basado en densidades."
      ]
    },
    {
      "cell_type": "markdown",
      "metadata": {
        "id": "liSPbM96xozf"
      },
      "source": [
        "### Detección de anomalias"
      ]
    },
    {
      "cell_type": "markdown",
      "metadata": {
        "id": "b9i3AerWFTOp"
      },
      "source": [
        "El objetivo de un algoritmo de detección de anomalias (también denominadas *outliers*) es la **detección de muestras que se desvían significativamente del resto de los datos**."
      ]
    },
    {
      "cell_type": "markdown",
      "metadata": {
        "id": "4_vCKa0EteWw"
      },
      "source": [
        "<img width=\"600px\" src=\"https://storage.googleapis.com/jz-example-data/img/ilustracion-anomaly-detection.png\"></img>"
      ]
    },
    {
      "cell_type": "markdown",
      "metadata": {
        "id": "IFJ1CQn-F3l9"
      },
      "source": [
        "Ejemplos de **casos de uso**:\n",
        "\n",
        "- Control de tráfico en una aplicación web\n",
        "\n",
        "Diseño de un sistema de alerta ante comportamientos anómalos de usuarios. *Scrapping* de información, ataques DoS... Ante un comportamiento anómalo se puede bloquear la IP del usario y evitar estos problemas.\n",
        "\n",
        "- Mantenimiento predictivo de maquinária industrial\n",
        "\n",
        "En la actualidad gran parte de la maquinaria industrial cuenta con sensores IoT que miden sus condiciones de operación: temperaturas, presiones, rpm... . Se puede diseñar un sistema que, ante un comportamiento anómalo de alguna de las máquinas, envié una alerta a un operario para que pueda revisarla antes de un fallo.\n",
        "\n",
        "- Eliminación de outliers previo al entrenamiento de un modelo supervisado."
      ]
    },
    {
      "cell_type": "markdown",
      "metadata": {
        "id": "RcseVJ0uxY3o"
      },
      "source": [
        "Muchas veces los casos de uso de detección de anomalías pueden solaparse con un sistema supervisado de clasificación.\n",
        "\n",
        "La diferencia radica en que en modelos de clasificación buscamos un comportamiento específico y sabemos qué muestras se comportan de esa manera y qué muestras no."
      ]
    },
    {
      "cell_type": "markdown",
      "metadata": {
        "id": "_uK1lq2a1dmV"
      },
      "source": [
        "<img width=\"500px\" src=\"https://storage.googleapis.com/jz-example-data/img/anomalias-clasificacion.png\"></img>"
      ]
    },
    {
      "cell_type": "markdown",
      "metadata": {
        "id": "cqm5Sc_vxrzZ"
      },
      "source": [
        "### Reducción dimensional"
      ]
    },
    {
      "cell_type": "markdown",
      "metadata": {
        "id": "e9XAMeS6GNqb"
      },
      "source": [
        "Las técnicas de reducción dimensional tratan de **transformar los datos desde un espacio de alta dimensionalidad** (datos con muchas columnas) a un espacio de dimensionalidad menor, **reteniendo una parte significativa de la información** contenida en ellos."
      ]
    },
    {
      "cell_type": "markdown",
      "metadata": {
        "id": "69kw1M8MyJx0"
      },
      "source": [
        "<img width=\"600px\" src=\"https://storage.googleapis.com/jz-example-data/img/ilustracion-reduccion-dimensional.png\"></img>"
      ]
    },
    {
      "cell_type": "markdown",
      "metadata": {
        "id": "IcR8_Z4ZK1_3"
      },
      "source": [
        "Estas técnicas son especialmente útiles en datasets con un gran número de atributos con información muy dispersa entre ellos."
      ]
    },
    {
      "cell_type": "markdown",
      "metadata": {
        "id": "cz6TLVO5nFmX"
      },
      "source": [
        "Un ejemplo de información dispersa es un dataset en el que cada observación es un cliente y cada columna es un producto.\n",
        "\n",
        "En cada columna sólo tenemos si un cliente ha comprado o no ese producto.\n",
        "\n",
        "En general este dataset contendra muchos ceros (será muy sparse) pero se puede sacar mucha información del mismo."
      ]
    },
    {
      "cell_type": "markdown",
      "metadata": {
        "id": "DrRU0Ps32Iff"
      },
      "source": [
        "- Reducción de variables en problemas de apredizaje supervisado, sobretodo en el caso de tener columnas con información muy dispersa.\n",
        "\n",
        "- Visualización de datos con gran dimensionalidad. Podemos reducir la dimensionalidad para poder visualizar patrones en los datos."
      ]
    },
    {
      "cell_type": "markdown",
      "metadata": {
        "id": "u6525LdkIJUC"
      },
      "source": [
        "## Construcción de un modelo no supervisado"
      ]
    },
    {
      "cell_type": "code",
      "metadata": {
        "id": "PSjI5f0wZgnq"
      },
      "source": [
        "from sklearn.datasets import load_iris\n",
        "\n",
        "iris_dataset = load_iris()\n",
        "\n",
        "X = iris_dataset.data"
      ],
      "execution_count": null,
      "outputs": []
    },
    {
      "cell_type": "markdown",
      "metadata": {
        "id": "rEpxwQSvS21N"
      },
      "source": [
        "#### Definición del algoritmo\n",
        "\n",
        "La primera parte para crear un modelo con la librería `sklearn` tras importar el algoritmo es **construir el objeto** que lo representa.\n",
        "\n",
        "En el constructor se han de especificar los hiperparámetros, que varían según el modelo utilizado.\n",
        "\n",
        "Llamamos **hiperparámetros** de un modelo a aquellos valores que controlan algún aspecto del comportamiento del algoritmo pero **no son aprendidos directamente de los datos**.\n",
        "\n",
        "Generalmente, la mayoría de los modelos en `sklearn` pueden ser construidos sin especificar unos hiperparámetros concretos ya que vienen con unos valores por defecto. Sin embargo, siempre es recomendable especificar los más importantes para tener más control sobre el comportamiento del modelo.\n",
        "\n",
        "\n"
      ]
    },
    {
      "cell_type": "code",
      "metadata": {
        "id": "eDBdu0lYVY3s"
      },
      "source": [
        "from sklearn.cluster import KMeans\n",
        "\n",
        "cluster_model = KMeans(n_clusters=3)"
      ],
      "execution_count": null,
      "outputs": []
    },
    {
      "cell_type": "markdown",
      "metadata": {
        "id": "IIXwpuHtXaz4"
      },
      "source": [
        "Podemos recuperar los valores de los hiperparámetros de cada modelo accediendo al atributo en cuestión una vez el objeto está construido."
      ]
    },
    {
      "cell_type": "markdown",
      "metadata": {
        "id": "WJ085Gx4Vnuv"
      },
      "source": [
        "#### Entrenamiento\n",
        "\n"
      ]
    },
    {
      "cell_type": "markdown",
      "metadata": {
        "id": "ydW3jWm5XtpE"
      },
      "source": [
        "La fase de entrenamiento es donde se modifican los **parámetros internos** del modelo **a partir de los datos** de entrenamiento.\n",
        "\n",
        "Como hemos visto, en modelos no supervisados el algoritmo sólo aprende de la matriz de atributos, no necesita una etiqueta asociada a las observaciones.\n",
        "\n",
        "Para ello, en `sklearn` utilizamos el método `fit` del objeto construido,pasándole como argumento la matriz de atributos."
      ]
    },
    {
      "cell_type": "code",
      "metadata": {
        "id": "uxyF2U0PYroX",
        "outputId": "acfb5569-71aa-4af4-e281-2abeaf4efdba",
        "colab": {
          "base_uri": "https://localhost:8080/"
        }
      },
      "source": [
        "cluster_model = cluster_model.fit(X)"
      ],
      "execution_count": null,
      "outputs": [
        {
          "output_type": "stream",
          "name": "stderr",
          "text": [
            "/usr/local/lib/python3.10/dist-packages/sklearn/cluster/_kmeans.py:870: FutureWarning: The default value of `n_init` will change from 10 to 'auto' in 1.4. Set the value of `n_init` explicitly to suppress the warning\n",
            "  warnings.warn(\n"
          ]
        }
      ]
    },
    {
      "cell_type": "markdown",
      "metadata": {
        "id": "Lc40SjrqZ4r5"
      },
      "source": [
        "Una vez entrenado el modelo, podémos recuperar los parámetros que se han generado a partir de los datos de entrenamiento.\n",
        "\n",
        "Estos parámetros son específicos del modelo utilizado.\n",
        "\n",
        "En la nomenclatura de `sklearn` el nombre del parámetro entrenado siempre acaba con una barra baja para distinguirlos de los hiperparámetros."
      ]
    },
    {
      "cell_type": "code",
      "metadata": {
        "colab": {
          "base_uri": "https://localhost:8080/"
        },
        "id": "oKayNwmNaXN4",
        "outputId": "2dbabdaf-dffa-434b-f1b8-39045e4b7184"
      },
      "source": [
        "cluster_model.cluster_centers_"
      ],
      "execution_count": null,
      "outputs": [
        {
          "output_type": "execute_result",
          "data": {
            "text/plain": [
              "array([[5.006     , 3.428     , 1.462     , 0.246     ],\n",
              "       [5.9016129 , 2.7483871 , 4.39354839, 1.43387097],\n",
              "       [6.85      , 3.07368421, 5.74210526, 2.07105263]])"
            ]
          },
          "metadata": {},
          "execution_count": 5
        }
      ]
    },
    {
      "cell_type": "markdown",
      "metadata": {
        "id": "JVLMkjEwoqt6"
      },
      "source": [
        "En general, en modelos de clustering, en el entrenamiento además se asignan las etiquetas (índice de cluster al que pertenece cada muestra) a las muestras con las que hemos entrenado.\n",
        "\n",
        "Se puede acceder a ellas mediante el atributo `labels_`"
      ]
    },
    {
      "cell_type": "code",
      "metadata": {
        "colab": {
          "base_uri": "https://localhost:8080/"
        },
        "id": "L08aauU_o-k9",
        "outputId": "1231b824-6e93-47b4-e2f5-31f651a9722e"
      },
      "source": [
        "cluster_model.labels_"
      ],
      "execution_count": null,
      "outputs": [
        {
          "output_type": "execute_result",
          "data": {
            "text/plain": [
              "array([0, 0, 0, 0, 0, 0, 0, 0, 0, 0, 0, 0, 0, 0, 0, 0, 0, 0, 0, 0, 0, 0,\n",
              "       0, 0, 0, 0, 0, 0, 0, 0, 0, 0, 0, 0, 0, 0, 0, 0, 0, 0, 0, 0, 0, 0,\n",
              "       0, 0, 0, 0, 0, 0, 1, 1, 2, 1, 1, 1, 1, 1, 1, 1, 1, 1, 1, 1, 1, 1,\n",
              "       1, 1, 1, 1, 1, 1, 1, 1, 1, 1, 1, 2, 1, 1, 1, 1, 1, 1, 1, 1, 1, 1,\n",
              "       1, 1, 1, 1, 1, 1, 1, 1, 1, 1, 1, 1, 2, 1, 2, 2, 2, 2, 1, 2, 2, 2,\n",
              "       2, 2, 2, 1, 1, 2, 2, 2, 2, 1, 2, 1, 2, 1, 2, 2, 1, 1, 2, 2, 2, 2,\n",
              "       2, 1, 2, 2, 2, 2, 1, 2, 2, 2, 1, 2, 2, 2, 1, 2, 2, 1], dtype=int32)"
            ]
          },
          "metadata": {},
          "execution_count": 6
        }
      ]
    },
    {
      "cell_type": "code",
      "metadata": {
        "colab": {
          "base_uri": "https://localhost:8080/",
          "height": 206
        },
        "id": "70_yNRQVya6m",
        "outputId": "8551a063-c00d-4bec-9ed7-2b2d81b22932"
      },
      "source": [
        "df = pd.DataFrame(data = X, columns=iris_dataset.feature_names)\n",
        "df.head()"
      ],
      "execution_count": null,
      "outputs": [
        {
          "output_type": "execute_result",
          "data": {
            "text/plain": [
              "   sepal length (cm)  sepal width (cm)  petal length (cm)  petal width (cm)\n",
              "0                5.1               3.5                1.4               0.2\n",
              "1                4.9               3.0                1.4               0.2\n",
              "2                4.7               3.2                1.3               0.2\n",
              "3                4.6               3.1                1.5               0.2\n",
              "4                5.0               3.6                1.4               0.2"
            ],
            "text/html": [
              "\n",
              "  <div id=\"df-c16d3c2d-5887-48c5-9f64-6999e414de44\" class=\"colab-df-container\">\n",
              "    <div>\n",
              "<style scoped>\n",
              "    .dataframe tbody tr th:only-of-type {\n",
              "        vertical-align: middle;\n",
              "    }\n",
              "\n",
              "    .dataframe tbody tr th {\n",
              "        vertical-align: top;\n",
              "    }\n",
              "\n",
              "    .dataframe thead th {\n",
              "        text-align: right;\n",
              "    }\n",
              "</style>\n",
              "<table border=\"1\" class=\"dataframe\">\n",
              "  <thead>\n",
              "    <tr style=\"text-align: right;\">\n",
              "      <th></th>\n",
              "      <th>sepal length (cm)</th>\n",
              "      <th>sepal width (cm)</th>\n",
              "      <th>petal length (cm)</th>\n",
              "      <th>petal width (cm)</th>\n",
              "    </tr>\n",
              "  </thead>\n",
              "  <tbody>\n",
              "    <tr>\n",
              "      <th>0</th>\n",
              "      <td>5.1</td>\n",
              "      <td>3.5</td>\n",
              "      <td>1.4</td>\n",
              "      <td>0.2</td>\n",
              "    </tr>\n",
              "    <tr>\n",
              "      <th>1</th>\n",
              "      <td>4.9</td>\n",
              "      <td>3.0</td>\n",
              "      <td>1.4</td>\n",
              "      <td>0.2</td>\n",
              "    </tr>\n",
              "    <tr>\n",
              "      <th>2</th>\n",
              "      <td>4.7</td>\n",
              "      <td>3.2</td>\n",
              "      <td>1.3</td>\n",
              "      <td>0.2</td>\n",
              "    </tr>\n",
              "    <tr>\n",
              "      <th>3</th>\n",
              "      <td>4.6</td>\n",
              "      <td>3.1</td>\n",
              "      <td>1.5</td>\n",
              "      <td>0.2</td>\n",
              "    </tr>\n",
              "    <tr>\n",
              "      <th>4</th>\n",
              "      <td>5.0</td>\n",
              "      <td>3.6</td>\n",
              "      <td>1.4</td>\n",
              "      <td>0.2</td>\n",
              "    </tr>\n",
              "  </tbody>\n",
              "</table>\n",
              "</div>\n",
              "    <div class=\"colab-df-buttons\">\n",
              "\n",
              "  <div class=\"colab-df-container\">\n",
              "    <button class=\"colab-df-convert\" onclick=\"convertToInteractive('df-c16d3c2d-5887-48c5-9f64-6999e414de44')\"\n",
              "            title=\"Convert this dataframe to an interactive table.\"\n",
              "            style=\"display:none;\">\n",
              "\n",
              "  <svg xmlns=\"http://www.w3.org/2000/svg\" height=\"24px\" viewBox=\"0 -960 960 960\">\n",
              "    <path d=\"M120-120v-720h720v720H120Zm60-500h600v-160H180v160Zm220 220h160v-160H400v160Zm0 220h160v-160H400v160ZM180-400h160v-160H180v160Zm440 0h160v-160H620v160ZM180-180h160v-160H180v160Zm440 0h160v-160H620v160Z\"/>\n",
              "  </svg>\n",
              "    </button>\n",
              "\n",
              "  <style>\n",
              "    .colab-df-container {\n",
              "      display:flex;\n",
              "      gap: 12px;\n",
              "    }\n",
              "\n",
              "    .colab-df-convert {\n",
              "      background-color: #E8F0FE;\n",
              "      border: none;\n",
              "      border-radius: 50%;\n",
              "      cursor: pointer;\n",
              "      display: none;\n",
              "      fill: #1967D2;\n",
              "      height: 32px;\n",
              "      padding: 0 0 0 0;\n",
              "      width: 32px;\n",
              "    }\n",
              "\n",
              "    .colab-df-convert:hover {\n",
              "      background-color: #E2EBFA;\n",
              "      box-shadow: 0px 1px 2px rgba(60, 64, 67, 0.3), 0px 1px 3px 1px rgba(60, 64, 67, 0.15);\n",
              "      fill: #174EA6;\n",
              "    }\n",
              "\n",
              "    .colab-df-buttons div {\n",
              "      margin-bottom: 4px;\n",
              "    }\n",
              "\n",
              "    [theme=dark] .colab-df-convert {\n",
              "      background-color: #3B4455;\n",
              "      fill: #D2E3FC;\n",
              "    }\n",
              "\n",
              "    [theme=dark] .colab-df-convert:hover {\n",
              "      background-color: #434B5C;\n",
              "      box-shadow: 0px 1px 3px 1px rgba(0, 0, 0, 0.15);\n",
              "      filter: drop-shadow(0px 1px 2px rgba(0, 0, 0, 0.3));\n",
              "      fill: #FFFFFF;\n",
              "    }\n",
              "  </style>\n",
              "\n",
              "    <script>\n",
              "      const buttonEl =\n",
              "        document.querySelector('#df-c16d3c2d-5887-48c5-9f64-6999e414de44 button.colab-df-convert');\n",
              "      buttonEl.style.display =\n",
              "        google.colab.kernel.accessAllowed ? 'block' : 'none';\n",
              "\n",
              "      async function convertToInteractive(key) {\n",
              "        const element = document.querySelector('#df-c16d3c2d-5887-48c5-9f64-6999e414de44');\n",
              "        const dataTable =\n",
              "          await google.colab.kernel.invokeFunction('convertToInteractive',\n",
              "                                                    [key], {});\n",
              "        if (!dataTable) return;\n",
              "\n",
              "        const docLinkHtml = 'Like what you see? Visit the ' +\n",
              "          '<a target=\"_blank\" href=https://colab.research.google.com/notebooks/data_table.ipynb>data table notebook</a>'\n",
              "          + ' to learn more about interactive tables.';\n",
              "        element.innerHTML = '';\n",
              "        dataTable['output_type'] = 'display_data';\n",
              "        await google.colab.output.renderOutput(dataTable, element);\n",
              "        const docLink = document.createElement('div');\n",
              "        docLink.innerHTML = docLinkHtml;\n",
              "        element.appendChild(docLink);\n",
              "      }\n",
              "    </script>\n",
              "  </div>\n",
              "\n",
              "\n",
              "<div id=\"df-c9fbb89a-94d7-4413-9c56-9db748f181c3\">\n",
              "  <button class=\"colab-df-quickchart\" onclick=\"quickchart('df-c9fbb89a-94d7-4413-9c56-9db748f181c3')\"\n",
              "            title=\"Suggest charts\"\n",
              "            style=\"display:none;\">\n",
              "\n",
              "<svg xmlns=\"http://www.w3.org/2000/svg\" height=\"24px\"viewBox=\"0 0 24 24\"\n",
              "     width=\"24px\">\n",
              "    <g>\n",
              "        <path d=\"M19 3H5c-1.1 0-2 .9-2 2v14c0 1.1.9 2 2 2h14c1.1 0 2-.9 2-2V5c0-1.1-.9-2-2-2zM9 17H7v-7h2v7zm4 0h-2V7h2v10zm4 0h-2v-4h2v4z\"/>\n",
              "    </g>\n",
              "</svg>\n",
              "  </button>\n",
              "\n",
              "<style>\n",
              "  .colab-df-quickchart {\n",
              "      --bg-color: #E8F0FE;\n",
              "      --fill-color: #1967D2;\n",
              "      --hover-bg-color: #E2EBFA;\n",
              "      --hover-fill-color: #174EA6;\n",
              "      --disabled-fill-color: #AAA;\n",
              "      --disabled-bg-color: #DDD;\n",
              "  }\n",
              "\n",
              "  [theme=dark] .colab-df-quickchart {\n",
              "      --bg-color: #3B4455;\n",
              "      --fill-color: #D2E3FC;\n",
              "      --hover-bg-color: #434B5C;\n",
              "      --hover-fill-color: #FFFFFF;\n",
              "      --disabled-bg-color: #3B4455;\n",
              "      --disabled-fill-color: #666;\n",
              "  }\n",
              "\n",
              "  .colab-df-quickchart {\n",
              "    background-color: var(--bg-color);\n",
              "    border: none;\n",
              "    border-radius: 50%;\n",
              "    cursor: pointer;\n",
              "    display: none;\n",
              "    fill: var(--fill-color);\n",
              "    height: 32px;\n",
              "    padding: 0;\n",
              "    width: 32px;\n",
              "  }\n",
              "\n",
              "  .colab-df-quickchart:hover {\n",
              "    background-color: var(--hover-bg-color);\n",
              "    box-shadow: 0 1px 2px rgba(60, 64, 67, 0.3), 0 1px 3px 1px rgba(60, 64, 67, 0.15);\n",
              "    fill: var(--button-hover-fill-color);\n",
              "  }\n",
              "\n",
              "  .colab-df-quickchart-complete:disabled,\n",
              "  .colab-df-quickchart-complete:disabled:hover {\n",
              "    background-color: var(--disabled-bg-color);\n",
              "    fill: var(--disabled-fill-color);\n",
              "    box-shadow: none;\n",
              "  }\n",
              "\n",
              "  .colab-df-spinner {\n",
              "    border: 2px solid var(--fill-color);\n",
              "    border-color: transparent;\n",
              "    border-bottom-color: var(--fill-color);\n",
              "    animation:\n",
              "      spin 1s steps(1) infinite;\n",
              "  }\n",
              "\n",
              "  @keyframes spin {\n",
              "    0% {\n",
              "      border-color: transparent;\n",
              "      border-bottom-color: var(--fill-color);\n",
              "      border-left-color: var(--fill-color);\n",
              "    }\n",
              "    20% {\n",
              "      border-color: transparent;\n",
              "      border-left-color: var(--fill-color);\n",
              "      border-top-color: var(--fill-color);\n",
              "    }\n",
              "    30% {\n",
              "      border-color: transparent;\n",
              "      border-left-color: var(--fill-color);\n",
              "      border-top-color: var(--fill-color);\n",
              "      border-right-color: var(--fill-color);\n",
              "    }\n",
              "    40% {\n",
              "      border-color: transparent;\n",
              "      border-right-color: var(--fill-color);\n",
              "      border-top-color: var(--fill-color);\n",
              "    }\n",
              "    60% {\n",
              "      border-color: transparent;\n",
              "      border-right-color: var(--fill-color);\n",
              "    }\n",
              "    80% {\n",
              "      border-color: transparent;\n",
              "      border-right-color: var(--fill-color);\n",
              "      border-bottom-color: var(--fill-color);\n",
              "    }\n",
              "    90% {\n",
              "      border-color: transparent;\n",
              "      border-bottom-color: var(--fill-color);\n",
              "    }\n",
              "  }\n",
              "</style>\n",
              "\n",
              "  <script>\n",
              "    async function quickchart(key) {\n",
              "      const quickchartButtonEl =\n",
              "        document.querySelector('#' + key + ' button');\n",
              "      quickchartButtonEl.disabled = true;  // To prevent multiple clicks.\n",
              "      quickchartButtonEl.classList.add('colab-df-spinner');\n",
              "      try {\n",
              "        const charts = await google.colab.kernel.invokeFunction(\n",
              "            'suggestCharts', [key], {});\n",
              "      } catch (error) {\n",
              "        console.error('Error during call to suggestCharts:', error);\n",
              "      }\n",
              "      quickchartButtonEl.classList.remove('colab-df-spinner');\n",
              "      quickchartButtonEl.classList.add('colab-df-quickchart-complete');\n",
              "    }\n",
              "    (() => {\n",
              "      let quickchartButtonEl =\n",
              "        document.querySelector('#df-c9fbb89a-94d7-4413-9c56-9db748f181c3 button');\n",
              "      quickchartButtonEl.style.display =\n",
              "        google.colab.kernel.accessAllowed ? 'block' : 'none';\n",
              "    })();\n",
              "  </script>\n",
              "</div>\n",
              "    </div>\n",
              "  </div>\n"
            ]
          },
          "metadata": {},
          "execution_count": 7
        }
      ]
    },
    {
      "cell_type": "code",
      "metadata": {
        "colab": {
          "base_uri": "https://localhost:8080/",
          "height": 423
        },
        "id": "MVl_Ioo2ykqn",
        "outputId": "bf49c661-a4ff-4cf4-b3a9-f75d80f629dc"
      },
      "source": [
        "df[\"CLUSTER_ID\"] = cluster_model.labels_\n",
        "df"
      ],
      "execution_count": null,
      "outputs": [
        {
          "output_type": "execute_result",
          "data": {
            "text/plain": [
              "     sepal length (cm)  sepal width (cm)  petal length (cm)  petal width (cm)  \\\n",
              "0                  5.1               3.5                1.4               0.2   \n",
              "1                  4.9               3.0                1.4               0.2   \n",
              "2                  4.7               3.2                1.3               0.2   \n",
              "3                  4.6               3.1                1.5               0.2   \n",
              "4                  5.0               3.6                1.4               0.2   \n",
              "..                 ...               ...                ...               ...   \n",
              "145                6.7               3.0                5.2               2.3   \n",
              "146                6.3               2.5                5.0               1.9   \n",
              "147                6.5               3.0                5.2               2.0   \n",
              "148                6.2               3.4                5.4               2.3   \n",
              "149                5.9               3.0                5.1               1.8   \n",
              "\n",
              "     CLUSTER_ID  \n",
              "0             0  \n",
              "1             0  \n",
              "2             0  \n",
              "3             0  \n",
              "4             0  \n",
              "..          ...  \n",
              "145           2  \n",
              "146           1  \n",
              "147           2  \n",
              "148           2  \n",
              "149           1  \n",
              "\n",
              "[150 rows x 5 columns]"
            ],
            "text/html": [
              "\n",
              "  <div id=\"df-42975437-927d-48ff-9bc8-3631d101e7ea\" class=\"colab-df-container\">\n",
              "    <div>\n",
              "<style scoped>\n",
              "    .dataframe tbody tr th:only-of-type {\n",
              "        vertical-align: middle;\n",
              "    }\n",
              "\n",
              "    .dataframe tbody tr th {\n",
              "        vertical-align: top;\n",
              "    }\n",
              "\n",
              "    .dataframe thead th {\n",
              "        text-align: right;\n",
              "    }\n",
              "</style>\n",
              "<table border=\"1\" class=\"dataframe\">\n",
              "  <thead>\n",
              "    <tr style=\"text-align: right;\">\n",
              "      <th></th>\n",
              "      <th>sepal length (cm)</th>\n",
              "      <th>sepal width (cm)</th>\n",
              "      <th>petal length (cm)</th>\n",
              "      <th>petal width (cm)</th>\n",
              "      <th>CLUSTER_ID</th>\n",
              "    </tr>\n",
              "  </thead>\n",
              "  <tbody>\n",
              "    <tr>\n",
              "      <th>0</th>\n",
              "      <td>5.1</td>\n",
              "      <td>3.5</td>\n",
              "      <td>1.4</td>\n",
              "      <td>0.2</td>\n",
              "      <td>0</td>\n",
              "    </tr>\n",
              "    <tr>\n",
              "      <th>1</th>\n",
              "      <td>4.9</td>\n",
              "      <td>3.0</td>\n",
              "      <td>1.4</td>\n",
              "      <td>0.2</td>\n",
              "      <td>0</td>\n",
              "    </tr>\n",
              "    <tr>\n",
              "      <th>2</th>\n",
              "      <td>4.7</td>\n",
              "      <td>3.2</td>\n",
              "      <td>1.3</td>\n",
              "      <td>0.2</td>\n",
              "      <td>0</td>\n",
              "    </tr>\n",
              "    <tr>\n",
              "      <th>3</th>\n",
              "      <td>4.6</td>\n",
              "      <td>3.1</td>\n",
              "      <td>1.5</td>\n",
              "      <td>0.2</td>\n",
              "      <td>0</td>\n",
              "    </tr>\n",
              "    <tr>\n",
              "      <th>4</th>\n",
              "      <td>5.0</td>\n",
              "      <td>3.6</td>\n",
              "      <td>1.4</td>\n",
              "      <td>0.2</td>\n",
              "      <td>0</td>\n",
              "    </tr>\n",
              "    <tr>\n",
              "      <th>...</th>\n",
              "      <td>...</td>\n",
              "      <td>...</td>\n",
              "      <td>...</td>\n",
              "      <td>...</td>\n",
              "      <td>...</td>\n",
              "    </tr>\n",
              "    <tr>\n",
              "      <th>145</th>\n",
              "      <td>6.7</td>\n",
              "      <td>3.0</td>\n",
              "      <td>5.2</td>\n",
              "      <td>2.3</td>\n",
              "      <td>2</td>\n",
              "    </tr>\n",
              "    <tr>\n",
              "      <th>146</th>\n",
              "      <td>6.3</td>\n",
              "      <td>2.5</td>\n",
              "      <td>5.0</td>\n",
              "      <td>1.9</td>\n",
              "      <td>1</td>\n",
              "    </tr>\n",
              "    <tr>\n",
              "      <th>147</th>\n",
              "      <td>6.5</td>\n",
              "      <td>3.0</td>\n",
              "      <td>5.2</td>\n",
              "      <td>2.0</td>\n",
              "      <td>2</td>\n",
              "    </tr>\n",
              "    <tr>\n",
              "      <th>148</th>\n",
              "      <td>6.2</td>\n",
              "      <td>3.4</td>\n",
              "      <td>5.4</td>\n",
              "      <td>2.3</td>\n",
              "      <td>2</td>\n",
              "    </tr>\n",
              "    <tr>\n",
              "      <th>149</th>\n",
              "      <td>5.9</td>\n",
              "      <td>3.0</td>\n",
              "      <td>5.1</td>\n",
              "      <td>1.8</td>\n",
              "      <td>1</td>\n",
              "    </tr>\n",
              "  </tbody>\n",
              "</table>\n",
              "<p>150 rows × 5 columns</p>\n",
              "</div>\n",
              "    <div class=\"colab-df-buttons\">\n",
              "\n",
              "  <div class=\"colab-df-container\">\n",
              "    <button class=\"colab-df-convert\" onclick=\"convertToInteractive('df-42975437-927d-48ff-9bc8-3631d101e7ea')\"\n",
              "            title=\"Convert this dataframe to an interactive table.\"\n",
              "            style=\"display:none;\">\n",
              "\n",
              "  <svg xmlns=\"http://www.w3.org/2000/svg\" height=\"24px\" viewBox=\"0 -960 960 960\">\n",
              "    <path d=\"M120-120v-720h720v720H120Zm60-500h600v-160H180v160Zm220 220h160v-160H400v160Zm0 220h160v-160H400v160ZM180-400h160v-160H180v160Zm440 0h160v-160H620v160ZM180-180h160v-160H180v160Zm440 0h160v-160H620v160Z\"/>\n",
              "  </svg>\n",
              "    </button>\n",
              "\n",
              "  <style>\n",
              "    .colab-df-container {\n",
              "      display:flex;\n",
              "      gap: 12px;\n",
              "    }\n",
              "\n",
              "    .colab-df-convert {\n",
              "      background-color: #E8F0FE;\n",
              "      border: none;\n",
              "      border-radius: 50%;\n",
              "      cursor: pointer;\n",
              "      display: none;\n",
              "      fill: #1967D2;\n",
              "      height: 32px;\n",
              "      padding: 0 0 0 0;\n",
              "      width: 32px;\n",
              "    }\n",
              "\n",
              "    .colab-df-convert:hover {\n",
              "      background-color: #E2EBFA;\n",
              "      box-shadow: 0px 1px 2px rgba(60, 64, 67, 0.3), 0px 1px 3px 1px rgba(60, 64, 67, 0.15);\n",
              "      fill: #174EA6;\n",
              "    }\n",
              "\n",
              "    .colab-df-buttons div {\n",
              "      margin-bottom: 4px;\n",
              "    }\n",
              "\n",
              "    [theme=dark] .colab-df-convert {\n",
              "      background-color: #3B4455;\n",
              "      fill: #D2E3FC;\n",
              "    }\n",
              "\n",
              "    [theme=dark] .colab-df-convert:hover {\n",
              "      background-color: #434B5C;\n",
              "      box-shadow: 0px 1px 3px 1px rgba(0, 0, 0, 0.15);\n",
              "      filter: drop-shadow(0px 1px 2px rgba(0, 0, 0, 0.3));\n",
              "      fill: #FFFFFF;\n",
              "    }\n",
              "  </style>\n",
              "\n",
              "    <script>\n",
              "      const buttonEl =\n",
              "        document.querySelector('#df-42975437-927d-48ff-9bc8-3631d101e7ea button.colab-df-convert');\n",
              "      buttonEl.style.display =\n",
              "        google.colab.kernel.accessAllowed ? 'block' : 'none';\n",
              "\n",
              "      async function convertToInteractive(key) {\n",
              "        const element = document.querySelector('#df-42975437-927d-48ff-9bc8-3631d101e7ea');\n",
              "        const dataTable =\n",
              "          await google.colab.kernel.invokeFunction('convertToInteractive',\n",
              "                                                    [key], {});\n",
              "        if (!dataTable) return;\n",
              "\n",
              "        const docLinkHtml = 'Like what you see? Visit the ' +\n",
              "          '<a target=\"_blank\" href=https://colab.research.google.com/notebooks/data_table.ipynb>data table notebook</a>'\n",
              "          + ' to learn more about interactive tables.';\n",
              "        element.innerHTML = '';\n",
              "        dataTable['output_type'] = 'display_data';\n",
              "        await google.colab.output.renderOutput(dataTable, element);\n",
              "        const docLink = document.createElement('div');\n",
              "        docLink.innerHTML = docLinkHtml;\n",
              "        element.appendChild(docLink);\n",
              "      }\n",
              "    </script>\n",
              "  </div>\n",
              "\n",
              "\n",
              "<div id=\"df-510ca012-218f-4450-b561-1a63c23623fb\">\n",
              "  <button class=\"colab-df-quickchart\" onclick=\"quickchart('df-510ca012-218f-4450-b561-1a63c23623fb')\"\n",
              "            title=\"Suggest charts\"\n",
              "            style=\"display:none;\">\n",
              "\n",
              "<svg xmlns=\"http://www.w3.org/2000/svg\" height=\"24px\"viewBox=\"0 0 24 24\"\n",
              "     width=\"24px\">\n",
              "    <g>\n",
              "        <path d=\"M19 3H5c-1.1 0-2 .9-2 2v14c0 1.1.9 2 2 2h14c1.1 0 2-.9 2-2V5c0-1.1-.9-2-2-2zM9 17H7v-7h2v7zm4 0h-2V7h2v10zm4 0h-2v-4h2v4z\"/>\n",
              "    </g>\n",
              "</svg>\n",
              "  </button>\n",
              "\n",
              "<style>\n",
              "  .colab-df-quickchart {\n",
              "      --bg-color: #E8F0FE;\n",
              "      --fill-color: #1967D2;\n",
              "      --hover-bg-color: #E2EBFA;\n",
              "      --hover-fill-color: #174EA6;\n",
              "      --disabled-fill-color: #AAA;\n",
              "      --disabled-bg-color: #DDD;\n",
              "  }\n",
              "\n",
              "  [theme=dark] .colab-df-quickchart {\n",
              "      --bg-color: #3B4455;\n",
              "      --fill-color: #D2E3FC;\n",
              "      --hover-bg-color: #434B5C;\n",
              "      --hover-fill-color: #FFFFFF;\n",
              "      --disabled-bg-color: #3B4455;\n",
              "      --disabled-fill-color: #666;\n",
              "  }\n",
              "\n",
              "  .colab-df-quickchart {\n",
              "    background-color: var(--bg-color);\n",
              "    border: none;\n",
              "    border-radius: 50%;\n",
              "    cursor: pointer;\n",
              "    display: none;\n",
              "    fill: var(--fill-color);\n",
              "    height: 32px;\n",
              "    padding: 0;\n",
              "    width: 32px;\n",
              "  }\n",
              "\n",
              "  .colab-df-quickchart:hover {\n",
              "    background-color: var(--hover-bg-color);\n",
              "    box-shadow: 0 1px 2px rgba(60, 64, 67, 0.3), 0 1px 3px 1px rgba(60, 64, 67, 0.15);\n",
              "    fill: var(--button-hover-fill-color);\n",
              "  }\n",
              "\n",
              "  .colab-df-quickchart-complete:disabled,\n",
              "  .colab-df-quickchart-complete:disabled:hover {\n",
              "    background-color: var(--disabled-bg-color);\n",
              "    fill: var(--disabled-fill-color);\n",
              "    box-shadow: none;\n",
              "  }\n",
              "\n",
              "  .colab-df-spinner {\n",
              "    border: 2px solid var(--fill-color);\n",
              "    border-color: transparent;\n",
              "    border-bottom-color: var(--fill-color);\n",
              "    animation:\n",
              "      spin 1s steps(1) infinite;\n",
              "  }\n",
              "\n",
              "  @keyframes spin {\n",
              "    0% {\n",
              "      border-color: transparent;\n",
              "      border-bottom-color: var(--fill-color);\n",
              "      border-left-color: var(--fill-color);\n",
              "    }\n",
              "    20% {\n",
              "      border-color: transparent;\n",
              "      border-left-color: var(--fill-color);\n",
              "      border-top-color: var(--fill-color);\n",
              "    }\n",
              "    30% {\n",
              "      border-color: transparent;\n",
              "      border-left-color: var(--fill-color);\n",
              "      border-top-color: var(--fill-color);\n",
              "      border-right-color: var(--fill-color);\n",
              "    }\n",
              "    40% {\n",
              "      border-color: transparent;\n",
              "      border-right-color: var(--fill-color);\n",
              "      border-top-color: var(--fill-color);\n",
              "    }\n",
              "    60% {\n",
              "      border-color: transparent;\n",
              "      border-right-color: var(--fill-color);\n",
              "    }\n",
              "    80% {\n",
              "      border-color: transparent;\n",
              "      border-right-color: var(--fill-color);\n",
              "      border-bottom-color: var(--fill-color);\n",
              "    }\n",
              "    90% {\n",
              "      border-color: transparent;\n",
              "      border-bottom-color: var(--fill-color);\n",
              "    }\n",
              "  }\n",
              "</style>\n",
              "\n",
              "  <script>\n",
              "    async function quickchart(key) {\n",
              "      const quickchartButtonEl =\n",
              "        document.querySelector('#' + key + ' button');\n",
              "      quickchartButtonEl.disabled = true;  // To prevent multiple clicks.\n",
              "      quickchartButtonEl.classList.add('colab-df-spinner');\n",
              "      try {\n",
              "        const charts = await google.colab.kernel.invokeFunction(\n",
              "            'suggestCharts', [key], {});\n",
              "      } catch (error) {\n",
              "        console.error('Error during call to suggestCharts:', error);\n",
              "      }\n",
              "      quickchartButtonEl.classList.remove('colab-df-spinner');\n",
              "      quickchartButtonEl.classList.add('colab-df-quickchart-complete');\n",
              "    }\n",
              "    (() => {\n",
              "      let quickchartButtonEl =\n",
              "        document.querySelector('#df-510ca012-218f-4450-b561-1a63c23623fb button');\n",
              "      quickchartButtonEl.style.display =\n",
              "        google.colab.kernel.accessAllowed ? 'block' : 'none';\n",
              "    })();\n",
              "  </script>\n",
              "</div>\n",
              "    </div>\n",
              "  </div>\n"
            ]
          },
          "metadata": {},
          "execution_count": 8
        }
      ]
    },
    {
      "cell_type": "markdown",
      "metadata": {
        "id": "_yHb7tg-VK7p"
      },
      "source": [
        "\n",
        "#### Persistencia del modelo"
      ]
    },
    {
      "cell_type": "markdown",
      "metadata": {
        "id": "bBPQpKzccFUG"
      },
      "source": [
        "En proyectos reales, es común **persistir los modelos** en un archivo para poder utilizarlos a posteriori en la fase de predicción sin tener que volver a reentrenarlo, ya que los tiempos de entrenamiento y por tanto el coste computacional suelen ser altos.\n",
        "\n",
        "Para ello se pueden utilizar distintas librerías, siendo las mas comunes `pickle`, que pertenece a la librería estándar, o `joblib` que es una librería externa.\n",
        "\n",
        "*Nota: Ambas librerías pueden persister cualquier objeto de `python`, no se limitan a los modelos de `sklearn`.*"
      ]
    },
    {
      "cell_type": "code",
      "metadata": {
        "colab": {
          "base_uri": "https://localhost:8080/",
          "height": 74
        },
        "id": "68hqI8LGaork",
        "outputId": "408ecbdd-d65a-48df-94ce-a1bd5feb428d"
      },
      "source": [
        "# Método 1: Utilizando la librería estandar de python: pickle\n",
        "import pickle\n",
        "\n",
        "# Escritura a disco\n",
        "with open(\"modelo_persistido.pkl\", \"wb\") as file:\n",
        "  pickle.dump(cluster_model, file)\n",
        "\n",
        "# Lectura del archivo\n",
        "with open(\"modelo_persistido.pkl\", \"rb\") as file:\n",
        "  retrieved_model = pickle.load(file)\n",
        "\n",
        "retrieved_model"
      ],
      "execution_count": null,
      "outputs": [
        {
          "output_type": "execute_result",
          "data": {
            "text/plain": [
              "KMeans(n_clusters=3)"
            ],
            "text/html": [
              "<style>#sk-container-id-1 {color: black;background-color: white;}#sk-container-id-1 pre{padding: 0;}#sk-container-id-1 div.sk-toggleable {background-color: white;}#sk-container-id-1 label.sk-toggleable__label {cursor: pointer;display: block;width: 100%;margin-bottom: 0;padding: 0.3em;box-sizing: border-box;text-align: center;}#sk-container-id-1 label.sk-toggleable__label-arrow:before {content: \"▸\";float: left;margin-right: 0.25em;color: #696969;}#sk-container-id-1 label.sk-toggleable__label-arrow:hover:before {color: black;}#sk-container-id-1 div.sk-estimator:hover label.sk-toggleable__label-arrow:before {color: black;}#sk-container-id-1 div.sk-toggleable__content {max-height: 0;max-width: 0;overflow: hidden;text-align: left;background-color: #f0f8ff;}#sk-container-id-1 div.sk-toggleable__content pre {margin: 0.2em;color: black;border-radius: 0.25em;background-color: #f0f8ff;}#sk-container-id-1 input.sk-toggleable__control:checked~div.sk-toggleable__content {max-height: 200px;max-width: 100%;overflow: auto;}#sk-container-id-1 input.sk-toggleable__control:checked~label.sk-toggleable__label-arrow:before {content: \"▾\";}#sk-container-id-1 div.sk-estimator input.sk-toggleable__control:checked~label.sk-toggleable__label {background-color: #d4ebff;}#sk-container-id-1 div.sk-label input.sk-toggleable__control:checked~label.sk-toggleable__label {background-color: #d4ebff;}#sk-container-id-1 input.sk-hidden--visually {border: 0;clip: rect(1px 1px 1px 1px);clip: rect(1px, 1px, 1px, 1px);height: 1px;margin: -1px;overflow: hidden;padding: 0;position: absolute;width: 1px;}#sk-container-id-1 div.sk-estimator {font-family: monospace;background-color: #f0f8ff;border: 1px dotted black;border-radius: 0.25em;box-sizing: border-box;margin-bottom: 0.5em;}#sk-container-id-1 div.sk-estimator:hover {background-color: #d4ebff;}#sk-container-id-1 div.sk-parallel-item::after {content: \"\";width: 100%;border-bottom: 1px solid gray;flex-grow: 1;}#sk-container-id-1 div.sk-label:hover label.sk-toggleable__label {background-color: #d4ebff;}#sk-container-id-1 div.sk-serial::before {content: \"\";position: absolute;border-left: 1px solid gray;box-sizing: border-box;top: 0;bottom: 0;left: 50%;z-index: 0;}#sk-container-id-1 div.sk-serial {display: flex;flex-direction: column;align-items: center;background-color: white;padding-right: 0.2em;padding-left: 0.2em;position: relative;}#sk-container-id-1 div.sk-item {position: relative;z-index: 1;}#sk-container-id-1 div.sk-parallel {display: flex;align-items: stretch;justify-content: center;background-color: white;position: relative;}#sk-container-id-1 div.sk-item::before, #sk-container-id-1 div.sk-parallel-item::before {content: \"\";position: absolute;border-left: 1px solid gray;box-sizing: border-box;top: 0;bottom: 0;left: 50%;z-index: -1;}#sk-container-id-1 div.sk-parallel-item {display: flex;flex-direction: column;z-index: 1;position: relative;background-color: white;}#sk-container-id-1 div.sk-parallel-item:first-child::after {align-self: flex-end;width: 50%;}#sk-container-id-1 div.sk-parallel-item:last-child::after {align-self: flex-start;width: 50%;}#sk-container-id-1 div.sk-parallel-item:only-child::after {width: 0;}#sk-container-id-1 div.sk-dashed-wrapped {border: 1px dashed gray;margin: 0 0.4em 0.5em 0.4em;box-sizing: border-box;padding-bottom: 0.4em;background-color: white;}#sk-container-id-1 div.sk-label label {font-family: monospace;font-weight: bold;display: inline-block;line-height: 1.2em;}#sk-container-id-1 div.sk-label-container {text-align: center;}#sk-container-id-1 div.sk-container {/* jupyter's `normalize.less` sets `[hidden] { display: none; }` but bootstrap.min.css set `[hidden] { display: none !important; }` so we also need the `!important` here to be able to override the default hidden behavior on the sphinx rendered scikit-learn.org. See: https://github.com/scikit-learn/scikit-learn/issues/21755 */display: inline-block !important;position: relative;}#sk-container-id-1 div.sk-text-repr-fallback {display: none;}</style><div id=\"sk-container-id-1\" class=\"sk-top-container\"><div class=\"sk-text-repr-fallback\"><pre>KMeans(n_clusters=3)</pre><b>In a Jupyter environment, please rerun this cell to show the HTML representation or trust the notebook. <br />On GitHub, the HTML representation is unable to render, please try loading this page with nbviewer.org.</b></div><div class=\"sk-container\" hidden><div class=\"sk-item\"><div class=\"sk-estimator sk-toggleable\"><input class=\"sk-toggleable__control sk-hidden--visually\" id=\"sk-estimator-id-1\" type=\"checkbox\" checked><label for=\"sk-estimator-id-1\" class=\"sk-toggleable__label sk-toggleable__label-arrow\">KMeans</label><div class=\"sk-toggleable__content\"><pre>KMeans(n_clusters=3)</pre></div></div></div></div></div>"
            ]
          },
          "metadata": {},
          "execution_count": 9
        }
      ]
    },
    {
      "cell_type": "code",
      "metadata": {
        "colab": {
          "base_uri": "https://localhost:8080/",
          "height": 74
        },
        "id": "9MgHhhn6dcvQ",
        "outputId": "495ca494-2f55-47bc-8462-ba32077a00a5"
      },
      "source": [
        "# Método 2: Utilizando la libreria joblib\n",
        "\n",
        "import joblib\n",
        "\n",
        "# Escritura a disco\n",
        "joblib.dump(cluster_model, \"modelo_persistido.joblib\")\n",
        "\n",
        "# Lectura del modelo\n",
        "retrieved_model = joblib.load(\"modelo_persistido.joblib\")\n",
        "\n",
        "retrieved_model"
      ],
      "execution_count": null,
      "outputs": [
        {
          "output_type": "execute_result",
          "data": {
            "text/plain": [
              "KMeans(n_clusters=3)"
            ],
            "text/html": [
              "<style>#sk-container-id-2 {color: black;background-color: white;}#sk-container-id-2 pre{padding: 0;}#sk-container-id-2 div.sk-toggleable {background-color: white;}#sk-container-id-2 label.sk-toggleable__label {cursor: pointer;display: block;width: 100%;margin-bottom: 0;padding: 0.3em;box-sizing: border-box;text-align: center;}#sk-container-id-2 label.sk-toggleable__label-arrow:before {content: \"▸\";float: left;margin-right: 0.25em;color: #696969;}#sk-container-id-2 label.sk-toggleable__label-arrow:hover:before {color: black;}#sk-container-id-2 div.sk-estimator:hover label.sk-toggleable__label-arrow:before {color: black;}#sk-container-id-2 div.sk-toggleable__content {max-height: 0;max-width: 0;overflow: hidden;text-align: left;background-color: #f0f8ff;}#sk-container-id-2 div.sk-toggleable__content pre {margin: 0.2em;color: black;border-radius: 0.25em;background-color: #f0f8ff;}#sk-container-id-2 input.sk-toggleable__control:checked~div.sk-toggleable__content {max-height: 200px;max-width: 100%;overflow: auto;}#sk-container-id-2 input.sk-toggleable__control:checked~label.sk-toggleable__label-arrow:before {content: \"▾\";}#sk-container-id-2 div.sk-estimator input.sk-toggleable__control:checked~label.sk-toggleable__label {background-color: #d4ebff;}#sk-container-id-2 div.sk-label input.sk-toggleable__control:checked~label.sk-toggleable__label {background-color: #d4ebff;}#sk-container-id-2 input.sk-hidden--visually {border: 0;clip: rect(1px 1px 1px 1px);clip: rect(1px, 1px, 1px, 1px);height: 1px;margin: -1px;overflow: hidden;padding: 0;position: absolute;width: 1px;}#sk-container-id-2 div.sk-estimator {font-family: monospace;background-color: #f0f8ff;border: 1px dotted black;border-radius: 0.25em;box-sizing: border-box;margin-bottom: 0.5em;}#sk-container-id-2 div.sk-estimator:hover {background-color: #d4ebff;}#sk-container-id-2 div.sk-parallel-item::after {content: \"\";width: 100%;border-bottom: 1px solid gray;flex-grow: 1;}#sk-container-id-2 div.sk-label:hover label.sk-toggleable__label {background-color: #d4ebff;}#sk-container-id-2 div.sk-serial::before {content: \"\";position: absolute;border-left: 1px solid gray;box-sizing: border-box;top: 0;bottom: 0;left: 50%;z-index: 0;}#sk-container-id-2 div.sk-serial {display: flex;flex-direction: column;align-items: center;background-color: white;padding-right: 0.2em;padding-left: 0.2em;position: relative;}#sk-container-id-2 div.sk-item {position: relative;z-index: 1;}#sk-container-id-2 div.sk-parallel {display: flex;align-items: stretch;justify-content: center;background-color: white;position: relative;}#sk-container-id-2 div.sk-item::before, #sk-container-id-2 div.sk-parallel-item::before {content: \"\";position: absolute;border-left: 1px solid gray;box-sizing: border-box;top: 0;bottom: 0;left: 50%;z-index: -1;}#sk-container-id-2 div.sk-parallel-item {display: flex;flex-direction: column;z-index: 1;position: relative;background-color: white;}#sk-container-id-2 div.sk-parallel-item:first-child::after {align-self: flex-end;width: 50%;}#sk-container-id-2 div.sk-parallel-item:last-child::after {align-self: flex-start;width: 50%;}#sk-container-id-2 div.sk-parallel-item:only-child::after {width: 0;}#sk-container-id-2 div.sk-dashed-wrapped {border: 1px dashed gray;margin: 0 0.4em 0.5em 0.4em;box-sizing: border-box;padding-bottom: 0.4em;background-color: white;}#sk-container-id-2 div.sk-label label {font-family: monospace;font-weight: bold;display: inline-block;line-height: 1.2em;}#sk-container-id-2 div.sk-label-container {text-align: center;}#sk-container-id-2 div.sk-container {/* jupyter's `normalize.less` sets `[hidden] { display: none; }` but bootstrap.min.css set `[hidden] { display: none !important; }` so we also need the `!important` here to be able to override the default hidden behavior on the sphinx rendered scikit-learn.org. See: https://github.com/scikit-learn/scikit-learn/issues/21755 */display: inline-block !important;position: relative;}#sk-container-id-2 div.sk-text-repr-fallback {display: none;}</style><div id=\"sk-container-id-2\" class=\"sk-top-container\"><div class=\"sk-text-repr-fallback\"><pre>KMeans(n_clusters=3)</pre><b>In a Jupyter environment, please rerun this cell to show the HTML representation or trust the notebook. <br />On GitHub, the HTML representation is unable to render, please try loading this page with nbviewer.org.</b></div><div class=\"sk-container\" hidden><div class=\"sk-item\"><div class=\"sk-estimator sk-toggleable\"><input class=\"sk-toggleable__control sk-hidden--visually\" id=\"sk-estimator-id-2\" type=\"checkbox\" checked><label for=\"sk-estimator-id-2\" class=\"sk-toggleable__label sk-toggleable__label-arrow\">KMeans</label><div class=\"sk-toggleable__content\"><pre>KMeans(n_clusters=3)</pre></div></div></div></div></div>"
            ]
          },
          "metadata": {},
          "execution_count": 10
        }
      ]
    },
    {
      "cell_type": "markdown",
      "metadata": {
        "id": "bTSbaYjFZBRK"
      },
      "source": [
        "\n",
        "#### Predicción"
      ]
    },
    {
      "cell_type": "markdown",
      "metadata": {
        "id": "7cU50p5Ivgzi"
      },
      "source": [
        "En la predicción **aplicamos el modelo entrenado a nuevos datos**.\n",
        "\n",
        "Algunos algoritmos de clustering no permiten este método y hay que reentrenar el modelo para obtener las etiquetas ya que los clústers cambian con la introducción de datos nuevos.\n",
        "\n",
        "Para modelos de clustering que lo permiten y para los modelos de detección de anomalías, utilizamos el método `predict`que toma como argumento una matriz de atributos con las mismas columnas con las que lo entrenamos, y devuelve etiquetas para los nuevos datos.\n",
        "\n",
        "En el caso de reducción dimensional utilizamos el método `transform` y obtenemos una matriz de datos transformados con el numero de dimensiones deseadas."
      ]
    },
    {
      "cell_type": "code",
      "metadata": {
        "colab": {
          "base_uri": "https://localhost:8080/"
        },
        "id": "OGojIzlhp4P7",
        "outputId": "28b0b9ff-05a2-45d3-fbc8-da8bfc51b9a2"
      },
      "source": [
        "# Cojemos 10 datos del dataset original como si fueran nuevos\n",
        "X_new = X[:10, :]\n",
        "\n",
        "# Predecimos las etiquetaas\n",
        "retrieved_model.predict(X_new)"
      ],
      "execution_count": null,
      "outputs": [
        {
          "output_type": "execute_result",
          "data": {
            "text/plain": [
              "array([0, 0, 0, 0, 0, 0, 0, 0, 0, 0], dtype=int32)"
            ]
          },
          "metadata": {},
          "execution_count": 11
        }
      ]
    },
    {
      "cell_type": "markdown",
      "metadata": {
        "id": "HTMnZTarQQ7x"
      },
      "source": [
        "## Algoritmos"
      ]
    },
    {
      "cell_type": "markdown",
      "metadata": {
        "id": "6BzqP0EZx8gy"
      },
      "source": [
        "### Clustering"
      ]
    },
    {
      "cell_type": "markdown",
      "metadata": {
        "id": "D5IhnLYbNcY7"
      },
      "source": [
        " #### K-Means"
      ]
    },
    {
      "cell_type": "markdown",
      "metadata": {
        "id": "4zLl5VTpFL08"
      },
      "source": [
        "El algoritmo K-Means es uno de los más utilizado en *clustering*.\n",
        "\n",
        "Su objetivo es, dado un número K de clusters, agrupar los datos en K grupos de manera que se minimice la varianza intra-cluster.\n",
        "\n",
        "La varianza intra-cluster es la suma de la distancia euclidea al cuadrado desde cada muestra al centroide del cluster.\n",
        "\n",
        "El centroide de un clúster es el céntro geométrico del mismo, y sus coordenadas se pueden calcular como:\n",
        "\n",
        "$x_j = \\sum_{i=1}^{i=n} \\frac{x_{ij}}{n}$\n",
        "\n",
        "Es decir, la media de las coordenadas de cada una de las muestras del cluster en cuestión.\n"
      ]
    },
    {
      "cell_type": "markdown",
      "metadata": {
        "id": "uAy0vua0Hafn"
      },
      "source": [
        "El algoritmo más utilizado para obtener estos clusters es el siguiente:"
      ]
    },
    {
      "cell_type": "markdown",
      "metadata": {
        "id": "rd5W5sH6H210"
      },
      "source": [
        "* **Inicialización de los centroides**:\n",
        "\n",
        "Se crean $k$ centroides. Una de las maneras más habituales (*Método de Forgy* es elegir $k$ muestras existentes y elegirlas como centros."
      ]
    },
    {
      "cell_type": "markdown",
      "metadata": {
        "id": "EtP7aeBjzDh4"
      },
      "source": [
        "Tras la inicialización se realizan **dos pasos iterativamente**:\n",
        "\n",
        "- **Paso de asignación:**\n",
        "\n",
        "Cada muestra del dataset la asignamos al clúster representado por el centroide más cercano a la misma.\n",
        "\n",
        "- **Paso de actualización:**\n",
        "\n",
        "Recalculamos las coordenadas de los centroides con las nuevas muestras de cada clúster."
      ]
    },
    {
      "cell_type": "markdown",
      "metadata": {
        "id": "SvzngmVLI0Wz"
      },
      "source": [
        "El algoritmo **termina** cuando se alcanza la convergencia, es decir, cuando **en el paso de asignación ninguna muestra cambia de clúster**."
      ]
    },
    {
      "cell_type": "markdown",
      "metadata": {
        "id": "5LqyNODZTg34"
      },
      "source": [
        "Se inicializan los centroides y se hace la primera asignación.\n",
        "\n",
        "<img width=\"600px\" src=\"https://storage.googleapis.com/jz-example-data/img/k-means_1.png\"></img>"
      ]
    },
    {
      "cell_type": "markdown",
      "metadata": {
        "id": "V7yHtgjWYrvl"
      },
      "source": [
        "Actualizamos la posición de los centroides al punto medio de cada grupo asignado.\n",
        "\n",
        "Reasignamos los nuevos grupos teniendo en cuenta la nueva posición de los centroides.\n",
        "\n",
        "<img width=\"600px\" src=\"https://storage.googleapis.com/jz-example-data/img/k-means_2.png\"></img>"
      ]
    },
    {
      "cell_type": "markdown",
      "metadata": {
        "id": "fPgciAn7LEa3"
      },
      "source": [
        "Volvemos a actualizar los centroides con los nuevos grupos.\n",
        "\n",
        "Reasignamos grupos. Como ninguna muestra ha cambiado de grupo estos serían nuestros centroides y clústeres finales.\n",
        "\n",
        "<img width=\"600px\" src=\"https://storage.googleapis.com/jz-example-data/img/k_means_3.png\"></img>"
      ]
    },
    {
      "cell_type": "markdown",
      "metadata": {
        "id": "UgXD4OMOLz-W"
      },
      "source": [
        "Este algoritmo **no garantiza encontrar el óptimo global** pero si un óptimo local.\n",
        "\n",
        "**Los clústeres dependen de la inicialización de los centroides**, que en la mayoría de implementaciones es estocástica."
      ]
    },
    {
      "cell_type": "markdown",
      "metadata": {
        "id": "m7CJNGIepeeK"
      },
      "source": [
        "##### Ejemplo en `sklearn`"
      ]
    },
    {
      "cell_type": "code",
      "metadata": {
        "colab": {
          "base_uri": "https://localhost:8080/",
          "height": 368
        },
        "id": "WPAlMq9Pplfl",
        "outputId": "a8ecd812-4c73-41fd-f1fa-d5e0a8814a45"
      },
      "source": [
        "import numpy as np\n",
        "import matplotlib.pyplot as plt\n",
        "from sklearn.datasets import make_blobs\n",
        "\n",
        "# Fijamos semilla para que los resultados sean reproducibles\n",
        "np.random.seed(0)\n",
        "\n",
        "# Generación de un dataset sintético\n",
        "X, _ = make_blobs(\n",
        "    n_samples=500, cluster_std=0.05,\n",
        "    centers=[(0.2, 0.4), (0.7, 0.1), (0.3, 0.6)]\n",
        ")\n",
        "np.random.shuffle(X)\n",
        "\n",
        "# Ploteamos los datos\n",
        "fig, ax = plt.subplots(figsize=(4, 4))\n",
        "ax.scatter(X[:, 0], X[:, 1], alpha=0.4)\n",
        "plt.show()"
      ],
      "execution_count": null,
      "outputs": [
        {
          "output_type": "display_data",
          "data": {
            "text/plain": [
              "<Figure size 400x400 with 1 Axes>"
            ],
            "image/png": "[encoded data removed]"
          },
          "metadata": {}
        }
      ]
    },
    {
      "cell_type": "code",
      "metadata": {
        "id": "KPsaO9-pp_5R",
        "outputId": "418c60ff-2a91-4976-caf2-acf73aec505b",
        "colab": {
          "base_uri": "https://localhost:8080/"
        }
      },
      "source": [
        "from sklearn.cluster import KMeans\n",
        "\n",
        "# Construcción del algoritmo\n",
        "kmeans = KMeans(n_clusters=3)\n",
        "\n",
        "# Entrenamiento\n",
        "kmeans.fit(X)\n",
        "\n",
        "# Predicción\n",
        "prediction = kmeans.predict(X)"
      ],
      "execution_count": null,
      "outputs": [
        {
          "output_type": "stream",
          "name": "stderr",
          "text": [
            "/usr/local/lib/python3.10/dist-packages/sklearn/cluster/_kmeans.py:870: FutureWarning: The default value of `n_init` will change from 10 to 'auto' in 1.4. Set the value of `n_init` explicitly to suppress the warning\n",
            "  warnings.warn(\n"
          ]
        }
      ]
    },
    {
      "cell_type": "code",
      "metadata": {
        "colab": {
          "base_uri": "https://localhost:8080/",
          "height": 557
        },
        "id": "xLroijXsqz4y",
        "outputId": "476ea7a9-7aae-4e6c-cfc4-4787f6c3d441"
      },
      "source": [
        "n_clusters = [2, 3, 4, 5]\n",
        "\n",
        "fig, axes = plt.subplots(1, len(n_clusters), figsize=(14, 4))\n",
        "\n",
        "for n, ax in zip(n_clusters, axes):\n",
        "  # Repetimos el entrenamiento para cada valor de n_clusters\n",
        "  kmeans = KMeans(n_clusters=n, random_state=1)\n",
        "  kmeans.fit(X)\n",
        "  prediction = kmeans.predict(X)\n",
        "  ax.set_title(f\"n_clusters: {n}\")\n",
        "\n",
        "  for i in range(n):\n",
        "    X_i = X[prediction == i]\n",
        "    ax.scatter(X_i[:,0], X_i[:,1], label = f\"Cluster {i+1}\")\n",
        "\n",
        "  ax.legend()"
      ],
      "execution_count": null,
      "outputs": [
        {
          "output_type": "stream",
          "name": "stderr",
          "text": [
            "/usr/local/lib/python3.10/dist-packages/sklearn/cluster/_kmeans.py:870: FutureWarning: The default value of `n_init` will change from 10 to 'auto' in 1.4. Set the value of `n_init` explicitly to suppress the warning\n",
            "  warnings.warn(\n",
            "/usr/local/lib/python3.10/dist-packages/sklearn/cluster/_kmeans.py:870: FutureWarning: The default value of `n_init` will change from 10 to 'auto' in 1.4. Set the value of `n_init` explicitly to suppress the warning\n",
            "  warnings.warn(\n",
            "/usr/local/lib/python3.10/dist-packages/sklearn/cluster/_kmeans.py:870: FutureWarning: The default value of `n_init` will change from 10 to 'auto' in 1.4. Set the value of `n_init` explicitly to suppress the warning\n",
            "  warnings.warn(\n",
            "/usr/local/lib/python3.10/dist-packages/sklearn/cluster/_kmeans.py:870: FutureWarning: The default value of `n_init` will change from 10 to 'auto' in 1.4. Set the value of `n_init` explicitly to suppress the warning\n",
            "  warnings.warn(\n"
          ]
        },
        {
          "output_type": "display_data",
          "data": {
            "text/plain": [
              "<Figure size 1400x400 with 4 Axes>"
            ],
            "image/png": "[encoded data removed]"
          },
          "metadata": {}
        }
      ]
    },
    {
      "cell_type": "markdown",
      "metadata": {
        "id": "VMIMmo6iNU3b"
      },
      "source": [
        "#### K-Medoids"
      ]
    },
    {
      "cell_type": "markdown",
      "metadata": {
        "id": "5GbpoLPYYKYz"
      },
      "source": [
        "El método de *k-medoids* es similar a k-means, sin embargo los *centroides* tienen que coincidir con una muestra real del dataset, pasandose a llamar *medoides* o medoids."
      ]
    },
    {
      "cell_type": "markdown",
      "metadata": {
        "id": "xRB59YUdYekx"
      },
      "source": [
        "Esto permite una serie de ventajas:\n",
        "\n",
        "- Es **menos sensitivo a *outliers***. El algoritmo de k-means, es muy sensible a valores anómalos en el dataset pudiendo cambiar significativamente la configuración de los clusters.\n",
        "\n",
        "- Permite utilizar **métricas arbitrarias** para definir la *similitud* entre clústers, mientras que k-means generalmente esta limitado a la distancia euclidea para soluciones eficientes.\n",
        "\n",
        "- En principio, permite **mayor interpretabilidad** al tener una muestra representativa real en cada uno de los clusters."
      ]
    },
    {
      "cell_type": "markdown",
      "metadata": {
        "id": "4plYCIdvZXYr"
      },
      "source": [
        "El mayor problema de k-medoids es la escalabilidad, ya que para datasets con muchas observaciones el tiempo de cómputo es muy elevado en general."
      ]
    },
    {
      "cell_type": "markdown",
      "metadata": {
        "id": "_LSMLVy0NkUn"
      },
      "source": [
        "El algoritmo más utilizado es PAM (Partitioning around medodids) y es como sigue:\n",
        "\n",
        "- Inicializamos los medoides seleccionando $k$ muestras aleatoriamente.\n",
        "\n",
        "- Asignamos cada muestra al cluster del medoide más similar según la métrica elegida.\n",
        "\n",
        "- Para cada uno de los medoides cogemos el resto de muestras \"no medoide\" y calculamos la función de coste a minimizar si esta fuera medoide y la otra no. Cambiamos el medoide por la muestra \"no medoide\" que minimice la función de coste.\n",
        "\n",
        "- El algoritmo termina cuando ningún posible cambio de medoide a \"no medoide\" reduce el coste."
      ]
    },
    {
      "cell_type": "markdown",
      "metadata": {
        "id": "cv3As1UcdSHs"
      },
      "source": [
        "Los pasos de inicialización y asignación son similares a k-means, salvo que en este caso estamos obligados a inicializar con una muestra real."
      ]
    },
    {
      "cell_type": "markdown",
      "metadata": {
        "id": "OKAP_0soak6G"
      },
      "source": [
        "<img width=\"600px\" src=\"https://storage.googleapis.com/jz-example-data/img/kmedoids1.png\"></img>"
      ]
    },
    {
      "cell_type": "markdown",
      "metadata": {
        "id": "z0VPUXdodctd"
      },
      "source": [
        "Despues de la primera asignación calcularíamos nuestra *función de coste*. Si utilizamos la misma que en k-means, sería la varianza intra-cluster con respecto al medoide, aunque podríamos utilizar cualquiera."
      ]
    },
    {
      "cell_type": "markdown",
      "metadata": {
        "id": "Rh3JxVS1d29r"
      },
      "source": [
        "Probamos a cambiar cada uno de los medoides y calculamos de nuevo el valor de la función de coste con la nueva asignación."
      ]
    },
    {
      "cell_type": "markdown",
      "metadata": {
        "id": "HAe5pKJldOXV"
      },
      "source": [
        "<img width=\"600px\" src=\"https://storage.googleapis.com/jz-example-data/img/kmedoids2.png\"></img>"
      ]
    },
    {
      "cell_type": "markdown",
      "metadata": {
        "id": "Cnf4jCTHeFqB"
      },
      "source": [
        "##### Ejemplo en `sklearn_extra`"
      ]
    },
    {
      "cell_type": "code",
      "metadata": {
        "id": "mD-DC9yfeKgK",
        "colab": {
          "base_uri": "https://localhost:8080/"
        },
        "outputId": "b12df3c8-7820-4ee7-f18c-dc1953bfd692"
      },
      "source": [
        "# Instalamos el paquete sklearn_extra, que contiene una implementación de\n",
        "# k-medoids\n",
        "!pip install scikit-learn-extra"
      ],
      "execution_count": null,
      "outputs": [
        {
          "output_type": "stream",
          "name": "stdout",
          "text": [
            "Collecting scikit-learn-extra\n",
            "  Downloading scikit_learn_extra-0.3.0-cp310-cp310-manylinux_2_17_x86_64.manylinux2014_x86_64.whl (2.0 MB)\n",
            "\u001b[2K     \u001b[90m━━━━━━━━━━━━━━━━━━━━━━━━━━━━━━━━━━━━━━━━\u001b[0m \u001b[32m2.0/2.0 MB\u001b[0m \u001b[31m8.1 MB/s\u001b[0m eta \u001b[36m0:00:00\u001b[0m\n",
            "\u001b[?25hRequirement already satisfied: numpy>=1.13.3 in /usr/local/lib/python3.10/dist-packages (from scikit-learn-extra) (1.23.5)\n",
            "Requirement already satisfied: scipy>=0.19.1 in /usr/local/lib/python3.10/dist-packages (from scikit-learn-extra) (1.11.4)\n",
            "Requirement already satisfied: scikit-learn>=0.23.0 in /usr/local/lib/python3.10/dist-packages (from scikit-learn-extra) (1.2.2)\n",
            "Requirement already satisfied: joblib>=1.1.1 in /usr/local/lib/python3.10/dist-packages (from scikit-learn>=0.23.0->scikit-learn-extra) (1.3.2)\n",
            "Requirement already satisfied: threadpoolctl>=2.0.0 in /usr/local/lib/python3.10/dist-packages (from scikit-learn>=0.23.0->scikit-learn-extra) (3.2.0)\n",
            "Installing collected packages: scikit-learn-extra\n",
            "Successfully installed scikit-learn-extra-0.3.0\n"
          ]
        }
      ]
    },
    {
      "cell_type": "code",
      "metadata": {
        "id": "MEBfEXChepIC"
      },
      "source": [
        "from sklearn.cluster import KMeans\n",
        "from sklearn_extra.cluster import KMedoids\n",
        "\n",
        "# Vamos a utilizar el mismo dataset generado para k-means.\n",
        "n_clusters = 3\n",
        "\n",
        "# Entrenamos\n",
        "kmedoids = KMedoids(n_clusters=n_clusters).fit(X)\n",
        "\n",
        "# Predecimos\n",
        "labels_kmedoids = kmedoids.predict(X)"
      ],
      "execution_count": null,
      "outputs": []
    },
    {
      "cell_type": "code",
      "metadata": {
        "colab": {
          "base_uri": "https://localhost:8080/",
          "height": 391
        },
        "id": "8-35i1XriUle",
        "outputId": "c2e58470-828e-463f-8256-ca1c68af6582"
      },
      "source": [
        "np.random.seed(0)\n",
        "\n",
        "fig, (ax1, ax2) = plt.subplots(1, 2, figsize=(10, 4))\n",
        "\n",
        "for c in range(n_clusters):\n",
        "  ax1.set_title(\"k-medoids\")\n",
        "  ax1.scatter(\n",
        "      X[labels_kmedoids == c, 0],\n",
        "      X[labels_kmedoids == c, 1]\n",
        "  )\n",
        "plt.show()"
      ],
      "execution_count": null,
      "outputs": [
        {
          "output_type": "display_data",
          "data": {
            "text/plain": [
              "<Figure size 1000x400 with 2 Axes>"
            ],
            "image/png": "[encoded data removed]"
          },
          "metadata": {}
        }
      ]
    },
    {
      "cell_type": "code",
      "source": [
        "X_noisy = X.copy()\n",
        "X_noisy[0, :] = [1.5, 0.6]\n",
        "\n",
        "n_clusters = 3\n",
        "\n",
        "# Entrenamos\n",
        "kmedoids = KMedoids(n_clusters=n_clusters).fit(X_noisy)\n",
        "\n",
        "# Predecimos\n",
        "labels_kmedoids = kmedoids.predict(X_noisy)\n",
        "\n",
        "np.random.seed(0)\n",
        "\n",
        "fig, (ax1, ax2) = plt.subplots(1, 2, figsize=(10, 4))\n",
        "\n",
        "for c in range(n_clusters):\n",
        "  ax1.set_title(\"k-medoids\")\n",
        "  ax1.scatter(\n",
        "      X_noisy[labels_kmedoids == c, 0],\n",
        "      X_noisy[labels_kmedoids == c, 1]\n",
        "  )\n",
        "plt.show()"
      ],
      "metadata": {
        "colab": {
          "base_uri": "https://localhost:8080/",
          "height": 391
        },
        "id": "2VeA20iTY736",
        "outputId": "511f292f-61a3-49f2-f6b3-59375dbff218"
      },
      "execution_count": null,
      "outputs": [
        {
          "output_type": "display_data",
          "data": {
            "text/plain": [
              "<Figure size 1000x400 with 2 Axes>"
            ],
            "image/png": "[encoded data removed]"
          },
          "metadata": {}
        }
      ]
    },
    {
      "cell_type": "markdown",
      "metadata": {
        "id": "fkUEFdutlQ3a"
      },
      "source": [
        "Al igual que en `Kmeans` podemos acceder a los *medoides* a través del atributo `cluster_centers_`."
      ]
    },
    {
      "cell_type": "markdown",
      "metadata": {
        "id": "FS79R7eLCVfC"
      },
      "source": [
        "### Detección de anomalias"
      ]
    },
    {
      "cell_type": "markdown",
      "metadata": {
        "id": "79H8ASKEV58e"
      },
      "source": [
        "#### Isolation Forest"
      ]
    },
    {
      "cell_type": "markdown",
      "metadata": {
        "id": "B7djTN_lA2rc"
      },
      "source": [
        "El *Isolation Forest* es un algoritmo que utiliza árboles de decisión para la detección de anomalías.\n",
        "\n",
        "La principal idea es que haciendo **particiones aleatorias entre el rango máximo y minimo de una variable**, las **muestras** que sean muy **distintas** del resto de los datos quedan, de media, en **profundidades inferiores** (más arriba del árbol) que el resto de muestras.\n",
        "\n",
        "Al ser un proceso estocástico, **utilizamos más de un árbol entrenado de la misma manera** y calculamos, para cada muestra, la profundidad media del conjunto de árboles. Esto hace **más robusta** la detección de anomalías.\n",
        "\n"
      ]
    },
    {
      "cell_type": "markdown",
      "metadata": {
        "id": "EVxDhenvTZmJ"
      },
      "source": [
        "<img width=\"600px\" src=\"https://storage.googleapis.com/jz-example-data/img/isolation-forest.png\"></img>"
      ]
    },
    {
      "cell_type": "markdown",
      "metadata": {
        "id": "kSqtDX997scf"
      },
      "source": [
        "##### Ejemplo en `sklearn`"
      ]
    },
    {
      "cell_type": "code",
      "metadata": {
        "colab": {
          "base_uri": "https://localhost:8080/",
          "height": 373
        },
        "id": "fEWkvZyX46c0",
        "outputId": "8c6c6b59-8e68-4a40-9af0-4623f012db4b"
      },
      "source": [
        "from sklearn.datasets import make_blobs\n",
        "\n",
        "# Fijamos semilla para que los resultados sean reproducibles\n",
        "np.random.seed(0)\n",
        "\n",
        "# Generación de un dataset sintético\n",
        "data, _ = make_blobs(\n",
        "    n_samples=500, cluster_std=0.05, centers=[(0.5, 0.5)])\n",
        "noise = np.column_stack([np.random.rand(30), np.random.rand(30)])\n",
        "X = np.row_stack([data, noise])\n",
        "np.random.shuffle(X)\n",
        "\n",
        "# Ploteamos los datos\n",
        "fig, ax = plt.subplots(figsize=(4, 4))\n",
        "ax.scatter(X[:, 0], X[:, 1], alpha=0.4)\n",
        "plt.show()"
      ],
      "execution_count": null,
      "outputs": [
        {
          "output_type": "display_data",
          "data": {
            "text/plain": [
              "<Figure size 400x400 with 1 Axes>"
            ],
            "image/png": "[encoded data removed]"
          },
          "metadata": {}
        }
      ]
    },
    {
      "cell_type": "markdown",
      "metadata": {
        "id": "2CxXzKjq7xJK"
      },
      "source": [
        "Los **hiperparámetros** más importantes del algoritmo son:\n",
        "\n",
        "- `n_estimators`: Número de árboles a entrenar. En general a mayor número de árboles más robusta es la detección de anomalias, sin embargo más pesado es el modelo y mayor tiempo computaciónal consume. Por defecto son 100.\n",
        "\n",
        "- `contamination`: Es el porcentaje de *outliers* o anomalías que se cree que hay presentes en el dataset. Se utiliza para determinar un umbral de detección. A mayor valor, el algoritmo es más estricto a la hora de determinar que una muestra no es una anomalia. Por defecto es 0.1 y tiene que estar en el rango [0, 0.5]."
      ]
    },
    {
      "cell_type": "code",
      "metadata": {
        "id": "fIjhkG6L64c5"
      },
      "source": [
        "from sklearn.ensemble import IsolationForest\n",
        "\n",
        "# Construcción del algoritmo\n",
        "forest = IsolationForest(n_estimators=100, contamination=0.01, random_state=1)\n",
        "\n",
        "# Entrenamiento\n",
        "forest.fit(X)\n",
        "\n",
        "# Predicción de anomalías\n",
        "prediction = forest.predict(X)"
      ],
      "execution_count": null,
      "outputs": []
    },
    {
      "cell_type": "markdown",
      "metadata": {
        "id": "g2kNgi2X9whE"
      },
      "source": [
        "En el caso de las algoritmos de detección de anomalías, el *output* del método predict es un array con valores `1` o `-1`, dónde `1` indica que el valor es normal y `-1` indica la presencia de una anomalía."
      ]
    },
    {
      "cell_type": "code",
      "metadata": {
        "colab": {
          "base_uri": "https://localhost:8080/"
        },
        "id": "hW9OSiU39uYQ",
        "outputId": "04f3e1aa-e203-4b0f-f24c-a01747419198"
      },
      "source": [
        "prediction[:15]"
      ],
      "execution_count": null,
      "outputs": [
        {
          "output_type": "execute_result",
          "data": {
            "text/plain": [
              "array([1, 1, 1, 1, 1, 1, 1, 1, 1, 1, 1, 1, 1, 1, 1])"
            ]
          },
          "metadata": {},
          "execution_count": 21
        }
      ]
    },
    {
      "cell_type": "markdown",
      "metadata": {
        "id": "V-OaPxZjAboo"
      },
      "source": [
        "Podemos observar el efecto del parámetro `contamination` probando con varios valores en el dataset."
      ]
    },
    {
      "cell_type": "code",
      "metadata": {
        "colab": {
          "base_uri": "https://localhost:8080/",
          "height": 391
        },
        "id": "46j2k9u7-oXM",
        "outputId": "ceef6bb0-04f2-49e4-f643-4e29199e94e4"
      },
      "source": [
        "contaminations = (0.05, 0.1, 0.4)\n",
        "\n",
        "fig, axes = plt.subplots(1, 3, figsize=(14, 4))\n",
        "\n",
        "for c, ax in zip(contaminations, axes):\n",
        "  # Repetimos el entrenamiento para cada valor de contaminación\n",
        "  forest = IsolationForest(n_estimators=100, contamination=c, random_state=1)\n",
        "  forest.fit(X)\n",
        "  prediction = forest.predict(X)\n",
        "  ax.set_title(f\"Contamination: {c}\")\n",
        "\n",
        "  # Dividimos la matriz de atributos entre observaciones regulares y outliers\n",
        "  regular = X[prediction == 1]\n",
        "  anomalies = X[prediction == -1]\n",
        "\n",
        "  ax.scatter(regular[:,0], regular[:,1], label = \"regular\")\n",
        "  ax.scatter(anomalies[:,0], anomalies[:,1], label = \"anomalies\")\n",
        "\n",
        "  ax.legend()"
      ],
      "execution_count": null,
      "outputs": [
        {
          "output_type": "display_data",
          "data": {
            "text/plain": [
              "<Figure size 1400x400 with 3 Axes>"
            ],
            "image/png": "[encoded data removed]"
          },
          "metadata": {}
        }
      ]
    },
    {
      "cell_type": "markdown",
      "metadata": {
        "id": "ViyA6KB7mkO1"
      },
      "source": [
        "Además de obtener la predicción determinada por el umbral elegido, podemos obtener un *score* para cada muestra, cuanto más bajo más probabilidad de que sea un *outlier*. Este *score* es independiente de `contamination`.\n",
        "\n",
        "Este *score* es un cálculo en función de la profundidad media de una muestra en los árboles normalizado para un rango. Este cálculo se puede consultar en el [paper original](https://cs.nju.edu.cn/zhouzh/zhouzh.files/publication/icdm08b.pdf?q=isolation-forest)."
      ]
    },
    {
      "cell_type": "code",
      "metadata": {
        "colab": {
          "base_uri": "https://localhost:8080/",
          "height": 450
        },
        "id": "OZYum4Y7mgLb",
        "outputId": "51b60499-e536-4cf1-85d7-cc35c3f55e88"
      },
      "source": [
        "score = forest.score_samples(X)\n",
        "\n",
        "fig, ax = plt.subplots(figsize = (6,5))\n",
        "scatter = plt.scatter(X[:,0], X[:,1], c=score)\n",
        "plt.colorbar(scatter)\n",
        "plt.show()"
      ],
      "execution_count": null,
      "outputs": [
        {
          "output_type": "display_data",
          "data": {
            "text/plain": [
              "<Figure size 600x500 with 2 Axes>"
            ],
            "image/png": "[encoded data removed]"
          },
          "metadata": {}
        }
      ]
    },
    {
      "cell_type": "markdown",
      "metadata": {
        "id": "Z14_gFVCCp56"
      },
      "source": [
        "### Reducción dimensional"
      ]
    },
    {
      "cell_type": "markdown",
      "metadata": {
        "id": "HO71BoLVWBox"
      },
      "source": [
        "#### PCA (Principal Component Analysis)"
      ]
    },
    {
      "cell_type": "markdown",
      "metadata": {
        "id": "LWW4ZGKRXbRw"
      },
      "source": [
        "El análisis de componentes principales o PCA es una técnica muy utilizada de **reducción dimensional**. Es una técnica lineal, es decir, solo captura **relaciones lineales** entre las variables."
      ]
    },
    {
      "cell_type": "markdown",
      "metadata": {
        "id": "J9RBz1VVOJOG"
      },
      "source": [
        "<img width=\"300px\" src=\"https://storage.googleapis.com/jz-example-data/img/varianza-covarianza.png\"></img>"
      ]
    },
    {
      "cell_type": "markdown",
      "metadata": {
        "id": "j5vVEGs5XyUL"
      },
      "source": [
        "La **varianza** de una variable se expresa como:\n",
        "\n",
        "$\\sigma^2_x = \\sum^n_{i=1}\\frac{(x_i - \\overline{x})^2}{n - 1}$\n",
        "\n",
        "Notas:\n",
        "- La varianza es siempre positiva.\n",
        "- Depende de la escala de la variable.\n",
        "- Se puede ver como una medida de la información que contiene una variable. *Una variable constante (varianza cero) no es informativa para un modelo*.\n",
        "\n"
      ]
    },
    {
      "cell_type": "markdown",
      "metadata": {
        "id": "prWc1GcybKC-"
      },
      "source": [
        "Por otro lado la **covarianza está definida entre dos variables**:\n",
        "\n",
        "$s_{xy} = \\sum^n_{i=1}\\frac{(x_i - \\overline{x})(y_i - \\overline{y})}{n-1}$\n",
        "\n",
        "Notas:\n",
        "\n",
        "- La covarianza puede ser positiva o negativa.\n",
        "\n",
        "- Una covarianza mayor que cero indica que las variables tienen una correlación lineal directa (cuando una variable aumenta la otra aumenta también)\n",
        "\n",
        "- Una covarianza menor que cero indicaa lo contrario, cuando una variable aumenta la otra disminuye.\n",
        "\n",
        "- Una covarianza igual a cero indica que no hay correlación lineal entre las dos variables.\n"
      ]
    },
    {
      "cell_type": "markdown",
      "metadata": {
        "id": "wjA9sdxDbn03"
      },
      "source": [
        "La técnica de PCA busca encontrar unos ejes (llamados componentes principales) que consigan que la **covarianza entre cada par de variables sea cero**.\n",
        "\n",
        "Adicionalmente estos ejes se **ordenan de mayor a menor varianza**, siendo los primeros componentes principales los que mayor información contienen."
      ]
    },
    {
      "cell_type": "markdown",
      "metadata": {
        "id": "f5KrQg4gKGOh"
      },
      "source": [
        "<img width=\"600px\" src=\"https://storage.googleapis.com/jz-example-data/img/pca-transformation.png\"></img>"
      ]
    },
    {
      "cell_type": "markdown",
      "metadata": {
        "id": "FS4CQr1aelpW"
      },
      "source": [
        "Una vez definidos estos ejes, podemos **eliminar los componentes principales de menor varianza** para conseguir una reducción dimensional que conserva gran parte de la información original."
      ]
    },
    {
      "cell_type": "markdown",
      "metadata": {
        "id": "evHQGssK1GUc"
      },
      "source": [
        "<img width=\"600px\" src=\"https://storage.googleapis.com/jz-example-data/img/pca-proyeccion.png\"></img>"
      ]
    },
    {
      "cell_type": "markdown",
      "metadata": {
        "id": "5Q-DUBW5fUFn"
      },
      "source": [
        "##### Ejemplo en `sklearn`"
      ]
    },
    {
      "cell_type": "code",
      "metadata": {
        "id": "ubb2pAcofbTk"
      },
      "source": [
        "from sklearn.datasets import load_breast_cancer\n",
        "from sklearn.preprocessing import StandardScaler\n",
        "from sklearn.decomposition import PCA\n",
        "\n",
        "dataset = load_breast_cancer()\n",
        "\n",
        "X = dataset.data\n",
        "\n",
        "# Normalizamos los datos a media 0 y varianza 1, de manera que los componentes\n",
        "# sean comparables.\n",
        "\n",
        "# El método fit transform es una utilidad que combina las operaciones fit y\n",
        "# transform.\n",
        "X_norm = StandardScaler().fit_transform(X)\n",
        "\n",
        "# Construimos y entrenamos el algoritmo.\n",
        "pca = PCA().fit(X_norm)\n",
        "\n",
        "# Calculamos los datos proyectados en los nuevos ejes.\n",
        "X_t = pca.transform(X_norm)"
      ],
      "execution_count": null,
      "outputs": []
    },
    {
      "cell_type": "markdown",
      "metadata": {
        "id": "cgaNoD3aQiZs"
      },
      "source": [
        "Podemos visualizar el porcentaje de varianza explicada por cada componente mediante el atributo `explained_variance_ratio`.\n",
        "\n",
        "Este gráfico se puede interpretar como la información que retenemos del dataset original si únicamente nos quedamos con $n$ componentes."
      ]
    },
    {
      "cell_type": "code",
      "metadata": {
        "colab": {
          "base_uri": "https://localhost:8080/",
          "height": 388
        },
        "id": "MdAjlC5JOiMu",
        "outputId": "cbcfef91-2972-495e-9ee8-acb776dd5615"
      },
      "source": [
        "fig, ax = plt.subplots(figsize = (10, 4))\n",
        "ax.set_ylabel(\"% varianza explicada acumulada\")\n",
        "ax.set_xlabel(\"Componente\")\n",
        "ax.bar(\n",
        "    [f\"{i + 1}\" for i in range(pca.n_components_)],\n",
        "    np.cumsum(pca.explained_variance_ratio_),\n",
        "    alpha = 0.6\n",
        ")\n",
        "plt.show()"
      ],
      "execution_count": null,
      "outputs": [
        {
          "output_type": "display_data",
          "data": {
            "text/plain": [
              "<Figure size 1000x400 with 1 Axes>"
            ],
            "image/png": "[encoded data removed]"
          },
          "metadata": {}
        }
      ]
    },
    {
      "cell_type": "markdown",
      "metadata": {
        "id": "0vBWwqd9Q2H3"
      },
      "source": [
        "En este caso, con el primer componente ya nos quedamos con aproximadamente un 42% de la información.\n",
        "\n",
        "Si cogemos 15 componentes ya tendríamos prácticamente toda la información explicada. Esto quiere decir que si entrenamos un clasificador con únicamente las 15 primeras columnas del dataset transformado debería tener una *performance* similar a entrenarlo con las 30 columnas de los datos originales, con lo que habríamos reducido la dimensionalidad a la mitad."
      ]
    },
    {
      "cell_type": "markdown",
      "metadata": {
        "id": "mmRAo1wTRZC6"
      },
      "source": [
        "También podemos obtener del objeto entrenado los *componentes*, que representan las direcciones de los nuevos ejes creados. También se puede interpretar como el peso que tiene cada variable original sobre cada variable transformada."
      ]
    },
    {
      "cell_type": "code",
      "metadata": {
        "colab": {
          "base_uri": "https://localhost:8080/"
        },
        "id": "kLCdJ2qJRYVd",
        "outputId": "47a687a8-6f80-43ff-c733-a4cca73df051"
      },
      "source": [
        "pca.components_[:, 0]"
      ],
      "execution_count": null,
      "outputs": [
        {
          "output_type": "execute_result",
          "data": {
            "text/plain": [
              "array([ 0.21890244, -0.23385713, -0.00853124,  0.04140896,  0.03778635,\n",
              "        0.01874079, -0.12408834, -0.0074523 , -0.22310976,  0.09548644,\n",
              "        0.04147149,  0.05106746,  0.01196721,  0.05950613,  0.05111877,\n",
              "       -0.15058388,  0.20292425,  0.14671234, -0.22538466, -0.04969866,\n",
              "       -0.06857001,  0.0729289 , -0.09855269,  0.18257944,  0.0192265 ,\n",
              "       -0.1294764 , -0.13152667,  0.21119401,  0.21146046, -0.70241409])"
            ]
          },
          "metadata": {},
          "execution_count": 26
        }
      ]
    },
    {
      "cell_type": "markdown",
      "metadata": {
        "id": "vfDIaKRpNkud"
      },
      "source": [
        "## Utilidades de Python"
      ]
    },
    {
      "cell_type": "markdown",
      "metadata": {
        "id": "_whl4pbuNxU3"
      },
      "source": [
        "**f-strings**\n",
        "\n",
        "Las [f-strings](https://realpython.com/python-f-strings/) son una funcionalidad que se añadió a `Python3.6` que permite formatear un *string* de una manera sencilla.\n",
        "\n",
        "Para que se muestre una variable en el texto sólo es necesario poner una `f` delante del string y el nombre de la variable entre corchetes `{}`.\n",
        "\n",
        "Además cuentan con una sintaxis para poder definir el número de decimales a mostrar o el número de cifras.\n"
      ]
    },
    {
      "cell_type": "code",
      "metadata": {
        "colab": {
          "base_uri": "https://localhost:8080/"
        },
        "id": "-fhnNL-wP5vE",
        "outputId": "93c748af-3858-4407-a9e9-44c8c8dc7da4"
      },
      "source": [
        "variable = \"Hola\"\n",
        "print(f\"{variable} mundo!\")\n",
        "\n",
        "numero = 1.53424\n",
        "print(f\"El numero es {numero}.\")\n",
        "print(f\"El numero con dos decimales es {numero:.2f}.\")"
      ],
      "execution_count": null,
      "outputs": [
        {
          "output_type": "stream",
          "name": "stdout",
          "text": [
            "Hola mundo!\n",
            "El numero es 1.53424.\n",
            "El numero con dos decimales es 1.53.\n"
          ]
        }
      ]
    },
    {
      "cell_type": "markdown",
      "metadata": {
        "id": "UxTWiCguRj1Y"
      },
      "source": [
        "**zip**"
      ]
    },
    {
      "cell_type": "markdown",
      "metadata": {
        "id": "5PNQ088NWen0"
      },
      "source": [
        "La función `zip` es muy común en la programación en Python. Sirve para iterar sobre listas del mismo tamaño tomando en cada iteración un elemento de cada una de ellas."
      ]
    },
    {
      "cell_type": "code",
      "metadata": {
        "colab": {
          "base_uri": "https://localhost:8080/"
        },
        "id": "CDD3e_Y6WLaL",
        "outputId": "285e7b87-1373-4b29-fa99-72a1e2e943ab"
      },
      "source": [
        "lista_1 = [1, 2, 3, 4]\n",
        "lista_2 = [\"a\", \"b\", \"c\", \"d\"]\n",
        "lista_3 = [(1, 2), (3, 4), (5, 6), (7, 8)]\n",
        "\n",
        "for item_1, item_2, item_3 in zip(lista_1, lista_2, lista_3):\n",
        "  print(item_1, item_2, item_3)"
      ],
      "execution_count": null,
      "outputs": [
        {
          "output_type": "stream",
          "name": "stdout",
          "text": [
            "1 a (1, 2)\n",
            "2 b (3, 4)\n",
            "3 c (5, 6)\n",
            "4 d (7, 8)\n"
          ]
        }
      ]
    },
    {
      "cell_type": "markdown",
      "metadata": {
        "id": "Iou4BRQXNuYT"
      },
      "source": [
        "**pipelines**"
      ]
    },
    {
      "cell_type": "markdown",
      "metadata": {
        "id": "Lr2lfpe2Q2UA"
      },
      "source": [
        "Los [pipelines](https://scikit-learn.org/stable/modules/generated/sklearn.pipeline.Pipeline.html) en sklearn son una utilidad para agrupar transformaciones y algoritmos en un solo objeto y poder trabajar con ellos con mayor facilidad.\n",
        "\n",
        "Permite *encadenar* un número arbitrario de transformaciones y un estimador final (cualquier algoritmo con método `predict`) para facilitar la estructura de código.\n",
        "\n",
        "Esto es útil sobre todo en aplicaciones más avanzadas con optimización de hiperparámetros o selección automática de variables."
      ]
    },
    {
      "cell_type": "code",
      "metadata": {
        "id": "w_WcFbGcWoBB",
        "outputId": "6113e3a9-b91b-4e14-b5c5-4c199c8827f8",
        "colab": {
          "base_uri": "https://localhost:8080/"
        }
      },
      "source": [
        "from sklearn.preprocessing import MinMaxScaler\n",
        "from sklearn.decomposition import PCA\n",
        "from sklearn.cluster import KMeans\n",
        "from sklearn.pipeline import Pipeline\n",
        "from sklearn.datasets import load_iris\n",
        "\n",
        "# Cargamos en memoria la tabla de atributos de iris\n",
        "X = load_iris().data\n",
        "\n",
        "# Definimos nuestra `pipeline`.\n",
        "# Queremos:\n",
        "#  - Normalizar todas las columnas entre 0 y 1.\n",
        "#  - Calcular las componentes principales y quedarnos con las 2 primeras.\n",
        "#  - Hacer un clustering utilizando esas 2 componentes principales.\n",
        "\n",
        "pipeline = Pipeline([\n",
        "  ('normalizacion', MinMaxScaler(feature_range=(0, 1))),\n",
        "  ('pca', PCA(n_components=2)),\n",
        "  ('cluster', KMeans(n_clusters=3))\n",
        "])\n",
        "\n",
        "# Al llamar al método fit, internamente el código va a llamar al método fit\n",
        "# de cada uno de los pasos, y le va a pasar al siguiente el valor de X\n",
        "# transformado por el anterior para volver a llamar a fit.\n",
        "\n",
        "pipeline.fit(X)\n",
        "\n",
        "# Cuando llamemos al método predict, la tabla de datos va a ser transformada por\n",
        "# el método transform de cada transformación y finalmente por el predict del\n",
        "# estimador final.\n",
        "\n",
        "cluster_labels = pipeline.predict(X)"
      ],
      "execution_count": null,
      "outputs": [
        {
          "output_type": "stream",
          "name": "stderr",
          "text": [
            "/usr/local/lib/python3.10/dist-packages/sklearn/cluster/_kmeans.py:870: FutureWarning: The default value of `n_init` will change from 10 to 'auto' in 1.4. Set the value of `n_init` explicitly to suppress the warning\n",
            "  warnings.warn(\n"
          ]
        }
      ]
    },
    {
      "cell_type": "markdown",
      "metadata": {
        "id": "wEKRVyn5qkli"
      },
      "source": [
        "## Ejercicio práctico"
      ]
    },
    {
      "cell_type": "markdown",
      "metadata": {
        "id": "2SUrqaOGul2J"
      },
      "source": [
        "Una empresa de *retail* quiere categorizar su oferta de vinos blancos en 5 grupos, de manera que a los clientes les sea más fácil identificar vinos nuevos similares o los que ya les gustan.\n",
        "\n",
        "Para ello cuentan con un dataset que contiene un vino de la oferta por cada fila y sus propiedades químicas por columnas, además de una columna con su calidad, que, en principio, no quieren que afecte a la agrupación ya que consideran que es una medida subjetiva.\n",
        "\n",
        "Además de la agrupación, quieren tener un vino de referencia que represente la esencia de cada una de las categorias."
      ]
    },
    {
      "cell_type": "code",
      "metadata": {
        "colab": {
          "base_uri": "https://localhost:8080/",
          "height": 206
        },
        "id": "mWjEEGb_hiIG",
        "outputId": "aa7bf43a-2330-45bc-8dfe-96a2ded8d8e8"
      },
      "source": [
        "DATA_URL = \"https://storage.googleapis.com/jz-example-data/winequality-white.csv\"\n",
        "wine_data = pd.read_csv(DATA_URL, sep = \";\")\n",
        "wine_data.head()"
      ],
      "execution_count": null,
      "outputs": [
        {
          "output_type": "execute_result",
          "data": {
            "text/plain": [
              "   fixed acidity  volatile acidity  citric acid  residual sugar  chlorides  \\\n",
              "0            7.0              0.27         0.36            20.7      0.045   \n",
              "1            6.3              0.30         0.34             1.6      0.049   \n",
              "2            8.1              0.28         0.40             6.9      0.050   \n",
              "3            7.2              0.23         0.32             8.5      0.058   \n",
              "4            7.2              0.23         0.32             8.5      0.058   \n",
              "\n",
              "   free sulfur dioxide  total sulfur dioxide  density    pH  sulphates  \\\n",
              "0                 45.0                 170.0   1.0010  3.00       0.45   \n",
              "1                 14.0                 132.0   0.9940  3.30       0.49   \n",
              "2                 30.0                  97.0   0.9951  3.26       0.44   \n",
              "3                 47.0                 186.0   0.9956  3.19       0.40   \n",
              "4                 47.0                 186.0   0.9956  3.19       0.40   \n",
              "\n",
              "   alcohol  quality  \n",
              "0      8.8        6  \n",
              "1      9.5        6  \n",
              "2     10.1        6  \n",
              "3      9.9        6  \n",
              "4      9.9        6  "
            ],
            "text/html": [
              "\n",
              "  <div id=\"df-a19c0911-6c21-4f8e-9fdf-f723b92d077b\" class=\"colab-df-container\">\n",
              "    <div>\n",
              "<style scoped>\n",
              "    .dataframe tbody tr th:only-of-type {\n",
              "        vertical-align: middle;\n",
              "    }\n",
              "\n",
              "    .dataframe tbody tr th {\n",
              "        vertical-align: top;\n",
              "    }\n",
              "\n",
              "    .dataframe thead th {\n",
              "        text-align: right;\n",
              "    }\n",
              "</style>\n",
              "<table border=\"1\" class=\"dataframe\">\n",
              "  <thead>\n",
              "    <tr style=\"text-align: right;\">\n",
              "      <th></th>\n",
              "      <th>fixed acidity</th>\n",
              "      <th>volatile acidity</th>\n",
              "      <th>citric acid</th>\n",
              "      <th>residual sugar</th>\n",
              "      <th>chlorides</th>\n",
              "      <th>free sulfur dioxide</th>\n",
              "      <th>total sulfur dioxide</th>\n",
              "      <th>density</th>\n",
              "      <th>pH</th>\n",
              "      <th>sulphates</th>\n",
              "      <th>alcohol</th>\n",
              "      <th>quality</th>\n",
              "    </tr>\n",
              "  </thead>\n",
              "  <tbody>\n",
              "    <tr>\n",
              "      <th>0</th>\n",
              "      <td>7.0</td>\n",
              "      <td>0.27</td>\n",
              "      <td>0.36</td>\n",
              "      <td>20.7</td>\n",
              "      <td>0.045</td>\n",
              "      <td>45.0</td>\n",
              "      <td>170.0</td>\n",
              "      <td>1.0010</td>\n",
              "      <td>3.00</td>\n",
              "      <td>0.45</td>\n",
              "      <td>8.8</td>\n",
              "      <td>6</td>\n",
              "    </tr>\n",
              "    <tr>\n",
              "      <th>1</th>\n",
              "      <td>6.3</td>\n",
              "      <td>0.30</td>\n",
              "      <td>0.34</td>\n",
              "      <td>1.6</td>\n",
              "      <td>0.049</td>\n",
              "      <td>14.0</td>\n",
              "      <td>132.0</td>\n",
              "      <td>0.9940</td>\n",
              "      <td>3.30</td>\n",
              "      <td>0.49</td>\n",
              "      <td>9.5</td>\n",
              "      <td>6</td>\n",
              "    </tr>\n",
              "    <tr>\n",
              "      <th>2</th>\n",
              "      <td>8.1</td>\n",
              "      <td>0.28</td>\n",
              "      <td>0.40</td>\n",
              "      <td>6.9</td>\n",
              "      <td>0.050</td>\n",
              "      <td>30.0</td>\n",
              "      <td>97.0</td>\n",
              "      <td>0.9951</td>\n",
              "      <td>3.26</td>\n",
              "      <td>0.44</td>\n",
              "      <td>10.1</td>\n",
              "      <td>6</td>\n",
              "    </tr>\n",
              "    <tr>\n",
              "      <th>3</th>\n",
              "      <td>7.2</td>\n",
              "      <td>0.23</td>\n",
              "      <td>0.32</td>\n",
              "      <td>8.5</td>\n",
              "      <td>0.058</td>\n",
              "      <td>47.0</td>\n",
              "      <td>186.0</td>\n",
              "      <td>0.9956</td>\n",
              "      <td>3.19</td>\n",
              "      <td>0.40</td>\n",
              "      <td>9.9</td>\n",
              "      <td>6</td>\n",
              "    </tr>\n",
              "    <tr>\n",
              "      <th>4</th>\n",
              "      <td>7.2</td>\n",
              "      <td>0.23</td>\n",
              "      <td>0.32</td>\n",
              "      <td>8.5</td>\n",
              "      <td>0.058</td>\n",
              "      <td>47.0</td>\n",
              "      <td>186.0</td>\n",
              "      <td>0.9956</td>\n",
              "      <td>3.19</td>\n",
              "      <td>0.40</td>\n",
              "      <td>9.9</td>\n",
              "      <td>6</td>\n",
              "    </tr>\n",
              "  </tbody>\n",
              "</table>\n",
              "</div>\n",
              "    <div class=\"colab-df-buttons\">\n",
              "\n",
              "  <div class=\"colab-df-container\">\n",
              "    <button class=\"colab-df-convert\" onclick=\"convertToInteractive('df-a19c0911-6c21-4f8e-9fdf-f723b92d077b')\"\n",
              "            title=\"Convert this dataframe to an interactive table.\"\n",
              "            style=\"display:none;\">\n",
              "\n",
              "  <svg xmlns=\"http://www.w3.org/2000/svg\" height=\"24px\" viewBox=\"0 -960 960 960\">\n",
              "    <path d=\"M120-120v-720h720v720H120Zm60-500h600v-160H180v160Zm220 220h160v-160H400v160Zm0 220h160v-160H400v160ZM180-400h160v-160H180v160Zm440 0h160v-160H620v160ZM180-180h160v-160H180v160Zm440 0h160v-160H620v160Z\"/>\n",
              "  </svg>\n",
              "    </button>\n",
              "\n",
              "  <style>\n",
              "    .colab-df-container {\n",
              "      display:flex;\n",
              "      gap: 12px;\n",
              "    }\n",
              "\n",
              "    .colab-df-convert {\n",
              "      background-color: #E8F0FE;\n",
              "      border: none;\n",
              "      border-radius: 50%;\n",
              "      cursor: pointer;\n",
              "      display: none;\n",
              "      fill: #1967D2;\n",
              "      height: 32px;\n",
              "      padding: 0 0 0 0;\n",
              "      width: 32px;\n",
              "    }\n",
              "\n",
              "    .colab-df-convert:hover {\n",
              "      background-color: #E2EBFA;\n",
              "      box-shadow: 0px 1px 2px rgba(60, 64, 67, 0.3), 0px 1px 3px 1px rgba(60, 64, 67, 0.15);\n",
              "      fill: #174EA6;\n",
              "    }\n",
              "\n",
              "    .colab-df-buttons div {\n",
              "      margin-bottom: 4px;\n",
              "    }\n",
              "\n",
              "    [theme=dark] .colab-df-convert {\n",
              "      background-color: #3B4455;\n",
              "      fill: #D2E3FC;\n",
              "    }\n",
              "\n",
              "    [theme=dark] .colab-df-convert:hover {\n",
              "      background-color: #434B5C;\n",
              "      box-shadow: 0px 1px 3px 1px rgba(0, 0, 0, 0.15);\n",
              "      filter: drop-shadow(0px 1px 2px rgba(0, 0, 0, 0.3));\n",
              "      fill: #FFFFFF;\n",
              "    }\n",
              "  </style>\n",
              "\n",
              "    <script>\n",
              "      const buttonEl =\n",
              "        document.querySelector('#df-a19c0911-6c21-4f8e-9fdf-f723b92d077b button.colab-df-convert');\n",
              "      buttonEl.style.display =\n",
              "        google.colab.kernel.accessAllowed ? 'block' : 'none';\n",
              "\n",
              "      async function convertToInteractive(key) {\n",
              "        const element = document.querySelector('#df-a19c0911-6c21-4f8e-9fdf-f723b92d077b');\n",
              "        const dataTable =\n",
              "          await google.colab.kernel.invokeFunction('convertToInteractive',\n",
              "                                                    [key], {});\n",
              "        if (!dataTable) return;\n",
              "\n",
              "        const docLinkHtml = 'Like what you see? Visit the ' +\n",
              "          '<a target=\"_blank\" href=https://colab.research.google.com/notebooks/data_table.ipynb>data table notebook</a>'\n",
              "          + ' to learn more about interactive tables.';\n",
              "        element.innerHTML = '';\n",
              "        dataTable['output_type'] = 'display_data';\n",
              "        await google.colab.output.renderOutput(dataTable, element);\n",
              "        const docLink = document.createElement('div');\n",
              "        docLink.innerHTML = docLinkHtml;\n",
              "        element.appendChild(docLink);\n",
              "      }\n",
              "    </script>\n",
              "  </div>\n",
              "\n",
              "\n",
              "<div id=\"df-2a15c267-7c04-4ffa-bedc-cf64be398b29\">\n",
              "  <button class=\"colab-df-quickchart\" onclick=\"quickchart('df-2a15c267-7c04-4ffa-bedc-cf64be398b29')\"\n",
              "            title=\"Suggest charts\"\n",
              "            style=\"display:none;\">\n",
              "\n",
              "<svg xmlns=\"http://www.w3.org/2000/svg\" height=\"24px\"viewBox=\"0 0 24 24\"\n",
              "     width=\"24px\">\n",
              "    <g>\n",
              "        <path d=\"M19 3H5c-1.1 0-2 .9-2 2v14c0 1.1.9 2 2 2h14c1.1 0 2-.9 2-2V5c0-1.1-.9-2-2-2zM9 17H7v-7h2v7zm4 0h-2V7h2v10zm4 0h-2v-4h2v4z\"/>\n",
              "    </g>\n",
              "</svg>\n",
              "  </button>\n",
              "\n",
              "<style>\n",
              "  .colab-df-quickchart {\n",
              "      --bg-color: #E8F0FE;\n",
              "      --fill-color: #1967D2;\n",
              "      --hover-bg-color: #E2EBFA;\n",
              "      --hover-fill-color: #174EA6;\n",
              "      --disabled-fill-color: #AAA;\n",
              "      --disabled-bg-color: #DDD;\n",
              "  }\n",
              "\n",
              "  [theme=dark] .colab-df-quickchart {\n",
              "      --bg-color: #3B4455;\n",
              "      --fill-color: #D2E3FC;\n",
              "      --hover-bg-color: #434B5C;\n",
              "      --hover-fill-color: #FFFFFF;\n",
              "      --disabled-bg-color: #3B4455;\n",
              "      --disabled-fill-color: #666;\n",
              "  }\n",
              "\n",
              "  .colab-df-quickchart {\n",
              "    background-color: var(--bg-color);\n",
              "    border: none;\n",
              "    border-radius: 50%;\n",
              "    cursor: pointer;\n",
              "    display: none;\n",
              "    fill: var(--fill-color);\n",
              "    height: 32px;\n",
              "    padding: 0;\n",
              "    width: 32px;\n",
              "  }\n",
              "\n",
              "  .colab-df-quickchart:hover {\n",
              "    background-color: var(--hover-bg-color);\n",
              "    box-shadow: 0 1px 2px rgba(60, 64, 67, 0.3), 0 1px 3px 1px rgba(60, 64, 67, 0.15);\n",
              "    fill: var(--button-hover-fill-color);\n",
              "  }\n",
              "\n",
              "  .colab-df-quickchart-complete:disabled,\n",
              "  .colab-df-quickchart-complete:disabled:hover {\n",
              "    background-color: var(--disabled-bg-color);\n",
              "    fill: var(--disabled-fill-color);\n",
              "    box-shadow: none;\n",
              "  }\n",
              "\n",
              "  .colab-df-spinner {\n",
              "    border: 2px solid var(--fill-color);\n",
              "    border-color: transparent;\n",
              "    border-bottom-color: var(--fill-color);\n",
              "    animation:\n",
              "      spin 1s steps(1) infinite;\n",
              "  }\n",
              "\n",
              "  @keyframes spin {\n",
              "    0% {\n",
              "      border-color: transparent;\n",
              "      border-bottom-color: var(--fill-color);\n",
              "      border-left-color: var(--fill-color);\n",
              "    }\n",
              "    20% {\n",
              "      border-color: transparent;\n",
              "      border-left-color: var(--fill-color);\n",
              "      border-top-color: var(--fill-color);\n",
              "    }\n",
              "    30% {\n",
              "      border-color: transparent;\n",
              "      border-left-color: var(--fill-color);\n",
              "      border-top-color: var(--fill-color);\n",
              "      border-right-color: var(--fill-color);\n",
              "    }\n",
              "    40% {\n",
              "      border-color: transparent;\n",
              "      border-right-color: var(--fill-color);\n",
              "      border-top-color: var(--fill-color);\n",
              "    }\n",
              "    60% {\n",
              "      border-color: transparent;\n",
              "      border-right-color: var(--fill-color);\n",
              "    }\n",
              "    80% {\n",
              "      border-color: transparent;\n",
              "      border-right-color: var(--fill-color);\n",
              "      border-bottom-color: var(--fill-color);\n",
              "    }\n",
              "    90% {\n",
              "      border-color: transparent;\n",
              "      border-bottom-color: var(--fill-color);\n",
              "    }\n",
              "  }\n",
              "</style>\n",
              "\n",
              "  <script>\n",
              "    async function quickchart(key) {\n",
              "      const quickchartButtonEl =\n",
              "        document.querySelector('#' + key + ' button');\n",
              "      quickchartButtonEl.disabled = true;  // To prevent multiple clicks.\n",
              "      quickchartButtonEl.classList.add('colab-df-spinner');\n",
              "      try {\n",
              "        const charts = await google.colab.kernel.invokeFunction(\n",
              "            'suggestCharts', [key], {});\n",
              "      } catch (error) {\n",
              "        console.error('Error during call to suggestCharts:', error);\n",
              "      }\n",
              "      quickchartButtonEl.classList.remove('colab-df-spinner');\n",
              "      quickchartButtonEl.classList.add('colab-df-quickchart-complete');\n",
              "    }\n",
              "    (() => {\n",
              "      let quickchartButtonEl =\n",
              "        document.querySelector('#df-2a15c267-7c04-4ffa-bedc-cf64be398b29 button');\n",
              "      quickchartButtonEl.style.display =\n",
              "        google.colab.kernel.accessAllowed ? 'block' : 'none';\n",
              "    })();\n",
              "  </script>\n",
              "</div>\n",
              "    </div>\n",
              "  </div>\n"
            ]
          },
          "metadata": {},
          "execution_count": 30
        }
      ]
    },
    {
      "cell_type": "markdown",
      "metadata": {
        "id": "EfaRfsFGqDsz"
      },
      "source": [
        "### Solución"
      ]
    },
    {
      "cell_type": "markdown",
      "metadata": {
        "id": "wpbKeNgNqULW"
      },
      "source": [
        "Dada la formulación del ejercicio parece claro que el problema se puede resolver con un *algoritmo de clustering*.\n",
        "\n",
        "Como quieren obtener 5 categorias de vinos vamos a hacer una *clusterización con 5 grupos*.\n",
        "\n",
        "Así mismo, dicen que quieren que haya un vino que represente al cluster, por lo que nos tendríamos que ir a un modelo cuyos *centroides correspondan con observaciones de la realidad, es decir, k-medoids*."
      ]
    },
    {
      "cell_type": "markdown",
      "metadata": {
        "id": "c0d6ctYGrNK1"
      },
      "source": [
        "Si observamos los datos, vemos que cada una de las columnas son propiedades químicas, pero también tenmos la calidad en la columna `quality` por lo que antes de entrenar la clusterización la eliminamos."
      ]
    },
    {
      "cell_type": "code",
      "metadata": {
        "colab": {
          "base_uri": "https://localhost:8080/",
          "height": 206
        },
        "id": "Qlhcj9z2qC5D",
        "outputId": "5a56b3e1-10e3-4839-c4d5-1c558d0e34a3"
      },
      "source": [
        "# Eliminamos la columna `quality` y nos guardamos el resultado en X\n",
        "X = wine_data.drop(\"quality\", axis = 1)\n",
        "X.head()"
      ],
      "execution_count": null,
      "outputs": [
        {
          "output_type": "execute_result",
          "data": {
            "text/plain": [
              "   fixed acidity  volatile acidity  citric acid  residual sugar  chlorides  \\\n",
              "0            7.0              0.27         0.36            20.7      0.045   \n",
              "1            6.3              0.30         0.34             1.6      0.049   \n",
              "2            8.1              0.28         0.40             6.9      0.050   \n",
              "3            7.2              0.23         0.32             8.5      0.058   \n",
              "4            7.2              0.23         0.32             8.5      0.058   \n",
              "\n",
              "   free sulfur dioxide  total sulfur dioxide  density    pH  sulphates  \\\n",
              "0                 45.0                 170.0   1.0010  3.00       0.45   \n",
              "1                 14.0                 132.0   0.9940  3.30       0.49   \n",
              "2                 30.0                  97.0   0.9951  3.26       0.44   \n",
              "3                 47.0                 186.0   0.9956  3.19       0.40   \n",
              "4                 47.0                 186.0   0.9956  3.19       0.40   \n",
              "\n",
              "   alcohol  \n",
              "0      8.8  \n",
              "1      9.5  \n",
              "2     10.1  \n",
              "3      9.9  \n",
              "4      9.9  "
            ],
            "text/html": [
              "\n",
              "  <div id=\"df-d5432599-2a7b-4a28-896f-442ae5bd922e\" class=\"colab-df-container\">\n",
              "    <div>\n",
              "<style scoped>\n",
              "    .dataframe tbody tr th:only-of-type {\n",
              "        vertical-align: middle;\n",
              "    }\n",
              "\n",
              "    .dataframe tbody tr th {\n",
              "        vertical-align: top;\n",
              "    }\n",
              "\n",
              "    .dataframe thead th {\n",
              "        text-align: right;\n",
              "    }\n",
              "</style>\n",
              "<table border=\"1\" class=\"dataframe\">\n",
              "  <thead>\n",
              "    <tr style=\"text-align: right;\">\n",
              "      <th></th>\n",
              "      <th>fixed acidity</th>\n",
              "      <th>volatile acidity</th>\n",
              "      <th>citric acid</th>\n",
              "      <th>residual sugar</th>\n",
              "      <th>chlorides</th>\n",
              "      <th>free sulfur dioxide</th>\n",
              "      <th>total sulfur dioxide</th>\n",
              "      <th>density</th>\n",
              "      <th>pH</th>\n",
              "      <th>sulphates</th>\n",
              "      <th>alcohol</th>\n",
              "    </tr>\n",
              "  </thead>\n",
              "  <tbody>\n",
              "    <tr>\n",
              "      <th>0</th>\n",
              "      <td>7.0</td>\n",
              "      <td>0.27</td>\n",
              "      <td>0.36</td>\n",
              "      <td>20.7</td>\n",
              "      <td>0.045</td>\n",
              "      <td>45.0</td>\n",
              "      <td>170.0</td>\n",
              "      <td>1.0010</td>\n",
              "      <td>3.00</td>\n",
              "      <td>0.45</td>\n",
              "      <td>8.8</td>\n",
              "    </tr>\n",
              "    <tr>\n",
              "      <th>1</th>\n",
              "      <td>6.3</td>\n",
              "      <td>0.30</td>\n",
              "      <td>0.34</td>\n",
              "      <td>1.6</td>\n",
              "      <td>0.049</td>\n",
              "      <td>14.0</td>\n",
              "      <td>132.0</td>\n",
              "      <td>0.9940</td>\n",
              "      <td>3.30</td>\n",
              "      <td>0.49</td>\n",
              "      <td>9.5</td>\n",
              "    </tr>\n",
              "    <tr>\n",
              "      <th>2</th>\n",
              "      <td>8.1</td>\n",
              "      <td>0.28</td>\n",
              "      <td>0.40</td>\n",
              "      <td>6.9</td>\n",
              "      <td>0.050</td>\n",
              "      <td>30.0</td>\n",
              "      <td>97.0</td>\n",
              "      <td>0.9951</td>\n",
              "      <td>3.26</td>\n",
              "      <td>0.44</td>\n",
              "      <td>10.1</td>\n",
              "    </tr>\n",
              "    <tr>\n",
              "      <th>3</th>\n",
              "      <td>7.2</td>\n",
              "      <td>0.23</td>\n",
              "      <td>0.32</td>\n",
              "      <td>8.5</td>\n",
              "      <td>0.058</td>\n",
              "      <td>47.0</td>\n",
              "      <td>186.0</td>\n",
              "      <td>0.9956</td>\n",
              "      <td>3.19</td>\n",
              "      <td>0.40</td>\n",
              "      <td>9.9</td>\n",
              "    </tr>\n",
              "    <tr>\n",
              "      <th>4</th>\n",
              "      <td>7.2</td>\n",
              "      <td>0.23</td>\n",
              "      <td>0.32</td>\n",
              "      <td>8.5</td>\n",
              "      <td>0.058</td>\n",
              "      <td>47.0</td>\n",
              "      <td>186.0</td>\n",
              "      <td>0.9956</td>\n",
              "      <td>3.19</td>\n",
              "      <td>0.40</td>\n",
              "      <td>9.9</td>\n",
              "    </tr>\n",
              "  </tbody>\n",
              "</table>\n",
              "</div>\n",
              "    <div class=\"colab-df-buttons\">\n",
              "\n",
              "  <div class=\"colab-df-container\">\n",
              "    <button class=\"colab-df-convert\" onclick=\"convertToInteractive('df-d5432599-2a7b-4a28-896f-442ae5bd922e')\"\n",
              "            title=\"Convert this dataframe to an interactive table.\"\n",
              "            style=\"display:none;\">\n",
              "\n",
              "  <svg xmlns=\"http://www.w3.org/2000/svg\" height=\"24px\" viewBox=\"0 -960 960 960\">\n",
              "    <path d=\"M120-120v-720h720v720H120Zm60-500h600v-160H180v160Zm220 220h160v-160H400v160Zm0 220h160v-160H400v160ZM180-400h160v-160H180v160Zm440 0h160v-160H620v160ZM180-180h160v-160H180v160Zm440 0h160v-160H620v160Z\"/>\n",
              "  </svg>\n",
              "    </button>\n",
              "\n",
              "  <style>\n",
              "    .colab-df-container {\n",
              "      display:flex;\n",
              "      gap: 12px;\n",
              "    }\n",
              "\n",
              "    .colab-df-convert {\n",
              "      background-color: #E8F0FE;\n",
              "      border: none;\n",
              "      border-radius: 50%;\n",
              "      cursor: pointer;\n",
              "      display: none;\n",
              "      fill: #1967D2;\n",
              "      height: 32px;\n",
              "      padding: 0 0 0 0;\n",
              "      width: 32px;\n",
              "    }\n",
              "\n",
              "    .colab-df-convert:hover {\n",
              "      background-color: #E2EBFA;\n",
              "      box-shadow: 0px 1px 2px rgba(60, 64, 67, 0.3), 0px 1px 3px 1px rgba(60, 64, 67, 0.15);\n",
              "      fill: #174EA6;\n",
              "    }\n",
              "\n",
              "    .colab-df-buttons div {\n",
              "      margin-bottom: 4px;\n",
              "    }\n",
              "\n",
              "    [theme=dark] .colab-df-convert {\n",
              "      background-color: #3B4455;\n",
              "      fill: #D2E3FC;\n",
              "    }\n",
              "\n",
              "    [theme=dark] .colab-df-convert:hover {\n",
              "      background-color: #434B5C;\n",
              "      box-shadow: 0px 1px 3px 1px rgba(0, 0, 0, 0.15);\n",
              "      filter: drop-shadow(0px 1px 2px rgba(0, 0, 0, 0.3));\n",
              "      fill: #FFFFFF;\n",
              "    }\n",
              "  </style>\n",
              "\n",
              "    <script>\n",
              "      const buttonEl =\n",
              "        document.querySelector('#df-d5432599-2a7b-4a28-896f-442ae5bd922e button.colab-df-convert');\n",
              "      buttonEl.style.display =\n",
              "        google.colab.kernel.accessAllowed ? 'block' : 'none';\n",
              "\n",
              "      async function convertToInteractive(key) {\n",
              "        const element = document.querySelector('#df-d5432599-2a7b-4a28-896f-442ae5bd922e');\n",
              "        const dataTable =\n",
              "          await google.colab.kernel.invokeFunction('convertToInteractive',\n",
              "                                                    [key], {});\n",
              "        if (!dataTable) return;\n",
              "\n",
              "        const docLinkHtml = 'Like what you see? Visit the ' +\n",
              "          '<a target=\"_blank\" href=https://colab.research.google.com/notebooks/data_table.ipynb>data table notebook</a>'\n",
              "          + ' to learn more about interactive tables.';\n",
              "        element.innerHTML = '';\n",
              "        dataTable['output_type'] = 'display_data';\n",
              "        await google.colab.output.renderOutput(dataTable, element);\n",
              "        const docLink = document.createElement('div');\n",
              "        docLink.innerHTML = docLinkHtml;\n",
              "        element.appendChild(docLink);\n",
              "      }\n",
              "    </script>\n",
              "  </div>\n",
              "\n",
              "\n",
              "<div id=\"df-2b87e41b-2dec-41cf-a87d-2c10c0390473\">\n",
              "  <button class=\"colab-df-quickchart\" onclick=\"quickchart('df-2b87e41b-2dec-41cf-a87d-2c10c0390473')\"\n",
              "            title=\"Suggest charts\"\n",
              "            style=\"display:none;\">\n",
              "\n",
              "<svg xmlns=\"http://www.w3.org/2000/svg\" height=\"24px\"viewBox=\"0 0 24 24\"\n",
              "     width=\"24px\">\n",
              "    <g>\n",
              "        <path d=\"M19 3H5c-1.1 0-2 .9-2 2v14c0 1.1.9 2 2 2h14c1.1 0 2-.9 2-2V5c0-1.1-.9-2-2-2zM9 17H7v-7h2v7zm4 0h-2V7h2v10zm4 0h-2v-4h2v4z\"/>\n",
              "    </g>\n",
              "</svg>\n",
              "  </button>\n",
              "\n",
              "<style>\n",
              "  .colab-df-quickchart {\n",
              "      --bg-color: #E8F0FE;\n",
              "      --fill-color: #1967D2;\n",
              "      --hover-bg-color: #E2EBFA;\n",
              "      --hover-fill-color: #174EA6;\n",
              "      --disabled-fill-color: #AAA;\n",
              "      --disabled-bg-color: #DDD;\n",
              "  }\n",
              "\n",
              "  [theme=dark] .colab-df-quickchart {\n",
              "      --bg-color: #3B4455;\n",
              "      --fill-color: #D2E3FC;\n",
              "      --hover-bg-color: #434B5C;\n",
              "      --hover-fill-color: #FFFFFF;\n",
              "      --disabled-bg-color: #3B4455;\n",
              "      --disabled-fill-color: #666;\n",
              "  }\n",
              "\n",
              "  .colab-df-quickchart {\n",
              "    background-color: var(--bg-color);\n",
              "    border: none;\n",
              "    border-radius: 50%;\n",
              "    cursor: pointer;\n",
              "    display: none;\n",
              "    fill: var(--fill-color);\n",
              "    height: 32px;\n",
              "    padding: 0;\n",
              "    width: 32px;\n",
              "  }\n",
              "\n",
              "  .colab-df-quickchart:hover {\n",
              "    background-color: var(--hover-bg-color);\n",
              "    box-shadow: 0 1px 2px rgba(60, 64, 67, 0.3), 0 1px 3px 1px rgba(60, 64, 67, 0.15);\n",
              "    fill: var(--button-hover-fill-color);\n",
              "  }\n",
              "\n",
              "  .colab-df-quickchart-complete:disabled,\n",
              "  .colab-df-quickchart-complete:disabled:hover {\n",
              "    background-color: var(--disabled-bg-color);\n",
              "    fill: var(--disabled-fill-color);\n",
              "    box-shadow: none;\n",
              "  }\n",
              "\n",
              "  .colab-df-spinner {\n",
              "    border: 2px solid var(--fill-color);\n",
              "    border-color: transparent;\n",
              "    border-bottom-color: var(--fill-color);\n",
              "    animation:\n",
              "      spin 1s steps(1) infinite;\n",
              "  }\n",
              "\n",
              "  @keyframes spin {\n",
              "    0% {\n",
              "      border-color: transparent;\n",
              "      border-bottom-color: var(--fill-color);\n",
              "      border-left-color: var(--fill-color);\n",
              "    }\n",
              "    20% {\n",
              "      border-color: transparent;\n",
              "      border-left-color: var(--fill-color);\n",
              "      border-top-color: var(--fill-color);\n",
              "    }\n",
              "    30% {\n",
              "      border-color: transparent;\n",
              "      border-left-color: var(--fill-color);\n",
              "      border-top-color: var(--fill-color);\n",
              "      border-right-color: var(--fill-color);\n",
              "    }\n",
              "    40% {\n",
              "      border-color: transparent;\n",
              "      border-right-color: var(--fill-color);\n",
              "      border-top-color: var(--fill-color);\n",
              "    }\n",
              "    60% {\n",
              "      border-color: transparent;\n",
              "      border-right-color: var(--fill-color);\n",
              "    }\n",
              "    80% {\n",
              "      border-color: transparent;\n",
              "      border-right-color: var(--fill-color);\n",
              "      border-bottom-color: var(--fill-color);\n",
              "    }\n",
              "    90% {\n",
              "      border-color: transparent;\n",
              "      border-bottom-color: var(--fill-color);\n",
              "    }\n",
              "  }\n",
              "</style>\n",
              "\n",
              "  <script>\n",
              "    async function quickchart(key) {\n",
              "      const quickchartButtonEl =\n",
              "        document.querySelector('#' + key + ' button');\n",
              "      quickchartButtonEl.disabled = true;  // To prevent multiple clicks.\n",
              "      quickchartButtonEl.classList.add('colab-df-spinner');\n",
              "      try {\n",
              "        const charts = await google.colab.kernel.invokeFunction(\n",
              "            'suggestCharts', [key], {});\n",
              "      } catch (error) {\n",
              "        console.error('Error during call to suggestCharts:', error);\n",
              "      }\n",
              "      quickchartButtonEl.classList.remove('colab-df-spinner');\n",
              "      quickchartButtonEl.classList.add('colab-df-quickchart-complete');\n",
              "    }\n",
              "    (() => {\n",
              "      let quickchartButtonEl =\n",
              "        document.querySelector('#df-2b87e41b-2dec-41cf-a87d-2c10c0390473 button');\n",
              "      quickchartButtonEl.style.display =\n",
              "        google.colab.kernel.accessAllowed ? 'block' : 'none';\n",
              "    })();\n",
              "  </script>\n",
              "</div>\n",
              "    </div>\n",
              "  </div>\n"
            ]
          },
          "metadata": {},
          "execution_count": 31
        }
      ]
    },
    {
      "cell_type": "markdown",
      "metadata": {
        "id": "mpj832pZrqCY"
      },
      "source": [
        "A continuación, vamos a normalizar los datos ya que vienen en distintas escalas, y en principio no tenemos ningún requerimiento de que alguna variable tiene que pesar mas que el resto en la clusterización."
      ]
    },
    {
      "cell_type": "code",
      "metadata": {
        "colab": {
          "base_uri": "https://localhost:8080/"
        },
        "id": "R_PMcPBvr6DK",
        "outputId": "0f50cf6c-1017-4574-9f60-affb88eb13cd"
      },
      "source": [
        "from sklearn.preprocessing import MinMaxScaler\n",
        "\n",
        "# Creamos el objeto encargado de escalar.\n",
        "scaler = MinMaxScaler()\n",
        "\n",
        "# Lo entrenamos y transformamos en el mismo paso, esto sería equivalente\n",
        "# a llamar primero al metodo fit y luego al método transform.\n",
        "X_t = scaler.fit_transform(X)\n",
        "\n",
        "# scaler.fit(X)\n",
        "# X_t = scaler.transform(X)\n",
        "\n",
        "# Hay que tener en cuenta que una vez realizamos la transformación dejamos\n",
        "# de tener un DataFrame de pandas y se convierte en una matriz directamente.\n",
        "X_t"
      ],
      "execution_count": null,
      "outputs": [
        {
          "output_type": "execute_result",
          "data": {
            "text/plain": [
              "array([[0.30769231, 0.18627451, 0.21686747, ..., 0.25454545, 0.26744186,\n",
              "        0.12903226],\n",
              "       [0.24038462, 0.21568627, 0.20481928, ..., 0.52727273, 0.31395349,\n",
              "        0.24193548],\n",
              "       [0.41346154, 0.19607843, 0.24096386, ..., 0.49090909, 0.25581395,\n",
              "        0.33870968],\n",
              "       ...,\n",
              "       [0.25961538, 0.15686275, 0.11445783, ..., 0.24545455, 0.27906977,\n",
              "        0.22580645],\n",
              "       [0.16346154, 0.20588235, 0.18072289, ..., 0.56363636, 0.18604651,\n",
              "        0.77419355],\n",
              "       [0.21153846, 0.12745098, 0.22891566, ..., 0.49090909, 0.11627907,\n",
              "        0.61290323]])"
            ]
          },
          "metadata": {},
          "execution_count": 32
        }
      ]
    },
    {
      "cell_type": "markdown",
      "metadata": {
        "id": "XwcFxl6fshU_"
      },
      "source": [
        "A continuación entrenamos el algoritmo y sacamos una etiqueta para cada uno de los vinos que indique a qué cluster pertenece.\n",
        "\n",
        "En un modelo de clustering, si no se van a hacer estimaciones a datos nuevos (asignar etiquetas a nuevos vinos) o se va a utilizar como paso previo a otro modelo supervisado, no es necesario dividir en sets de entrenamiento y set de test."
      ]
    },
    {
      "cell_type": "code",
      "metadata": {
        "id": "KUFKHxhGtHKl"
      },
      "source": [
        "from sklearn_extra.cluster import KMedoids\n",
        "\n",
        "# Entrenamos utilizando el hiperparámetro n_clusters=5\n",
        "kmedoids = KMedoids(n_clusters = 5).fit(X_t)\n",
        "\n",
        "# Obtenemos las etiquetas para cada vino del modelo\n",
        "labels = kmedoids.labels_"
      ],
      "execution_count": null,
      "outputs": []
    },
    {
      "cell_type": "markdown",
      "metadata": {
        "id": "7lcXLF0ztgO-"
      },
      "source": [
        "Una vez entrenado y obtenidas las etiquetas, tomamos los centroides de cada cluster para saber los vinos de referencia.\n",
        "\n",
        "Podemos obtener los centros de los clusters como en k-means o directamente los indices con el atributo `medoid_indices_`\n"
      ]
    },
    {
      "cell_type": "code",
      "metadata": {
        "id": "nMqNW1Hltcz1"
      },
      "source": [
        "# Generamos un array del mismo tamaño que el número de vinos indicando si es un\n",
        "# medoid o no.\n",
        "\n",
        "medoid_idx = kmedoids.medoid_indices_\n",
        "\n",
        "is_center = np.zeros(X_t.shape[0])\n",
        "is_center[medoid_idx] = 1"
      ],
      "execution_count": null,
      "outputs": []
    },
    {
      "cell_type": "markdown",
      "metadata": {
        "id": "ZWge-n0puSCe"
      },
      "source": [
        "Asignamos las columnas calculadas al dataset original para poder estudiarlas."
      ]
    },
    {
      "cell_type": "code",
      "metadata": {
        "id": "JYbiUQo9uXbu",
        "colab": {
          "base_uri": "https://localhost:8080/",
          "height": 441
        },
        "outputId": "e5fcc4bc-e395-424c-f291-5e2095ba9174"
      },
      "source": [
        "wine_data[\"is_center\"] = is_center\n",
        "wine_data[\"cluster_label\"] = labels\n",
        "wine_data"
      ],
      "execution_count": null,
      "outputs": [
        {
          "output_type": "execute_result",
          "data": {
            "text/plain": [
              "      fixed acidity  volatile acidity  citric acid  residual sugar  chlorides  \\\n",
              "0               7.0              0.27         0.36            20.7      0.045   \n",
              "1               6.3              0.30         0.34             1.6      0.049   \n",
              "2               8.1              0.28         0.40             6.9      0.050   \n",
              "3               7.2              0.23         0.32             8.5      0.058   \n",
              "4               7.2              0.23         0.32             8.5      0.058   \n",
              "...             ...               ...          ...             ...        ...   \n",
              "4893            6.2              0.21         0.29             1.6      0.039   \n",
              "4894            6.6              0.32         0.36             8.0      0.047   \n",
              "4895            6.5              0.24         0.19             1.2      0.041   \n",
              "4896            5.5              0.29         0.30             1.1      0.022   \n",
              "4897            6.0              0.21         0.38             0.8      0.020   \n",
              "\n",
              "      free sulfur dioxide  total sulfur dioxide  density    pH  sulphates  \\\n",
              "0                    45.0                 170.0  1.00100  3.00       0.45   \n",
              "1                    14.0                 132.0  0.99400  3.30       0.49   \n",
              "2                    30.0                  97.0  0.99510  3.26       0.44   \n",
              "3                    47.0                 186.0  0.99560  3.19       0.40   \n",
              "4                    47.0                 186.0  0.99560  3.19       0.40   \n",
              "...                   ...                   ...      ...   ...        ...   \n",
              "4893                 24.0                  92.0  0.99114  3.27       0.50   \n",
              "4894                 57.0                 168.0  0.99490  3.15       0.46   \n",
              "4895                 30.0                 111.0  0.99254  2.99       0.46   \n",
              "4896                 20.0                 110.0  0.98869  3.34       0.38   \n",
              "4897                 22.0                  98.0  0.98941  3.26       0.32   \n",
              "\n",
              "      alcohol  quality  is_center  cluster_label  \n",
              "0         8.8        6        0.0              4  \n",
              "1         9.5        6        0.0              1  \n",
              "2        10.1        6        0.0              1  \n",
              "3         9.9        6        0.0              4  \n",
              "4         9.9        6        0.0              4  \n",
              "...       ...      ...        ...            ...  \n",
              "4893     11.2        6        0.0              2  \n",
              "4894      9.6        5        0.0              4  \n",
              "4895      9.4        6        0.0              1  \n",
              "4896     12.8        7        0.0              3  \n",
              "4897     11.8        6        0.0              3  \n",
              "\n",
              "[4898 rows x 14 columns]"
            ],
            "text/html": [
              "\n",
              "  <div id=\"df-cd26cda3-4721-40a4-93b5-e4fa7dbde806\" class=\"colab-df-container\">\n",
              "    <div>\n",
              "<style scoped>\n",
              "    .dataframe tbody tr th:only-of-type {\n",
              "        vertical-align: middle;\n",
              "    }\n",
              "\n",
              "    .dataframe tbody tr th {\n",
              "        vertical-align: top;\n",
              "    }\n",
              "\n",
              "    .dataframe thead th {\n",
              "        text-align: right;\n",
              "    }\n",
              "</style>\n",
              "<table border=\"1\" class=\"dataframe\">\n",
              "  <thead>\n",
              "    <tr style=\"text-align: right;\">\n",
              "      <th></th>\n",
              "      <th>fixed acidity</th>\n",
              "      <th>volatile acidity</th>\n",
              "      <th>citric acid</th>\n",
              "      <th>residual sugar</th>\n",
              "      <th>chlorides</th>\n",
              "      <th>free sulfur dioxide</th>\n",
              "      <th>total sulfur dioxide</th>\n",
              "      <th>density</th>\n",
              "      <th>pH</th>\n",
              "      <th>sulphates</th>\n",
              "      <th>alcohol</th>\n",
              "      <th>quality</th>\n",
              "      <th>is_center</th>\n",
              "      <th>cluster_label</th>\n",
              "    </tr>\n",
              "  </thead>\n",
              "  <tbody>\n",
              "    <tr>\n",
              "      <th>0</th>\n",
              "      <td>7.0</td>\n",
              "      <td>0.27</td>\n",
              "      <td>0.36</td>\n",
              "      <td>20.7</td>\n",
              "      <td>0.045</td>\n",
              "      <td>45.0</td>\n",
              "      <td>170.0</td>\n",
              "      <td>1.00100</td>\n",
              "      <td>3.00</td>\n",
              "      <td>0.45</td>\n",
              "      <td>8.8</td>\n",
              "      <td>6</td>\n",
              "      <td>0.0</td>\n",
              "      <td>4</td>\n",
              "    </tr>\n",
              "    <tr>\n",
              "      <th>1</th>\n",
              "      <td>6.3</td>\n",
              "      <td>0.30</td>\n",
              "      <td>0.34</td>\n",
              "      <td>1.6</td>\n",
              "      <td>0.049</td>\n",
              "      <td>14.0</td>\n",
              "      <td>132.0</td>\n",
              "      <td>0.99400</td>\n",
              "      <td>3.30</td>\n",
              "      <td>0.49</td>\n",
              "      <td>9.5</td>\n",
              "      <td>6</td>\n",
              "      <td>0.0</td>\n",
              "      <td>1</td>\n",
              "    </tr>\n",
              "    <tr>\n",
              "      <th>2</th>\n",
              "      <td>8.1</td>\n",
              "      <td>0.28</td>\n",
              "      <td>0.40</td>\n",
              "      <td>6.9</td>\n",
              "      <td>0.050</td>\n",
              "      <td>30.0</td>\n",
              "      <td>97.0</td>\n",
              "      <td>0.99510</td>\n",
              "      <td>3.26</td>\n",
              "      <td>0.44</td>\n",
              "      <td>10.1</td>\n",
              "      <td>6</td>\n",
              "      <td>0.0</td>\n",
              "      <td>1</td>\n",
              "    </tr>\n",
              "    <tr>\n",
              "      <th>3</th>\n",
              "      <td>7.2</td>\n",
              "      <td>0.23</td>\n",
              "      <td>0.32</td>\n",
              "      <td>8.5</td>\n",
              "      <td>0.058</td>\n",
              "      <td>47.0</td>\n",
              "      <td>186.0</td>\n",
              "      <td>0.99560</td>\n",
              "      <td>3.19</td>\n",
              "      <td>0.40</td>\n",
              "      <td>9.9</td>\n",
              "      <td>6</td>\n",
              "      <td>0.0</td>\n",
              "      <td>4</td>\n",
              "    </tr>\n",
              "    <tr>\n",
              "      <th>4</th>\n",
              "      <td>7.2</td>\n",
              "      <td>0.23</td>\n",
              "      <td>0.32</td>\n",
              "      <td>8.5</td>\n",
              "      <td>0.058</td>\n",
              "      <td>47.0</td>\n",
              "      <td>186.0</td>\n",
              "      <td>0.99560</td>\n",
              "      <td>3.19</td>\n",
              "      <td>0.40</td>\n",
              "      <td>9.9</td>\n",
              "      <td>6</td>\n",
              "      <td>0.0</td>\n",
              "      <td>4</td>\n",
              "    </tr>\n",
              "    <tr>\n",
              "      <th>...</th>\n",
              "      <td>...</td>\n",
              "      <td>...</td>\n",
              "      <td>...</td>\n",
              "      <td>...</td>\n",
              "      <td>...</td>\n",
              "      <td>...</td>\n",
              "      <td>...</td>\n",
              "      <td>...</td>\n",
              "      <td>...</td>\n",
              "      <td>...</td>\n",
              "      <td>...</td>\n",
              "      <td>...</td>\n",
              "      <td>...</td>\n",
              "      <td>...</td>\n",
              "    </tr>\n",
              "    <tr>\n",
              "      <th>4893</th>\n",
              "      <td>6.2</td>\n",
              "      <td>0.21</td>\n",
              "      <td>0.29</td>\n",
              "      <td>1.6</td>\n",
              "      <td>0.039</td>\n",
              "      <td>24.0</td>\n",
              "      <td>92.0</td>\n",
              "      <td>0.99114</td>\n",
              "      <td>3.27</td>\n",
              "      <td>0.50</td>\n",
              "      <td>11.2</td>\n",
              "      <td>6</td>\n",
              "      <td>0.0</td>\n",
              "      <td>2</td>\n",
              "    </tr>\n",
              "    <tr>\n",
              "      <th>4894</th>\n",
              "      <td>6.6</td>\n",
              "      <td>0.32</td>\n",
              "      <td>0.36</td>\n",
              "      <td>8.0</td>\n",
              "      <td>0.047</td>\n",
              "      <td>57.0</td>\n",
              "      <td>168.0</td>\n",
              "      <td>0.99490</td>\n",
              "      <td>3.15</td>\n",
              "      <td>0.46</td>\n",
              "      <td>9.6</td>\n",
              "      <td>5</td>\n",
              "      <td>0.0</td>\n",
              "      <td>4</td>\n",
              "    </tr>\n",
              "    <tr>\n",
              "      <th>4895</th>\n",
              "      <td>6.5</td>\n",
              "      <td>0.24</td>\n",
              "      <td>0.19</td>\n",
              "      <td>1.2</td>\n",
              "      <td>0.041</td>\n",
              "      <td>30.0</td>\n",
              "      <td>111.0</td>\n",
              "      <td>0.99254</td>\n",
              "      <td>2.99</td>\n",
              "      <td>0.46</td>\n",
              "      <td>9.4</td>\n",
              "      <td>6</td>\n",
              "      <td>0.0</td>\n",
              "      <td>1</td>\n",
              "    </tr>\n",
              "    <tr>\n",
              "      <th>4896</th>\n",
              "      <td>5.5</td>\n",
              "      <td>0.29</td>\n",
              "      <td>0.30</td>\n",
              "      <td>1.1</td>\n",
              "      <td>0.022</td>\n",
              "      <td>20.0</td>\n",
              "      <td>110.0</td>\n",
              "      <td>0.98869</td>\n",
              "      <td>3.34</td>\n",
              "      <td>0.38</td>\n",
              "      <td>12.8</td>\n",
              "      <td>7</td>\n",
              "      <td>0.0</td>\n",
              "      <td>3</td>\n",
              "    </tr>\n",
              "    <tr>\n",
              "      <th>4897</th>\n",
              "      <td>6.0</td>\n",
              "      <td>0.21</td>\n",
              "      <td>0.38</td>\n",
              "      <td>0.8</td>\n",
              "      <td>0.020</td>\n",
              "      <td>22.0</td>\n",
              "      <td>98.0</td>\n",
              "      <td>0.98941</td>\n",
              "      <td>3.26</td>\n",
              "      <td>0.32</td>\n",
              "      <td>11.8</td>\n",
              "      <td>6</td>\n",
              "      <td>0.0</td>\n",
              "      <td>3</td>\n",
              "    </tr>\n",
              "  </tbody>\n",
              "</table>\n",
              "<p>4898 rows × 14 columns</p>\n",
              "</div>\n",
              "    <div class=\"colab-df-buttons\">\n",
              "\n",
              "  <div class=\"colab-df-container\">\n",
              "    <button class=\"colab-df-convert\" onclick=\"convertToInteractive('df-cd26cda3-4721-40a4-93b5-e4fa7dbde806')\"\n",
              "            title=\"Convert this dataframe to an interactive table.\"\n",
              "            style=\"display:none;\">\n",
              "\n",
              "  <svg xmlns=\"http://www.w3.org/2000/svg\" height=\"24px\" viewBox=\"0 -960 960 960\">\n",
              "    <path d=\"M120-120v-720h720v720H120Zm60-500h600v-160H180v160Zm220 220h160v-160H400v160Zm0 220h160v-160H400v160ZM180-400h160v-160H180v160Zm440 0h160v-160H620v160ZM180-180h160v-160H180v160Zm440 0h160v-160H620v160Z\"/>\n",
              "  </svg>\n",
              "    </button>\n",
              "\n",
              "  <style>\n",
              "    .colab-df-container {\n",
              "      display:flex;\n",
              "      gap: 12px;\n",
              "    }\n",
              "\n",
              "    .colab-df-convert {\n",
              "      background-color: #E8F0FE;\n",
              "      border: none;\n",
              "      border-radius: 50%;\n",
              "      cursor: pointer;\n",
              "      display: none;\n",
              "      fill: #1967D2;\n",
              "      height: 32px;\n",
              "      padding: 0 0 0 0;\n",
              "      width: 32px;\n",
              "    }\n",
              "\n",
              "    .colab-df-convert:hover {\n",
              "      background-color: #E2EBFA;\n",
              "      box-shadow: 0px 1px 2px rgba(60, 64, 67, 0.3), 0px 1px 3px 1px rgba(60, 64, 67, 0.15);\n",
              "      fill: #174EA6;\n",
              "    }\n",
              "\n",
              "    .colab-df-buttons div {\n",
              "      margin-bottom: 4px;\n",
              "    }\n",
              "\n",
              "    [theme=dark] .colab-df-convert {\n",
              "      background-color: #3B4455;\n",
              "      fill: #D2E3FC;\n",
              "    }\n",
              "\n",
              "    [theme=dark] .colab-df-convert:hover {\n",
              "      background-color: #434B5C;\n",
              "      box-shadow: 0px 1px 3px 1px rgba(0, 0, 0, 0.15);\n",
              "      filter: drop-shadow(0px 1px 2px rgba(0, 0, 0, 0.3));\n",
              "      fill: #FFFFFF;\n",
              "    }\n",
              "  </style>\n",
              "\n",
              "    <script>\n",
              "      const buttonEl =\n",
              "        document.querySelector('#df-cd26cda3-4721-40a4-93b5-e4fa7dbde806 button.colab-df-convert');\n",
              "      buttonEl.style.display =\n",
              "        google.colab.kernel.accessAllowed ? 'block' : 'none';\n",
              "\n",
              "      async function convertToInteractive(key) {\n",
              "        const element = document.querySelector('#df-cd26cda3-4721-40a4-93b5-e4fa7dbde806');\n",
              "        const dataTable =\n",
              "          await google.colab.kernel.invokeFunction('convertToInteractive',\n",
              "                                                    [key], {});\n",
              "        if (!dataTable) return;\n",
              "\n",
              "        const docLinkHtml = 'Like what you see? Visit the ' +\n",
              "          '<a target=\"_blank\" href=https://colab.research.google.com/notebooks/data_table.ipynb>data table notebook</a>'\n",
              "          + ' to learn more about interactive tables.';\n",
              "        element.innerHTML = '';\n",
              "        dataTable['output_type'] = 'display_data';\n",
              "        await google.colab.output.renderOutput(dataTable, element);\n",
              "        const docLink = document.createElement('div');\n",
              "        docLink.innerHTML = docLinkHtml;\n",
              "        element.appendChild(docLink);\n",
              "      }\n",
              "    </script>\n",
              "  </div>\n",
              "\n",
              "\n",
              "<div id=\"df-6f1d0e21-e29f-4c79-9820-e3969ad588aa\">\n",
              "  <button class=\"colab-df-quickchart\" onclick=\"quickchart('df-6f1d0e21-e29f-4c79-9820-e3969ad588aa')\"\n",
              "            title=\"Suggest charts\"\n",
              "            style=\"display:none;\">\n",
              "\n",
              "<svg xmlns=\"http://www.w3.org/2000/svg\" height=\"24px\"viewBox=\"0 0 24 24\"\n",
              "     width=\"24px\">\n",
              "    <g>\n",
              "        <path d=\"M19 3H5c-1.1 0-2 .9-2 2v14c0 1.1.9 2 2 2h14c1.1 0 2-.9 2-2V5c0-1.1-.9-2-2-2zM9 17H7v-7h2v7zm4 0h-2V7h2v10zm4 0h-2v-4h2v4z\"/>\n",
              "    </g>\n",
              "</svg>\n",
              "  </button>\n",
              "\n",
              "<style>\n",
              "  .colab-df-quickchart {\n",
              "      --bg-color: #E8F0FE;\n",
              "      --fill-color: #1967D2;\n",
              "      --hover-bg-color: #E2EBFA;\n",
              "      --hover-fill-color: #174EA6;\n",
              "      --disabled-fill-color: #AAA;\n",
              "      --disabled-bg-color: #DDD;\n",
              "  }\n",
              "\n",
              "  [theme=dark] .colab-df-quickchart {\n",
              "      --bg-color: #3B4455;\n",
              "      --fill-color: #D2E3FC;\n",
              "      --hover-bg-color: #434B5C;\n",
              "      --hover-fill-color: #FFFFFF;\n",
              "      --disabled-bg-color: #3B4455;\n",
              "      --disabled-fill-color: #666;\n",
              "  }\n",
              "\n",
              "  .colab-df-quickchart {\n",
              "    background-color: var(--bg-color);\n",
              "    border: none;\n",
              "    border-radius: 50%;\n",
              "    cursor: pointer;\n",
              "    display: none;\n",
              "    fill: var(--fill-color);\n",
              "    height: 32px;\n",
              "    padding: 0;\n",
              "    width: 32px;\n",
              "  }\n",
              "\n",
              "  .colab-df-quickchart:hover {\n",
              "    background-color: var(--hover-bg-color);\n",
              "    box-shadow: 0 1px 2px rgba(60, 64, 67, 0.3), 0 1px 3px 1px rgba(60, 64, 67, 0.15);\n",
              "    fill: var(--button-hover-fill-color);\n",
              "  }\n",
              "\n",
              "  .colab-df-quickchart-complete:disabled,\n",
              "  .colab-df-quickchart-complete:disabled:hover {\n",
              "    background-color: var(--disabled-bg-color);\n",
              "    fill: var(--disabled-fill-color);\n",
              "    box-shadow: none;\n",
              "  }\n",
              "\n",
              "  .colab-df-spinner {\n",
              "    border: 2px solid var(--fill-color);\n",
              "    border-color: transparent;\n",
              "    border-bottom-color: var(--fill-color);\n",
              "    animation:\n",
              "      spin 1s steps(1) infinite;\n",
              "  }\n",
              "\n",
              "  @keyframes spin {\n",
              "    0% {\n",
              "      border-color: transparent;\n",
              "      border-bottom-color: var(--fill-color);\n",
              "      border-left-color: var(--fill-color);\n",
              "    }\n",
              "    20% {\n",
              "      border-color: transparent;\n",
              "      border-left-color: var(--fill-color);\n",
              "      border-top-color: var(--fill-color);\n",
              "    }\n",
              "    30% {\n",
              "      border-color: transparent;\n",
              "      border-left-color: var(--fill-color);\n",
              "      border-top-color: var(--fill-color);\n",
              "      border-right-color: var(--fill-color);\n",
              "    }\n",
              "    40% {\n",
              "      border-color: transparent;\n",
              "      border-right-color: var(--fill-color);\n",
              "      border-top-color: var(--fill-color);\n",
              "    }\n",
              "    60% {\n",
              "      border-color: transparent;\n",
              "      border-right-color: var(--fill-color);\n",
              "    }\n",
              "    80% {\n",
              "      border-color: transparent;\n",
              "      border-right-color: var(--fill-color);\n",
              "      border-bottom-color: var(--fill-color);\n",
              "    }\n",
              "    90% {\n",
              "      border-color: transparent;\n",
              "      border-bottom-color: var(--fill-color);\n",
              "    }\n",
              "  }\n",
              "</style>\n",
              "\n",
              "  <script>\n",
              "    async function quickchart(key) {\n",
              "      const quickchartButtonEl =\n",
              "        document.querySelector('#' + key + ' button');\n",
              "      quickchartButtonEl.disabled = true;  // To prevent multiple clicks.\n",
              "      quickchartButtonEl.classList.add('colab-df-spinner');\n",
              "      try {\n",
              "        const charts = await google.colab.kernel.invokeFunction(\n",
              "            'suggestCharts', [key], {});\n",
              "      } catch (error) {\n",
              "        console.error('Error during call to suggestCharts:', error);\n",
              "      }\n",
              "      quickchartButtonEl.classList.remove('colab-df-spinner');\n",
              "      quickchartButtonEl.classList.add('colab-df-quickchart-complete');\n",
              "    }\n",
              "    (() => {\n",
              "      let quickchartButtonEl =\n",
              "        document.querySelector('#df-6f1d0e21-e29f-4c79-9820-e3969ad588aa button');\n",
              "      quickchartButtonEl.style.display =\n",
              "        google.colab.kernel.accessAllowed ? 'block' : 'none';\n",
              "    })();\n",
              "  </script>\n",
              "</div>\n",
              "    </div>\n",
              "  </div>\n"
            ]
          },
          "metadata": {},
          "execution_count": 35
        }
      ]
    },
    {
      "cell_type": "markdown",
      "metadata": {
        "id": "waNznSG7ukx-"
      },
      "source": [
        "Veamos los *vinos representativos de cada cluster*"
      ]
    },
    {
      "cell_type": "code",
      "metadata": {
        "colab": {
          "base_uri": "https://localhost:8080/",
          "height": 255
        },
        "id": "Cwix5ABxueyd",
        "outputId": "d2abeb84-b6f0-4498-fc09-85473dfeed50"
      },
      "source": [
        "# Mostramos los vinos que son medoides ordenando por el id del cluster\n",
        "medoids = wine_data[wine_data[\"is_center\"] == 1].sort_values(\"cluster_label\")\n",
        "medoids = medoids.set_index(\"cluster_label\")\n",
        "medoids"
      ],
      "execution_count": null,
      "outputs": [
        {
          "output_type": "execute_result",
          "data": {
            "text/plain": [
              "               fixed acidity  volatile acidity  citric acid  residual sugar  \\\n",
              "cluster_label                                                                 \n",
              "0                        6.8              0.25         0.38             8.1   \n",
              "1                        6.3              0.30         0.24             6.6   \n",
              "2                        6.6              0.23         0.32             1.7   \n",
              "3                        6.9              0.31         0.32             1.6   \n",
              "4                        6.9              0.29         0.41             7.8   \n",
              "\n",
              "               chlorides  free sulfur dioxide  total sulfur dioxide  density  \\\n",
              "cluster_label                                                                  \n",
              "0                  0.046                 24.0                 155.0  0.99560   \n",
              "1                  0.040                 38.0                 141.0  0.99500   \n",
              "2                  0.024                 26.0                 102.0  0.99084   \n",
              "3                  0.036                 34.0                 114.0  0.99068   \n",
              "4                  0.046                 52.0                 171.0  0.99537   \n",
              "\n",
              "                 pH  sulphates  alcohol  quality  is_center  \n",
              "cluster_label                                                \n",
              "0              3.33       0.59     10.2        6        1.0  \n",
              "1              3.22       0.47      9.5        5        1.0  \n",
              "2              3.29       0.60     11.8        6        1.0  \n",
              "3              3.19       0.45     11.4        7        1.0  \n",
              "4              3.12       0.51      9.6        5        1.0  "
            ],
            "text/html": [
              "\n",
              "  <div id=\"df-ce390401-239b-44e9-a174-2bfb8678a6cf\" class=\"colab-df-container\">\n",
              "    <div>\n",
              "<style scoped>\n",
              "    .dataframe tbody tr th:only-of-type {\n",
              "        vertical-align: middle;\n",
              "    }\n",
              "\n",
              "    .dataframe tbody tr th {\n",
              "        vertical-align: top;\n",
              "    }\n",
              "\n",
              "    .dataframe thead th {\n",
              "        text-align: right;\n",
              "    }\n",
              "</style>\n",
              "<table border=\"1\" class=\"dataframe\">\n",
              "  <thead>\n",
              "    <tr style=\"text-align: right;\">\n",
              "      <th></th>\n",
              "      <th>fixed acidity</th>\n",
              "      <th>volatile acidity</th>\n",
              "      <th>citric acid</th>\n",
              "      <th>residual sugar</th>\n",
              "      <th>chlorides</th>\n",
              "      <th>free sulfur dioxide</th>\n",
              "      <th>total sulfur dioxide</th>\n",
              "      <th>density</th>\n",
              "      <th>pH</th>\n",
              "      <th>sulphates</th>\n",
              "      <th>alcohol</th>\n",
              "      <th>quality</th>\n",
              "      <th>is_center</th>\n",
              "    </tr>\n",
              "    <tr>\n",
              "      <th>cluster_label</th>\n",
              "      <th></th>\n",
              "      <th></th>\n",
              "      <th></th>\n",
              "      <th></th>\n",
              "      <th></th>\n",
              "      <th></th>\n",
              "      <th></th>\n",
              "      <th></th>\n",
              "      <th></th>\n",
              "      <th></th>\n",
              "      <th></th>\n",
              "      <th></th>\n",
              "      <th></th>\n",
              "    </tr>\n",
              "  </thead>\n",
              "  <tbody>\n",
              "    <tr>\n",
              "      <th>0</th>\n",
              "      <td>6.8</td>\n",
              "      <td>0.25</td>\n",
              "      <td>0.38</td>\n",
              "      <td>8.1</td>\n",
              "      <td>0.046</td>\n",
              "      <td>24.0</td>\n",
              "      <td>155.0</td>\n",
              "      <td>0.99560</td>\n",
              "      <td>3.33</td>\n",
              "      <td>0.59</td>\n",
              "      <td>10.2</td>\n",
              "      <td>6</td>\n",
              "      <td>1.0</td>\n",
              "    </tr>\n",
              "    <tr>\n",
              "      <th>1</th>\n",
              "      <td>6.3</td>\n",
              "      <td>0.30</td>\n",
              "      <td>0.24</td>\n",
              "      <td>6.6</td>\n",
              "      <td>0.040</td>\n",
              "      <td>38.0</td>\n",
              "      <td>141.0</td>\n",
              "      <td>0.99500</td>\n",
              "      <td>3.22</td>\n",
              "      <td>0.47</td>\n",
              "      <td>9.5</td>\n",
              "      <td>5</td>\n",
              "      <td>1.0</td>\n",
              "    </tr>\n",
              "    <tr>\n",
              "      <th>2</th>\n",
              "      <td>6.6</td>\n",
              "      <td>0.23</td>\n",
              "      <td>0.32</td>\n",
              "      <td>1.7</td>\n",
              "      <td>0.024</td>\n",
              "      <td>26.0</td>\n",
              "      <td>102.0</td>\n",
              "      <td>0.99084</td>\n",
              "      <td>3.29</td>\n",
              "      <td>0.60</td>\n",
              "      <td>11.8</td>\n",
              "      <td>6</td>\n",
              "      <td>1.0</td>\n",
              "    </tr>\n",
              "    <tr>\n",
              "      <th>3</th>\n",
              "      <td>6.9</td>\n",
              "      <td>0.31</td>\n",
              "      <td>0.32</td>\n",
              "      <td>1.6</td>\n",
              "      <td>0.036</td>\n",
              "      <td>34.0</td>\n",
              "      <td>114.0</td>\n",
              "      <td>0.99068</td>\n",
              "      <td>3.19</td>\n",
              "      <td>0.45</td>\n",
              "      <td>11.4</td>\n",
              "      <td>7</td>\n",
              "      <td>1.0</td>\n",
              "    </tr>\n",
              "    <tr>\n",
              "      <th>4</th>\n",
              "      <td>6.9</td>\n",
              "      <td>0.29</td>\n",
              "      <td>0.41</td>\n",
              "      <td>7.8</td>\n",
              "      <td>0.046</td>\n",
              "      <td>52.0</td>\n",
              "      <td>171.0</td>\n",
              "      <td>0.99537</td>\n",
              "      <td>3.12</td>\n",
              "      <td>0.51</td>\n",
              "      <td>9.6</td>\n",
              "      <td>5</td>\n",
              "      <td>1.0</td>\n",
              "    </tr>\n",
              "  </tbody>\n",
              "</table>\n",
              "</div>\n",
              "    <div class=\"colab-df-buttons\">\n",
              "\n",
              "  <div class=\"colab-df-container\">\n",
              "    <button class=\"colab-df-convert\" onclick=\"convertToInteractive('df-ce390401-239b-44e9-a174-2bfb8678a6cf')\"\n",
              "            title=\"Convert this dataframe to an interactive table.\"\n",
              "            style=\"display:none;\">\n",
              "\n",
              "  <svg xmlns=\"http://www.w3.org/2000/svg\" height=\"24px\" viewBox=\"0 -960 960 960\">\n",
              "    <path d=\"M120-120v-720h720v720H120Zm60-500h600v-160H180v160Zm220 220h160v-160H400v160Zm0 220h160v-160H400v160ZM180-400h160v-160H180v160Zm440 0h160v-160H620v160ZM180-180h160v-160H180v160Zm440 0h160v-160H620v160Z\"/>\n",
              "  </svg>\n",
              "    </button>\n",
              "\n",
              "  <style>\n",
              "    .colab-df-container {\n",
              "      display:flex;\n",
              "      gap: 12px;\n",
              "    }\n",
              "\n",
              "    .colab-df-convert {\n",
              "      background-color: #E8F0FE;\n",
              "      border: none;\n",
              "      border-radius: 50%;\n",
              "      cursor: pointer;\n",
              "      display: none;\n",
              "      fill: #1967D2;\n",
              "      height: 32px;\n",
              "      padding: 0 0 0 0;\n",
              "      width: 32px;\n",
              "    }\n",
              "\n",
              "    .colab-df-convert:hover {\n",
              "      background-color: #E2EBFA;\n",
              "      box-shadow: 0px 1px 2px rgba(60, 64, 67, 0.3), 0px 1px 3px 1px rgba(60, 64, 67, 0.15);\n",
              "      fill: #174EA6;\n",
              "    }\n",
              "\n",
              "    .colab-df-buttons div {\n",
              "      margin-bottom: 4px;\n",
              "    }\n",
              "\n",
              "    [theme=dark] .colab-df-convert {\n",
              "      background-color: #3B4455;\n",
              "      fill: #D2E3FC;\n",
              "    }\n",
              "\n",
              "    [theme=dark] .colab-df-convert:hover {\n",
              "      background-color: #434B5C;\n",
              "      box-shadow: 0px 1px 3px 1px rgba(0, 0, 0, 0.15);\n",
              "      filter: drop-shadow(0px 1px 2px rgba(0, 0, 0, 0.3));\n",
              "      fill: #FFFFFF;\n",
              "    }\n",
              "  </style>\n",
              "\n",
              "    <script>\n",
              "      const buttonEl =\n",
              "        document.querySelector('#df-ce390401-239b-44e9-a174-2bfb8678a6cf button.colab-df-convert');\n",
              "      buttonEl.style.display =\n",
              "        google.colab.kernel.accessAllowed ? 'block' : 'none';\n",
              "\n",
              "      async function convertToInteractive(key) {\n",
              "        const element = document.querySelector('#df-ce390401-239b-44e9-a174-2bfb8678a6cf');\n",
              "        const dataTable =\n",
              "          await google.colab.kernel.invokeFunction('convertToInteractive',\n",
              "                                                    [key], {});\n",
              "        if (!dataTable) return;\n",
              "\n",
              "        const docLinkHtml = 'Like what you see? Visit the ' +\n",
              "          '<a target=\"_blank\" href=https://colab.research.google.com/notebooks/data_table.ipynb>data table notebook</a>'\n",
              "          + ' to learn more about interactive tables.';\n",
              "        element.innerHTML = '';\n",
              "        dataTable['output_type'] = 'display_data';\n",
              "        await google.colab.output.renderOutput(dataTable, element);\n",
              "        const docLink = document.createElement('div');\n",
              "        docLink.innerHTML = docLinkHtml;\n",
              "        element.appendChild(docLink);\n",
              "      }\n",
              "    </script>\n",
              "  </div>\n",
              "\n",
              "\n",
              "<div id=\"df-5afcff4d-c923-45d2-81a2-d85b476ec803\">\n",
              "  <button class=\"colab-df-quickchart\" onclick=\"quickchart('df-5afcff4d-c923-45d2-81a2-d85b476ec803')\"\n",
              "            title=\"Suggest charts\"\n",
              "            style=\"display:none;\">\n",
              "\n",
              "<svg xmlns=\"http://www.w3.org/2000/svg\" height=\"24px\"viewBox=\"0 0 24 24\"\n",
              "     width=\"24px\">\n",
              "    <g>\n",
              "        <path d=\"M19 3H5c-1.1 0-2 .9-2 2v14c0 1.1.9 2 2 2h14c1.1 0 2-.9 2-2V5c0-1.1-.9-2-2-2zM9 17H7v-7h2v7zm4 0h-2V7h2v10zm4 0h-2v-4h2v4z\"/>\n",
              "    </g>\n",
              "</svg>\n",
              "  </button>\n",
              "\n",
              "<style>\n",
              "  .colab-df-quickchart {\n",
              "      --bg-color: #E8F0FE;\n",
              "      --fill-color: #1967D2;\n",
              "      --hover-bg-color: #E2EBFA;\n",
              "      --hover-fill-color: #174EA6;\n",
              "      --disabled-fill-color: #AAA;\n",
              "      --disabled-bg-color: #DDD;\n",
              "  }\n",
              "\n",
              "  [theme=dark] .colab-df-quickchart {\n",
              "      --bg-color: #3B4455;\n",
              "      --fill-color: #D2E3FC;\n",
              "      --hover-bg-color: #434B5C;\n",
              "      --hover-fill-color: #FFFFFF;\n",
              "      --disabled-bg-color: #3B4455;\n",
              "      --disabled-fill-color: #666;\n",
              "  }\n",
              "\n",
              "  .colab-df-quickchart {\n",
              "    background-color: var(--bg-color);\n",
              "    border: none;\n",
              "    border-radius: 50%;\n",
              "    cursor: pointer;\n",
              "    display: none;\n",
              "    fill: var(--fill-color);\n",
              "    height: 32px;\n",
              "    padding: 0;\n",
              "    width: 32px;\n",
              "  }\n",
              "\n",
              "  .colab-df-quickchart:hover {\n",
              "    background-color: var(--hover-bg-color);\n",
              "    box-shadow: 0 1px 2px rgba(60, 64, 67, 0.3), 0 1px 3px 1px rgba(60, 64, 67, 0.15);\n",
              "    fill: var(--button-hover-fill-color);\n",
              "  }\n",
              "\n",
              "  .colab-df-quickchart-complete:disabled,\n",
              "  .colab-df-quickchart-complete:disabled:hover {\n",
              "    background-color: var(--disabled-bg-color);\n",
              "    fill: var(--disabled-fill-color);\n",
              "    box-shadow: none;\n",
              "  }\n",
              "\n",
              "  .colab-df-spinner {\n",
              "    border: 2px solid var(--fill-color);\n",
              "    border-color: transparent;\n",
              "    border-bottom-color: var(--fill-color);\n",
              "    animation:\n",
              "      spin 1s steps(1) infinite;\n",
              "  }\n",
              "\n",
              "  @keyframes spin {\n",
              "    0% {\n",
              "      border-color: transparent;\n",
              "      border-bottom-color: var(--fill-color);\n",
              "      border-left-color: var(--fill-color);\n",
              "    }\n",
              "    20% {\n",
              "      border-color: transparent;\n",
              "      border-left-color: var(--fill-color);\n",
              "      border-top-color: var(--fill-color);\n",
              "    }\n",
              "    30% {\n",
              "      border-color: transparent;\n",
              "      border-left-color: var(--fill-color);\n",
              "      border-top-color: var(--fill-color);\n",
              "      border-right-color: var(--fill-color);\n",
              "    }\n",
              "    40% {\n",
              "      border-color: transparent;\n",
              "      border-right-color: var(--fill-color);\n",
              "      border-top-color: var(--fill-color);\n",
              "    }\n",
              "    60% {\n",
              "      border-color: transparent;\n",
              "      border-right-color: var(--fill-color);\n",
              "    }\n",
              "    80% {\n",
              "      border-color: transparent;\n",
              "      border-right-color: var(--fill-color);\n",
              "      border-bottom-color: var(--fill-color);\n",
              "    }\n",
              "    90% {\n",
              "      border-color: transparent;\n",
              "      border-bottom-color: var(--fill-color);\n",
              "    }\n",
              "  }\n",
              "</style>\n",
              "\n",
              "  <script>\n",
              "    async function quickchart(key) {\n",
              "      const quickchartButtonEl =\n",
              "        document.querySelector('#' + key + ' button');\n",
              "      quickchartButtonEl.disabled = true;  // To prevent multiple clicks.\n",
              "      quickchartButtonEl.classList.add('colab-df-spinner');\n",
              "      try {\n",
              "        const charts = await google.colab.kernel.invokeFunction(\n",
              "            'suggestCharts', [key], {});\n",
              "      } catch (error) {\n",
              "        console.error('Error during call to suggestCharts:', error);\n",
              "      }\n",
              "      quickchartButtonEl.classList.remove('colab-df-spinner');\n",
              "      quickchartButtonEl.classList.add('colab-df-quickchart-complete');\n",
              "    }\n",
              "    (() => {\n",
              "      let quickchartButtonEl =\n",
              "        document.querySelector('#df-5afcff4d-c923-45d2-81a2-d85b476ec803 button');\n",
              "      quickchartButtonEl.style.display =\n",
              "        google.colab.kernel.accessAllowed ? 'block' : 'none';\n",
              "    })();\n",
              "  </script>\n",
              "</div>\n",
              "    </div>\n",
              "  </div>\n"
            ]
          },
          "metadata": {},
          "execution_count": 36
        }
      ]
    },
    {
      "cell_type": "markdown",
      "metadata": {
        "id": "4OIJT_6iyaGB"
      },
      "source": [
        "El siguente paso sería analizar los clusters para darles una interpretación. En general en este tipo de modelos es mejor quedarse con menos variables para poder dar una mejor interpretación a los resultados."
      ]
    },
    {
      "cell_type": "code",
      "metadata": {
        "colab": {
          "base_uri": "https://localhost:8080/",
          "height": 388
        },
        "id": "79pnHG0WvHRJ",
        "outputId": "4c8b24b6-7181-46a7-a238-91290f7e517a"
      },
      "source": [
        "import seaborn as sns\n",
        "\n",
        "feature = \"residual sugar\"\n",
        "\n",
        "fig, ax = plt.subplots(figsize = (8, 4))\n",
        "feature_means = wine_data.groupby(\"cluster_label\")[feature].mean()\n",
        "\n",
        "ax.set_xlabel(feature)\n",
        "sns.barplot(data = wine_data, y = feature, x = \"cluster_label\", ax=ax)\n",
        "\n",
        "plt.show()"
      ],
      "execution_count": null,
      "outputs": [
        {
          "output_type": "display_data",
          "data": {
            "text/plain": [
              "<Figure size 800x400 with 1 Axes>"
            ],
            "image/png": "[encoded data removed]"
          },
          "metadata": {}
        }
      ]
    },
    {
      "cell_type": "markdown",
      "metadata": {
        "id": "PKDxRchiEIwp"
      },
      "source": [
        "## Evaluación de la sesión"
      ]
    },
    {
      "cell_type": "markdown",
      "source": [
        "![image.png](data:image/png;base64,iVBORw0KGgoAAAANSUhEUgAAAN4AAADeCAIAAADdBSngAAAEgUlEQVR4nO3dwW4cKRRA0enR/P8vO4tsItUsSogHN/Y567jcka+QaKD4fH19/QM9/97+APD/pEmUNImSJlHSJEqaREmTKGkSJU2ipEmUNImSJlHSJEqaREmTKGkSJU2ipEmUNImSJlHSJEqaREmTqP92Pejz+ex61ILnafo3n2fXTz3tes6bJ6/9L+bserOBUZMoaRIlTaKkSZQ0ido2Q3+aewfd2gz0zefZNWve9eRdan+LN4yaREmTKGkSJU2ipEnU4Az9aW5m/ean3qw+P51cj177hLt+1xsnv2cwahIlTaKkSZQ0iZImUUdn6CetzUDvrobPrfL/jYyaREmTKGkSJU2ipEnUt52hnzxj/nNmzScZNYmSJlHSJEqaREmTqKMz9NpMdtdO77k5+9yTa3+LJ6MmUdIkSppESZMoaRI1OEO/+0bxtXeez70Xfe7z1E7T72LUJEqaREmTKGkSJU2iPv211DW75qQn7zKzx/5PRk2ipEmUNImSJlHSJGrwPvSTd5SvPWdu9j131/ncc+b+gmuMmkRJkyhpEiVNoqRJ1OAa+sn7vO7O/eec3NN+91uFJ6MmUdIkSppESZMoaRI1uIb+NLeSe/cs9tznWfu/z72n7mnu+wqjJlHSJEqaREmTKGkSdfQc+smd8CdvW3vznLur4XNzbWvo/DjSJEqaREmTKGkSdXmX+9yM+M1z7s5k18zd9XZ3xfzJqEmUNImSJlHSJEqaRG2bodfeMT53FvvnnA2/e07fqEmUNImSJlHSJEqaRG07h353ZXmXkzvY3zyn9j3DSUZNoqRJlDSJkiZR0iTqL1hDr91B9tTfLTB3Lt6b4vhxpEmUNImSJlHSJGrbGvrT3Tl77WbzN0/e9W1A7Z1va4yaREmTKGkSJU2ipEnU4Az9jV13h83N2ddmzXOfeW7te9ce+12MmkRJkyhpEiVNoqRJ1OA59Ls3fO1aEb67hj63N2DX55lj1CRKmkRJkyhpEiVNorbN0HfNHNdW1ed++9Oufea7vmc4eQ79JKMmUdIkSppESZMoaRI1uMv95E3ra/PWXfveT76HbW6vfu29+kZNoqRJlDSJkiZR0iTq8m1ra885udq762z4yd3pb5w8lb/GqEmUNImSJlHSJEqaROV2ua85ecZ87rfvelfb3Bl8t62BNKmSJlHSJEqaRH2TXe5rP3XyBvC1vQFr/9PaifI1Rk2ipEmUNImSJlHSJOrobWsn55sn7wSfe1fbyTvRTu7Mf8OoSZQ0iZImUdIkSppEXb4Pfc7aXHvXfHztp+7Ote/uMXgyahIlTaKkSZQ0iZImUd92hv7GyR3stf3qd2ffbxg1iZImUdIkSppESZOoozP0u+9gf/Nv5na5r/32N7/r7l1v3hTHjyNNoqRJlDSJkiZRgzP0u6eYd80ld90vtnZ+vH9yf45RkyhpEiVNoqRJlDSJ+tTmZfCbUZMoaRIlTaKkSZQ0iZImUdIkSppESZMoaRIlTaKkSZQ0iZImUdIkSppESZMoaRIlTaKkSZQ0iZImUdIk6heHrDXXWPdf+AAAAABJRU5ErkJggg==)"
      ],
      "metadata": {
        "id": "y3wL5c5vdSv8"
      }
    }
  ]
}
